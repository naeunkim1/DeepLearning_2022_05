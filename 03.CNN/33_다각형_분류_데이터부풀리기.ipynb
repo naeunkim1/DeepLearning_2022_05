{
  "nbformat": 4,
  "nbformat_minor": 0,
  "metadata": {
    "colab": {
      "name": "33_다각형_분류_데이터부풀리기.ipynb",
      "provenance": [],
      "collapsed_sections": []
    },
    "kernelspec": {
      "name": "python3",
      "display_name": "Python 3"
    },
    "language_info": {
      "name": "python"
    }
  },
  "cells": [
    {
      "cell_type": "markdown",
      "source": [
        "# 원, 사각형, 삼각형 구분하기\n",
        "- 어려운 테스트 문제를 데이터 부풀리기를 이용하여 데이터를 많이 생성\n",
        "-기존 CNN 모델 사용"
      ],
      "metadata": {
        "id": "QbWwNnyzjBCL"
      }
    },
    {
      "cell_type": "code",
      "execution_count": 1,
      "metadata": {
        "colab": {
          "resources": {
            "http://localhost:8080/nbextensions/google.colab/files.js": {
              "data": "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",
              "ok": true,
              "headers": [
                [
                  "content-type",
                  "application/javascript"
                ]
              ],
              "status": 200,
              "status_text": ""
            }
          },
          "base_uri": "https://localhost:8080/",
          "height": 78
        },
        "id": "9Wcs80rYd0eR",
        "outputId": "f8dd0cf1-8d83-4bf4-e90f-84d8615f79c2"
      },
      "outputs": [
        {
          "output_type": "display_data",
          "data": {
            "text/plain": [
              "<IPython.core.display.HTML object>"
            ],
            "text/html": [
              "\n",
              "     <input type=\"file\" id=\"files-5de5a6d1-9ee5-4382-9fd5-8fea5dba6f4d\" name=\"files[]\" multiple disabled\n",
              "        style=\"border:none\" />\n",
              "     <output id=\"result-5de5a6d1-9ee5-4382-9fd5-8fea5dba6f4d\">\n",
              "      Upload widget is only available when the cell has been executed in the\n",
              "      current browser session. Please rerun this cell to enable.\n",
              "      </output>\n",
              "      <script src=\"/nbextensions/google.colab/files.js\"></script> "
            ]
          },
          "metadata": {}
        },
        {
          "output_type": "stream",
          "name": "stdout",
          "text": [
            "Saving hard_handwriting_shape.zip to hard_handwriting_shape.zip\n"
          ]
        }
      ],
      "source": [
        "from google.colab import files\n",
        "up = files.upload()"
      ]
    },
    {
      "cell_type": "code",
      "source": [
        "!unzip hard_handwriting_shape.zip -d hard_handwriting > /dev/null"
      ],
      "metadata": {
        "id": "RshZSDwnjZlZ"
      },
      "execution_count": 2,
      "outputs": []
    },
    {
      "cell_type": "markdown",
      "source": [
        "- 데이터셋 생성하기"
      ],
      "metadata": {
        "id": "B2Omb63qjq74"
      }
    },
    {
      "cell_type": "code",
      "source": [
        "from tensorflow.keras.preprocessing.image import ImageDataGenerator\n",
        "\n",
        "train_datagen = ImageDataGenerator(\n",
        "    rescale=1/255.,\n",
        "    rotation_range=15,          # randomly rotate images in the range 15 degree\n",
        "    width_shift_range=0.1,      # randomly shift images horizontally\n",
        "    height_shift_range=0.1,     # randomly shift images vertically\n",
        "    shear_range=0.5,            # 도형의 기울기\n",
        "    zoom_range=[0.8, 1.5],      # 0.8~1.5 배 크기로 임의로 확대/축소\n",
        "    horizontal_flip=True,       # randomly flip images\n",
        "    vertical_flip=False,        # randomly flip images  \n",
        "    fill_mode='nearest'         # set mode for filling points outside the input boundaries  \n",
        ")"
      ],
      "metadata": {
        "id": "rEC4I5J5jqd1"
      },
      "execution_count": 1,
      "outputs": []
    },
    {
      "cell_type": "code",
      "source": [
        "from tensorflow.keras.preprocessing.image import img_to_array, load_img\n",
        "\n",
        "img = load_img('hard_handwriting/train/triangle/triangle001.png')\n",
        "x = img_to_array(img)\n",
        "x.shape"
      ],
      "metadata": {
        "colab": {
          "base_uri": "https://localhost:8080/"
        },
        "id": "5anL_o7nlEL7",
        "outputId": "d38768f0-e044-455d-b0e8-4994b2614f9a"
      },
      "execution_count": 2,
      "outputs": [
        {
          "output_type": "execute_result",
          "data": {
            "text/plain": [
              "(24, 24, 3)"
            ]
          },
          "metadata": {},
          "execution_count": 2
        }
      ]
    },
    {
      "cell_type": "code",
      "source": [
        "# x.reshape(1, 24, 24, 3)\n",
        "x = x.reshape((1,) + x.shape)\n",
        "x.shape"
      ],
      "metadata": {
        "colab": {
          "base_uri": "https://localhost:8080/"
        },
        "id": "BHHY1yNylxs8",
        "outputId": "5442c9b5-1aa6-4ab7-b7f8-3d594b46995f"
      },
      "execution_count": 3,
      "outputs": [
        {
          "output_type": "execute_result",
          "data": {
            "text/plain": [
              "(1, 24, 24, 3)"
            ]
          },
          "metadata": {},
          "execution_count": 3
        }
      ]
    },
    {
      "cell_type": "code",
      "source": [
        "from PIL import Image\n",
        "from glob import glob\n",
        "import matplotlib.pyplot as plt"
      ],
      "metadata": {
        "id": "KTo8bmIAjjIk"
      },
      "execution_count": 4,
      "outputs": []
    },
    {
      "cell_type": "markdown",
      "source": [
        "- 데이터 부풀리기를 통하여 만들어지는 새로운 도형 이미지"
      ],
      "metadata": {
        "id": "3GngH_EMmUOq"
      }
    },
    {
      "cell_type": "code",
      "source": [
        "import os\n",
        "if not os.path.exists('preview'):\n",
        "    os.mkdir('preview')"
      ],
      "metadata": {
        "id": "26_hASG_mG-C"
      },
      "execution_count": 5,
      "outputs": []
    },
    {
      "cell_type": "code",
      "source": [
        "count = 0\n",
        "for _ in train_datagen.flow(x, batch_size=1, save_to_dir='./preview', save_prefix='pre'):\n",
        "    count += 1\n",
        "    if count >= 30:\n",
        "        break"
      ],
      "metadata": {
        "id": "MtBb0WFDnNGe"
      },
      "execution_count": 6,
      "outputs": []
    },
    {
      "cell_type": "code",
      "source": [
        "plt.figure(figsize=(10, 3))\n",
        "for i, fname in enumerate(glob('preview/*.png')):\n",
        "    img = Image.open(fname)\n",
        "    plt.subplot(3, 10, i+1)\n",
        "    plt.imshow(img), plt.xticks([]), plt.yticks([])\n",
        "plt.show()"
      ],
      "metadata": {
        "colab": {
          "base_uri": "https://localhost:8080/",
          "height": 197
        },
        "id": "gfcVYPI5vg0b",
        "outputId": "0d583a5f-2366-4b65-cb8b-4c37a506b0eb"
      },
      "execution_count": 7,
      "outputs": [
        {
          "output_type": "display_data",
          "data": {
            "text/plain": [
              "<Figure size 720x216 with 30 Axes>"
            ],
            "image/png": "[encoded data removed]"
          },
          "metadata": {}
        }
      ]
    },
    {
      "cell_type": "markdown",
      "source": [
        "- data generator"
      ],
      "metadata": {
        "id": "NfNyIQqnq5h-"
      }
    },
    {
      "cell_type": "code",
      "source": [
        "train_data_generator = train_datagen.flow_from_directory(\n",
        "    'hard_handwriting/train', target_size=(24, 24),\n",
        "    batch_size = 3, class_mode='categorical'\n",
        ")"
      ],
      "metadata": {
        "colab": {
          "base_uri": "https://localhost:8080/"
        },
        "id": "MFc9dp3LoOyb",
        "outputId": "cb2488a5-4e2d-4c53-a0d7-f63efcaa62b2"
      },
      "execution_count": 8,
      "outputs": [
        {
          "output_type": "stream",
          "name": "stdout",
          "text": [
            "Found 45 images belonging to 3 classes.\n"
          ]
        }
      ]
    },
    {
      "cell_type": "code",
      "source": [
        "test_datagen = ImageDataGenerator(rescale=1/255.)\n",
        "test_data_generator = test_datagen.flow_from_directory(\n",
        "    'hard_handwriting/test', target_size=(24, 24),\n",
        "    batch_size = 3, class_mode='categorical'\n",
        ")"
      ],
      "metadata": {
        "colab": {
          "base_uri": "https://localhost:8080/"
        },
        "id": "X72mMQn9rTwj",
        "outputId": "1acbbba4-c429-41c9-d539-039049b57564"
      },
      "execution_count": 9,
      "outputs": [
        {
          "output_type": "stream",
          "name": "stdout",
          "text": [
            "Found 15 images belonging to 3 classes.\n"
          ]
        }
      ]
    },
    {
      "cell_type": "markdown",
      "source": [
        "- 모델 정의/설정/학습/평가"
      ],
      "metadata": {
        "id": "5XWI3pHDrumy"
      }
    },
    {
      "cell_type": "code",
      "source": [
        "import numpy as np\n",
        "import tensorflow as tf\n",
        "seed = 2022\n",
        "tf.random.set_seed(seed)\n",
        "np.random.seed(seed)"
      ],
      "metadata": {
        "id": "2dPHRuhprt66"
      },
      "execution_count": 10,
      "outputs": []
    },
    {
      "cell_type": "code",
      "source": [
        "from tensorflow.keras.models import Sequential\n",
        "from tensorflow.keras.layers import Conv2D, MaxPooling2D, Flatten, Dense"
      ],
      "metadata": {
        "id": "UNe-Q3WdrzgF"
      },
      "execution_count": 11,
      "outputs": []
    },
    {
      "cell_type": "code",
      "source": [
        "model = Sequential([\n",
        "    Conv2D(32, (3, 3), input_shape=(24, 24, 3), activation = 'relu'),\n",
        "    Conv2D(64, (3, 3), activation='relu'),\n",
        "    MaxPooling2D(),\n",
        "    Flatten(),\n",
        "    Dense(128, activation='relu'),\n",
        "    Dense(3, activation='softmax')\n",
        "])\n",
        "model.summary()"
      ],
      "metadata": {
        "colab": {
          "base_uri": "https://localhost:8080/"
        },
        "id": "Hcduses7r1Ac",
        "outputId": "077d0d41-ccf9-47eb-971d-85e04bf6cad0"
      },
      "execution_count": 12,
      "outputs": [
        {
          "output_type": "stream",
          "name": "stdout",
          "text": [
            "Model: \"sequential\"\n",
            "_________________________________________________________________\n",
            " Layer (type)                Output Shape              Param #   \n",
            "=================================================================\n",
            " conv2d (Conv2D)             (None, 22, 22, 32)        896       \n",
            "                                                                 \n",
            " conv2d_1 (Conv2D)           (None, 20, 20, 64)        18496     \n",
            "                                                                 \n",
            " max_pooling2d (MaxPooling2D  (None, 10, 10, 64)       0         \n",
            " )                                                               \n",
            "                                                                 \n",
            " flatten (Flatten)           (None, 6400)              0         \n",
            "                                                                 \n",
            " dense (Dense)               (None, 128)               819328    \n",
            "                                                                 \n",
            " dense_1 (Dense)             (None, 3)                 387       \n",
            "                                                                 \n",
            "=================================================================\n",
            "Total params: 839,107\n",
            "Trainable params: 839,107\n",
            "Non-trainable params: 0\n",
            "_________________________________________________________________\n"
          ]
        }
      ]
    },
    {
      "cell_type": "code",
      "source": [
        "model.compile('adam', 'categorical_crossentropy', ['accuracy'])"
      ],
      "metadata": {
        "id": "IFbth6uXr3_Y"
      },
      "execution_count": 13,
      "outputs": []
    },
    {
      "cell_type": "code",
      "source": [
        "model.fit(\n",
        "    train_data_generator, steps_per_epoch=15, epochs=300,\n",
        "    validation_data=test_data_generator, validation_steps=5\n",
        ")"
      ],
      "metadata": {
        "colab": {
          "base_uri": "https://localhost:8080/"
        },
        "id": "fSIULxEEr75W",
        "outputId": "6203b4bb-26c2-46ea-f6a2-3876d0db3b76"
      },
      "execution_count": 14,
      "outputs": [
        {
          "output_type": "stream",
          "name": "stdout",
          "text": [
            "Epoch 1/300\n",
            "15/15 [==============================] - 1s 43ms/step - loss: 1.1669 - accuracy: 0.4444 - val_loss: 1.0613 - val_accuracy: 0.4667\n",
            "Epoch 2/300\n",
            "15/15 [==============================] - 0s 27ms/step - loss: 0.8975 - accuracy: 0.6222 - val_loss: 1.3090 - val_accuracy: 0.3333\n",
            "Epoch 3/300\n",
            "15/15 [==============================] - 0s 30ms/step - loss: 0.6398 - accuracy: 0.7111 - val_loss: 1.2570 - val_accuracy: 0.4000\n",
            "Epoch 4/300\n",
            "15/15 [==============================] - 0s 27ms/step - loss: 0.5655 - accuracy: 0.7778 - val_loss: 1.4177 - val_accuracy: 0.3333\n",
            "Epoch 5/300\n",
            "15/15 [==============================] - 0s 28ms/step - loss: 0.3898 - accuracy: 0.8667 - val_loss: 1.3993 - val_accuracy: 0.4667\n",
            "Epoch 6/300\n",
            "15/15 [==============================] - 0s 29ms/step - loss: 0.3249 - accuracy: 0.8667 - val_loss: 1.4475 - val_accuracy: 0.4667\n",
            "Epoch 7/300\n",
            "15/15 [==============================] - 1s 33ms/step - loss: 0.4280 - accuracy: 0.8444 - val_loss: 1.2275 - val_accuracy: 0.6000\n",
            "Epoch 8/300\n",
            "15/15 [==============================] - 0s 30ms/step - loss: 0.2577 - accuracy: 0.9333 - val_loss: 1.3292 - val_accuracy: 0.5333\n",
            "Epoch 9/300\n",
            "15/15 [==============================] - 0s 28ms/step - loss: 0.1712 - accuracy: 0.9333 - val_loss: 1.7090 - val_accuracy: 0.6000\n",
            "Epoch 10/300\n",
            "15/15 [==============================] - 0s 28ms/step - loss: 0.1328 - accuracy: 0.9556 - val_loss: 1.5024 - val_accuracy: 0.5333\n",
            "Epoch 11/300\n",
            "15/15 [==============================] - 0s 28ms/step - loss: 0.1901 - accuracy: 0.9333 - val_loss: 1.8878 - val_accuracy: 0.5333\n",
            "Epoch 12/300\n",
            "15/15 [==============================] - 0s 29ms/step - loss: 0.1255 - accuracy: 0.9556 - val_loss: 2.0969 - val_accuracy: 0.4667\n",
            "Epoch 13/300\n",
            "15/15 [==============================] - 0s 29ms/step - loss: 0.1074 - accuracy: 0.9556 - val_loss: 2.0495 - val_accuracy: 0.4667\n",
            "Epoch 14/300\n",
            "15/15 [==============================] - 0s 30ms/step - loss: 0.1012 - accuracy: 0.9556 - val_loss: 1.6447 - val_accuracy: 0.5333\n",
            "Epoch 15/300\n",
            "15/15 [==============================] - 0s 27ms/step - loss: 0.0729 - accuracy: 0.9778 - val_loss: 1.9343 - val_accuracy: 0.4667\n",
            "Epoch 16/300\n",
            "15/15 [==============================] - 0s 27ms/step - loss: 0.2345 - accuracy: 0.9556 - val_loss: 1.2116 - val_accuracy: 0.6667\n",
            "Epoch 17/300\n",
            "15/15 [==============================] - 0s 28ms/step - loss: 0.2269 - accuracy: 0.9111 - val_loss: 1.2956 - val_accuracy: 0.6667\n",
            "Epoch 18/300\n",
            "15/15 [==============================] - 0s 29ms/step - loss: 0.0665 - accuracy: 0.9778 - val_loss: 1.9657 - val_accuracy: 0.4667\n",
            "Epoch 19/300\n",
            "15/15 [==============================] - 0s 26ms/step - loss: 0.1746 - accuracy: 0.9111 - val_loss: 1.8751 - val_accuracy: 0.6667\n",
            "Epoch 20/300\n",
            "15/15 [==============================] - 1s 36ms/step - loss: 0.0506 - accuracy: 1.0000 - val_loss: 1.6324 - val_accuracy: 0.6667\n",
            "Epoch 21/300\n",
            "15/15 [==============================] - 1s 33ms/step - loss: 0.0848 - accuracy: 0.9778 - val_loss: 1.8800 - val_accuracy: 0.7333\n",
            "Epoch 22/300\n",
            "15/15 [==============================] - 0s 28ms/step - loss: 0.0156 - accuracy: 1.0000 - val_loss: 1.8886 - val_accuracy: 0.7333\n",
            "Epoch 23/300\n",
            "15/15 [==============================] - 0s 29ms/step - loss: 0.0115 - accuracy: 1.0000 - val_loss: 2.0171 - val_accuracy: 0.7333\n",
            "Epoch 24/300\n",
            "15/15 [==============================] - 0s 27ms/step - loss: 0.0256 - accuracy: 1.0000 - val_loss: 2.0468 - val_accuracy: 0.7333\n",
            "Epoch 25/300\n",
            "15/15 [==============================] - 0s 31ms/step - loss: 0.0699 - accuracy: 0.9556 - val_loss: 2.1701 - val_accuracy: 0.6667\n",
            "Epoch 26/300\n",
            "15/15 [==============================] - 0s 29ms/step - loss: 0.0520 - accuracy: 0.9778 - val_loss: 2.3813 - val_accuracy: 0.6667\n",
            "Epoch 27/300\n",
            "15/15 [==============================] - 0s 32ms/step - loss: 0.0411 - accuracy: 0.9778 - val_loss: 2.1662 - val_accuracy: 0.6667\n",
            "Epoch 28/300\n",
            "15/15 [==============================] - 0s 30ms/step - loss: 0.0490 - accuracy: 0.9778 - val_loss: 2.0795 - val_accuracy: 0.6667\n",
            "Epoch 29/300\n",
            "15/15 [==============================] - 0s 27ms/step - loss: 0.0896 - accuracy: 0.9556 - val_loss: 2.4653 - val_accuracy: 0.7333\n",
            "Epoch 30/300\n",
            "15/15 [==============================] - 0s 27ms/step - loss: 0.1701 - accuracy: 0.9333 - val_loss: 2.5360 - val_accuracy: 0.6000\n",
            "Epoch 31/300\n",
            "15/15 [==============================] - 0s 27ms/step - loss: 0.1797 - accuracy: 0.9333 - val_loss: 2.4945 - val_accuracy: 0.6000\n",
            "Epoch 32/300\n",
            "15/15 [==============================] - 0s 29ms/step - loss: 0.0513 - accuracy: 0.9778 - val_loss: 3.0907 - val_accuracy: 0.5333\n",
            "Epoch 33/300\n",
            "15/15 [==============================] - 0s 27ms/step - loss: 0.0224 - accuracy: 1.0000 - val_loss: 3.3514 - val_accuracy: 0.4667\n",
            "Epoch 34/300\n",
            "15/15 [==============================] - 0s 30ms/step - loss: 0.0457 - accuracy: 0.9556 - val_loss: 2.8906 - val_accuracy: 0.6000\n",
            "Epoch 35/300\n",
            "15/15 [==============================] - 0s 25ms/step - loss: 0.0141 - accuracy: 1.0000 - val_loss: 2.8981 - val_accuracy: 0.6667\n",
            "Epoch 36/300\n",
            "15/15 [==============================] - 0s 30ms/step - loss: 0.0760 - accuracy: 0.9778 - val_loss: 2.8896 - val_accuracy: 0.6667\n",
            "Epoch 37/300\n",
            "15/15 [==============================] - 0s 26ms/step - loss: 0.0371 - accuracy: 0.9778 - val_loss: 2.6367 - val_accuracy: 0.6667\n",
            "Epoch 38/300\n",
            "15/15 [==============================] - 0s 28ms/step - loss: 0.0273 - accuracy: 0.9778 - val_loss: 2.6822 - val_accuracy: 0.6667\n",
            "Epoch 39/300\n",
            "15/15 [==============================] - 0s 27ms/step - loss: 0.0489 - accuracy: 0.9778 - val_loss: 2.8724 - val_accuracy: 0.6667\n",
            "Epoch 40/300\n",
            "15/15 [==============================] - 0s 28ms/step - loss: 0.0101 - accuracy: 1.0000 - val_loss: 3.2702 - val_accuracy: 0.6667\n",
            "Epoch 41/300\n",
            "15/15 [==============================] - 0s 27ms/step - loss: 0.0525 - accuracy: 0.9778 - val_loss: 3.2797 - val_accuracy: 0.6000\n",
            "Epoch 42/300\n",
            "15/15 [==============================] - 0s 27ms/step - loss: 0.0030 - accuracy: 1.0000 - val_loss: 3.4028 - val_accuracy: 0.6000\n",
            "Epoch 43/300\n",
            "15/15 [==============================] - 0s 27ms/step - loss: 0.0188 - accuracy: 1.0000 - val_loss: 3.4515 - val_accuracy: 0.7333\n",
            "Epoch 44/300\n",
            "15/15 [==============================] - 0s 27ms/step - loss: 0.0831 - accuracy: 0.9556 - val_loss: 3.5255 - val_accuracy: 0.4667\n",
            "Epoch 45/300\n",
            "15/15 [==============================] - 0s 28ms/step - loss: 0.0842 - accuracy: 0.9778 - val_loss: 2.9006 - val_accuracy: 0.7333\n",
            "Epoch 46/300\n",
            "15/15 [==============================] - 0s 27ms/step - loss: 0.1650 - accuracy: 0.9556 - val_loss: 3.8619 - val_accuracy: 0.4000\n",
            "Epoch 47/300\n",
            "15/15 [==============================] - 0s 29ms/step - loss: 0.1773 - accuracy: 0.9333 - val_loss: 2.2722 - val_accuracy: 0.5333\n",
            "Epoch 48/300\n",
            "15/15 [==============================] - 0s 28ms/step - loss: 0.0370 - accuracy: 0.9778 - val_loss: 2.0391 - val_accuracy: 0.6000\n",
            "Epoch 49/300\n",
            "15/15 [==============================] - 0s 29ms/step - loss: 0.0807 - accuracy: 0.9778 - val_loss: 1.8793 - val_accuracy: 0.6000\n",
            "Epoch 50/300\n",
            "15/15 [==============================] - 0s 27ms/step - loss: 0.0320 - accuracy: 0.9778 - val_loss: 1.8560 - val_accuracy: 0.5333\n",
            "Epoch 51/300\n",
            "15/15 [==============================] - 0s 30ms/step - loss: 0.0525 - accuracy: 0.9778 - val_loss: 2.1214 - val_accuracy: 0.5333\n",
            "Epoch 52/300\n",
            "15/15 [==============================] - 0s 27ms/step - loss: 0.0130 - accuracy: 1.0000 - val_loss: 2.6386 - val_accuracy: 0.5333\n",
            "Epoch 53/300\n",
            "15/15 [==============================] - 0s 27ms/step - loss: 0.0175 - accuracy: 1.0000 - val_loss: 2.9671 - val_accuracy: 0.5333\n",
            "Epoch 54/300\n",
            "15/15 [==============================] - 0s 26ms/step - loss: 0.0080 - accuracy: 1.0000 - val_loss: 3.0269 - val_accuracy: 0.5333\n",
            "Epoch 55/300\n",
            "15/15 [==============================] - 0s 29ms/step - loss: 0.0021 - accuracy: 1.0000 - val_loss: 2.9304 - val_accuracy: 0.5333\n",
            "Epoch 56/300\n",
            "15/15 [==============================] - 0s 27ms/step - loss: 0.0410 - accuracy: 0.9778 - val_loss: 3.0052 - val_accuracy: 0.5333\n",
            "Epoch 57/300\n",
            "15/15 [==============================] - 0s 28ms/step - loss: 0.0674 - accuracy: 0.9778 - val_loss: 3.2657 - val_accuracy: 0.5333\n",
            "Epoch 58/300\n",
            "15/15 [==============================] - 0s 27ms/step - loss: 0.0205 - accuracy: 1.0000 - val_loss: 4.3318 - val_accuracy: 0.4667\n",
            "Epoch 59/300\n",
            "15/15 [==============================] - 0s 32ms/step - loss: 0.0280 - accuracy: 0.9778 - val_loss: 4.1450 - val_accuracy: 0.5333\n",
            "Epoch 60/300\n",
            "15/15 [==============================] - 0s 28ms/step - loss: 0.0535 - accuracy: 0.9778 - val_loss: 4.1513 - val_accuracy: 0.4000\n",
            "Epoch 61/300\n",
            "15/15 [==============================] - 0s 28ms/step - loss: 0.0452 - accuracy: 0.9778 - val_loss: 4.1922 - val_accuracy: 0.4000\n",
            "Epoch 62/300\n",
            "15/15 [==============================] - 0s 30ms/step - loss: 0.0262 - accuracy: 1.0000 - val_loss: 3.7772 - val_accuracy: 0.4000\n",
            "Epoch 63/300\n",
            "15/15 [==============================] - 0s 29ms/step - loss: 0.1283 - accuracy: 0.9778 - val_loss: 2.7665 - val_accuracy: 0.5333\n",
            "Epoch 64/300\n",
            "15/15 [==============================] - 1s 34ms/step - loss: 0.0656 - accuracy: 0.9778 - val_loss: 1.6501 - val_accuracy: 0.6667\n",
            "Epoch 65/300\n",
            "15/15 [==============================] - 0s 32ms/step - loss: 0.0079 - accuracy: 1.0000 - val_loss: 1.6624 - val_accuracy: 0.6667\n",
            "Epoch 66/300\n",
            "15/15 [==============================] - 0s 30ms/step - loss: 0.0919 - accuracy: 0.9556 - val_loss: 2.5442 - val_accuracy: 0.5333\n",
            "Epoch 67/300\n",
            "15/15 [==============================] - 0s 28ms/step - loss: 0.0098 - accuracy: 1.0000 - val_loss: 2.9223 - val_accuracy: 0.5333\n",
            "Epoch 68/300\n",
            "15/15 [==============================] - 0s 28ms/step - loss: 0.0064 - accuracy: 1.0000 - val_loss: 2.9765 - val_accuracy: 0.5333\n",
            "Epoch 69/300\n",
            "15/15 [==============================] - 0s 31ms/step - loss: 0.0265 - accuracy: 1.0000 - val_loss: 2.4405 - val_accuracy: 0.6667\n",
            "Epoch 70/300\n",
            "15/15 [==============================] - 0s 28ms/step - loss: 0.0167 - accuracy: 1.0000 - val_loss: 2.2095 - val_accuracy: 0.6000\n",
            "Epoch 71/300\n",
            "15/15 [==============================] - 0s 31ms/step - loss: 0.0041 - accuracy: 1.0000 - val_loss: 2.1972 - val_accuracy: 0.6000\n",
            "Epoch 72/300\n",
            "15/15 [==============================] - 0s 28ms/step - loss: 0.0073 - accuracy: 1.0000 - val_loss: 2.3453 - val_accuracy: 0.6000\n",
            "Epoch 73/300\n",
            "15/15 [==============================] - 0s 31ms/step - loss: 0.0015 - accuracy: 1.0000 - val_loss: 2.4351 - val_accuracy: 0.6667\n",
            "Epoch 74/300\n",
            "15/15 [==============================] - 0s 28ms/step - loss: 0.0067 - accuracy: 1.0000 - val_loss: 2.4571 - val_accuracy: 0.6667\n",
            "Epoch 75/300\n",
            "15/15 [==============================] - 0s 28ms/step - loss: 0.0063 - accuracy: 1.0000 - val_loss: 2.3584 - val_accuracy: 0.6000\n",
            "Epoch 76/300\n",
            "15/15 [==============================] - 0s 27ms/step - loss: 0.0016 - accuracy: 1.0000 - val_loss: 2.4155 - val_accuracy: 0.6000\n",
            "Epoch 77/300\n",
            "15/15 [==============================] - 0s 28ms/step - loss: 8.6237e-04 - accuracy: 1.0000 - val_loss: 2.4674 - val_accuracy: 0.6000\n",
            "Epoch 78/300\n",
            "15/15 [==============================] - 0s 29ms/step - loss: 0.0017 - accuracy: 1.0000 - val_loss: 2.5376 - val_accuracy: 0.6000\n",
            "Epoch 79/300\n",
            "15/15 [==============================] - 0s 27ms/step - loss: 0.0011 - accuracy: 1.0000 - val_loss: 2.5605 - val_accuracy: 0.6000\n",
            "Epoch 80/300\n",
            "15/15 [==============================] - 0s 28ms/step - loss: 6.1248e-04 - accuracy: 1.0000 - val_loss: 2.5716 - val_accuracy: 0.6000\n",
            "Epoch 81/300\n",
            "15/15 [==============================] - 0s 30ms/step - loss: 1.3698e-04 - accuracy: 1.0000 - val_loss: 2.5789 - val_accuracy: 0.6000\n",
            "Epoch 82/300\n",
            "15/15 [==============================] - 0s 29ms/step - loss: 5.1029e-04 - accuracy: 1.0000 - val_loss: 2.5901 - val_accuracy: 0.6000\n",
            "Epoch 83/300\n",
            "15/15 [==============================] - 0s 27ms/step - loss: 0.0027 - accuracy: 1.0000 - val_loss: 2.6140 - val_accuracy: 0.6000\n",
            "Epoch 84/300\n",
            "15/15 [==============================] - 1s 33ms/step - loss: 1.7590e-04 - accuracy: 1.0000 - val_loss: 2.6496 - val_accuracy: 0.6667\n",
            "Epoch 85/300\n",
            "15/15 [==============================] - 0s 31ms/step - loss: 0.0063 - accuracy: 1.0000 - val_loss: 2.9526 - val_accuracy: 0.6000\n",
            "Epoch 86/300\n",
            "15/15 [==============================] - 0s 27ms/step - loss: 0.0136 - accuracy: 1.0000 - val_loss: 2.8894 - val_accuracy: 0.6000\n",
            "Epoch 87/300\n",
            "15/15 [==============================] - 0s 29ms/step - loss: 7.9633e-05 - accuracy: 1.0000 - val_loss: 2.9401 - val_accuracy: 0.6000\n",
            "Epoch 88/300\n",
            "15/15 [==============================] - 0s 27ms/step - loss: 3.9573e-04 - accuracy: 1.0000 - val_loss: 2.9606 - val_accuracy: 0.6000\n",
            "Epoch 89/300\n",
            "15/15 [==============================] - 0s 31ms/step - loss: 0.0162 - accuracy: 1.0000 - val_loss: 3.3424 - val_accuracy: 0.6000\n",
            "Epoch 90/300\n",
            "15/15 [==============================] - 0s 27ms/step - loss: 1.8477e-04 - accuracy: 1.0000 - val_loss: 3.0818 - val_accuracy: 0.6000\n",
            "Epoch 91/300\n",
            "15/15 [==============================] - 0s 30ms/step - loss: 0.0215 - accuracy: 0.9778 - val_loss: 2.5627 - val_accuracy: 0.6000\n",
            "Epoch 92/300\n",
            "15/15 [==============================] - 0s 27ms/step - loss: 0.0136 - accuracy: 1.0000 - val_loss: 2.7638 - val_accuracy: 0.6000\n",
            "Epoch 93/300\n",
            "15/15 [==============================] - 0s 28ms/step - loss: 0.0595 - accuracy: 0.9556 - val_loss: 2.2806 - val_accuracy: 0.7333\n",
            "Epoch 94/300\n",
            "15/15 [==============================] - 0s 29ms/step - loss: 0.1032 - accuracy: 0.9778 - val_loss: 2.5541 - val_accuracy: 0.6667\n",
            "Epoch 95/300\n",
            "15/15 [==============================] - 0s 27ms/step - loss: 0.2893 - accuracy: 0.9333 - val_loss: 3.2524 - val_accuracy: 0.6667\n",
            "Epoch 96/300\n",
            "15/15 [==============================] - 0s 27ms/step - loss: 0.0865 - accuracy: 0.9778 - val_loss: 2.0543 - val_accuracy: 0.5333\n",
            "Epoch 97/300\n",
            "15/15 [==============================] - 0s 29ms/step - loss: 0.1447 - accuracy: 0.9778 - val_loss: 2.7369 - val_accuracy: 0.5333\n",
            "Epoch 98/300\n",
            "15/15 [==============================] - 0s 29ms/step - loss: 0.0453 - accuracy: 0.9778 - val_loss: 1.8716 - val_accuracy: 0.6000\n",
            "Epoch 99/300\n",
            "15/15 [==============================] - 0s 30ms/step - loss: 0.0176 - accuracy: 1.0000 - val_loss: 1.8531 - val_accuracy: 0.6667\n",
            "Epoch 100/300\n",
            "15/15 [==============================] - 0s 28ms/step - loss: 0.0039 - accuracy: 1.0000 - val_loss: 1.8952 - val_accuracy: 0.6667\n",
            "Epoch 101/300\n",
            "15/15 [==============================] - 0s 29ms/step - loss: 0.0116 - accuracy: 1.0000 - val_loss: 2.1765 - val_accuracy: 0.6000\n",
            "Epoch 102/300\n",
            "15/15 [==============================] - 0s 31ms/step - loss: 0.0447 - accuracy: 0.9778 - val_loss: 2.8083 - val_accuracy: 0.5333\n",
            "Epoch 103/300\n",
            "15/15 [==============================] - 0s 32ms/step - loss: 0.0055 - accuracy: 1.0000 - val_loss: 3.0124 - val_accuracy: 0.5333\n",
            "Epoch 104/300\n",
            "15/15 [==============================] - 0s 30ms/step - loss: 0.0022 - accuracy: 1.0000 - val_loss: 3.2246 - val_accuracy: 0.5333\n",
            "Epoch 105/300\n",
            "15/15 [==============================] - 0s 29ms/step - loss: 0.0024 - accuracy: 1.0000 - val_loss: 3.5219 - val_accuracy: 0.5333\n",
            "Epoch 106/300\n",
            "15/15 [==============================] - 0s 29ms/step - loss: 0.0156 - accuracy: 1.0000 - val_loss: 3.2347 - val_accuracy: 0.5333\n",
            "Epoch 107/300\n",
            "15/15 [==============================] - 0s 29ms/step - loss: 0.0069 - accuracy: 1.0000 - val_loss: 3.1364 - val_accuracy: 0.5333\n",
            "Epoch 108/300\n",
            "15/15 [==============================] - 0s 29ms/step - loss: 0.0018 - accuracy: 1.0000 - val_loss: 3.1329 - val_accuracy: 0.5333\n",
            "Epoch 109/300\n",
            "15/15 [==============================] - 0s 29ms/step - loss: 0.0042 - accuracy: 1.0000 - val_loss: 3.2211 - val_accuracy: 0.5333\n",
            "Epoch 110/300\n",
            "15/15 [==============================] - 0s 29ms/step - loss: 0.0088 - accuracy: 1.0000 - val_loss: 3.1064 - val_accuracy: 0.5333\n",
            "Epoch 111/300\n",
            "15/15 [==============================] - 1s 33ms/step - loss: 0.0076 - accuracy: 1.0000 - val_loss: 3.1848 - val_accuracy: 0.5333\n",
            "Epoch 112/300\n",
            "15/15 [==============================] - 0s 31ms/step - loss: 0.0835 - accuracy: 0.9556 - val_loss: 3.3741 - val_accuracy: 0.6667\n",
            "Epoch 113/300\n",
            "15/15 [==============================] - 0s 28ms/step - loss: 0.6106 - accuracy: 0.8667 - val_loss: 4.4030 - val_accuracy: 0.4667\n",
            "Epoch 114/300\n",
            "15/15 [==============================] - 0s 28ms/step - loss: 0.0085 - accuracy: 1.0000 - val_loss: 2.1958 - val_accuracy: 0.8000\n",
            "Epoch 115/300\n",
            "15/15 [==============================] - 0s 28ms/step - loss: 0.0135 - accuracy: 1.0000 - val_loss: 2.4530 - val_accuracy: 0.8000\n",
            "Epoch 116/300\n",
            "15/15 [==============================] - 0s 27ms/step - loss: 0.0751 - accuracy: 0.9778 - val_loss: 3.2310 - val_accuracy: 0.5333\n",
            "Epoch 117/300\n",
            "15/15 [==============================] - 0s 31ms/step - loss: 0.0041 - accuracy: 1.0000 - val_loss: 3.2203 - val_accuracy: 0.6000\n",
            "Epoch 118/300\n",
            "15/15 [==============================] - 0s 27ms/step - loss: 0.0018 - accuracy: 1.0000 - val_loss: 3.3100 - val_accuracy: 0.6000\n",
            "Epoch 119/300\n",
            "15/15 [==============================] - 0s 29ms/step - loss: 0.0013 - accuracy: 1.0000 - val_loss: 3.3252 - val_accuracy: 0.6000\n",
            "Epoch 120/300\n",
            "15/15 [==============================] - 0s 29ms/step - loss: 0.0019 - accuracy: 1.0000 - val_loss: 3.3394 - val_accuracy: 0.6000\n",
            "Epoch 121/300\n",
            "15/15 [==============================] - 0s 28ms/step - loss: 0.0045 - accuracy: 1.0000 - val_loss: 3.4702 - val_accuracy: 0.6000\n",
            "Epoch 122/300\n",
            "15/15 [==============================] - 0s 28ms/step - loss: 0.0238 - accuracy: 1.0000 - val_loss: 2.5106 - val_accuracy: 0.6667\n",
            "Epoch 123/300\n",
            "15/15 [==============================] - 0s 31ms/step - loss: 0.0535 - accuracy: 0.9778 - val_loss: 2.8765 - val_accuracy: 0.8000\n",
            "Epoch 124/300\n",
            "15/15 [==============================] - 0s 29ms/step - loss: 0.0448 - accuracy: 0.9778 - val_loss: 2.6139 - val_accuracy: 0.7333\n",
            "Epoch 125/300\n",
            "15/15 [==============================] - 0s 30ms/step - loss: 0.0932 - accuracy: 0.9556 - val_loss: 2.5898 - val_accuracy: 0.7333\n",
            "Epoch 126/300\n",
            "15/15 [==============================] - 0s 27ms/step - loss: 0.0170 - accuracy: 1.0000 - val_loss: 2.5399 - val_accuracy: 0.7333\n",
            "Epoch 127/300\n",
            "15/15 [==============================] - 0s 29ms/step - loss: 0.0274 - accuracy: 1.0000 - val_loss: 2.7020 - val_accuracy: 0.7333\n",
            "Epoch 128/300\n",
            "15/15 [==============================] - 0s 28ms/step - loss: 0.0840 - accuracy: 0.9778 - val_loss: 2.7250 - val_accuracy: 0.5333\n",
            "Epoch 129/300\n",
            "15/15 [==============================] - 0s 28ms/step - loss: 0.0172 - accuracy: 1.0000 - val_loss: 2.6739 - val_accuracy: 0.5333\n",
            "Epoch 130/300\n",
            "15/15 [==============================] - 0s 31ms/step - loss: 0.0480 - accuracy: 0.9778 - val_loss: 2.7347 - val_accuracy: 0.6000\n",
            "Epoch 131/300\n",
            "15/15 [==============================] - 0s 29ms/step - loss: 0.0091 - accuracy: 1.0000 - val_loss: 2.5230 - val_accuracy: 0.6000\n",
            "Epoch 132/300\n",
            "15/15 [==============================] - 0s 28ms/step - loss: 0.0392 - accuracy: 0.9778 - val_loss: 2.8799 - val_accuracy: 0.5333\n",
            "Epoch 133/300\n",
            "15/15 [==============================] - 0s 27ms/step - loss: 0.0039 - accuracy: 1.0000 - val_loss: 3.1720 - val_accuracy: 0.5333\n",
            "Epoch 134/300\n",
            "15/15 [==============================] - 0s 29ms/step - loss: 0.0011 - accuracy: 1.0000 - val_loss: 3.2014 - val_accuracy: 0.5333\n",
            "Epoch 135/300\n",
            "15/15 [==============================] - 0s 28ms/step - loss: 0.0025 - accuracy: 1.0000 - val_loss: 3.1843 - val_accuracy: 0.5333\n",
            "Epoch 136/300\n",
            "15/15 [==============================] - 0s 30ms/step - loss: 0.0020 - accuracy: 1.0000 - val_loss: 3.2068 - val_accuracy: 0.5333\n",
            "Epoch 137/300\n",
            "15/15 [==============================] - 0s 28ms/step - loss: 0.0055 - accuracy: 1.0000 - val_loss: 3.5450 - val_accuracy: 0.6000\n",
            "Epoch 138/300\n",
            "15/15 [==============================] - 0s 26ms/step - loss: 3.9055e-04 - accuracy: 1.0000 - val_loss: 3.8710 - val_accuracy: 0.6000\n",
            "Epoch 139/300\n",
            "15/15 [==============================] - 0s 27ms/step - loss: 0.0050 - accuracy: 1.0000 - val_loss: 3.1402 - val_accuracy: 0.6000\n",
            "Epoch 140/300\n",
            "15/15 [==============================] - 0s 29ms/step - loss: 2.2630e-04 - accuracy: 1.0000 - val_loss: 2.8866 - val_accuracy: 0.5333\n",
            "Epoch 141/300\n",
            "15/15 [==============================] - 0s 29ms/step - loss: 3.4504e-04 - accuracy: 1.0000 - val_loss: 2.8544 - val_accuracy: 0.5333\n",
            "Epoch 142/300\n",
            "15/15 [==============================] - 0s 31ms/step - loss: 6.5399e-05 - accuracy: 1.0000 - val_loss: 2.8510 - val_accuracy: 0.5333\n",
            "Epoch 143/300\n",
            "15/15 [==============================] - 0s 28ms/step - loss: 0.0027 - accuracy: 1.0000 - val_loss: 3.0017 - val_accuracy: 0.6000\n",
            "Epoch 144/300\n",
            "15/15 [==============================] - 0s 30ms/step - loss: 0.0013 - accuracy: 1.0000 - val_loss: 3.0701 - val_accuracy: 0.6000\n",
            "Epoch 145/300\n",
            "15/15 [==============================] - 0s 27ms/step - loss: 0.0015 - accuracy: 1.0000 - val_loss: 3.0895 - val_accuracy: 0.6000\n",
            "Epoch 146/300\n",
            "15/15 [==============================] - 0s 30ms/step - loss: 0.0085 - accuracy: 1.0000 - val_loss: 3.1151 - val_accuracy: 0.5333\n",
            "Epoch 147/300\n",
            "15/15 [==============================] - 0s 27ms/step - loss: 0.0062 - accuracy: 1.0000 - val_loss: 3.1622 - val_accuracy: 0.5333\n",
            "Epoch 148/300\n",
            "15/15 [==============================] - 0s 30ms/step - loss: 0.0016 - accuracy: 1.0000 - val_loss: 3.2750 - val_accuracy: 0.5333\n",
            "Epoch 149/300\n",
            "15/15 [==============================] - 0s 31ms/step - loss: 4.1038e-04 - accuracy: 1.0000 - val_loss: 3.3138 - val_accuracy: 0.6000\n",
            "Epoch 150/300\n",
            "15/15 [==============================] - 0s 29ms/step - loss: 1.8746e-04 - accuracy: 1.0000 - val_loss: 3.3232 - val_accuracy: 0.6000\n",
            "Epoch 151/300\n",
            "15/15 [==============================] - 0s 28ms/step - loss: 0.0438 - accuracy: 0.9778 - val_loss: 2.7929 - val_accuracy: 0.7333\n",
            "Epoch 152/300\n",
            "15/15 [==============================] - 0s 29ms/step - loss: 3.1632e-04 - accuracy: 1.0000 - val_loss: 2.9062 - val_accuracy: 0.8000\n",
            "Epoch 153/300\n",
            "15/15 [==============================] - 1s 33ms/step - loss: 0.0016 - accuracy: 1.0000 - val_loss: 2.8963 - val_accuracy: 0.8000\n",
            "Epoch 154/300\n",
            "15/15 [==============================] - 0s 31ms/step - loss: 0.0025 - accuracy: 1.0000 - val_loss: 2.7579 - val_accuracy: 0.8000\n",
            "Epoch 155/300\n",
            "15/15 [==============================] - 0s 32ms/step - loss: 0.0053 - accuracy: 1.0000 - val_loss: 2.9183 - val_accuracy: 0.7333\n",
            "Epoch 156/300\n",
            "15/15 [==============================] - 0s 31ms/step - loss: 3.2491e-04 - accuracy: 1.0000 - val_loss: 3.1382 - val_accuracy: 0.7333\n",
            "Epoch 157/300\n",
            "15/15 [==============================] - 0s 30ms/step - loss: 1.4373e-04 - accuracy: 1.0000 - val_loss: 3.1946 - val_accuracy: 0.6667\n",
            "Epoch 158/300\n",
            "15/15 [==============================] - 0s 30ms/step - loss: 2.4942e-04 - accuracy: 1.0000 - val_loss: 3.2290 - val_accuracy: 0.6667\n",
            "Epoch 159/300\n",
            "15/15 [==============================] - 1s 36ms/step - loss: 0.0054 - accuracy: 1.0000 - val_loss: 3.3936 - val_accuracy: 0.6667\n",
            "Epoch 160/300\n",
            "15/15 [==============================] - 0s 33ms/step - loss: 0.1052 - accuracy: 0.9778 - val_loss: 2.7749 - val_accuracy: 0.7333\n",
            "Epoch 161/300\n",
            "15/15 [==============================] - 0s 32ms/step - loss: 0.1399 - accuracy: 0.9778 - val_loss: 2.5179 - val_accuracy: 0.8000\n",
            "Epoch 162/300\n",
            "15/15 [==============================] - 0s 29ms/step - loss: 0.0016 - accuracy: 1.0000 - val_loss: 2.5734 - val_accuracy: 0.7333\n",
            "Epoch 163/300\n",
            "15/15 [==============================] - 0s 29ms/step - loss: 0.0035 - accuracy: 1.0000 - val_loss: 2.7977 - val_accuracy: 0.7333\n",
            "Epoch 164/300\n",
            "15/15 [==============================] - 0s 30ms/step - loss: 0.0016 - accuracy: 1.0000 - val_loss: 2.7940 - val_accuracy: 0.7333\n",
            "Epoch 165/300\n",
            "15/15 [==============================] - 0s 28ms/step - loss: 0.0043 - accuracy: 1.0000 - val_loss: 3.0840 - val_accuracy: 0.7333\n",
            "Epoch 166/300\n",
            "15/15 [==============================] - 0s 28ms/step - loss: 0.0113 - accuracy: 1.0000 - val_loss: 2.6300 - val_accuracy: 0.7333\n",
            "Epoch 167/300\n",
            "15/15 [==============================] - 0s 29ms/step - loss: 0.0340 - accuracy: 0.9778 - val_loss: 3.1063 - val_accuracy: 0.7333\n",
            "Epoch 168/300\n",
            "15/15 [==============================] - 0s 29ms/step - loss: 0.0235 - accuracy: 0.9778 - val_loss: 2.8912 - val_accuracy: 0.7333\n",
            "Epoch 169/300\n",
            "15/15 [==============================] - 0s 30ms/step - loss: 0.0050 - accuracy: 1.0000 - val_loss: 2.8000 - val_accuracy: 0.6000\n",
            "Epoch 170/300\n",
            "15/15 [==============================] - 0s 31ms/step - loss: 5.5262e-04 - accuracy: 1.0000 - val_loss: 2.8399 - val_accuracy: 0.6000\n",
            "Epoch 171/300\n",
            "15/15 [==============================] - 0s 28ms/step - loss: 8.7988e-04 - accuracy: 1.0000 - val_loss: 2.8742 - val_accuracy: 0.6667\n",
            "Epoch 172/300\n",
            "15/15 [==============================] - 0s 29ms/step - loss: 2.2984e-04 - accuracy: 1.0000 - val_loss: 2.9050 - val_accuracy: 0.6667\n",
            "Epoch 173/300\n",
            "15/15 [==============================] - 0s 28ms/step - loss: 0.0025 - accuracy: 1.0000 - val_loss: 2.9392 - val_accuracy: 0.6667\n",
            "Epoch 174/300\n",
            "15/15 [==============================] - 0s 31ms/step - loss: 0.0017 - accuracy: 1.0000 - val_loss: 3.1609 - val_accuracy: 0.6667\n",
            "Epoch 175/300\n",
            "15/15 [==============================] - 0s 27ms/step - loss: 0.1286 - accuracy: 0.9778 - val_loss: 4.2742 - val_accuracy: 0.6667\n",
            "Epoch 176/300\n",
            "15/15 [==============================] - 0s 29ms/step - loss: 0.0273 - accuracy: 1.0000 - val_loss: 3.3226 - val_accuracy: 0.6000\n",
            "Epoch 177/300\n",
            "15/15 [==============================] - 1s 34ms/step - loss: 0.0378 - accuracy: 0.9778 - val_loss: 3.0592 - val_accuracy: 0.6667\n",
            "Epoch 178/300\n",
            "15/15 [==============================] - 1s 33ms/step - loss: 0.0375 - accuracy: 0.9778 - val_loss: 3.0745 - val_accuracy: 0.6667\n",
            "Epoch 179/300\n",
            "15/15 [==============================] - 0s 31ms/step - loss: 0.0390 - accuracy: 0.9778 - val_loss: 3.0638 - val_accuracy: 0.7333\n",
            "Epoch 180/300\n",
            "15/15 [==============================] - 0s 28ms/step - loss: 0.0253 - accuracy: 1.0000 - val_loss: 3.0468 - val_accuracy: 0.7333\n",
            "Epoch 181/300\n",
            "15/15 [==============================] - 0s 30ms/step - loss: 0.0042 - accuracy: 1.0000 - val_loss: 3.1256 - val_accuracy: 0.6667\n",
            "Epoch 182/300\n",
            "15/15 [==============================] - 0s 29ms/step - loss: 0.0892 - accuracy: 0.9556 - val_loss: 3.1472 - val_accuracy: 0.7333\n",
            "Epoch 183/300\n",
            "15/15 [==============================] - 0s 30ms/step - loss: 0.0059 - accuracy: 1.0000 - val_loss: 3.2261 - val_accuracy: 0.7333\n",
            "Epoch 184/300\n",
            "15/15 [==============================] - 0s 30ms/step - loss: 8.6588e-04 - accuracy: 1.0000 - val_loss: 3.2298 - val_accuracy: 0.6667\n",
            "Epoch 185/300\n",
            "15/15 [==============================] - 0s 26ms/step - loss: 5.6188e-05 - accuracy: 1.0000 - val_loss: 3.2593 - val_accuracy: 0.6667\n",
            "Epoch 186/300\n",
            "15/15 [==============================] - 0s 26ms/step - loss: 7.4566e-05 - accuracy: 1.0000 - val_loss: 3.2674 - val_accuracy: 0.6667\n",
            "Epoch 187/300\n",
            "15/15 [==============================] - 0s 29ms/step - loss: 0.0112 - accuracy: 1.0000 - val_loss: 3.3292 - val_accuracy: 0.6667\n",
            "Epoch 188/300\n",
            "15/15 [==============================] - 0s 29ms/step - loss: 0.0029 - accuracy: 1.0000 - val_loss: 3.3743 - val_accuracy: 0.6667\n",
            "Epoch 189/300\n",
            "15/15 [==============================] - 0s 29ms/step - loss: 0.0909 - accuracy: 0.9778 - val_loss: 2.9122 - val_accuracy: 0.7333\n",
            "Epoch 190/300\n",
            "15/15 [==============================] - 0s 30ms/step - loss: 0.0015 - accuracy: 1.0000 - val_loss: 2.8376 - val_accuracy: 0.7333\n",
            "Epoch 191/300\n",
            "15/15 [==============================] - 0s 28ms/step - loss: 0.0618 - accuracy: 0.9778 - val_loss: 2.9258 - val_accuracy: 0.7333\n",
            "Epoch 192/300\n",
            "15/15 [==============================] - 0s 29ms/step - loss: 0.0194 - accuracy: 0.9778 - val_loss: 3.1703 - val_accuracy: 0.6667\n",
            "Epoch 193/300\n",
            "15/15 [==============================] - 0s 30ms/step - loss: 0.0024 - accuracy: 1.0000 - val_loss: 3.2390 - val_accuracy: 0.6667\n",
            "Epoch 194/300\n",
            "15/15 [==============================] - 0s 30ms/step - loss: 8.3261e-04 - accuracy: 1.0000 - val_loss: 3.2373 - val_accuracy: 0.6667\n",
            "Epoch 195/300\n",
            "15/15 [==============================] - 0s 27ms/step - loss: 4.2955e-04 - accuracy: 1.0000 - val_loss: 3.2505 - val_accuracy: 0.6667\n",
            "Epoch 196/300\n",
            "15/15 [==============================] - 0s 29ms/step - loss: 0.0063 - accuracy: 1.0000 - val_loss: 3.3566 - val_accuracy: 0.6667\n",
            "Epoch 197/300\n",
            "15/15 [==============================] - 0s 29ms/step - loss: 0.0032 - accuracy: 1.0000 - val_loss: 3.3656 - val_accuracy: 0.6667\n",
            "Epoch 198/300\n",
            "15/15 [==============================] - 0s 30ms/step - loss: 0.0280 - accuracy: 0.9778 - val_loss: 3.2509 - val_accuracy: 0.7333\n",
            "Epoch 199/300\n",
            "15/15 [==============================] - 0s 29ms/step - loss: 0.0033 - accuracy: 1.0000 - val_loss: 2.8973 - val_accuracy: 0.7333\n",
            "Epoch 200/300\n",
            "15/15 [==============================] - 0s 30ms/step - loss: 0.0049 - accuracy: 1.0000 - val_loss: 2.9358 - val_accuracy: 0.7333\n",
            "Epoch 201/300\n",
            "15/15 [==============================] - 0s 29ms/step - loss: 1.0575e-04 - accuracy: 1.0000 - val_loss: 2.9863 - val_accuracy: 0.7333\n",
            "Epoch 202/300\n",
            "15/15 [==============================] - 0s 32ms/step - loss: 0.0032 - accuracy: 1.0000 - val_loss: 3.0510 - val_accuracy: 0.7333\n",
            "Epoch 203/300\n",
            "15/15 [==============================] - 0s 30ms/step - loss: 0.0411 - accuracy: 0.9778 - val_loss: 3.7735 - val_accuracy: 0.6000\n",
            "Epoch 204/300\n",
            "15/15 [==============================] - 0s 29ms/step - loss: 0.0082 - accuracy: 1.0000 - val_loss: 4.4206 - val_accuracy: 0.5333\n",
            "Epoch 205/300\n",
            "15/15 [==============================] - 0s 30ms/step - loss: 0.0062 - accuracy: 1.0000 - val_loss: 3.3177 - val_accuracy: 0.6667\n",
            "Epoch 206/300\n",
            "15/15 [==============================] - 0s 29ms/step - loss: 2.5904e-04 - accuracy: 1.0000 - val_loss: 3.1442 - val_accuracy: 0.6667\n",
            "Epoch 207/300\n",
            "15/15 [==============================] - 0s 30ms/step - loss: 1.6535e-04 - accuracy: 1.0000 - val_loss: 3.1175 - val_accuracy: 0.6667\n",
            "Epoch 208/300\n",
            "15/15 [==============================] - 0s 29ms/step - loss: 0.0534 - accuracy: 0.9778 - val_loss: 3.5088 - val_accuracy: 0.7333\n",
            "Epoch 209/300\n",
            "15/15 [==============================] - 0s 30ms/step - loss: 0.0787 - accuracy: 0.9778 - val_loss: 2.7523 - val_accuracy: 0.6667\n",
            "Epoch 210/300\n",
            "15/15 [==============================] - 0s 29ms/step - loss: 0.0021 - accuracy: 1.0000 - val_loss: 2.6865 - val_accuracy: 0.7333\n",
            "Epoch 211/300\n",
            "15/15 [==============================] - 0s 29ms/step - loss: 0.0025 - accuracy: 1.0000 - val_loss: 2.7068 - val_accuracy: 0.7333\n",
            "Epoch 212/300\n",
            "15/15 [==============================] - 0s 30ms/step - loss: 0.0319 - accuracy: 0.9778 - val_loss: 2.8061 - val_accuracy: 0.7333\n",
            "Epoch 213/300\n",
            "15/15 [==============================] - 0s 29ms/step - loss: 0.0346 - accuracy: 0.9778 - val_loss: 3.0966 - val_accuracy: 0.7333\n",
            "Epoch 214/300\n",
            "15/15 [==============================] - 0s 29ms/step - loss: 6.6808e-04 - accuracy: 1.0000 - val_loss: 3.3946 - val_accuracy: 0.6000\n",
            "Epoch 215/300\n",
            "15/15 [==============================] - 0s 29ms/step - loss: 0.0238 - accuracy: 1.0000 - val_loss: 3.3685 - val_accuracy: 0.6667\n",
            "Epoch 216/300\n",
            "15/15 [==============================] - 0s 31ms/step - loss: 0.0080 - accuracy: 1.0000 - val_loss: 3.3586 - val_accuracy: 0.6667\n",
            "Epoch 217/300\n",
            "15/15 [==============================] - 0s 29ms/step - loss: 0.0057 - accuracy: 1.0000 - val_loss: 3.2653 - val_accuracy: 0.7333\n",
            "Epoch 218/300\n",
            "15/15 [==============================] - 0s 31ms/step - loss: 5.9933e-04 - accuracy: 1.0000 - val_loss: 3.2736 - val_accuracy: 0.7333\n",
            "Epoch 219/300\n",
            "15/15 [==============================] - 0s 32ms/step - loss: 4.4895e-04 - accuracy: 1.0000 - val_loss: 3.2714 - val_accuracy: 0.7333\n",
            "Epoch 220/300\n",
            "15/15 [==============================] - 0s 31ms/step - loss: 0.0013 - accuracy: 1.0000 - val_loss: 3.2832 - val_accuracy: 0.7333\n",
            "Epoch 221/300\n",
            "15/15 [==============================] - 0s 31ms/step - loss: 1.4008e-04 - accuracy: 1.0000 - val_loss: 3.2890 - val_accuracy: 0.7333\n",
            "Epoch 222/300\n",
            "15/15 [==============================] - 0s 32ms/step - loss: 2.8975e-04 - accuracy: 1.0000 - val_loss: 3.2943 - val_accuracy: 0.7333\n",
            "Epoch 223/300\n",
            "15/15 [==============================] - 0s 31ms/step - loss: 2.4442e-04 - accuracy: 1.0000 - val_loss: 3.3010 - val_accuracy: 0.7333\n",
            "Epoch 224/300\n",
            "15/15 [==============================] - 0s 29ms/step - loss: 3.5139e-04 - accuracy: 1.0000 - val_loss: 3.3088 - val_accuracy: 0.7333\n",
            "Epoch 225/300\n",
            "15/15 [==============================] - 0s 32ms/step - loss: 9.6975e-05 - accuracy: 1.0000 - val_loss: 3.3159 - val_accuracy: 0.7333\n",
            "Epoch 226/300\n",
            "15/15 [==============================] - 0s 30ms/step - loss: 0.0072 - accuracy: 1.0000 - val_loss: 3.3352 - val_accuracy: 0.7333\n",
            "Epoch 227/300\n",
            "15/15 [==============================] - 0s 30ms/step - loss: 0.0049 - accuracy: 1.0000 - val_loss: 3.3249 - val_accuracy: 0.7333\n",
            "Epoch 228/300\n",
            "15/15 [==============================] - 0s 31ms/step - loss: 1.8301e-04 - accuracy: 1.0000 - val_loss: 3.3187 - val_accuracy: 0.7333\n",
            "Epoch 229/300\n",
            "15/15 [==============================] - 0s 31ms/step - loss: 0.0045 - accuracy: 1.0000 - val_loss: 3.3339 - val_accuracy: 0.7333\n",
            "Epoch 230/300\n",
            "15/15 [==============================] - 1s 34ms/step - loss: 5.9592e-05 - accuracy: 1.0000 - val_loss: 3.3694 - val_accuracy: 0.6000\n",
            "Epoch 231/300\n",
            "15/15 [==============================] - 0s 29ms/step - loss: 1.3914e-04 - accuracy: 1.0000 - val_loss: 3.3809 - val_accuracy: 0.6000\n",
            "Epoch 232/300\n",
            "15/15 [==============================] - 0s 31ms/step - loss: 4.0828e-05 - accuracy: 1.0000 - val_loss: 3.3844 - val_accuracy: 0.6000\n",
            "Epoch 233/300\n",
            "15/15 [==============================] - 0s 29ms/step - loss: 5.2094e-04 - accuracy: 1.0000 - val_loss: 3.3873 - val_accuracy: 0.6000\n",
            "Epoch 234/300\n",
            "15/15 [==============================] - 0s 29ms/step - loss: 3.7834e-04 - accuracy: 1.0000 - val_loss: 3.3996 - val_accuracy: 0.6000\n",
            "Epoch 235/300\n",
            "15/15 [==============================] - 0s 30ms/step - loss: 7.3169e-04 - accuracy: 1.0000 - val_loss: 3.4201 - val_accuracy: 0.6000\n",
            "Epoch 236/300\n",
            "15/15 [==============================] - 0s 30ms/step - loss: 1.5446e-04 - accuracy: 1.0000 - val_loss: 3.4315 - val_accuracy: 0.6000\n",
            "Epoch 237/300\n",
            "15/15 [==============================] - 0s 30ms/step - loss: 6.0171e-04 - accuracy: 1.0000 - val_loss: 3.4471 - val_accuracy: 0.6000\n",
            "Epoch 238/300\n",
            "15/15 [==============================] - 0s 30ms/step - loss: 2.1395e-05 - accuracy: 1.0000 - val_loss: 3.4542 - val_accuracy: 0.6000\n",
            "Epoch 239/300\n",
            "15/15 [==============================] - 0s 29ms/step - loss: 6.1811e-04 - accuracy: 1.0000 - val_loss: 3.4638 - val_accuracy: 0.6000\n",
            "Epoch 240/300\n",
            "15/15 [==============================] - 0s 31ms/step - loss: 4.4640e-04 - accuracy: 1.0000 - val_loss: 3.4786 - val_accuracy: 0.6000\n",
            "Epoch 241/300\n",
            "15/15 [==============================] - 0s 29ms/step - loss: 7.2210e-04 - accuracy: 1.0000 - val_loss: 3.4881 - val_accuracy: 0.6000\n",
            "Epoch 242/300\n",
            "15/15 [==============================] - 0s 30ms/step - loss: 1.1472e-04 - accuracy: 1.0000 - val_loss: 3.4936 - val_accuracy: 0.6000\n",
            "Epoch 243/300\n",
            "15/15 [==============================] - 0s 31ms/step - loss: 0.0825 - accuracy: 0.9778 - val_loss: 3.6389 - val_accuracy: 0.7333\n",
            "Epoch 244/300\n",
            "15/15 [==============================] - 0s 29ms/step - loss: 0.1033 - accuracy: 0.9333 - val_loss: 3.6087 - val_accuracy: 0.6667\n",
            "Epoch 245/300\n",
            "15/15 [==============================] - 0s 30ms/step - loss: 0.1776 - accuracy: 0.9556 - val_loss: 3.7513 - val_accuracy: 0.6000\n",
            "Epoch 246/300\n",
            "15/15 [==============================] - 0s 29ms/step - loss: 0.2573 - accuracy: 0.9333 - val_loss: 2.6348 - val_accuracy: 0.6000\n",
            "Epoch 247/300\n",
            "15/15 [==============================] - 0s 30ms/step - loss: 0.0132 - accuracy: 1.0000 - val_loss: 2.6947 - val_accuracy: 0.5333\n",
            "Epoch 248/300\n",
            "15/15 [==============================] - 0s 29ms/step - loss: 0.0011 - accuracy: 1.0000 - val_loss: 2.6881 - val_accuracy: 0.6000\n",
            "Epoch 249/300\n",
            "15/15 [==============================] - 0s 33ms/step - loss: 0.0225 - accuracy: 1.0000 - val_loss: 3.0323 - val_accuracy: 0.6667\n",
            "Epoch 250/300\n",
            "15/15 [==============================] - 0s 29ms/step - loss: 0.0101 - accuracy: 1.0000 - val_loss: 3.1569 - val_accuracy: 0.6000\n",
            "Epoch 251/300\n",
            "15/15 [==============================] - 0s 29ms/step - loss: 0.0127 - accuracy: 1.0000 - val_loss: 3.1495 - val_accuracy: 0.6667\n",
            "Epoch 252/300\n",
            "15/15 [==============================] - 0s 31ms/step - loss: 0.0117 - accuracy: 1.0000 - val_loss: 3.0458 - val_accuracy: 0.6667\n",
            "Epoch 253/300\n",
            "15/15 [==============================] - 0s 31ms/step - loss: 0.0304 - accuracy: 0.9778 - val_loss: 3.1828 - val_accuracy: 0.5333\n",
            "Epoch 254/300\n",
            "15/15 [==============================] - 0s 29ms/step - loss: 0.0292 - accuracy: 0.9778 - val_loss: 3.0136 - val_accuracy: 0.6667\n",
            "Epoch 255/300\n",
            "15/15 [==============================] - 0s 30ms/step - loss: 9.0212e-04 - accuracy: 1.0000 - val_loss: 2.9789 - val_accuracy: 0.6000\n",
            "Epoch 256/300\n",
            "15/15 [==============================] - 0s 32ms/step - loss: 0.0032 - accuracy: 1.0000 - val_loss: 2.9694 - val_accuracy: 0.6667\n",
            "Epoch 257/300\n",
            "15/15 [==============================] - 0s 30ms/step - loss: 5.5426e-04 - accuracy: 1.0000 - val_loss: 2.9756 - val_accuracy: 0.6667\n",
            "Epoch 258/300\n",
            "15/15 [==============================] - 0s 31ms/step - loss: 9.2408e-04 - accuracy: 1.0000 - val_loss: 2.9730 - val_accuracy: 0.6667\n",
            "Epoch 259/300\n",
            "15/15 [==============================] - 0s 31ms/step - loss: 0.0021 - accuracy: 1.0000 - val_loss: 3.0273 - val_accuracy: 0.6667\n",
            "Epoch 260/300\n",
            "15/15 [==============================] - 0s 31ms/step - loss: 0.0051 - accuracy: 1.0000 - val_loss: 3.0659 - val_accuracy: 0.6667\n",
            "Epoch 261/300\n",
            "15/15 [==============================] - 0s 31ms/step - loss: 0.2384 - accuracy: 0.9333 - val_loss: 2.3273 - val_accuracy: 0.7333\n",
            "Epoch 262/300\n",
            "15/15 [==============================] - 0s 32ms/step - loss: 0.1261 - accuracy: 0.9556 - val_loss: 1.9570 - val_accuracy: 0.6000\n",
            "Epoch 263/300\n",
            "15/15 [==============================] - 0s 28ms/step - loss: 0.0078 - accuracy: 1.0000 - val_loss: 1.8931 - val_accuracy: 0.7333\n",
            "Epoch 264/300\n",
            "15/15 [==============================] - 0s 30ms/step - loss: 0.0092 - accuracy: 1.0000 - val_loss: 1.9123 - val_accuracy: 0.8000\n",
            "Epoch 265/300\n",
            "15/15 [==============================] - 0s 28ms/step - loss: 0.0028 - accuracy: 1.0000 - val_loss: 1.9004 - val_accuracy: 0.8000\n",
            "Epoch 266/300\n",
            "15/15 [==============================] - 0s 33ms/step - loss: 0.0044 - accuracy: 1.0000 - val_loss: 1.9339 - val_accuracy: 0.8000\n",
            "Epoch 267/300\n",
            "15/15 [==============================] - 0s 29ms/step - loss: 0.0044 - accuracy: 1.0000 - val_loss: 1.9912 - val_accuracy: 0.8000\n",
            "Epoch 268/300\n",
            "15/15 [==============================] - 0s 30ms/step - loss: 0.0030 - accuracy: 1.0000 - val_loss: 1.9741 - val_accuracy: 0.8000\n",
            "Epoch 269/300\n",
            "15/15 [==============================] - 1s 35ms/step - loss: 0.0012 - accuracy: 1.0000 - val_loss: 1.9794 - val_accuracy: 0.8000\n",
            "Epoch 270/300\n",
            "15/15 [==============================] - 1s 34ms/step - loss: 6.1116e-04 - accuracy: 1.0000 - val_loss: 1.9990 - val_accuracy: 0.8000\n",
            "Epoch 271/300\n",
            "15/15 [==============================] - 0s 32ms/step - loss: 0.0446 - accuracy: 0.9778 - val_loss: 2.0500 - val_accuracy: 0.7333\n",
            "Epoch 272/300\n",
            "15/15 [==============================] - 0s 31ms/step - loss: 0.0504 - accuracy: 0.9556 - val_loss: 4.3736 - val_accuracy: 0.4667\n",
            "Epoch 273/300\n",
            "15/15 [==============================] - 0s 29ms/step - loss: 0.0434 - accuracy: 0.9778 - val_loss: 3.2381 - val_accuracy: 0.4667\n",
            "Epoch 274/300\n",
            "15/15 [==============================] - 0s 30ms/step - loss: 8.6008e-04 - accuracy: 1.0000 - val_loss: 3.2154 - val_accuracy: 0.6000\n",
            "Epoch 275/300\n",
            "15/15 [==============================] - 0s 28ms/step - loss: 0.0035 - accuracy: 1.0000 - val_loss: 3.2708 - val_accuracy: 0.6000\n",
            "Epoch 276/300\n",
            "15/15 [==============================] - 0s 30ms/step - loss: 0.0054 - accuracy: 1.0000 - val_loss: 3.3265 - val_accuracy: 0.6000\n",
            "Epoch 277/300\n",
            "15/15 [==============================] - 0s 29ms/step - loss: 0.0015 - accuracy: 1.0000 - val_loss: 3.3600 - val_accuracy: 0.6000\n",
            "Epoch 278/300\n",
            "15/15 [==============================] - 0s 29ms/step - loss: 0.0052 - accuracy: 1.0000 - val_loss: 3.3868 - val_accuracy: 0.6000\n",
            "Epoch 279/300\n",
            "15/15 [==============================] - 0s 29ms/step - loss: 2.1881e-04 - accuracy: 1.0000 - val_loss: 3.3842 - val_accuracy: 0.6000\n",
            "Epoch 280/300\n",
            "15/15 [==============================] - 0s 31ms/step - loss: 4.9805e-04 - accuracy: 1.0000 - val_loss: 3.3915 - val_accuracy: 0.6000\n",
            "Epoch 281/300\n",
            "15/15 [==============================] - 0s 29ms/step - loss: 3.3311e-04 - accuracy: 1.0000 - val_loss: 3.4006 - val_accuracy: 0.6000\n",
            "Epoch 282/300\n",
            "15/15 [==============================] - 0s 32ms/step - loss: 0.0561 - accuracy: 0.9778 - val_loss: 3.5012 - val_accuracy: 0.4667\n",
            "Epoch 283/300\n",
            "15/15 [==============================] - 0s 30ms/step - loss: 0.0424 - accuracy: 0.9556 - val_loss: 3.6092 - val_accuracy: 0.5333\n",
            "Epoch 284/300\n",
            "15/15 [==============================] - 0s 28ms/step - loss: 0.0042 - accuracy: 1.0000 - val_loss: 3.2536 - val_accuracy: 0.6000\n",
            "Epoch 285/300\n",
            "15/15 [==============================] - 1s 34ms/step - loss: 0.0100 - accuracy: 1.0000 - val_loss: 2.8768 - val_accuracy: 0.6667\n",
            "Epoch 286/300\n",
            "15/15 [==============================] - 1s 35ms/step - loss: 4.8731e-04 - accuracy: 1.0000 - val_loss: 2.8738 - val_accuracy: 0.6667\n",
            "Epoch 287/300\n",
            "15/15 [==============================] - 0s 29ms/step - loss: 0.0027 - accuracy: 1.0000 - val_loss: 2.8733 - val_accuracy: 0.6667\n",
            "Epoch 288/300\n",
            "15/15 [==============================] - 0s 28ms/step - loss: 0.0028 - accuracy: 1.0000 - val_loss: 3.1018 - val_accuracy: 0.7333\n",
            "Epoch 289/300\n",
            "15/15 [==============================] - 0s 32ms/step - loss: 0.0012 - accuracy: 1.0000 - val_loss: 3.0627 - val_accuracy: 0.6667\n",
            "Epoch 290/300\n",
            "15/15 [==============================] - 0s 28ms/step - loss: 9.8362e-05 - accuracy: 1.0000 - val_loss: 3.1133 - val_accuracy: 0.6667\n",
            "Epoch 291/300\n",
            "15/15 [==============================] - 0s 31ms/step - loss: 0.0152 - accuracy: 1.0000 - val_loss: 3.1874 - val_accuracy: 0.6667\n",
            "Epoch 292/300\n",
            "15/15 [==============================] - 0s 30ms/step - loss: 0.0391 - accuracy: 0.9778 - val_loss: 3.5178 - val_accuracy: 0.6000\n",
            "Epoch 293/300\n",
            "15/15 [==============================] - 0s 30ms/step - loss: 2.5059e-04 - accuracy: 1.0000 - val_loss: 3.8260 - val_accuracy: 0.6000\n",
            "Epoch 294/300\n",
            "15/15 [==============================] - 1s 34ms/step - loss: 0.0068 - accuracy: 1.0000 - val_loss: 3.5214 - val_accuracy: 0.6000\n",
            "Epoch 295/300\n",
            "15/15 [==============================] - 0s 31ms/step - loss: 0.0058 - accuracy: 1.0000 - val_loss: 3.5183 - val_accuracy: 0.6000\n",
            "Epoch 296/300\n",
            "15/15 [==============================] - 0s 31ms/step - loss: 0.0064 - accuracy: 1.0000 - val_loss: 3.6525 - val_accuracy: 0.6000\n",
            "Epoch 297/300\n",
            "15/15 [==============================] - 0s 29ms/step - loss: 3.8284e-04 - accuracy: 1.0000 - val_loss: 3.8893 - val_accuracy: 0.6000\n",
            "Epoch 298/300\n",
            "15/15 [==============================] - 0s 29ms/step - loss: 1.4105e-04 - accuracy: 1.0000 - val_loss: 3.9447 - val_accuracy: 0.6000\n",
            "Epoch 299/300\n",
            "15/15 [==============================] - 0s 27ms/step - loss: 0.0019 - accuracy: 1.0000 - val_loss: 3.9976 - val_accuracy: 0.6000\n",
            "Epoch 300/300\n",
            "15/15 [==============================] - 0s 32ms/step - loss: 7.2005e-04 - accuracy: 1.0000 - val_loss: 4.0524 - val_accuracy: 0.6000\n"
          ]
        },
        {
          "output_type": "execute_result",
          "data": {
            "text/plain": [
              "<keras.callbacks.History at 0x7f6036e75490>"
            ]
          },
          "metadata": {},
          "execution_count": 14
        }
      ]
    },
    {
      "cell_type": "code",
      "source": [
        "model.evaluate(test_data_generator)"
      ],
      "metadata": {
        "colab": {
          "base_uri": "https://localhost:8080/"
        },
        "id": "aOdK5QgOsQND",
        "outputId": "b37592e8-4f06-4ac3-cee9-420e3e523205"
      },
      "execution_count": 15,
      "outputs": [
        {
          "output_type": "stream",
          "name": "stdout",
          "text": [
            "5/5 [==============================] - 0s 8ms/step - loss: 4.0524 - accuracy: 0.6000\n"
          ]
        },
        {
          "output_type": "execute_result",
          "data": {
            "text/plain": [
              "[4.052444934844971, 0.6000000238418579]"
            ]
          },
          "metadata": {},
          "execution_count": 15
        }
      ]
    },
    {
      "cell_type": "code",
      "source": [
        ""
      ],
      "metadata": {
        "id": "-g1GzQEJxV3A"
      },
      "execution_count": null,
      "outputs": []
    }
  ]
}