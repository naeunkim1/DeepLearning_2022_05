{
  "nbformat": 4,
  "nbformat_minor": 0,
  "metadata": {
    "colab": {
      "name": "01_MNIST_v2.ipynb",
      "provenance": [],
      "collapsed_sections": []
    },
    "kernelspec": {
      "name": "python3",
      "display_name": "Python 3"
    },
    "language_info": {
      "name": "python"
    },
    "accelerator": "GPU"
  },
  "cells": [
    {
      "cell_type": "markdown",
      "source": [
        "# MNIST 손글씨 - CNN v1\n",
        "- 2 x Conv2D layers\n",
        "- 1 MaxPooling2D layer\n",
        "- 1 FCN layer\n",
        "- 1 Output layer"
      ],
      "metadata": {
        "id": "c-Sg0BrHqWm8"
      }
    },
    {
      "cell_type": "code",
      "execution_count": 2,
      "metadata": {
        "id": "pmZSOPQ8qU5r"
      },
      "outputs": [],
      "source": [
        "import numpy as np\n",
        "import pandas as pd\n",
        "import matplotlib.pyplot as plt\n",
        "import tensorflow as tf\n",
        "seed = 2022\n",
        "np.random.seed(seed)\n",
        "tf.random.set_seed(seed)"
      ]
    },
    {
      "cell_type": "markdown",
      "source": [
        "- 데이터 전처리"
      ],
      "metadata": {
        "id": "sxKxZpw1qgoy"
      }
    },
    {
      "cell_type": "code",
      "source": [
        "from tensorflow.keras.datasets import mnist\n",
        "(X_train, y_train), (X_test, y_test) = mnist.load_data()\n",
        "X_train.shape, y_train.shape, X_test.shape,y_test.shape"
      ],
      "metadata": {
        "colab": {
          "base_uri": "https://localhost:8080/"
        },
        "id": "iPg9wgt1qdvh",
        "outputId": "5c4ed72f-1ca8-46bd-dfec-8ae282f8d4e5"
      },
      "execution_count": 3,
      "outputs": [
        {
          "output_type": "stream",
          "name": "stdout",
          "text": [
            "Downloading data from https://storage.googleapis.com/tensorflow/tf-keras-datasets/mnist.npz\n",
            "11493376/11490434 [==============================] - 0s 0us/step\n",
            "11501568/11490434 [==============================] - 0s 0us/step\n"
          ]
        },
        {
          "output_type": "execute_result",
          "data": {
            "text/plain": [
              "((60000, 28, 28), (60000,), (10000, 28, 28), (10000,))"
            ]
          },
          "metadata": {},
          "execution_count": 3
        }
      ]
    },
    {
      "cell_type": "code",
      "source": [
        "# X_train, X_test 정규화(0 ~ 1) & 이미지 차원 변경 : 2차원 --> 3차원\n",
        "X_train = X_train.reshape(-1, 28, 28, 1) / 255.\n",
        "X_test = X_test.reshape(-1, 28, 28, 1) / 255.\n",
        "X_train.shape, X_test.shape"
      ],
      "metadata": {
        "colab": {
          "base_uri": "https://localhost:8080/"
        },
        "id": "sFu3kspuqilk",
        "outputId": "af83d0bb-1d0f-4f6c-fea6-b5dd622a360d"
      },
      "execution_count": 4,
      "outputs": [
        {
          "output_type": "execute_result",
          "data": {
            "text/plain": [
              "((60000, 28, 28, 1), (10000, 28, 28, 1))"
            ]
          },
          "metadata": {},
          "execution_count": 4
        }
      ]
    },
    {
      "cell_type": "code",
      "source": [
        "# One hot encoding\n",
        "from tensorflow.keras.utils import to_categorical\n",
        "Y_train = to_categorical(y_train)\n",
        "Y_test = to_categorical(y_test)\n",
        "Y_train.shape, Y_test.shape"
      ],
      "metadata": {
        "colab": {
          "base_uri": "https://localhost:8080/"
        },
        "id": "iL-EOlDSqkfg",
        "outputId": "42f6403f-0f8e-4058-83d4-439269130ed6"
      },
      "execution_count": 5,
      "outputs": [
        {
          "output_type": "execute_result",
          "data": {
            "text/plain": [
              "((60000, 10), (10000, 10))"
            ]
          },
          "metadata": {},
          "execution_count": 5
        }
      ]
    },
    {
      "cell_type": "markdown",
      "source": [
        "- 모델 정의/설정/학습/평가"
      ],
      "metadata": {
        "id": "mbpiu8onqnmA"
      }
    },
    {
      "cell_type": "code",
      "source": [
        "from tensorflow.keras.models import Sequential, load_model\n",
        "from tensorflow.keras.layers import Dense, Conv2D, Flatten, MaxPooling2D\n",
        "from tensorflow.keras.callbacks import ModelCheckpoint, EarlyStopping"
      ],
      "metadata": {
        "id": "Wry4hAS3ql8q"
      },
      "execution_count": 6,
      "outputs": []
    },
    {
      "cell_type": "code",
      "source": [
        "model = Sequential([\n",
        "    Conv2D(32, kernel_size=(3,3), input_shape=(28, 28, 1), activation = 'relu'),\n",
        "    Conv2D(64, (3,3), activation = 'relu'),\n",
        "    MaxPooling2D(),         # MaxPooling2D(pool_size = (2, 2))\n",
        "    Flatten(),\n",
        "    Dense(512, activation='relu'),\n",
        "    Dense(10, activation = 'softmax')\n",
        "])\n",
        "model.summary()"
      ],
      "metadata": {
        "colab": {
          "base_uri": "https://localhost:8080/"
        },
        "id": "ypDaQwS_qrkS",
        "outputId": "3473fcee-ab55-4b4c-abc0-0f95e0d7bca9"
      },
      "execution_count": 7,
      "outputs": [
        {
          "output_type": "stream",
          "name": "stdout",
          "text": [
            "Model: \"sequential\"\n",
            "_________________________________________________________________\n",
            " Layer (type)                Output Shape              Param #   \n",
            "=================================================================\n",
            " conv2d (Conv2D)             (None, 26, 26, 32)        320       \n",
            "                                                                 \n",
            " conv2d_1 (Conv2D)           (None, 24, 24, 64)        18496     \n",
            "                                                                 \n",
            " max_pooling2d (MaxPooling2D  (None, 12, 12, 64)       0         \n",
            " )                                                               \n",
            "                                                                 \n",
            " flatten (Flatten)           (None, 9216)              0         \n",
            "                                                                 \n",
            " dense (Dense)               (None, 512)               4719104   \n",
            "                                                                 \n",
            " dense_1 (Dense)             (None, 10)                5130      \n",
            "                                                                 \n",
            "=================================================================\n",
            "Total params: 4,743,050\n",
            "Trainable params: 4,743,050\n",
            "Non-trainable params: 0\n",
            "_________________________________________________________________\n"
          ]
        }
      ]
    },
    {
      "cell_type": "code",
      "source": [
        "model.compile('adam', 'categorical_crossentropy', ['accuracy'])"
      ],
      "metadata": {
        "id": "NuGVVW1Sq1Lo"
      },
      "execution_count": 8,
      "outputs": []
    },
    {
      "cell_type": "code",
      "source": [
        "model_path = 'best-mnist-cnn-v2.h5'\n",
        "mc = ModelCheckpoint(model_path, save_best_only=True, verbose=1)\n",
        "es = EarlyStopping(patience=10)"
      ],
      "metadata": {
        "id": "R6CCp1WFq474"
      },
      "execution_count": 9,
      "outputs": []
    },
    {
      "cell_type": "code",
      "source": [
        "hist = model.fit(\n",
        "    X_train, Y_train, validation_split=0.2, epochs=100, batch_size=200,\n",
        "    callbacks=[mc, es]\n",
        ")"
      ],
      "metadata": {
        "colab": {
          "base_uri": "https://localhost:8080/"
        },
        "id": "DjEEKs3_q6nS",
        "outputId": "b2cb3616-6c7f-4a52-a0bd-3c5baa3856ba"
      },
      "execution_count": 10,
      "outputs": [
        {
          "output_type": "stream",
          "name": "stdout",
          "text": [
            "Epoch 1/100\n",
            "237/240 [============================>.] - ETA: 0s - loss: 0.1842 - accuracy: 0.9435\n",
            "Epoch 1: val_loss improved from inf to 0.06065, saving model to best-mnist-cnn-v2.h5\n",
            "240/240 [==============================] - 15s 15ms/step - loss: 0.1827 - accuracy: 0.9439 - val_loss: 0.0607 - val_accuracy: 0.9815\n",
            "Epoch 2/100\n",
            "236/240 [============================>.] - ETA: 0s - loss: 0.0441 - accuracy: 0.9860\n",
            "Epoch 2: val_loss improved from 0.06065 to 0.05595, saving model to best-mnist-cnn-v2.h5\n",
            "240/240 [==============================] - 3s 14ms/step - loss: 0.0439 - accuracy: 0.9860 - val_loss: 0.0559 - val_accuracy: 0.9847\n",
            "Epoch 3/100\n",
            "239/240 [============================>.] - ETA: 0s - loss: 0.0260 - accuracy: 0.9918\n",
            "Epoch 3: val_loss improved from 0.05595 to 0.03912, saving model to best-mnist-cnn-v2.h5\n",
            "240/240 [==============================] - 3s 14ms/step - loss: 0.0260 - accuracy: 0.9919 - val_loss: 0.0391 - val_accuracy: 0.9884\n",
            "Epoch 4/100\n",
            "237/240 [============================>.] - ETA: 0s - loss: 0.0172 - accuracy: 0.9945\n",
            "Epoch 4: val_loss did not improve from 0.03912\n",
            "240/240 [==============================] - 3s 13ms/step - loss: 0.0172 - accuracy: 0.9945 - val_loss: 0.0423 - val_accuracy: 0.9874\n",
            "Epoch 5/100\n",
            "240/240 [==============================] - ETA: 0s - loss: 0.0125 - accuracy: 0.9959\n",
            "Epoch 5: val_loss did not improve from 0.03912\n",
            "240/240 [==============================] - 3s 13ms/step - loss: 0.0125 - accuracy: 0.9959 - val_loss: 0.0525 - val_accuracy: 0.9858\n",
            "Epoch 6/100\n",
            "238/240 [============================>.] - ETA: 0s - loss: 0.0086 - accuracy: 0.9972\n",
            "Epoch 6: val_loss did not improve from 0.03912\n",
            "240/240 [==============================] - 3s 13ms/step - loss: 0.0086 - accuracy: 0.9972 - val_loss: 0.0437 - val_accuracy: 0.9890\n",
            "Epoch 7/100\n",
            "239/240 [============================>.] - ETA: 0s - loss: 0.0070 - accuracy: 0.9975\n",
            "Epoch 7: val_loss did not improve from 0.03912\n",
            "240/240 [==============================] - 3s 13ms/step - loss: 0.0070 - accuracy: 0.9975 - val_loss: 0.0515 - val_accuracy: 0.9883\n",
            "Epoch 8/100\n",
            "237/240 [============================>.] - ETA: 0s - loss: 0.0052 - accuracy: 0.9980\n",
            "Epoch 8: val_loss did not improve from 0.03912\n",
            "240/240 [==============================] - 3s 13ms/step - loss: 0.0053 - accuracy: 0.9980 - val_loss: 0.0456 - val_accuracy: 0.9902\n",
            "Epoch 9/100\n",
            "237/240 [============================>.] - ETA: 0s - loss: 0.0052 - accuracy: 0.9983\n",
            "Epoch 9: val_loss did not improve from 0.03912\n",
            "240/240 [==============================] - 3s 13ms/step - loss: 0.0054 - accuracy: 0.9982 - val_loss: 0.0550 - val_accuracy: 0.9875\n",
            "Epoch 10/100\n",
            "239/240 [============================>.] - ETA: 0s - loss: 0.0040 - accuracy: 0.9988\n",
            "Epoch 10: val_loss did not improve from 0.03912\n",
            "240/240 [==============================] - 3s 13ms/step - loss: 0.0040 - accuracy: 0.9989 - val_loss: 0.0617 - val_accuracy: 0.9870\n",
            "Epoch 11/100\n",
            "240/240 [==============================] - ETA: 0s - loss: 0.0053 - accuracy: 0.9983\n",
            "Epoch 11: val_loss did not improve from 0.03912\n",
            "240/240 [==============================] - 3s 14ms/step - loss: 0.0053 - accuracy: 0.9983 - val_loss: 0.0586 - val_accuracy: 0.9873\n",
            "Epoch 12/100\n",
            "236/240 [============================>.] - ETA: 0s - loss: 0.0025 - accuracy: 0.9991\n",
            "Epoch 12: val_loss did not improve from 0.03912\n",
            "240/240 [==============================] - 3s 14ms/step - loss: 0.0026 - accuracy: 0.9991 - val_loss: 0.0609 - val_accuracy: 0.9885\n",
            "Epoch 13/100\n",
            "238/240 [============================>.] - ETA: 0s - loss: 0.0057 - accuracy: 0.9979\n",
            "Epoch 13: val_loss did not improve from 0.03912\n",
            "240/240 [==============================] - 3s 13ms/step - loss: 0.0056 - accuracy: 0.9980 - val_loss: 0.0562 - val_accuracy: 0.9880\n"
          ]
        }
      ]
    },
    {
      "cell_type": "code",
      "source": [
        "best_model = load_model(model_path)\n",
        "best_model.evaluate(X_test, Y_test)"
      ],
      "metadata": {
        "colab": {
          "base_uri": "https://localhost:8080/"
        },
        "id": "-q7dYgzfrBjr",
        "outputId": "3546feb1-5d3d-48ea-fa3e-4237d3988271"
      },
      "execution_count": 11,
      "outputs": [
        {
          "output_type": "stream",
          "name": "stdout",
          "text": [
            "313/313 [==============================] - 1s 3ms/step - loss: 0.0374 - accuracy: 0.9882\n"
          ]
        },
        {
          "output_type": "execute_result",
          "data": {
            "text/plain": [
              "[0.03736808896064758, 0.9882000088691711]"
            ]
          },
          "metadata": {},
          "execution_count": 11
        }
      ]
    },
    {
      "cell_type": "markdown",
      "source": [
        "- 학습과정 시각화"
      ],
      "metadata": {
        "id": "woGzKdQ8rEP8"
      }
    },
    {
      "cell_type": "code",
      "source": [
        "y_acc = hist.history['accuracy']\n",
        "y_vloss = hist.history['val_loss']\n",
        "xs = np.arange(1, len(y_acc) + 1)"
      ],
      "metadata": {
        "id": "ehZ7M8wFrCce"
      },
      "execution_count": 12,
      "outputs": []
    },
    {
      "cell_type": "code",
      "source": [
        "plt.figure(figsize = (12, 8))\n",
        "plt.plot(xs, y_acc, label = 'train accuracy')\n",
        "plt.plot(xs, y_vloss, label = 'validation loss')\n",
        "plt.legend(), plt.grid()\n",
        "plt.xlabel('Epoch')\n",
        "plt.title('MNIST CNN model v1')\n",
        "plt.show()"
      ],
      "metadata": {
        "colab": {
          "base_uri": "https://localhost:8080/",
          "height": 513
        },
        "id": "wmOEapKqrH4U",
        "outputId": "116de76f-6d53-4bb4-b5b2-7ca6d1496745"
      },
      "execution_count": 13,
      "outputs": [
        {
          "output_type": "display_data",
          "data": {
            "text/plain": [
              "<Figure size 864x576 with 1 Axes>"
            ],
            "image/png": "[encoded data removed]"
          },
          "metadata": {
            "needs_background": "light"
          }
        }
      ]
    }
  ]
}