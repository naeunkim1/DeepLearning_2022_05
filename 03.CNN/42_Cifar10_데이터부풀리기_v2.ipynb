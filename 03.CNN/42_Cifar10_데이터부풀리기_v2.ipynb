{
  "nbformat": 4,
  "nbformat_minor": 0,
  "metadata": {
    "colab": {
      "name": "42_Cifar10 데이터부풀리기_v2.ipynb",
      "provenance": [],
      "collapsed_sections": []
    },
    "kernelspec": {
      "name": "python3",
      "display_name": "Python 3"
    },
    "language_info": {
      "name": "python"
    },
    "accelerator": "GPU"
  },
  "cells": [
    {
      "cell_type": "markdown",
      "source": [
        "# Cifar-10 이미지 분류 - v2\n",
        "- 데이터 부풀리기 적용"
      ],
      "metadata": {
        "id": "6HsF8b8O8R-M"
      }
    },
    {
      "cell_type": "code",
      "execution_count": 1,
      "metadata": {
        "id": "mrzApHpk8MfK"
      },
      "outputs": [],
      "source": [
        "import numpy as np\n",
        "import matplotlib.pyplot as plt\n",
        "import tensorflow as tf\n",
        "seed = 2022\n",
        "tf.random.set_seed(seed)\n",
        "np.random.seed(seed)"
      ]
    },
    {
      "cell_type": "markdown",
      "source": [
        "- 데이터 전처리"
      ],
      "metadata": {
        "id": "aVP-yfOm8exH"
      }
    },
    {
      "cell_type": "code",
      "source": [
        "from tensorflow.keras.datasets import cifar10\n",
        "(X_train, y_train), (X_test, y_test) = cifar10.load_data()"
      ],
      "metadata": {
        "colab": {
          "base_uri": "https://localhost:8080/"
        },
        "id": "hpTj9pGl8ctJ",
        "outputId": "5d1f74b1-51ba-4d97-e2a8-7faf75f0f38d"
      },
      "execution_count": 2,
      "outputs": [
        {
          "output_type": "stream",
          "name": "stdout",
          "text": [
            "Downloading data from https://www.cs.toronto.edu/~kriz/cifar-10-python.tar.gz\n",
            "170500096/170498071 [==============================] - 15s 0us/step\n",
            "170508288/170498071 [==============================] - 15s 0us/step\n"
          ]
        }
      ]
    },
    {
      "cell_type": "code",
      "source": [
        "# X_data: scaling\n",
        "X_train = X_train/255.\n",
        "X_test = X_test/255."
      ],
      "metadata": {
        "id": "F4agtxP68oNy"
      },
      "execution_count": 3,
      "outputs": []
    },
    {
      "cell_type": "code",
      "source": [
        "# y_data: one-hot encoding\n",
        "from tensorflow.keras.utils import to_categorical\n",
        "Y_train = to_categorical(y_train)\n",
        "Y_test = to_categorical(y_test)"
      ],
      "metadata": {
        "id": "tnXtgeih8p-C"
      },
      "execution_count": 4,
      "outputs": []
    },
    {
      "cell_type": "markdown",
      "source": [
        "- 모델 정의/설정"
      ],
      "metadata": {
        "id": "V9r8bF7C8sLj"
      }
    },
    {
      "cell_type": "code",
      "source": [
        "from tensorflow.keras.models import Sequential, load_model\n",
        "from tensorflow.keras.layers import Dense, Conv2D, Flatten, MaxPooling2D, Dropout\n",
        "from tensorflow.keras.callbacks import ModelCheckpoint, EarlyStopping\n",
        "from tensorflow.keras.optimizers import RMSprop"
      ],
      "metadata": {
        "id": "W95WQ3K68rLG"
      },
      "execution_count": 5,
      "outputs": []
    },
    {
      "cell_type": "code",
      "source": [
        "model = Sequential([\n",
        "    Conv2D(32, (3,3), input_shape=X_train.shape[1:], padding='same', activation='relu'),\n",
        "    Conv2D(32, (3,3), activation='relu'),\n",
        "    MaxPooling2D(),\n",
        "    Dropout(0.25),\n",
        "    Conv2D(64, (3,3), padding='same', activation='relu'),\n",
        "    Conv2D(64, (3,3), activation='relu'),\n",
        "    MaxPooling2D(),\n",
        "    Dropout(0.25),\n",
        "    Flatten(),\n",
        "    Dense(512, activation = 'relu'),\n",
        "    Dropout(0.5),\n",
        "    Dense(10, activation = 'softmax')\n",
        "])\n",
        "model.summary()"
      ],
      "metadata": {
        "colab": {
          "base_uri": "https://localhost:8080/"
        },
        "id": "6DX3lkeZ80V9",
        "outputId": "3bb178c9-e6ee-48d8-ca21-001c8ec88c91"
      },
      "execution_count": 6,
      "outputs": [
        {
          "output_type": "stream",
          "name": "stdout",
          "text": [
            "Model: \"sequential\"\n",
            "_________________________________________________________________\n",
            " Layer (type)                Output Shape              Param #   \n",
            "=================================================================\n",
            " conv2d (Conv2D)             (None, 32, 32, 32)        896       \n",
            "                                                                 \n",
            " conv2d_1 (Conv2D)           (None, 30, 30, 32)        9248      \n",
            "                                                                 \n",
            " max_pooling2d (MaxPooling2D  (None, 15, 15, 32)       0         \n",
            " )                                                               \n",
            "                                                                 \n",
            " dropout (Dropout)           (None, 15, 15, 32)        0         \n",
            "                                                                 \n",
            " conv2d_2 (Conv2D)           (None, 15, 15, 64)        18496     \n",
            "                                                                 \n",
            " conv2d_3 (Conv2D)           (None, 13, 13, 64)        36928     \n",
            "                                                                 \n",
            " max_pooling2d_1 (MaxPooling  (None, 6, 6, 64)         0         \n",
            " 2D)                                                             \n",
            "                                                                 \n",
            " dropout_1 (Dropout)         (None, 6, 6, 64)          0         \n",
            "                                                                 \n",
            " flatten (Flatten)           (None, 2304)              0         \n",
            "                                                                 \n",
            " dense (Dense)               (None, 512)               1180160   \n",
            "                                                                 \n",
            " dropout_2 (Dropout)         (None, 512)               0         \n",
            "                                                                 \n",
            " dense_1 (Dense)             (None, 10)                5130      \n",
            "                                                                 \n",
            "=================================================================\n",
            "Total params: 1,250,858\n",
            "Trainable params: 1,250,858\n",
            "Non-trainable params: 0\n",
            "_________________________________________________________________\n"
          ]
        }
      ]
    },
    {
      "cell_type": "code",
      "source": [
        "model.compile(\n",
        "    optimizer=RMSprop(learning_rate=0.0001, decay=1e-6),\n",
        "    loss='categorical_crossentropy', metrics=['accuracy']\n",
        ")"
      ],
      "metadata": {
        "id": "02-o_cLu85dK"
      },
      "execution_count": 7,
      "outputs": []
    },
    {
      "cell_type": "code",
      "source": [
        "model_path = 'best-cifar10-v2.h5'\n",
        "mc = ModelCheckpoint(model_path, save_best_only=True, verbose=1)\n",
        "es = EarlyStopping(patience=10)"
      ],
      "metadata": {
        "id": "a3nwo1Hu89sJ"
      },
      "execution_count": 8,
      "outputs": []
    },
    {
      "cell_type": "markdown",
      "source": [
        "- 데이터 부풀리기"
      ],
      "metadata": {
        "id": "nN4OGivh9C9G"
      }
    },
    {
      "cell_type": "code",
      "source": [
        "from sklearn.model_selection import train_test_split\n",
        "X_train, X_valid, Y_train, Y_valid = train_test_split(\n",
        "    X_train, Y_train, stratify = Y_train, test_size=0.2, random_state=seed\n",
        ")"
      ],
      "metadata": {
        "id": "1DcRRkbM9ADo"
      },
      "execution_count": 9,
      "outputs": []
    },
    {
      "cell_type": "code",
      "source": [
        "from tensorflow.keras.preprocessing.image import ImageDataGenerator\n",
        "\n",
        "datagen = ImageDataGenerator(\n",
        "    rotation_range=10,          # randomly rotate images in the range 15 degree\n",
        "    width_shift_range=0.1,      # randomly shift images horizontally\n",
        "    height_shift_range=0.1,     # randomly shift images vertically\n",
        "    shear_range=0.1,            # 도형의 기울기\n",
        "    zoom_range=[0.8, 1.2],      # 0.8~1.5 배 크기로 임의로 확대/축소\n",
        "    horizontal_flip=True,       # randomly flip images\n",
        "    vertical_flip=False,        # randomly flip images  \n",
        "    fill_mode='nearest'         # set mode for filling points outside the input boundaries  \n",
        ")"
      ],
      "metadata": {
        "id": "gDNdz0n-9rP6"
      },
      "execution_count": 10,
      "outputs": []
    },
    {
      "cell_type": "code",
      "source": [
        "datagen.fit(X_train)"
      ],
      "metadata": {
        "id": "WuVYAPSC-jdK"
      },
      "execution_count": 11,
      "outputs": []
    },
    {
      "cell_type": "markdown",
      "source": [
        "- 데이터 부풀리기 한 결과로 학습"
      ],
      "metadata": {
        "id": "eRAavsli-pN0"
      }
    },
    {
      "cell_type": "code",
      "source": [
        "hist = model.fit(\n",
        "    datagen.flow(X_train, Y_train, batch_size=32),\n",
        "    validation_data=(X_valid, Y_valid),\n",
        "    epochs=100, callbacks=[mc, es]\n",
        ")"
      ],
      "metadata": {
        "colab": {
          "base_uri": "https://localhost:8080/"
        },
        "id": "_emEWkZA-mI-",
        "outputId": "21eb18f7-b479-4ce2-ca91-9a58be565758"
      },
      "execution_count": 12,
      "outputs": [
        {
          "output_type": "stream",
          "name": "stdout",
          "text": [
            "Epoch 1/100\n",
            "1250/1250 [==============================] - ETA: 0s - loss: 1.8889 - accuracy: 0.3026\n",
            "Epoch 1: val_loss improved from inf to 1.59151, saving model to best-cifar10-v2.h5\n",
            "1250/1250 [==============================] - 36s 20ms/step - loss: 1.8889 - accuracy: 0.3026 - val_loss: 1.5915 - val_accuracy: 0.4252\n",
            "Epoch 2/100\n",
            "1247/1250 [============================>.] - ETA: 0s - loss: 1.6362 - accuracy: 0.4003\n",
            "Epoch 2: val_loss improved from 1.59151 to 1.44546, saving model to best-cifar10-v2.h5\n",
            "1250/1250 [==============================] - 25s 20ms/step - loss: 1.6359 - accuracy: 0.4004 - val_loss: 1.4455 - val_accuracy: 0.4759\n",
            "Epoch 3/100\n",
            "1248/1250 [============================>.] - ETA: 0s - loss: 1.5358 - accuracy: 0.4415\n",
            "Epoch 3: val_loss improved from 1.44546 to 1.41530, saving model to best-cifar10-v2.h5\n",
            "1250/1250 [==============================] - 24s 19ms/step - loss: 1.5359 - accuracy: 0.4413 - val_loss: 1.4153 - val_accuracy: 0.4936\n",
            "Epoch 4/100\n",
            "1248/1250 [============================>.] - ETA: 0s - loss: 1.4567 - accuracy: 0.4750\n",
            "Epoch 4: val_loss improved from 1.41530 to 1.28080, saving model to best-cifar10-v2.h5\n",
            "1250/1250 [==============================] - 26s 21ms/step - loss: 1.4565 - accuracy: 0.4751 - val_loss: 1.2808 - val_accuracy: 0.5381\n",
            "Epoch 5/100\n",
            "1249/1250 [============================>.] - ETA: 0s - loss: 1.3997 - accuracy: 0.4954\n",
            "Epoch 5: val_loss improved from 1.28080 to 1.25989, saving model to best-cifar10-v2.h5\n",
            "1250/1250 [==============================] - 25s 20ms/step - loss: 1.3995 - accuracy: 0.4955 - val_loss: 1.2599 - val_accuracy: 0.5558\n",
            "Epoch 6/100\n",
            "1250/1250 [==============================] - ETA: 0s - loss: 1.3452 - accuracy: 0.5203\n",
            "Epoch 6: val_loss improved from 1.25989 to 1.16769, saving model to best-cifar10-v2.h5\n",
            "1250/1250 [==============================] - 25s 20ms/step - loss: 1.3452 - accuracy: 0.5203 - val_loss: 1.1677 - val_accuracy: 0.5825\n",
            "Epoch 7/100\n",
            "1248/1250 [============================>.] - ETA: 0s - loss: 1.3015 - accuracy: 0.5367\n",
            "Epoch 7: val_loss did not improve from 1.16769\n",
            "1250/1250 [==============================] - 25s 20ms/step - loss: 1.3014 - accuracy: 0.5368 - val_loss: 1.2012 - val_accuracy: 0.5772\n",
            "Epoch 8/100\n",
            "1248/1250 [============================>.] - ETA: 0s - loss: 1.2578 - accuracy: 0.5535\n",
            "Epoch 8: val_loss did not improve from 1.16769\n",
            "1250/1250 [==============================] - 39s 31ms/step - loss: 1.2577 - accuracy: 0.5535 - val_loss: 1.2382 - val_accuracy: 0.5662\n",
            "Epoch 9/100\n",
            "1248/1250 [============================>.] - ETA: 0s - loss: 1.2238 - accuracy: 0.5676\n",
            "Epoch 9: val_loss improved from 1.16769 to 1.07227, saving model to best-cifar10-v2.h5\n",
            "1250/1250 [==============================] - 26s 20ms/step - loss: 1.2237 - accuracy: 0.5677 - val_loss: 1.0723 - val_accuracy: 0.6163\n",
            "Epoch 10/100\n",
            "1250/1250 [==============================] - ETA: 0s - loss: 1.1942 - accuracy: 0.5780\n",
            "Epoch 10: val_loss improved from 1.07227 to 1.04791, saving model to best-cifar10-v2.h5\n",
            "1250/1250 [==============================] - 25s 20ms/step - loss: 1.1942 - accuracy: 0.5780 - val_loss: 1.0479 - val_accuracy: 0.6268\n",
            "Epoch 11/100\n",
            "1248/1250 [============================>.] - ETA: 0s - loss: 1.1656 - accuracy: 0.5864\n",
            "Epoch 11: val_loss did not improve from 1.04791\n",
            "1250/1250 [==============================] - 25s 20ms/step - loss: 1.1654 - accuracy: 0.5865 - val_loss: 1.1592 - val_accuracy: 0.5981\n",
            "Epoch 12/100\n",
            "1249/1250 [============================>.] - ETA: 0s - loss: 1.1360 - accuracy: 0.5989\n",
            "Epoch 12: val_loss improved from 1.04791 to 1.00379, saving model to best-cifar10-v2.h5\n",
            "1250/1250 [==============================] - 26s 21ms/step - loss: 1.1358 - accuracy: 0.5990 - val_loss: 1.0038 - val_accuracy: 0.6437\n",
            "Epoch 13/100\n",
            "1250/1250 [==============================] - ETA: 0s - loss: 1.1135 - accuracy: 0.6087\n",
            "Epoch 13: val_loss did not improve from 1.00379\n",
            "1250/1250 [==============================] - 26s 21ms/step - loss: 1.1135 - accuracy: 0.6087 - val_loss: 1.2088 - val_accuracy: 0.5992\n",
            "Epoch 14/100\n",
            "1248/1250 [============================>.] - ETA: 0s - loss: 1.0969 - accuracy: 0.6158\n",
            "Epoch 14: val_loss did not improve from 1.00379\n",
            "1250/1250 [==============================] - 26s 20ms/step - loss: 1.0972 - accuracy: 0.6157 - val_loss: 1.0042 - val_accuracy: 0.6438\n",
            "Epoch 15/100\n",
            "1250/1250 [==============================] - ETA: 0s - loss: 1.0860 - accuracy: 0.6180\n",
            "Epoch 15: val_loss improved from 1.00379 to 0.92060, saving model to best-cifar10-v2.h5\n",
            "1250/1250 [==============================] - 25s 20ms/step - loss: 1.0860 - accuracy: 0.6180 - val_loss: 0.9206 - val_accuracy: 0.6723\n",
            "Epoch 16/100\n",
            "1248/1250 [============================>.] - ETA: 0s - loss: 1.0668 - accuracy: 0.6236\n",
            "Epoch 16: val_loss did not improve from 0.92060\n",
            "1250/1250 [==============================] - 25s 20ms/step - loss: 1.0670 - accuracy: 0.6236 - val_loss: 0.9909 - val_accuracy: 0.6439\n",
            "Epoch 17/100\n",
            "1248/1250 [============================>.] - ETA: 0s - loss: 1.0497 - accuracy: 0.6319\n",
            "Epoch 17: val_loss did not improve from 0.92060\n",
            "1250/1250 [==============================] - 25s 20ms/step - loss: 1.0500 - accuracy: 0.6318 - val_loss: 0.9234 - val_accuracy: 0.6747\n",
            "Epoch 18/100\n",
            "1249/1250 [============================>.] - ETA: 0s - loss: 1.0326 - accuracy: 0.6391\n",
            "Epoch 18: val_loss did not improve from 0.92060\n",
            "1250/1250 [==============================] - 25s 20ms/step - loss: 1.0326 - accuracy: 0.6391 - val_loss: 0.9798 - val_accuracy: 0.6670\n",
            "Epoch 19/100\n",
            "1250/1250 [==============================] - ETA: 0s - loss: 1.0186 - accuracy: 0.6433\n",
            "Epoch 19: val_loss improved from 0.92060 to 0.89994, saving model to best-cifar10-v2.h5\n",
            "1250/1250 [==============================] - 25s 20ms/step - loss: 1.0186 - accuracy: 0.6433 - val_loss: 0.8999 - val_accuracy: 0.6841\n",
            "Epoch 20/100\n",
            "1249/1250 [============================>.] - ETA: 0s - loss: 1.0102 - accuracy: 0.6475\n",
            "Epoch 20: val_loss did not improve from 0.89994\n",
            "1250/1250 [==============================] - 25s 20ms/step - loss: 1.0102 - accuracy: 0.6475 - val_loss: 0.9143 - val_accuracy: 0.6788\n",
            "Epoch 21/100\n",
            "1247/1250 [============================>.] - ETA: 0s - loss: 0.9922 - accuracy: 0.6531\n",
            "Epoch 21: val_loss did not improve from 0.89994\n",
            "1250/1250 [==============================] - 25s 20ms/step - loss: 0.9922 - accuracy: 0.6530 - val_loss: 0.9405 - val_accuracy: 0.6781\n",
            "Epoch 22/100\n",
            "1248/1250 [============================>.] - ETA: 0s - loss: 0.9844 - accuracy: 0.6573\n",
            "Epoch 22: val_loss improved from 0.89994 to 0.82254, saving model to best-cifar10-v2.h5\n",
            "1250/1250 [==============================] - 25s 20ms/step - loss: 0.9842 - accuracy: 0.6573 - val_loss: 0.8225 - val_accuracy: 0.7165\n",
            "Epoch 23/100\n",
            "1250/1250 [==============================] - ETA: 0s - loss: 0.9737 - accuracy: 0.6590\n",
            "Epoch 23: val_loss did not improve from 0.82254\n",
            "1250/1250 [==============================] - 25s 20ms/step - loss: 0.9737 - accuracy: 0.6590 - val_loss: 0.8486 - val_accuracy: 0.7043\n",
            "Epoch 24/100\n",
            "1248/1250 [============================>.] - ETA: 0s - loss: 0.9620 - accuracy: 0.6611\n",
            "Epoch 24: val_loss improved from 0.82254 to 0.81483, saving model to best-cifar10-v2.h5\n",
            "1250/1250 [==============================] - 25s 20ms/step - loss: 0.9622 - accuracy: 0.6611 - val_loss: 0.8148 - val_accuracy: 0.7203\n",
            "Epoch 25/100\n",
            "1248/1250 [============================>.] - ETA: 0s - loss: 0.9558 - accuracy: 0.6671\n",
            "Epoch 25: val_loss improved from 0.81483 to 0.78705, saving model to best-cifar10-v2.h5\n",
            "1250/1250 [==============================] - 25s 20ms/step - loss: 0.9555 - accuracy: 0.6672 - val_loss: 0.7871 - val_accuracy: 0.7259\n",
            "Epoch 26/100\n",
            "1249/1250 [============================>.] - ETA: 0s - loss: 0.9568 - accuracy: 0.6676\n",
            "Epoch 26: val_loss did not improve from 0.78705\n",
            "1250/1250 [==============================] - 25s 20ms/step - loss: 0.9569 - accuracy: 0.6675 - val_loss: 0.8137 - val_accuracy: 0.7196\n",
            "Epoch 27/100\n",
            "1250/1250 [==============================] - ETA: 0s - loss: 0.9417 - accuracy: 0.6749\n",
            "Epoch 27: val_loss did not improve from 0.78705\n",
            "1250/1250 [==============================] - 25s 20ms/step - loss: 0.9417 - accuracy: 0.6749 - val_loss: 0.8907 - val_accuracy: 0.7036\n",
            "Epoch 28/100\n",
            "1247/1250 [============================>.] - ETA: 0s - loss: 0.9441 - accuracy: 0.6706\n",
            "Epoch 28: val_loss did not improve from 0.78705\n",
            "1250/1250 [==============================] - 24s 19ms/step - loss: 0.9442 - accuracy: 0.6706 - val_loss: 0.8195 - val_accuracy: 0.7181\n",
            "Epoch 29/100\n",
            "1249/1250 [============================>.] - ETA: 0s - loss: 0.9309 - accuracy: 0.6769\n",
            "Epoch 29: val_loss did not improve from 0.78705\n",
            "1250/1250 [==============================] - 25s 20ms/step - loss: 0.9309 - accuracy: 0.6769 - val_loss: 0.8244 - val_accuracy: 0.7176\n",
            "Epoch 30/100\n",
            "1250/1250 [==============================] - ETA: 0s - loss: 0.9192 - accuracy: 0.6806\n",
            "Epoch 30: val_loss did not improve from 0.78705\n",
            "1250/1250 [==============================] - 25s 20ms/step - loss: 0.9192 - accuracy: 0.6806 - val_loss: 0.8324 - val_accuracy: 0.7079\n",
            "Epoch 31/100\n",
            "1249/1250 [============================>.] - ETA: 0s - loss: 0.9185 - accuracy: 0.6835\n",
            "Epoch 31: val_loss did not improve from 0.78705\n",
            "1250/1250 [==============================] - 25s 20ms/step - loss: 0.9182 - accuracy: 0.6836 - val_loss: 0.8958 - val_accuracy: 0.7042\n",
            "Epoch 32/100\n",
            "1248/1250 [============================>.] - ETA: 0s - loss: 0.9113 - accuracy: 0.6828\n",
            "Epoch 32: val_loss did not improve from 0.78705\n",
            "1250/1250 [==============================] - 25s 20ms/step - loss: 0.9111 - accuracy: 0.6829 - val_loss: 0.8489 - val_accuracy: 0.7136\n",
            "Epoch 33/100\n",
            "1250/1250 [==============================] - ETA: 0s - loss: 0.9098 - accuracy: 0.6851\n",
            "Epoch 33: val_loss did not improve from 0.78705\n",
            "1250/1250 [==============================] - 24s 19ms/step - loss: 0.9098 - accuracy: 0.6851 - val_loss: 0.8099 - val_accuracy: 0.7253\n",
            "Epoch 34/100\n",
            "1250/1250 [==============================] - ETA: 0s - loss: 0.9020 - accuracy: 0.6902\n",
            "Epoch 34: val_loss improved from 0.78705 to 0.78010, saving model to best-cifar10-v2.h5\n",
            "1250/1250 [==============================] - 25s 20ms/step - loss: 0.9020 - accuracy: 0.6902 - val_loss: 0.7801 - val_accuracy: 0.7310\n",
            "Epoch 35/100\n",
            "1248/1250 [============================>.] - ETA: 0s - loss: 0.9029 - accuracy: 0.6888\n",
            "Epoch 35: val_loss improved from 0.78010 to 0.76705, saving model to best-cifar10-v2.h5\n",
            "1250/1250 [==============================] - 24s 19ms/step - loss: 0.9028 - accuracy: 0.6888 - val_loss: 0.7671 - val_accuracy: 0.7371\n",
            "Epoch 36/100\n",
            "1249/1250 [============================>.] - ETA: 0s - loss: 0.8997 - accuracy: 0.6890\n",
            "Epoch 36: val_loss did not improve from 0.76705\n",
            "1250/1250 [==============================] - 24s 19ms/step - loss: 0.8999 - accuracy: 0.6890 - val_loss: 0.7827 - val_accuracy: 0.7303\n",
            "Epoch 37/100\n",
            "1249/1250 [============================>.] - ETA: 0s - loss: 0.8925 - accuracy: 0.6923\n",
            "Epoch 37: val_loss did not improve from 0.76705\n",
            "1250/1250 [==============================] - 25s 20ms/step - loss: 0.8924 - accuracy: 0.6923 - val_loss: 0.8014 - val_accuracy: 0.7266\n",
            "Epoch 38/100\n",
            "1250/1250 [==============================] - ETA: 0s - loss: 0.8884 - accuracy: 0.6933\n",
            "Epoch 38: val_loss did not improve from 0.76705\n",
            "1250/1250 [==============================] - 24s 19ms/step - loss: 0.8884 - accuracy: 0.6933 - val_loss: 0.7840 - val_accuracy: 0.7339\n",
            "Epoch 39/100\n",
            "1250/1250 [==============================] - ETA: 0s - loss: 0.8884 - accuracy: 0.6945\n",
            "Epoch 39: val_loss did not improve from 0.76705\n",
            "1250/1250 [==============================] - 25s 20ms/step - loss: 0.8884 - accuracy: 0.6945 - val_loss: 0.8568 - val_accuracy: 0.7119\n",
            "Epoch 40/100\n",
            "1249/1250 [============================>.] - ETA: 0s - loss: 0.8779 - accuracy: 0.6958\n",
            "Epoch 40: val_loss improved from 0.76705 to 0.75251, saving model to best-cifar10-v2.h5\n",
            "1250/1250 [==============================] - 25s 20ms/step - loss: 0.8779 - accuracy: 0.6957 - val_loss: 0.7525 - val_accuracy: 0.7454\n",
            "Epoch 41/100\n",
            "1250/1250 [==============================] - ETA: 0s - loss: 0.8816 - accuracy: 0.6976\n",
            "Epoch 41: val_loss did not improve from 0.75251\n",
            "1250/1250 [==============================] - 25s 20ms/step - loss: 0.8816 - accuracy: 0.6976 - val_loss: 0.7841 - val_accuracy: 0.7386\n",
            "Epoch 42/100\n",
            "1248/1250 [============================>.] - ETA: 0s - loss: 0.8784 - accuracy: 0.6966\n",
            "Epoch 42: val_loss improved from 0.75251 to 0.74639, saving model to best-cifar10-v2.h5\n",
            "1250/1250 [==============================] - 24s 19ms/step - loss: 0.8788 - accuracy: 0.6965 - val_loss: 0.7464 - val_accuracy: 0.7427\n",
            "Epoch 43/100\n",
            "1249/1250 [============================>.] - ETA: 0s - loss: 0.8777 - accuracy: 0.6986\n",
            "Epoch 43: val_loss did not improve from 0.74639\n",
            "1250/1250 [==============================] - 24s 20ms/step - loss: 0.8779 - accuracy: 0.6985 - val_loss: 0.7805 - val_accuracy: 0.7367\n",
            "Epoch 44/100\n",
            "1249/1250 [============================>.] - ETA: 0s - loss: 0.8754 - accuracy: 0.6966\n",
            "Epoch 44: val_loss improved from 0.74639 to 0.74525, saving model to best-cifar10-v2.h5\n",
            "1250/1250 [==============================] - 25s 20ms/step - loss: 0.8754 - accuracy: 0.6966 - val_loss: 0.7453 - val_accuracy: 0.7454\n",
            "Epoch 45/100\n",
            "1249/1250 [============================>.] - ETA: 0s - loss: 0.8727 - accuracy: 0.7006\n",
            "Epoch 45: val_loss did not improve from 0.74525\n",
            "1250/1250 [==============================] - 25s 20ms/step - loss: 0.8726 - accuracy: 0.7007 - val_loss: 0.7820 - val_accuracy: 0.7394\n",
            "Epoch 46/100\n",
            "1248/1250 [============================>.] - ETA: 0s - loss: 0.8688 - accuracy: 0.7026\n",
            "Epoch 46: val_loss did not improve from 0.74525\n",
            "1250/1250 [==============================] - 24s 19ms/step - loss: 0.8688 - accuracy: 0.7026 - val_loss: 0.7470 - val_accuracy: 0.7437\n",
            "Epoch 47/100\n",
            "1248/1250 [============================>.] - ETA: 0s - loss: 0.8660 - accuracy: 0.7029\n",
            "Epoch 47: val_loss did not improve from 0.74525\n",
            "1250/1250 [==============================] - 24s 20ms/step - loss: 0.8664 - accuracy: 0.7028 - val_loss: 0.7645 - val_accuracy: 0.7403\n",
            "Epoch 48/100\n",
            "1248/1250 [============================>.] - ETA: 0s - loss: 0.8582 - accuracy: 0.7042\n",
            "Epoch 48: val_loss improved from 0.74525 to 0.73562, saving model to best-cifar10-v2.h5\n",
            "1250/1250 [==============================] - 24s 19ms/step - loss: 0.8583 - accuracy: 0.7042 - val_loss: 0.7356 - val_accuracy: 0.7527\n",
            "Epoch 49/100\n",
            "1250/1250 [==============================] - ETA: 0s - loss: 0.8644 - accuracy: 0.7031\n",
            "Epoch 49: val_loss did not improve from 0.73562\n",
            "1250/1250 [==============================] - 24s 19ms/step - loss: 0.8644 - accuracy: 0.7031 - val_loss: 0.7874 - val_accuracy: 0.7339\n",
            "Epoch 50/100\n",
            "1249/1250 [============================>.] - ETA: 0s - loss: 0.8593 - accuracy: 0.7065\n",
            "Epoch 50: val_loss did not improve from 0.73562\n",
            "1250/1250 [==============================] - 24s 20ms/step - loss: 0.8593 - accuracy: 0.7065 - val_loss: 0.7963 - val_accuracy: 0.7328\n",
            "Epoch 51/100\n",
            "1249/1250 [============================>.] - ETA: 0s - loss: 0.8486 - accuracy: 0.7096\n",
            "Epoch 51: val_loss improved from 0.73562 to 0.71574, saving model to best-cifar10-v2.h5\n",
            "1250/1250 [==============================] - 25s 20ms/step - loss: 0.8486 - accuracy: 0.7096 - val_loss: 0.7157 - val_accuracy: 0.7631\n",
            "Epoch 52/100\n",
            "1248/1250 [============================>.] - ETA: 0s - loss: 0.8544 - accuracy: 0.7096\n",
            "Epoch 52: val_loss did not improve from 0.71574\n",
            "1250/1250 [==============================] - 25s 20ms/step - loss: 0.8546 - accuracy: 0.7095 - val_loss: 0.7359 - val_accuracy: 0.7512\n",
            "Epoch 53/100\n",
            "1250/1250 [==============================] - ETA: 0s - loss: 0.8636 - accuracy: 0.7050\n",
            "Epoch 53: val_loss did not improve from 0.71574\n",
            "1250/1250 [==============================] - 24s 20ms/step - loss: 0.8636 - accuracy: 0.7050 - val_loss: 0.7768 - val_accuracy: 0.7392\n",
            "Epoch 54/100\n",
            "1249/1250 [============================>.] - ETA: 0s - loss: 0.8541 - accuracy: 0.7088\n",
            "Epoch 54: val_loss did not improve from 0.71574\n",
            "1250/1250 [==============================] - 25s 20ms/step - loss: 0.8541 - accuracy: 0.7089 - val_loss: 0.7365 - val_accuracy: 0.7475\n",
            "Epoch 55/100\n",
            "1249/1250 [============================>.] - ETA: 0s - loss: 0.8570 - accuracy: 0.7087\n",
            "Epoch 55: val_loss did not improve from 0.71574\n",
            "1250/1250 [==============================] - 25s 20ms/step - loss: 0.8571 - accuracy: 0.7087 - val_loss: 0.8472 - val_accuracy: 0.7170\n",
            "Epoch 56/100\n",
            "1247/1250 [============================>.] - ETA: 0s - loss: 0.8518 - accuracy: 0.7087\n",
            "Epoch 56: val_loss improved from 0.71574 to 0.71170, saving model to best-cifar10-v2.h5\n",
            "1250/1250 [==============================] - 25s 20ms/step - loss: 0.8521 - accuracy: 0.7088 - val_loss: 0.7117 - val_accuracy: 0.7651\n",
            "Epoch 57/100\n",
            "1250/1250 [==============================] - ETA: 0s - loss: 0.8451 - accuracy: 0.7119\n",
            "Epoch 57: val_loss did not improve from 0.71170\n",
            "1250/1250 [==============================] - 24s 20ms/step - loss: 0.8451 - accuracy: 0.7119 - val_loss: 0.7382 - val_accuracy: 0.7469\n",
            "Epoch 58/100\n",
            "1250/1250 [==============================] - ETA: 0s - loss: 0.8531 - accuracy: 0.7104\n",
            "Epoch 58: val_loss did not improve from 0.71170\n",
            "1250/1250 [==============================] - 25s 20ms/step - loss: 0.8531 - accuracy: 0.7104 - val_loss: 0.7688 - val_accuracy: 0.7396\n",
            "Epoch 59/100\n",
            "1250/1250 [==============================] - ETA: 0s - loss: 0.8533 - accuracy: 0.7093\n",
            "Epoch 59: val_loss did not improve from 0.71170\n",
            "1250/1250 [==============================] - 24s 20ms/step - loss: 0.8533 - accuracy: 0.7093 - val_loss: 0.7473 - val_accuracy: 0.7531\n",
            "Epoch 60/100\n",
            "1250/1250 [==============================] - ETA: 0s - loss: 0.8508 - accuracy: 0.7075\n",
            "Epoch 60: val_loss did not improve from 0.71170\n",
            "1250/1250 [==============================] - 25s 20ms/step - loss: 0.8508 - accuracy: 0.7075 - val_loss: 0.7745 - val_accuracy: 0.7400\n",
            "Epoch 61/100\n",
            "1250/1250 [==============================] - ETA: 0s - loss: 0.8470 - accuracy: 0.7120\n",
            "Epoch 61: val_loss did not improve from 0.71170\n",
            "1250/1250 [==============================] - 24s 20ms/step - loss: 0.8470 - accuracy: 0.7120 - val_loss: 0.7754 - val_accuracy: 0.7464\n",
            "Epoch 62/100\n",
            "1248/1250 [============================>.] - ETA: 0s - loss: 0.8438 - accuracy: 0.7123\n",
            "Epoch 62: val_loss did not improve from 0.71170\n",
            "1250/1250 [==============================] - 24s 19ms/step - loss: 0.8440 - accuracy: 0.7121 - val_loss: 0.7786 - val_accuracy: 0.7455\n",
            "Epoch 63/100\n",
            "1249/1250 [============================>.] - ETA: 0s - loss: 0.8410 - accuracy: 0.7126\n",
            "Epoch 63: val_loss did not improve from 0.71170\n",
            "1250/1250 [==============================] - 25s 20ms/step - loss: 0.8410 - accuracy: 0.7125 - val_loss: 0.7859 - val_accuracy: 0.7347\n",
            "Epoch 64/100\n",
            "1249/1250 [============================>.] - ETA: 0s - loss: 0.8456 - accuracy: 0.7108\n",
            "Epoch 64: val_loss improved from 0.71170 to 0.70392, saving model to best-cifar10-v2.h5\n",
            "1250/1250 [==============================] - 24s 20ms/step - loss: 0.8457 - accuracy: 0.7108 - val_loss: 0.7039 - val_accuracy: 0.7668\n",
            "Epoch 65/100\n",
            "1248/1250 [============================>.] - ETA: 0s - loss: 0.8433 - accuracy: 0.7139\n",
            "Epoch 65: val_loss improved from 0.70392 to 0.68479, saving model to best-cifar10-v2.h5\n",
            "1250/1250 [==============================] - 25s 20ms/step - loss: 0.8436 - accuracy: 0.7138 - val_loss: 0.6848 - val_accuracy: 0.7768\n",
            "Epoch 66/100\n",
            "1248/1250 [============================>.] - ETA: 0s - loss: 0.8376 - accuracy: 0.7162\n",
            "Epoch 66: val_loss improved from 0.68479 to 0.67231, saving model to best-cifar10-v2.h5\n",
            "1250/1250 [==============================] - 25s 20ms/step - loss: 0.8380 - accuracy: 0.7161 - val_loss: 0.6723 - val_accuracy: 0.7784\n",
            "Epoch 67/100\n",
            "1249/1250 [============================>.] - ETA: 0s - loss: 0.8371 - accuracy: 0.7142\n",
            "Epoch 67: val_loss did not improve from 0.67231\n",
            "1250/1250 [==============================] - 25s 20ms/step - loss: 0.8369 - accuracy: 0.7142 - val_loss: 0.6956 - val_accuracy: 0.7686\n",
            "Epoch 68/100\n",
            "1249/1250 [============================>.] - ETA: 0s - loss: 0.8388 - accuracy: 0.7119\n",
            "Epoch 68: val_loss did not improve from 0.67231\n",
            "1250/1250 [==============================] - 25s 20ms/step - loss: 0.8388 - accuracy: 0.7119 - val_loss: 0.7275 - val_accuracy: 0.7538\n",
            "Epoch 69/100\n",
            "1249/1250 [============================>.] - ETA: 0s - loss: 0.8385 - accuracy: 0.7122\n",
            "Epoch 69: val_loss did not improve from 0.67231\n",
            "1250/1250 [==============================] - 25s 20ms/step - loss: 0.8382 - accuracy: 0.7123 - val_loss: 0.7478 - val_accuracy: 0.7510\n",
            "Epoch 70/100\n",
            "1249/1250 [============================>.] - ETA: 0s - loss: 0.8387 - accuracy: 0.7184\n",
            "Epoch 70: val_loss did not improve from 0.67231\n",
            "1250/1250 [==============================] - 25s 20ms/step - loss: 0.8390 - accuracy: 0.7182 - val_loss: 0.7560 - val_accuracy: 0.7553\n",
            "Epoch 71/100\n",
            "1250/1250 [==============================] - ETA: 0s - loss: 0.8341 - accuracy: 0.7172\n",
            "Epoch 71: val_loss did not improve from 0.67231\n",
            "1250/1250 [==============================] - 25s 20ms/step - loss: 0.8341 - accuracy: 0.7172 - val_loss: 0.7784 - val_accuracy: 0.7400\n",
            "Epoch 72/100\n",
            "1250/1250 [==============================] - ETA: 0s - loss: 0.8325 - accuracy: 0.7200\n",
            "Epoch 72: val_loss did not improve from 0.67231\n",
            "1250/1250 [==============================] - 25s 20ms/step - loss: 0.8325 - accuracy: 0.7200 - val_loss: 0.6904 - val_accuracy: 0.7712\n",
            "Epoch 73/100\n",
            "1250/1250 [==============================] - ETA: 0s - loss: 0.8336 - accuracy: 0.7175\n",
            "Epoch 73: val_loss did not improve from 0.67231\n",
            "1250/1250 [==============================] - 25s 20ms/step - loss: 0.8336 - accuracy: 0.7175 - val_loss: 0.7861 - val_accuracy: 0.7540\n",
            "Epoch 74/100\n",
            "1249/1250 [============================>.] - ETA: 0s - loss: 0.8355 - accuracy: 0.7188\n",
            "Epoch 74: val_loss did not improve from 0.67231\n",
            "1250/1250 [==============================] - 24s 20ms/step - loss: 0.8357 - accuracy: 0.7187 - val_loss: 0.6980 - val_accuracy: 0.7695\n",
            "Epoch 75/100\n",
            "1249/1250 [============================>.] - ETA: 0s - loss: 0.8372 - accuracy: 0.7152\n",
            "Epoch 75: val_loss did not improve from 0.67231\n",
            "1250/1250 [==============================] - 24s 19ms/step - loss: 0.8377 - accuracy: 0.7151 - val_loss: 0.7912 - val_accuracy: 0.7356\n",
            "Epoch 76/100\n",
            "1248/1250 [============================>.] - ETA: 0s - loss: 0.8387 - accuracy: 0.7162\n",
            "Epoch 76: val_loss did not improve from 0.67231\n",
            "1250/1250 [==============================] - 25s 20ms/step - loss: 0.8383 - accuracy: 0.7163 - val_loss: 0.7963 - val_accuracy: 0.7451\n"
          ]
        }
      ]
    },
    {
      "cell_type": "code",
      "source": [
        "best_model = load_model(model_path)\n",
        "best_model.evaluate(X_test, Y_test)"
      ],
      "metadata": {
        "colab": {
          "base_uri": "https://localhost:8080/"
        },
        "id": "vmQ2XhMa_FND",
        "outputId": "22d619d7-3c5d-4940-db05-18398cf5e573"
      },
      "execution_count": 13,
      "outputs": [
        {
          "output_type": "stream",
          "name": "stdout",
          "text": [
            "313/313 [==============================] - 1s 4ms/step - loss: 0.6963 - accuracy: 0.7714\n"
          ]
        },
        {
          "output_type": "execute_result",
          "data": {
            "text/plain": [
              "[0.6962765455245972, 0.771399974822998]"
            ]
          },
          "metadata": {},
          "execution_count": 13
        }
      ]
    },
    {
      "cell_type": "markdown",
      "source": [
        "- 학습과정 시각화"
      ],
      "metadata": {
        "id": "zBIMcL42AFp_"
      }
    },
    {
      "cell_type": "code",
      "source": [
        "y_acc = hist.history['accuracy']\n",
        "y_vloss = hist.history['val_loss']\n",
        "xs = np.arange(1, len(y_acc) + 1)"
      ],
      "metadata": {
        "id": "oboBaT4nABAV"
      },
      "execution_count": 14,
      "outputs": []
    },
    {
      "cell_type": "code",
      "source": [
        "plt.figure(figsize = (12, 8))\n",
        "plt.plot(xs, y_acc, label = 'train accuracy')\n",
        "plt.plot(xs, y_vloss, label = 'validation loss')\n",
        "plt.legend(), plt.grid(), plt.ylim(0,1.2),\n",
        "plt.xlabel('Epoch')\n",
        "plt.title('Cifar-10 CNN model v2')\n",
        "plt.show()"
      ],
      "metadata": {
        "colab": {
          "base_uri": "https://localhost:8080/",
          "height": 513
        },
        "id": "_jo92AXrAC5C",
        "outputId": "12ce3326-0b9e-4a2c-8359-2832660f3703"
      },
      "execution_count": 15,
      "outputs": [
        {
          "output_type": "display_data",
          "data": {
            "text/plain": [
              "<Figure size 864x576 with 1 Axes>"
            ],
            "image/png": "[encoded data removed]"
          },
          "metadata": {
            "needs_background": "light"
          }
        }
      ]
    },
    {
      "cell_type": "code",
      "source": [
        ""
      ],
      "metadata": {
        "id": "IPEf3WWuAFBd"
      },
      "execution_count": null,
      "outputs": []
    }
  ]
}