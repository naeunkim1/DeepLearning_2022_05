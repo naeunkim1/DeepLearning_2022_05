{
  "nbformat": 4,
  "nbformat_minor": 0,
  "metadata": {
    "colab": {
      "name": "03_MNIST_v3.ipynb",
      "provenance": [],
      "collapsed_sections": []
    },
    "kernelspec": {
      "name": "python3",
      "display_name": "Python 3"
    },
    "language_info": {
      "name": "python"
    },
    "accelerator": "GPU"
  },
  "cells": [
    {
      "cell_type": "markdown",
      "source": [
        "# MNIST 손글씨 - CNN v3\n",
        "- 2 x Conv2D layers\n",
        "- 1 MaxPooling2D layer\n",
        "- 1 Dropout(0.25) layer\n",
        "- 1 FCN layer\n",
        "- 1 Dropout(0.5) layer\n",
        "- 1 Output layer"
      ],
      "metadata": {
        "id": "c-Sg0BrHqWm8"
      }
    },
    {
      "cell_type": "code",
      "execution_count": 1,
      "metadata": {
        "id": "pmZSOPQ8qU5r"
      },
      "outputs": [],
      "source": [
        "import numpy as np\n",
        "import pandas as pd\n",
        "import matplotlib.pyplot as plt\n",
        "import tensorflow as tf\n",
        "seed = 2022\n",
        "np.random.seed(seed)\n",
        "tf.random.set_seed(seed)"
      ]
    },
    {
      "cell_type": "markdown",
      "source": [
        "- 데이터 전처리"
      ],
      "metadata": {
        "id": "sxKxZpw1qgoy"
      }
    },
    {
      "cell_type": "code",
      "source": [
        "from tensorflow.keras.datasets import mnist\n",
        "(X_train, y_train), (X_test, y_test) = mnist.load_data()\n",
        "X_train.shape, y_train.shape, X_test.shape,y_test.shape"
      ],
      "metadata": {
        "colab": {
          "base_uri": "https://localhost:8080/"
        },
        "id": "iPg9wgt1qdvh",
        "outputId": "31acfab2-bca3-4d0a-f251-0f2634c7fef2"
      },
      "execution_count": 2,
      "outputs": [
        {
          "output_type": "stream",
          "name": "stdout",
          "text": [
            "Downloading data from https://storage.googleapis.com/tensorflow/tf-keras-datasets/mnist.npz\n",
            "11493376/11490434 [==============================] - 0s 0us/step\n",
            "11501568/11490434 [==============================] - 0s 0us/step\n"
          ]
        },
        {
          "output_type": "execute_result",
          "data": {
            "text/plain": [
              "((60000, 28, 28), (60000,), (10000, 28, 28), (10000,))"
            ]
          },
          "metadata": {},
          "execution_count": 2
        }
      ]
    },
    {
      "cell_type": "code",
      "source": [
        "# X_train, X_test 정규화(0 ~ 1) & 이미지 차원 변경 : 2차원 --> 3차원\n",
        "X_train = X_train.reshape(-1, 28, 28, 1) / 255.\n",
        "X_test = X_test.reshape(-1, 28, 28, 1) / 255.\n",
        "X_train.shape, X_test.shape"
      ],
      "metadata": {
        "colab": {
          "base_uri": "https://localhost:8080/"
        },
        "id": "sFu3kspuqilk",
        "outputId": "5cd49256-5b3f-45be-abae-840e24e2ac2f"
      },
      "execution_count": 3,
      "outputs": [
        {
          "output_type": "execute_result",
          "data": {
            "text/plain": [
              "((60000, 28, 28, 1), (10000, 28, 28, 1))"
            ]
          },
          "metadata": {},
          "execution_count": 3
        }
      ]
    },
    {
      "cell_type": "code",
      "source": [
        "# One hot encoding\n",
        "from tensorflow.keras.utils import to_categorical\n",
        "Y_train = to_categorical(y_train)\n",
        "Y_test = to_categorical(y_test)\n",
        "Y_train.shape, Y_test.shape"
      ],
      "metadata": {
        "colab": {
          "base_uri": "https://localhost:8080/"
        },
        "id": "iL-EOlDSqkfg",
        "outputId": "1e9d7f27-8007-4878-e65b-7b2f294e6a30"
      },
      "execution_count": 4,
      "outputs": [
        {
          "output_type": "execute_result",
          "data": {
            "text/plain": [
              "((60000, 10), (10000, 10))"
            ]
          },
          "metadata": {},
          "execution_count": 4
        }
      ]
    },
    {
      "cell_type": "markdown",
      "source": [
        "- 모델 정의/설정/학습/평가"
      ],
      "metadata": {
        "id": "mbpiu8onqnmA"
      }
    },
    {
      "cell_type": "code",
      "source": [
        "from tensorflow.keras.models import Sequential, load_model\n",
        "from tensorflow.keras.layers import Dense, Conv2D, Flatten, MaxPooling2D, Dropout\n",
        "from tensorflow.keras.callbacks import ModelCheckpoint, EarlyStopping"
      ],
      "metadata": {
        "id": "Wry4hAS3ql8q"
      },
      "execution_count": 6,
      "outputs": []
    },
    {
      "cell_type": "code",
      "source": [
        "model = Sequential([\n",
        "    Conv2D(32, kernel_size=(3,3), input_shape=(28, 28, 1), activation = 'relu'),\n",
        "    Conv2D(64, (3,3), activation = 'relu'),\n",
        "    MaxPooling2D(),         # MaxPooling2D(pool_size = (2, 2))\n",
        "    Dropout(0.25),\n",
        "    Flatten(),\n",
        "    Dense(512, activation='relu'),\n",
        "    Dropout(0.5),\n",
        "    Dense(10, activation = 'softmax')\n",
        "])\n",
        "model.summary()"
      ],
      "metadata": {
        "colab": {
          "base_uri": "https://localhost:8080/"
        },
        "id": "ypDaQwS_qrkS",
        "outputId": "5f88e41f-2142-42d3-c33a-5904f3d6cde2"
      },
      "execution_count": 7,
      "outputs": [
        {
          "output_type": "stream",
          "name": "stdout",
          "text": [
            "Model: \"sequential\"\n",
            "_________________________________________________________________\n",
            " Layer (type)                Output Shape              Param #   \n",
            "=================================================================\n",
            " conv2d (Conv2D)             (None, 26, 26, 32)        320       \n",
            "                                                                 \n",
            " conv2d_1 (Conv2D)           (None, 24, 24, 64)        18496     \n",
            "                                                                 \n",
            " max_pooling2d (MaxPooling2D  (None, 12, 12, 64)       0         \n",
            " )                                                               \n",
            "                                                                 \n",
            " dropout (Dropout)           (None, 12, 12, 64)        0         \n",
            "                                                                 \n",
            " flatten (Flatten)           (None, 9216)              0         \n",
            "                                                                 \n",
            " dense (Dense)               (None, 512)               4719104   \n",
            "                                                                 \n",
            " dropout_1 (Dropout)         (None, 512)               0         \n",
            "                                                                 \n",
            " dense_1 (Dense)             (None, 10)                5130      \n",
            "                                                                 \n",
            "=================================================================\n",
            "Total params: 4,743,050\n",
            "Trainable params: 4,743,050\n",
            "Non-trainable params: 0\n",
            "_________________________________________________________________\n"
          ]
        }
      ]
    },
    {
      "cell_type": "code",
      "source": [
        "model.compile('adam', 'categorical_crossentropy', ['accuracy'])"
      ],
      "metadata": {
        "id": "NuGVVW1Sq1Lo"
      },
      "execution_count": 9,
      "outputs": []
    },
    {
      "cell_type": "code",
      "source": [
        "model_path = 'best-mnist-cnn-v3.h5'\n",
        "mc = ModelCheckpoint(model_path, save_best_only=True, verbose=1)\n",
        "es = EarlyStopping(patience=10)"
      ],
      "metadata": {
        "id": "R6CCp1WFq474"
      },
      "execution_count": 11,
      "outputs": []
    },
    {
      "cell_type": "code",
      "source": [
        "hist = model.fit(\n",
        "    X_train, Y_train, validation_split=0.2, epochs=100, batch_size=200,\n",
        "    callbacks=[mc, es]\n",
        ")"
      ],
      "metadata": {
        "colab": {
          "base_uri": "https://localhost:8080/"
        },
        "id": "DjEEKs3_q6nS",
        "outputId": "0fe08600-dc83-445c-aad3-7332f0595ff8"
      },
      "execution_count": 12,
      "outputs": [
        {
          "output_type": "stream",
          "name": "stdout",
          "text": [
            "Epoch 1/100\n",
            "240/240 [==============================] - ETA: 0s - loss: 0.2201 - accuracy: 0.9315\n",
            "Epoch 1: val_loss improved from inf to 0.05652, saving model to best-mnist-cnn-v3.h5\n",
            "240/240 [==============================] - 15s 16ms/step - loss: 0.2201 - accuracy: 0.9315 - val_loss: 0.0565 - val_accuracy: 0.9843\n",
            "Epoch 2/100\n",
            "240/240 [==============================] - ETA: 0s - loss: 0.0620 - accuracy: 0.9812\n",
            "Epoch 2: val_loss improved from 0.05652 to 0.05076, saving model to best-mnist-cnn-v3.h5\n",
            "240/240 [==============================] - 4s 18ms/step - loss: 0.0620 - accuracy: 0.9812 - val_loss: 0.0508 - val_accuracy: 0.9866\n",
            "Epoch 3/100\n",
            "240/240 [==============================] - ETA: 0s - loss: 0.0427 - accuracy: 0.9869\n",
            "Epoch 3: val_loss improved from 0.05076 to 0.03937, saving model to best-mnist-cnn-v3.h5\n",
            "240/240 [==============================] - 4s 16ms/step - loss: 0.0427 - accuracy: 0.9869 - val_loss: 0.0394 - val_accuracy: 0.9885\n",
            "Epoch 4/100\n",
            "240/240 [==============================] - ETA: 0s - loss: 0.0342 - accuracy: 0.9893\n",
            "Epoch 4: val_loss improved from 0.03937 to 0.03678, saving model to best-mnist-cnn-v3.h5\n",
            "240/240 [==============================] - 4s 16ms/step - loss: 0.0342 - accuracy: 0.9893 - val_loss: 0.0368 - val_accuracy: 0.9900\n",
            "Epoch 5/100\n",
            "237/240 [============================>.] - ETA: 0s - loss: 0.0281 - accuracy: 0.9912\n",
            "Epoch 5: val_loss did not improve from 0.03678\n",
            "240/240 [==============================] - 4s 15ms/step - loss: 0.0279 - accuracy: 0.9913 - val_loss: 0.0386 - val_accuracy: 0.9893\n",
            "Epoch 6/100\n",
            "237/240 [============================>.] - ETA: 0s - loss: 0.0224 - accuracy: 0.9927\n",
            "Epoch 6: val_loss improved from 0.03678 to 0.03467, saving model to best-mnist-cnn-v3.h5\n",
            "240/240 [==============================] - 4s 16ms/step - loss: 0.0224 - accuracy: 0.9926 - val_loss: 0.0347 - val_accuracy: 0.9902\n",
            "Epoch 7/100\n",
            "237/240 [============================>.] - ETA: 0s - loss: 0.0196 - accuracy: 0.9937\n",
            "Epoch 7: val_loss improved from 0.03467 to 0.03361, saving model to best-mnist-cnn-v3.h5\n",
            "240/240 [==============================] - 4s 16ms/step - loss: 0.0195 - accuracy: 0.9937 - val_loss: 0.0336 - val_accuracy: 0.9908\n",
            "Epoch 8/100\n",
            "237/240 [============================>.] - ETA: 0s - loss: 0.0181 - accuracy: 0.9938\n",
            "Epoch 8: val_loss improved from 0.03361 to 0.03247, saving model to best-mnist-cnn-v3.h5\n",
            "240/240 [==============================] - 4s 15ms/step - loss: 0.0180 - accuracy: 0.9937 - val_loss: 0.0325 - val_accuracy: 0.9908\n",
            "Epoch 9/100\n",
            "237/240 [============================>.] - ETA: 0s - loss: 0.0150 - accuracy: 0.9949\n",
            "Epoch 9: val_loss did not improve from 0.03247\n",
            "240/240 [==============================] - 4s 15ms/step - loss: 0.0150 - accuracy: 0.9948 - val_loss: 0.0357 - val_accuracy: 0.9909\n",
            "Epoch 10/100\n",
            "237/240 [============================>.] - ETA: 0s - loss: 0.0135 - accuracy: 0.9951\n",
            "Epoch 10: val_loss did not improve from 0.03247\n",
            "240/240 [==============================] - 4s 15ms/step - loss: 0.0136 - accuracy: 0.9951 - val_loss: 0.0410 - val_accuracy: 0.9899\n",
            "Epoch 11/100\n",
            "237/240 [============================>.] - ETA: 0s - loss: 0.0131 - accuracy: 0.9954\n",
            "Epoch 11: val_loss did not improve from 0.03247\n",
            "240/240 [==============================] - 4s 15ms/step - loss: 0.0131 - accuracy: 0.9954 - val_loss: 0.0376 - val_accuracy: 0.9901\n",
            "Epoch 12/100\n",
            "237/240 [============================>.] - ETA: 0s - loss: 0.0108 - accuracy: 0.9964\n",
            "Epoch 12: val_loss did not improve from 0.03247\n",
            "240/240 [==============================] - 4s 15ms/step - loss: 0.0107 - accuracy: 0.9964 - val_loss: 0.0373 - val_accuracy: 0.9908\n",
            "Epoch 13/100\n",
            "237/240 [============================>.] - ETA: 0s - loss: 0.0100 - accuracy: 0.9967\n",
            "Epoch 13: val_loss did not improve from 0.03247\n",
            "240/240 [==============================] - 4s 15ms/step - loss: 0.0101 - accuracy: 0.9967 - val_loss: 0.0389 - val_accuracy: 0.9899\n",
            "Epoch 14/100\n",
            "237/240 [============================>.] - ETA: 0s - loss: 0.0101 - accuracy: 0.9965\n",
            "Epoch 14: val_loss did not improve from 0.03247\n",
            "240/240 [==============================] - 4s 15ms/step - loss: 0.0101 - accuracy: 0.9966 - val_loss: 0.0421 - val_accuracy: 0.9897\n",
            "Epoch 15/100\n",
            "237/240 [============================>.] - ETA: 0s - loss: 0.0088 - accuracy: 0.9970\n",
            "Epoch 15: val_loss did not improve from 0.03247\n",
            "240/240 [==============================] - 4s 15ms/step - loss: 0.0089 - accuracy: 0.9970 - val_loss: 0.0435 - val_accuracy: 0.9900\n",
            "Epoch 16/100\n",
            "237/240 [============================>.] - ETA: 0s - loss: 0.0102 - accuracy: 0.9965\n",
            "Epoch 16: val_loss did not improve from 0.03247\n",
            "240/240 [==============================] - 4s 15ms/step - loss: 0.0102 - accuracy: 0.9965 - val_loss: 0.0387 - val_accuracy: 0.9906\n",
            "Epoch 17/100\n",
            "237/240 [============================>.] - ETA: 0s - loss: 0.0081 - accuracy: 0.9972\n",
            "Epoch 17: val_loss did not improve from 0.03247\n",
            "240/240 [==============================] - 4s 15ms/step - loss: 0.0080 - accuracy: 0.9972 - val_loss: 0.0408 - val_accuracy: 0.9914\n",
            "Epoch 18/100\n",
            "237/240 [============================>.] - ETA: 0s - loss: 0.0083 - accuracy: 0.9971\n",
            "Epoch 18: val_loss did not improve from 0.03247\n",
            "240/240 [==============================] - 4s 15ms/step - loss: 0.0083 - accuracy: 0.9971 - val_loss: 0.0425 - val_accuracy: 0.9902\n"
          ]
        }
      ]
    },
    {
      "cell_type": "code",
      "source": [
        "best_model = load_model(model_path)\n",
        "best_model.evaluate(X_test, Y_test)"
      ],
      "metadata": {
        "colab": {
          "base_uri": "https://localhost:8080/"
        },
        "id": "-q7dYgzfrBjr",
        "outputId": "6dd66edc-cb22-4694-e173-51eba180800b"
      },
      "execution_count": 13,
      "outputs": [
        {
          "output_type": "stream",
          "name": "stdout",
          "text": [
            "313/313 [==============================] - 1s 4ms/step - loss: 0.0274 - accuracy: 0.9920\n"
          ]
        },
        {
          "output_type": "execute_result",
          "data": {
            "text/plain": [
              "[0.02738187648355961, 0.9919999837875366]"
            ]
          },
          "metadata": {},
          "execution_count": 13
        }
      ]
    },
    {
      "cell_type": "markdown",
      "source": [
        "- 학습과정 시각화"
      ],
      "metadata": {
        "id": "woGzKdQ8rEP8"
      }
    },
    {
      "cell_type": "code",
      "source": [
        "y_acc = hist.history['accuracy']\n",
        "y_vloss = hist.history['val_loss']\n",
        "xs = np.arange(1, len(y_acc) + 1)"
      ],
      "metadata": {
        "id": "ehZ7M8wFrCce"
      },
      "execution_count": 14,
      "outputs": []
    },
    {
      "cell_type": "code",
      "source": [
        "plt.figure(figsize = (12, 8))\n",
        "plt.plot(xs, y_acc, label = 'train accuracy')\n",
        "plt.plot(xs, y_vloss, label = 'validation loss')\n",
        "plt.legend(), plt.grid()\n",
        "plt.xlabel('Epoch')\n",
        "plt.title('MNIST CNN model v1')\n",
        "plt.show()"
      ],
      "metadata": {
        "colab": {
          "base_uri": "https://localhost:8080/",
          "height": 513
        },
        "id": "wmOEapKqrH4U",
        "outputId": "b32dc72c-726d-4eb3-e8c1-302deb7d1e65"
      },
      "execution_count": 15,
      "outputs": [
        {
          "output_type": "display_data",
          "data": {
            "text/plain": [
              "<Figure size 864x576 with 1 Axes>"
            ],
            "image/png": "[encoded data removed]"
          },
          "metadata": {
            "needs_background": "light"
          }
        }
      ]
    }
  ]
}