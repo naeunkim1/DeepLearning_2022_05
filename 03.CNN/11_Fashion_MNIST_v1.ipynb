{
  "nbformat": 4,
  "nbformat_minor": 0,
  "metadata": {
    "colab": {
      "name": "11_Fashion_MNIST_v1.ipynb",
      "provenance": [],
      "collapsed_sections": []
    },
    "kernelspec": {
      "name": "python3",
      "display_name": "Python 3"
    },
    "language_info": {
      "name": "python"
    },
    "accelerator": "GPU"
  },
  "cells": [
    {
      "cell_type": "markdown",
      "source": [
        "# Fashion MNIST - CNN v1\n",
        "- 2 x Conv2D layers\n",
        "- 1 MaxPooling2D layer\n",
        "- 1 Dropout(0.25) layer\n",
        "- 1 FCN layer\n",
        "- 1 Dropout(0.5) layer\n",
        "- 1 Output layer"
      ],
      "metadata": {
        "id": "c-Sg0BrHqWm8"
      }
    },
    {
      "cell_type": "code",
      "execution_count": 1,
      "metadata": {
        "id": "pmZSOPQ8qU5r"
      },
      "outputs": [],
      "source": [
        "import numpy as np\n",
        "import pandas as pd\n",
        "import matplotlib.pyplot as plt\n",
        "import tensorflow as tf\n",
        "seed = 2022\n",
        "np.random.seed(seed)\n",
        "tf.random.set_seed(seed)"
      ]
    },
    {
      "cell_type": "markdown",
      "source": [
        "- 데이터 전처리"
      ],
      "metadata": {
        "id": "sxKxZpw1qgoy"
      }
    },
    {
      "cell_type": "code",
      "source": [
        "from tensorflow.keras.datasets import fashion_mnist\n",
        "(X_train, y_train), (X_test, y_test) = fashion_mnist.load_data()\n",
        "X_train.shape, y_train.shape, X_test.shape,y_test.shape"
      ],
      "metadata": {
        "colab": {
          "base_uri": "https://localhost:8080/"
        },
        "id": "iPg9wgt1qdvh",
        "outputId": "b7f1c19b-f875-4d73-99e9-6f2eb2aa6eb0"
      },
      "execution_count": 2,
      "outputs": [
        {
          "output_type": "stream",
          "name": "stdout",
          "text": [
            "Downloading data from https://storage.googleapis.com/tensorflow/tf-keras-datasets/train-labels-idx1-ubyte.gz\n",
            "32768/29515 [=================================] - 0s 0us/step\n",
            "40960/29515 [=========================================] - 0s 0us/step\n",
            "Downloading data from https://storage.googleapis.com/tensorflow/tf-keras-datasets/train-images-idx3-ubyte.gz\n",
            "26427392/26421880 [==============================] - 0s 0us/step\n",
            "26435584/26421880 [==============================] - 0s 0us/step\n",
            "Downloading data from https://storage.googleapis.com/tensorflow/tf-keras-datasets/t10k-labels-idx1-ubyte.gz\n",
            "16384/5148 [===============================================================================================] - 0s 0us/step\n",
            "Downloading data from https://storage.googleapis.com/tensorflow/tf-keras-datasets/t10k-images-idx3-ubyte.gz\n",
            "4423680/4422102 [==============================] - 0s 0us/step\n",
            "4431872/4422102 [==============================] - 0s 0us/step\n"
          ]
        },
        {
          "output_type": "execute_result",
          "data": {
            "text/plain": [
              "((60000, 28, 28), (60000,), (10000, 28, 28), (10000,))"
            ]
          },
          "metadata": {},
          "execution_count": 2
        }
      ]
    },
    {
      "cell_type": "code",
      "source": [
        "plt.imshow(X_train[0], cmap='Greys');"
      ],
      "metadata": {
        "colab": {
          "base_uri": "https://localhost:8080/",
          "height": 265
        },
        "id": "yDEEUZAizfnR",
        "outputId": "5d152b82-9f69-4572-c5a4-d07829530ae9"
      },
      "execution_count": 4,
      "outputs": [
        {
          "output_type": "display_data",
          "data": {
            "text/plain": [
              "<Figure size 432x288 with 1 Axes>"
            ],
            "image/png": "[encoded data removed]"
          },
          "metadata": {
            "needs_background": "light"
          }
        }
      ]
    },
    {
      "cell_type": "code",
      "source": [
        "class_names = ['T-shirt/top', 'Trouser', 'Pullover', 'Dress', 'Coat',\n",
        "               'Sandal', 'Shirt', 'Sneaker', 'Bag', 'Ankle boot']\n"
      ],
      "metadata": {
        "id": "htauWov0zrK8"
      },
      "execution_count": 5,
      "outputs": []
    },
    {
      "cell_type": "code",
      "source": [
        "plt.figure(figsize=(13, 5))\n",
        "for i in range(1, 11):\n",
        "    plt.subplot(2, 5, i)\n",
        "    plt.imshow(X_train[i], cmap='Greys');\n",
        "    plt.title(class_names[y_train[i]])\n",
        "    plt.xticks([]), plt.yticks([])\n",
        "plt.show()"
      ],
      "metadata": {
        "colab": {
          "base_uri": "https://localhost:8080/",
          "height": 322
        },
        "id": "dyQq6TUdztsj",
        "outputId": "50ea51bb-7ef7-4748-cd98-805a0133b977"
      },
      "execution_count": 6,
      "outputs": [
        {
          "output_type": "display_data",
          "data": {
            "text/plain": [
              "<Figure size 936x360 with 10 Axes>"
            ],
            "image/png": "[encoded data removed]"
          },
          "metadata": {}
        }
      ]
    },
    {
      "cell_type": "code",
      "source": [
        "# X_train, X_test 정규화(0 ~ 1) & 이미지 차원 변경 : 2차원 --> 3차원\n",
        "X_train = X_train.reshape(-1, 28, 28, 1) / 255.\n",
        "X_test = X_test.reshape(-1, 28, 28, 1) / 255.\n",
        "X_train.shape, X_test.shape"
      ],
      "metadata": {
        "colab": {
          "base_uri": "https://localhost:8080/"
        },
        "id": "sFu3kspuqilk",
        "outputId": "c6628838-1467-4481-a884-ac57d8eab49f"
      },
      "execution_count": 7,
      "outputs": [
        {
          "output_type": "execute_result",
          "data": {
            "text/plain": [
              "((60000, 28, 28, 1), (10000, 28, 28, 1))"
            ]
          },
          "metadata": {},
          "execution_count": 7
        }
      ]
    },
    {
      "cell_type": "code",
      "source": [
        "# One hot encoding\n",
        "from tensorflow.keras.utils import to_categorical\n",
        "Y_train = to_categorical(y_train)\n",
        "Y_test = to_categorical(y_test)\n",
        "Y_train.shape, Y_test.shape"
      ],
      "metadata": {
        "colab": {
          "base_uri": "https://localhost:8080/"
        },
        "id": "iL-EOlDSqkfg",
        "outputId": "c6b7621d-cd96-462e-9b2b-8df802f18f72"
      },
      "execution_count": 8,
      "outputs": [
        {
          "output_type": "execute_result",
          "data": {
            "text/plain": [
              "((60000, 10), (10000, 10))"
            ]
          },
          "metadata": {},
          "execution_count": 8
        }
      ]
    },
    {
      "cell_type": "markdown",
      "source": [
        "- 모델 정의/설정/학습/평가"
      ],
      "metadata": {
        "id": "mbpiu8onqnmA"
      }
    },
    {
      "cell_type": "code",
      "source": [
        "from tensorflow.keras.models import Sequential, load_model\n",
        "from tensorflow.keras.layers import Dense, Conv2D, Flatten, MaxPooling2D, Dropout\n",
        "from tensorflow.keras.callbacks import ModelCheckpoint, EarlyStopping"
      ],
      "metadata": {
        "id": "Wry4hAS3ql8q"
      },
      "execution_count": 9,
      "outputs": []
    },
    {
      "cell_type": "code",
      "source": [
        "model = Sequential([\n",
        "    Conv2D(32, kernel_size=(3,3), input_shape=(28, 28, 1), activation = 'relu'),\n",
        "    Conv2D(64, (3,3), activation = 'relu'),\n",
        "    MaxPooling2D(),         # MaxPooling2D(pool_size = (2, 2))\n",
        "    Dropout(0.25),\n",
        "    Flatten(),\n",
        "    Dense(512, activation='relu'),\n",
        "    Dropout(0.5),\n",
        "    Dense(10, activation = 'softmax')\n",
        "])\n",
        "model.summary()"
      ],
      "metadata": {
        "colab": {
          "base_uri": "https://localhost:8080/"
        },
        "id": "ypDaQwS_qrkS",
        "outputId": "442a81d8-d59a-4624-851e-89bf4e8449ae"
      },
      "execution_count": 10,
      "outputs": [
        {
          "output_type": "stream",
          "name": "stdout",
          "text": [
            "Model: \"sequential\"\n",
            "_________________________________________________________________\n",
            " Layer (type)                Output Shape              Param #   \n",
            "=================================================================\n",
            " conv2d (Conv2D)             (None, 26, 26, 32)        320       \n",
            "                                                                 \n",
            " conv2d_1 (Conv2D)           (None, 24, 24, 64)        18496     \n",
            "                                                                 \n",
            " max_pooling2d (MaxPooling2D  (None, 12, 12, 64)       0         \n",
            " )                                                               \n",
            "                                                                 \n",
            " dropout (Dropout)           (None, 12, 12, 64)        0         \n",
            "                                                                 \n",
            " flatten (Flatten)           (None, 9216)              0         \n",
            "                                                                 \n",
            " dense (Dense)               (None, 512)               4719104   \n",
            "                                                                 \n",
            " dropout_1 (Dropout)         (None, 512)               0         \n",
            "                                                                 \n",
            " dense_1 (Dense)             (None, 10)                5130      \n",
            "                                                                 \n",
            "=================================================================\n",
            "Total params: 4,743,050\n",
            "Trainable params: 4,743,050\n",
            "Non-trainable params: 0\n",
            "_________________________________________________________________\n"
          ]
        }
      ]
    },
    {
      "cell_type": "code",
      "source": [
        "model.compile('adam', 'categorical_crossentropy', ['accuracy'])"
      ],
      "metadata": {
        "id": "NuGVVW1Sq1Lo"
      },
      "execution_count": 11,
      "outputs": []
    },
    {
      "cell_type": "code",
      "source": [
        "model_path = 'best-fashion-mnist-cnn-v1.h5'\n",
        "mc = ModelCheckpoint(model_path, save_best_only=True, verbose=1)\n",
        "es = EarlyStopping(patience=10)"
      ],
      "metadata": {
        "id": "R6CCp1WFq474"
      },
      "execution_count": 12,
      "outputs": []
    },
    {
      "cell_type": "code",
      "source": [
        "hist = model.fit(\n",
        "    X_train, Y_train, validation_split=0.2, epochs=100, batch_size=200,\n",
        "    callbacks=[mc, es]\n",
        ")"
      ],
      "metadata": {
        "colab": {
          "base_uri": "https://localhost:8080/"
        },
        "id": "DjEEKs3_q6nS",
        "outputId": "4ce6be9c-be96-42e8-89ec-c6741c3858e6"
      },
      "execution_count": 13,
      "outputs": [
        {
          "output_type": "stream",
          "name": "stdout",
          "text": [
            "Epoch 1/100\n",
            "240/240 [==============================] - ETA: 0s - loss: 0.5020 - accuracy: 0.8216\n",
            "Epoch 1: val_loss improved from inf to 0.32117, saving model to best-fashion-mnist-cnn-v1.h5\n",
            "240/240 [==============================] - 14s 15ms/step - loss: 0.5020 - accuracy: 0.8216 - val_loss: 0.3212 - val_accuracy: 0.8824\n",
            "Epoch 2/100\n",
            "239/240 [============================>.] - ETA: 0s - loss: 0.3137 - accuracy: 0.8871\n",
            "Epoch 2: val_loss improved from 0.32117 to 0.27732, saving model to best-fashion-mnist-cnn-v1.h5\n",
            "240/240 [==============================] - 3s 14ms/step - loss: 0.3136 - accuracy: 0.8871 - val_loss: 0.2773 - val_accuracy: 0.8982\n",
            "Epoch 3/100\n",
            "239/240 [============================>.] - ETA: 0s - loss: 0.2611 - accuracy: 0.9053\n",
            "Epoch 3: val_loss improved from 0.27732 to 0.23873, saving model to best-fashion-mnist-cnn-v1.h5\n",
            "240/240 [==============================] - 3s 14ms/step - loss: 0.2613 - accuracy: 0.9052 - val_loss: 0.2387 - val_accuracy: 0.9106\n",
            "Epoch 4/100\n",
            "239/240 [============================>.] - ETA: 0s - loss: 0.2272 - accuracy: 0.9167\n",
            "Epoch 4: val_loss improved from 0.23873 to 0.23464, saving model to best-fashion-mnist-cnn-v1.h5\n",
            "240/240 [==============================] - 3s 14ms/step - loss: 0.2272 - accuracy: 0.9166 - val_loss: 0.2346 - val_accuracy: 0.9130\n",
            "Epoch 5/100\n",
            "238/240 [============================>.] - ETA: 0s - loss: 0.2025 - accuracy: 0.9254\n",
            "Epoch 5: val_loss improved from 0.23464 to 0.22903, saving model to best-fashion-mnist-cnn-v1.h5\n",
            "240/240 [==============================] - 3s 14ms/step - loss: 0.2025 - accuracy: 0.9253 - val_loss: 0.2290 - val_accuracy: 0.9143\n",
            "Epoch 6/100\n",
            "240/240 [==============================] - ETA: 0s - loss: 0.1809 - accuracy: 0.9341\n",
            "Epoch 6: val_loss improved from 0.22903 to 0.21270, saving model to best-fashion-mnist-cnn-v1.h5\n",
            "240/240 [==============================] - 3s 14ms/step - loss: 0.1809 - accuracy: 0.9341 - val_loss: 0.2127 - val_accuracy: 0.9222\n",
            "Epoch 7/100\n",
            "240/240 [==============================] - ETA: 0s - loss: 0.1595 - accuracy: 0.9400\n",
            "Epoch 7: val_loss improved from 0.21270 to 0.20142, saving model to best-fashion-mnist-cnn-v1.h5\n",
            "240/240 [==============================] - 3s 14ms/step - loss: 0.1595 - accuracy: 0.9400 - val_loss: 0.2014 - val_accuracy: 0.9291\n",
            "Epoch 8/100\n",
            "239/240 [============================>.] - ETA: 0s - loss: 0.1413 - accuracy: 0.9481\n",
            "Epoch 8: val_loss did not improve from 0.20142\n",
            "240/240 [==============================] - 3s 14ms/step - loss: 0.1412 - accuracy: 0.9481 - val_loss: 0.2021 - val_accuracy: 0.9291\n",
            "Epoch 9/100\n",
            "239/240 [============================>.] - ETA: 0s - loss: 0.1282 - accuracy: 0.9522\n",
            "Epoch 9: val_loss improved from 0.20142 to 0.20039, saving model to best-fashion-mnist-cnn-v1.h5\n",
            "240/240 [==============================] - 3s 14ms/step - loss: 0.1282 - accuracy: 0.9523 - val_loss: 0.2004 - val_accuracy: 0.9282\n",
            "Epoch 10/100\n",
            "240/240 [==============================] - ETA: 0s - loss: 0.1127 - accuracy: 0.9583\n",
            "Epoch 10: val_loss did not improve from 0.20039\n",
            "240/240 [==============================] - 3s 14ms/step - loss: 0.1127 - accuracy: 0.9583 - val_loss: 0.2175 - val_accuracy: 0.9268\n",
            "Epoch 11/100\n",
            "238/240 [============================>.] - ETA: 0s - loss: 0.0998 - accuracy: 0.9633\n",
            "Epoch 11: val_loss did not improve from 0.20039\n",
            "240/240 [==============================] - 3s 14ms/step - loss: 0.1001 - accuracy: 0.9633 - val_loss: 0.2064 - val_accuracy: 0.9323\n",
            "Epoch 12/100\n",
            "237/240 [============================>.] - ETA: 0s - loss: 0.0894 - accuracy: 0.9664\n",
            "Epoch 12: val_loss did not improve from 0.20039\n",
            "240/240 [==============================] - 3s 14ms/step - loss: 0.0895 - accuracy: 0.9664 - val_loss: 0.2048 - val_accuracy: 0.9317\n",
            "Epoch 13/100\n",
            "237/240 [============================>.] - ETA: 0s - loss: 0.0787 - accuracy: 0.9709\n",
            "Epoch 13: val_loss did not improve from 0.20039\n",
            "240/240 [==============================] - 3s 14ms/step - loss: 0.0789 - accuracy: 0.9709 - val_loss: 0.2166 - val_accuracy: 0.9318\n",
            "Epoch 14/100\n",
            "240/240 [==============================] - ETA: 0s - loss: 0.0712 - accuracy: 0.9746\n",
            "Epoch 14: val_loss did not improve from 0.20039\n",
            "240/240 [==============================] - 3s 14ms/step - loss: 0.0712 - accuracy: 0.9746 - val_loss: 0.2318 - val_accuracy: 0.9305\n",
            "Epoch 15/100\n",
            "239/240 [============================>.] - ETA: 0s - loss: 0.0724 - accuracy: 0.9738\n",
            "Epoch 15: val_loss did not improve from 0.20039\n",
            "240/240 [==============================] - 3s 14ms/step - loss: 0.0724 - accuracy: 0.9737 - val_loss: 0.2301 - val_accuracy: 0.9323\n",
            "Epoch 16/100\n",
            "237/240 [============================>.] - ETA: 0s - loss: 0.0607 - accuracy: 0.9786\n",
            "Epoch 16: val_loss did not improve from 0.20039\n",
            "240/240 [==============================] - 3s 14ms/step - loss: 0.0606 - accuracy: 0.9785 - val_loss: 0.2400 - val_accuracy: 0.9320\n",
            "Epoch 17/100\n",
            "237/240 [============================>.] - ETA: 0s - loss: 0.0542 - accuracy: 0.9801\n",
            "Epoch 17: val_loss did not improve from 0.20039\n",
            "240/240 [==============================] - 3s 14ms/step - loss: 0.0541 - accuracy: 0.9801 - val_loss: 0.2472 - val_accuracy: 0.9305\n",
            "Epoch 18/100\n",
            "238/240 [============================>.] - ETA: 0s - loss: 0.0474 - accuracy: 0.9831\n",
            "Epoch 18: val_loss did not improve from 0.20039\n",
            "240/240 [==============================] - 3s 14ms/step - loss: 0.0476 - accuracy: 0.9830 - val_loss: 0.2619 - val_accuracy: 0.9324\n",
            "Epoch 19/100\n",
            "239/240 [============================>.] - ETA: 0s - loss: 0.0451 - accuracy: 0.9833\n",
            "Epoch 19: val_loss did not improve from 0.20039\n",
            "240/240 [==============================] - 3s 14ms/step - loss: 0.0451 - accuracy: 0.9833 - val_loss: 0.2723 - val_accuracy: 0.9319\n"
          ]
        }
      ]
    },
    {
      "cell_type": "code",
      "source": [
        "best_model = load_model(model_path)\n",
        "best_model.evaluate(X_test, Y_test)"
      ],
      "metadata": {
        "colab": {
          "base_uri": "https://localhost:8080/"
        },
        "id": "-q7dYgzfrBjr",
        "outputId": "6e7d0624-645b-476a-dfdd-03548a6d5955"
      },
      "execution_count": 14,
      "outputs": [
        {
          "output_type": "stream",
          "name": "stdout",
          "text": [
            "313/313 [==============================] - 1s 3ms/step - loss: 0.2157 - accuracy: 0.9269\n"
          ]
        },
        {
          "output_type": "execute_result",
          "data": {
            "text/plain": [
              "[0.2157270759344101, 0.9269000291824341]"
            ]
          },
          "metadata": {},
          "execution_count": 14
        }
      ]
    },
    {
      "cell_type": "markdown",
      "source": [
        "- 학습과정 시각화"
      ],
      "metadata": {
        "id": "woGzKdQ8rEP8"
      }
    },
    {
      "cell_type": "code",
      "source": [
        "y_acc = hist.history['accuracy']\n",
        "y_vloss = hist.history['val_loss']\n",
        "xs = np.arange(1, len(y_acc) + 1)"
      ],
      "metadata": {
        "id": "ehZ7M8wFrCce"
      },
      "execution_count": 15,
      "outputs": []
    },
    {
      "cell_type": "code",
      "source": [
        "plt.figure(figsize = (12, 8))\n",
        "plt.plot(xs, y_acc, label = 'train accuracy')\n",
        "plt.plot(xs, y_vloss, label = 'validation loss')\n",
        "plt.legend(), plt.grid()\n",
        "plt.xlabel('Epoch')\n",
        "plt.title('Fashion MNIST CNN model v1')\n",
        "plt.show()"
      ],
      "metadata": {
        "colab": {
          "base_uri": "https://localhost:8080/",
          "height": 513
        },
        "id": "wmOEapKqrH4U",
        "outputId": "3ffaf790-25b3-42fe-dd1b-09181c0142e6"
      },
      "execution_count": 16,
      "outputs": [
        {
          "output_type": "display_data",
          "data": {
            "text/plain": [
              "<Figure size 864x576 with 1 Axes>"
            ],
            "image/png": "[encoded data removed]"
          },
          "metadata": {
            "needs_background": "light"
          }
        }
      ]
    },
    {
      "cell_type": "code",
      "source": [
        ""
      ],
      "metadata": {
        "id": "YVPX6-Oq1e3b"
      },
      "execution_count": null,
      "outputs": []
    }
  ]
}