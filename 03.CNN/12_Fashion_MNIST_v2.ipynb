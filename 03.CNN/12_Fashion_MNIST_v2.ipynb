{
  "nbformat": 4,
  "nbformat_minor": 0,
  "metadata": {
    "colab": {
      "name": "12_Fashion_MNIST_v2.ipynb",
      "provenance": [],
      "collapsed_sections": []
    },
    "kernelspec": {
      "name": "python3",
      "display_name": "Python 3"
    },
    "language_info": {
      "name": "python"
    },
    "accelerator": "GPU"
  },
  "cells": [
    {
      "cell_type": "markdown",
      "source": [
        "# Fashion MNIST - CNN v2\n",
        "- 2 x Conv2D layers with padding\n",
        "- 1 MaxPooling2D layer\n",
        "- 1 Dropout(0.25) layer\n",
        "- 1 FCN layer\n",
        "- 1 Dropout(0.5) layer\n",
        "- 1 Output layer"
      ],
      "metadata": {
        "id": "c-Sg0BrHqWm8"
      }
    },
    {
      "cell_type": "code",
      "execution_count": 1,
      "metadata": {
        "id": "pmZSOPQ8qU5r"
      },
      "outputs": [],
      "source": [
        "import numpy as np\n",
        "import pandas as pd\n",
        "import matplotlib.pyplot as plt\n",
        "import tensorflow as tf\n",
        "seed = 2022\n",
        "np.random.seed(seed)\n",
        "tf.random.set_seed(seed)"
      ]
    },
    {
      "cell_type": "markdown",
      "source": [
        "- 데이터 전처리"
      ],
      "metadata": {
        "id": "sxKxZpw1qgoy"
      }
    },
    {
      "cell_type": "code",
      "source": [
        "from tensorflow.keras.datasets import fashion_mnist\n",
        "(X_train, y_train), (X_test, y_test) = fashion_mnist.load_data()\n",
        "X_train.shape, y_train.shape, X_test.shape,y_test.shape"
      ],
      "metadata": {
        "colab": {
          "base_uri": "https://localhost:8080/"
        },
        "id": "iPg9wgt1qdvh",
        "outputId": "075d75eb-fc9d-40d6-a5b6-d842f26a8c3d"
      },
      "execution_count": 4,
      "outputs": [
        {
          "output_type": "stream",
          "name": "stdout",
          "text": [
            "Downloading data from https://storage.googleapis.com/tensorflow/tf-keras-datasets/train-labels-idx1-ubyte.gz\n",
            "32768/29515 [=================================] - 0s 0us/step\n",
            "40960/29515 [=========================================] - 0s 0us/step\n",
            "Downloading data from https://storage.googleapis.com/tensorflow/tf-keras-datasets/train-images-idx3-ubyte.gz\n",
            "26427392/26421880 [==============================] - 1s 0us/step\n",
            "26435584/26421880 [==============================] - 1s 0us/step\n",
            "Downloading data from https://storage.googleapis.com/tensorflow/tf-keras-datasets/t10k-labels-idx1-ubyte.gz\n",
            "16384/5148 [===============================================================================================] - 0s 0us/step\n",
            "Downloading data from https://storage.googleapis.com/tensorflow/tf-keras-datasets/t10k-images-idx3-ubyte.gz\n",
            "4423680/4422102 [==============================] - 0s 0us/step\n",
            "4431872/4422102 [==============================] - 0s 0us/step\n"
          ]
        },
        {
          "output_type": "execute_result",
          "data": {
            "text/plain": [
              "((60000, 28, 28), (60000,), (10000, 28, 28), (10000,))"
            ]
          },
          "metadata": {},
          "execution_count": 4
        }
      ]
    },
    {
      "cell_type": "code",
      "source": [
        "# X_train, X_test 정규화(0 ~ 1) & 이미지 차원 변경 : 2차원 --> 3차원\n",
        "X_train = X_train.reshape(-1, 28, 28, 1) / 255.\n",
        "X_test = X_test.reshape(-1, 28, 28, 1) / 255.\n",
        "X_train.shape, X_test.shape"
      ],
      "metadata": {
        "colab": {
          "base_uri": "https://localhost:8080/"
        },
        "id": "sFu3kspuqilk",
        "outputId": "4977d97e-c80e-4442-82be-a63d10531691"
      },
      "execution_count": 5,
      "outputs": [
        {
          "output_type": "execute_result",
          "data": {
            "text/plain": [
              "((60000, 28, 28, 1), (10000, 28, 28, 1))"
            ]
          },
          "metadata": {},
          "execution_count": 5
        }
      ]
    },
    {
      "cell_type": "code",
      "source": [
        "# One hot encoding\n",
        "from tensorflow.keras.utils import to_categorical\n",
        "Y_train = to_categorical(y_train)\n",
        "Y_test = to_categorical(y_test)\n",
        "Y_train.shape, Y_test.shape"
      ],
      "metadata": {
        "colab": {
          "base_uri": "https://localhost:8080/"
        },
        "id": "iL-EOlDSqkfg",
        "outputId": "6799e1cd-9d7f-4add-bfa9-609b371c4d5d"
      },
      "execution_count": 7,
      "outputs": [
        {
          "output_type": "execute_result",
          "data": {
            "text/plain": [
              "((60000, 10), (10000, 10))"
            ]
          },
          "metadata": {},
          "execution_count": 7
        }
      ]
    },
    {
      "cell_type": "markdown",
      "source": [
        "- 모델 정의/설정/학습/평가"
      ],
      "metadata": {
        "id": "mbpiu8onqnmA"
      }
    },
    {
      "cell_type": "code",
      "source": [
        "from tensorflow.keras.models import Sequential, load_model\n",
        "from tensorflow.keras.layers import Dense, Conv2D, Flatten, MaxPooling2D, Dropout\n",
        "from tensorflow.keras.callbacks import ModelCheckpoint, EarlyStopping"
      ],
      "metadata": {
        "id": "Wry4hAS3ql8q"
      },
      "execution_count": 8,
      "outputs": []
    },
    {
      "cell_type": "code",
      "source": [
        "model = Sequential([\n",
        "    Conv2D(32, kernel_size=(3,3), padding='same', input_shape=(28, 28, 1), activation = 'relu'),\n",
        "    Conv2D(64, (3,3), padding='same', activation = 'relu'),\n",
        "    MaxPooling2D(),         # MaxPooling2D(pool_size = (2, 2))\n",
        "    Dropout(0.25),\n",
        "    Flatten(),\n",
        "    Dense(512, activation='relu'),\n",
        "    Dropout(0.5),\n",
        "    Dense(10, activation = 'softmax')\n",
        "])\n",
        "model.summary()"
      ],
      "metadata": {
        "colab": {
          "base_uri": "https://localhost:8080/"
        },
        "id": "ypDaQwS_qrkS",
        "outputId": "e9c10f31-0235-45e8-d186-48c274cd6647"
      },
      "execution_count": 9,
      "outputs": [
        {
          "output_type": "stream",
          "name": "stdout",
          "text": [
            "Model: \"sequential\"\n",
            "_________________________________________________________________\n",
            " Layer (type)                Output Shape              Param #   \n",
            "=================================================================\n",
            " conv2d (Conv2D)             (None, 28, 28, 32)        320       \n",
            "                                                                 \n",
            " conv2d_1 (Conv2D)           (None, 28, 28, 64)        18496     \n",
            "                                                                 \n",
            " max_pooling2d (MaxPooling2D  (None, 14, 14, 64)       0         \n",
            " )                                                               \n",
            "                                                                 \n",
            " dropout (Dropout)           (None, 14, 14, 64)        0         \n",
            "                                                                 \n",
            " flatten (Flatten)           (None, 12544)             0         \n",
            "                                                                 \n",
            " dense (Dense)               (None, 512)               6423040   \n",
            "                                                                 \n",
            " dropout_1 (Dropout)         (None, 512)               0         \n",
            "                                                                 \n",
            " dense_1 (Dense)             (None, 10)                5130      \n",
            "                                                                 \n",
            "=================================================================\n",
            "Total params: 6,446,986\n",
            "Trainable params: 6,446,986\n",
            "Non-trainable params: 0\n",
            "_________________________________________________________________\n"
          ]
        }
      ]
    },
    {
      "cell_type": "code",
      "source": [
        "model.compile('adam', 'categorical_crossentropy', ['accuracy'])"
      ],
      "metadata": {
        "id": "NuGVVW1Sq1Lo"
      },
      "execution_count": 10,
      "outputs": []
    },
    {
      "cell_type": "code",
      "source": [
        "model_path = 'best-fashion-mnist-cnn-v2.h5'\n",
        "mc = ModelCheckpoint(model_path, save_best_only=True, verbose=1)\n",
        "es = EarlyStopping(patience=10)"
      ],
      "metadata": {
        "id": "R6CCp1WFq474"
      },
      "execution_count": 11,
      "outputs": []
    },
    {
      "cell_type": "code",
      "source": [
        "hist = model.fit(\n",
        "    X_train, Y_train, validation_split=0.2, epochs=100, batch_size=200,\n",
        "    callbacks=[mc, es]\n",
        ")"
      ],
      "metadata": {
        "colab": {
          "base_uri": "https://localhost:8080/"
        },
        "id": "DjEEKs3_q6nS",
        "outputId": "c2ed36b7-ddfa-4780-e0c8-f53b34b01e82"
      },
      "execution_count": 12,
      "outputs": [
        {
          "output_type": "stream",
          "name": "stdout",
          "text": [
            "Epoch 1/100\n",
            "238/240 [============================>.] - ETA: 0s - loss: 0.4804 - accuracy: 0.8284\n",
            "Epoch 1: val_loss improved from inf to 0.30957, saving model to best-fashion-mnist-cnn-v2.h5\n",
            "240/240 [==============================] - 15s 18ms/step - loss: 0.4796 - accuracy: 0.8286 - val_loss: 0.3096 - val_accuracy: 0.8873\n",
            "Epoch 2/100\n",
            "238/240 [============================>.] - ETA: 0s - loss: 0.3018 - accuracy: 0.8906\n",
            "Epoch 2: val_loss improved from 0.30957 to 0.26563, saving model to best-fashion-mnist-cnn-v2.h5\n",
            "240/240 [==============================] - 4s 17ms/step - loss: 0.3016 - accuracy: 0.8905 - val_loss: 0.2656 - val_accuracy: 0.9031\n",
            "Epoch 3/100\n",
            "237/240 [============================>.] - ETA: 0s - loss: 0.2470 - accuracy: 0.9102\n",
            "Epoch 3: val_loss improved from 0.26563 to 0.23487, saving model to best-fashion-mnist-cnn-v2.h5\n",
            "240/240 [==============================] - 4s 17ms/step - loss: 0.2473 - accuracy: 0.9101 - val_loss: 0.2349 - val_accuracy: 0.9127\n",
            "Epoch 4/100\n",
            "237/240 [============================>.] - ETA: 0s - loss: 0.2124 - accuracy: 0.9217\n",
            "Epoch 4: val_loss improved from 0.23487 to 0.22134, saving model to best-fashion-mnist-cnn-v2.h5\n",
            "240/240 [==============================] - 4s 17ms/step - loss: 0.2125 - accuracy: 0.9217 - val_loss: 0.2213 - val_accuracy: 0.9182\n",
            "Epoch 5/100\n",
            "237/240 [============================>.] - ETA: 0s - loss: 0.1866 - accuracy: 0.9311\n",
            "Epoch 5: val_loss improved from 0.22134 to 0.20903, saving model to best-fashion-mnist-cnn-v2.h5\n",
            "240/240 [==============================] - 4s 17ms/step - loss: 0.1867 - accuracy: 0.9310 - val_loss: 0.2090 - val_accuracy: 0.9226\n",
            "Epoch 6/100\n",
            "240/240 [==============================] - ETA: 0s - loss: 0.1617 - accuracy: 0.9408\n",
            "Epoch 6: val_loss improved from 0.20903 to 0.20521, saving model to best-fashion-mnist-cnn-v2.h5\n",
            "240/240 [==============================] - 4s 18ms/step - loss: 0.1617 - accuracy: 0.9408 - val_loss: 0.2052 - val_accuracy: 0.9244\n",
            "Epoch 7/100\n",
            "239/240 [============================>.] - ETA: 0s - loss: 0.1432 - accuracy: 0.9465\n",
            "Epoch 7: val_loss improved from 0.20521 to 0.19945, saving model to best-fashion-mnist-cnn-v2.h5\n",
            "240/240 [==============================] - 4s 18ms/step - loss: 0.1433 - accuracy: 0.9465 - val_loss: 0.1994 - val_accuracy: 0.9287\n",
            "Epoch 8/100\n",
            "240/240 [==============================] - ETA: 0s - loss: 0.1283 - accuracy: 0.9523\n",
            "Epoch 8: val_loss did not improve from 0.19945\n",
            "240/240 [==============================] - 4s 18ms/step - loss: 0.1283 - accuracy: 0.9523 - val_loss: 0.2055 - val_accuracy: 0.9277\n",
            "Epoch 9/100\n",
            "237/240 [============================>.] - ETA: 0s - loss: 0.1114 - accuracy: 0.9586\n",
            "Epoch 9: val_loss did not improve from 0.19945\n",
            "240/240 [==============================] - 4s 16ms/step - loss: 0.1119 - accuracy: 0.9585 - val_loss: 0.2069 - val_accuracy: 0.9296\n",
            "Epoch 10/100\n",
            "237/240 [============================>.] - ETA: 0s - loss: 0.0967 - accuracy: 0.9649\n",
            "Epoch 10: val_loss did not improve from 0.19945\n",
            "240/240 [==============================] - 4s 16ms/step - loss: 0.0967 - accuracy: 0.9649 - val_loss: 0.2351 - val_accuracy: 0.9243\n",
            "Epoch 11/100\n",
            "239/240 [============================>.] - ETA: 0s - loss: 0.0851 - accuracy: 0.9682\n",
            "Epoch 11: val_loss did not improve from 0.19945\n",
            "240/240 [==============================] - 4s 17ms/step - loss: 0.0850 - accuracy: 0.9682 - val_loss: 0.2226 - val_accuracy: 0.9313\n",
            "Epoch 12/100\n",
            "240/240 [==============================] - ETA: 0s - loss: 0.0781 - accuracy: 0.9719\n",
            "Epoch 12: val_loss did not improve from 0.19945\n",
            "240/240 [==============================] - 4s 16ms/step - loss: 0.0781 - accuracy: 0.9719 - val_loss: 0.2329 - val_accuracy: 0.9285\n",
            "Epoch 13/100\n",
            "238/240 [============================>.] - ETA: 0s - loss: 0.0671 - accuracy: 0.9750\n",
            "Epoch 13: val_loss did not improve from 0.19945\n",
            "240/240 [==============================] - 4s 16ms/step - loss: 0.0672 - accuracy: 0.9749 - val_loss: 0.2375 - val_accuracy: 0.9295\n",
            "Epoch 14/100\n",
            "237/240 [============================>.] - ETA: 0s - loss: 0.0613 - accuracy: 0.9779\n",
            "Epoch 14: val_loss did not improve from 0.19945\n",
            "240/240 [==============================] - 4s 16ms/step - loss: 0.0613 - accuracy: 0.9779 - val_loss: 0.2558 - val_accuracy: 0.9298\n",
            "Epoch 15/100\n",
            "240/240 [==============================] - ETA: 0s - loss: 0.0559 - accuracy: 0.9808\n",
            "Epoch 15: val_loss did not improve from 0.19945\n",
            "240/240 [==============================] - 4s 17ms/step - loss: 0.0559 - accuracy: 0.9808 - val_loss: 0.2472 - val_accuracy: 0.9314\n",
            "Epoch 16/100\n",
            "237/240 [============================>.] - ETA: 0s - loss: 0.0484 - accuracy: 0.9821\n",
            "Epoch 16: val_loss did not improve from 0.19945\n",
            "240/240 [==============================] - 4s 18ms/step - loss: 0.0485 - accuracy: 0.9822 - val_loss: 0.2542 - val_accuracy: 0.9295\n",
            "Epoch 17/100\n",
            "240/240 [==============================] - ETA: 0s - loss: 0.0447 - accuracy: 0.9841\n",
            "Epoch 17: val_loss did not improve from 0.19945\n",
            "240/240 [==============================] - 4s 18ms/step - loss: 0.0447 - accuracy: 0.9841 - val_loss: 0.2542 - val_accuracy: 0.9335\n"
          ]
        }
      ]
    },
    {
      "cell_type": "code",
      "source": [
        "best_model = load_model(model_path)\n",
        "best_model.evaluate(X_test, Y_test)"
      ],
      "metadata": {
        "colab": {
          "base_uri": "https://localhost:8080/"
        },
        "id": "-q7dYgzfrBjr",
        "outputId": "f6b4c0ac-43de-493f-cc25-418a29f5b1a4"
      },
      "execution_count": 13,
      "outputs": [
        {
          "output_type": "stream",
          "name": "stdout",
          "text": [
            "313/313 [==============================] - 1s 3ms/step - loss: 0.2160 - accuracy: 0.9260\n"
          ]
        },
        {
          "output_type": "execute_result",
          "data": {
            "text/plain": [
              "[0.2159700244665146, 0.9259999990463257]"
            ]
          },
          "metadata": {},
          "execution_count": 13
        }
      ]
    },
    {
      "cell_type": "markdown",
      "source": [
        "- 학습과정 시각화"
      ],
      "metadata": {
        "id": "woGzKdQ8rEP8"
      }
    },
    {
      "cell_type": "code",
      "source": [
        "y_acc = hist.history['accuracy']\n",
        "y_vloss = hist.history['val_loss']\n",
        "xs = np.arange(1, len(y_acc) + 1)"
      ],
      "metadata": {
        "id": "ehZ7M8wFrCce"
      },
      "execution_count": 14,
      "outputs": []
    },
    {
      "cell_type": "code",
      "source": [
        "plt.figure(figsize = (12, 8))\n",
        "plt.plot(xs, y_acc, label = 'train accuracy')\n",
        "plt.plot(xs, y_vloss, label = 'validation loss')\n",
        "plt.legend(), plt.grid()\n",
        "plt.xlabel('Epoch')\n",
        "plt.title('Fashion MNIST CNN model v')\n",
        "plt.show()"
      ],
      "metadata": {
        "colab": {
          "base_uri": "https://localhost:8080/",
          "height": 513
        },
        "id": "wmOEapKqrH4U",
        "outputId": "9a5551d9-9c07-4411-a80d-b044706367c9"
      },
      "execution_count": 15,
      "outputs": [
        {
          "output_type": "display_data",
          "data": {
            "text/plain": [
              "<Figure size 864x576 with 1 Axes>"
            ],
            "image/png": "[encoded data removed]"
          },
          "metadata": {
            "needs_background": "light"
          }
        }
      ]
    },
    {
      "cell_type": "code",
      "source": [
        ""
      ],
      "metadata": {
        "id": "YVPX6-Oq1e3b"
      },
      "execution_count": null,
      "outputs": []
    }
  ]
}