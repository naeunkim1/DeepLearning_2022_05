{
  "nbformat": 4,
  "nbformat_minor": 0,
  "metadata": {
    "colab": {
      "name": "31_ReutersNews_LSTM.ipynb",
      "provenance": [],
      "collapsed_sections": []
    },
    "kernelspec": {
      "name": "python3",
      "display_name": "Python 3"
    },
    "language_info": {
      "name": "python"
    },
    "accelerator": "GPU"
  },
  "cells": [
    {
      "cell_type": "markdown",
      "source": [
        "# 로이터 뉴스 분류하기 - LSTM"
      ],
      "metadata": {
        "id": "fLWurn8kLNvd"
      }
    },
    {
      "cell_type": "markdown",
      "source": [
        "### 데이터 탐색"
      ],
      "metadata": {
        "id": "2q6AqonCLS9h"
      }
    },
    {
      "cell_type": "code",
      "execution_count": 1,
      "metadata": {
        "id": "i6tksuPzKwMK"
      },
      "outputs": [],
      "source": [
        "import numpy as np\n",
        "import seaborn as sns\n",
        "import matplotlib.pyplot as plt\n",
        "from tensorflow.keras.datasets import reuters"
      ]
    },
    {
      "cell_type": "code",
      "source": [
        "(X_train, y_train), (X_test, y_test) = reuters.load_data()\n",
        "len(X_train), len(X_test)"
      ],
      "metadata": {
        "colab": {
          "base_uri": "https://localhost:8080/"
        },
        "id": "bjIgrqtMLbOD",
        "outputId": "bed87ed0-9d2a-4de1-be7e-bec2344d3834"
      },
      "execution_count": 2,
      "outputs": [
        {
          "output_type": "stream",
          "name": "stdout",
          "text": [
            "Downloading data from https://storage.googleapis.com/tensorflow/tf-keras-datasets/reuters.npz\n",
            "2113536/2110848 [==============================] - 0s 0us/step\n",
            "2121728/2110848 [==============================] - 0s 0us/step\n"
          ]
        },
        {
          "output_type": "execute_result",
          "data": {
            "text/plain": [
              "(8982, 2246)"
            ]
          },
          "metadata": {},
          "execution_count": 2
        }
      ]
    },
    {
      "cell_type": "code",
      "source": [
        "# 카테고리 갯수\n",
        "max(y_train) + 1"
      ],
      "metadata": {
        "colab": {
          "base_uri": "https://localhost:8080/"
        },
        "id": "ldPJbFl0Laxm",
        "outputId": "a7138395-0c12-4827-966a-8322fa1693c7"
      },
      "execution_count": 3,
      "outputs": [
        {
          "output_type": "execute_result",
          "data": {
            "text/plain": [
              "46"
            ]
          },
          "metadata": {},
          "execution_count": 3
        }
      ]
    },
    {
      "cell_type": "code",
      "source": [
        "# 첫번째 뉴스\n",
        "print(X_train[0])"
      ],
      "metadata": {
        "colab": {
          "base_uri": "https://localhost:8080/"
        },
        "id": "WOG9i09yL5K9",
        "outputId": "dcff48be-0f60-45b3-a4e7-4dd6871fe4be"
      },
      "execution_count": 4,
      "outputs": [
        {
          "output_type": "stream",
          "name": "stdout",
          "text": [
            "[1, 27595, 28842, 8, 43, 10, 447, 5, 25, 207, 270, 5, 3095, 111, 16, 369, 186, 90, 67, 7, 89, 5, 19, 102, 6, 19, 124, 15, 90, 67, 84, 22, 482, 26, 7, 48, 4, 49, 8, 864, 39, 209, 154, 6, 151, 6, 83, 11, 15, 22, 155, 11, 15, 7, 48, 9, 4579, 1005, 504, 6, 258, 6, 272, 11, 15, 22, 134, 44, 11, 15, 16, 8, 197, 1245, 90, 67, 52, 29, 209, 30, 32, 132, 6, 109, 15, 17, 12]\n"
          ]
        }
      ]
    },
    {
      "cell_type": "code",
      "source": [
        "type(reuters.get_word_index())"
      ],
      "metadata": {
        "colab": {
          "base_uri": "https://localhost:8080/"
        },
        "id": "HL_cjTOIMCKK",
        "outputId": "f31a9c41-cb2c-4270-da83-bce3f90ca6b5"
      },
      "execution_count": 5,
      "outputs": [
        {
          "output_type": "stream",
          "name": "stdout",
          "text": [
            "Downloading data from https://storage.googleapis.com/tensorflow/tf-keras-datasets/reuters_word_index.json\n",
            "557056/550378 [==============================] - 0s 0us/step\n",
            "565248/550378 [==============================] - 0s 0us/step\n"
          ]
        },
        {
          "output_type": "execute_result",
          "data": {
            "text/plain": [
              "dict"
            ]
          },
          "metadata": {},
          "execution_count": 5
        }
      ]
    },
    {
      "cell_type": "code",
      "source": [
        "reuters.get_word_index()['the']"
      ],
      "metadata": {
        "colab": {
          "base_uri": "https://localhost:8080/"
        },
        "id": "pqH5t29XMRy1",
        "outputId": "10669308-43d5-4beb-cbb8-c7c4a797d9f7"
      },
      "execution_count": 6,
      "outputs": [
        {
          "output_type": "execute_result",
          "data": {
            "text/plain": [
              "1"
            ]
          },
          "metadata": {},
          "execution_count": 6
        }
      ]
    },
    {
      "cell_type": "code",
      "source": [
        "index_word = {}\n",
        "for key, value in reuters.get_word_index().items():\n",
        "    index_word[value] = key\n",
        "len(index_word)"
      ],
      "metadata": {
        "colab": {
          "base_uri": "https://localhost:8080/"
        },
        "id": "dBgfD_m8MbkS",
        "outputId": "294bc040-57aa-4fb9-b224-cc5f14cc1bfe"
      },
      "execution_count": 7,
      "outputs": [
        {
          "output_type": "execute_result",
          "data": {
            "text/plain": [
              "30979"
            ]
          },
          "metadata": {},
          "execution_count": 7
        }
      ]
    },
    {
      "cell_type": "code",
      "source": [
        "# 첫번째 기사 복원\n",
        "' '.join(index_word[index] for index in X_train[0])"
      ],
      "metadata": {
        "colab": {
          "base_uri": "https://localhost:8080/",
          "height": 90
        },
        "id": "BnOL14gCMxJd",
        "outputId": "b724e435-2a53-46b6-dabc-3ab252042a48"
      },
      "execution_count": 8,
      "outputs": [
        {
          "output_type": "execute_result",
          "data": {
            "text/plain": [
              "'the wattie nondiscriminatory mln loss for plc said at only ended said commonwealth could 1 traders now april 0 a after said from 1985 and from foreign 000 april 0 prices its account year a but in this mln home an states earlier and rise and revs vs 000 its 16 vs 000 a but 3 psbr oils several and shareholders and dividend vs 000 its all 4 vs 000 1 mln agreed largely april 0 are 2 states will billion total and against 000 pct dlrs'"
            ],
            "application/vnd.google.colaboratory.intrinsic+json": {
              "type": "string"
            }
          },
          "metadata": {},
          "execution_count": 8
        }
      ]
    },
    {
      "cell_type": "code",
      "source": [
        "# 뉴스 기사의 최대/평균 길이\n",
        "max(len(s) for s in X_train), sum(map(len, X_train)) / len(X_train)"
      ],
      "metadata": {
        "colab": {
          "base_uri": "https://localhost:8080/"
        },
        "id": "WFfXRc2NNFed",
        "outputId": "671f00fa-dabe-47f7-ef19-65e26ac176d1"
      },
      "execution_count": 9,
      "outputs": [
        {
          "output_type": "execute_result",
          "data": {
            "text/plain": [
              "(2376, 145.5398574927633)"
            ]
          },
          "metadata": {},
          "execution_count": 9
        }
      ]
    },
    {
      "cell_type": "code",
      "source": [
        "# 뉴스 기사 단어수의 분포\n",
        "plt.hist([len(s) for s in X_train], bins=50)\n",
        "plt.xlabel('length of samples')\n",
        "plt.ylabel('number of samples')\n",
        "plt.show()"
      ],
      "metadata": {
        "colab": {
          "base_uri": "https://localhost:8080/",
          "height": 279
        },
        "id": "A4cmJQ3aNkmF",
        "outputId": "a37a799b-24e3-4200-8743-b10e6713f2f3"
      },
      "execution_count": 10,
      "outputs": [
        {
          "output_type": "display_data",
          "data": {
            "text/plain": [
              "<Figure size 432x288 with 1 Axes>"
            ],
            "image/png": "[encoded data removed]"
          },
          "metadata": {
            "needs_background": "light"
          }
        }
      ]
    },
    {
      "cell_type": "code",
      "source": [
        "# 뉴스 그룹의 분포\n",
        "import warnings\n",
        "warnings.filterwarnings('ignore')\n",
        "plt.figure(figsize=(12, 5))\n",
        "sns.countplot(y_train);"
      ],
      "metadata": {
        "colab": {
          "base_uri": "https://localhost:8080/",
          "height": 320
        },
        "id": "lAhrB0A9OG6A",
        "outputId": "aa6d1af4-a399-4307-caca-f4eeff94e77f"
      },
      "execution_count": 11,
      "outputs": [
        {
          "output_type": "display_data",
          "data": {
            "text/plain": [
              "<Figure size 864x360 with 1 Axes>"
            ],
            "image/png": "[encoded data removed]"
          },
          "metadata": {
            "needs_background": "light"
          }
        }
      ]
    },
    {
      "cell_type": "markdown",
      "source": [
        "### LSTM으로 로이터 뉴스 분류\n",
        "- 문장길이: 100 단어 까지 (최대: 2,376)\n",
        "- 단어: 빈도수 기준 1,000 단어 (총단어수: 30,979)"
      ],
      "metadata": {
        "id": "vZNo4R-JPmwh"
      }
    },
    {
      "cell_type": "code",
      "source": [
        "max_words = 1000\n",
        "max_len = 100"
      ],
      "metadata": {
        "id": "yirlEFs2Oe3p"
      },
      "execution_count": 12,
      "outputs": []
    },
    {
      "cell_type": "code",
      "source": [
        "(X_train, y_train), (X_test, y_test) = reuters.load_data(\n",
        "    num_words=max_words, test_split=0.2\n",
        ")"
      ],
      "metadata": {
        "id": "Nf_69Kz1QjaA"
      },
      "execution_count": 13,
      "outputs": []
    },
    {
      "cell_type": "code",
      "source": [
        "import numpy as np\n",
        "import tensorflow as tf\n",
        "seed = 2022\n",
        "np.random.seed(seed)\n",
        "tf.random.set_seed(seed)"
      ],
      "metadata": {
        "id": "6kNj6AgqQ2s-"
      },
      "execution_count": 14,
      "outputs": []
    },
    {
      "cell_type": "code",
      "source": [
        "from tensorflow.keras.models import Sequential, load_model\n",
        "from tensorflow.keras.layers import Embedding, LSTM, Dense\n",
        "from tensorflow.keras.callbacks import ModelCheckpoint, EarlyStopping\n",
        "from tensorflow.keras.preprocessing.sequence import pad_sequences\n",
        "from tensorflow.keras.utils import to_categorical"
      ],
      "metadata": {
        "id": "w2IN_kLaRQ_V"
      },
      "execution_count": 15,
      "outputs": []
    },
    {
      "cell_type": "code",
      "source": [
        "X_train = pad_sequences(X_train, maxlen=max_len)\n",
        "X_test = pad_sequences(X_test, maxlen=max_len)\n",
        "Y_train = to_categorical(y_train)\n",
        "Y_test = to_categorical(y_test)\n",
        "X_train.shape, X_test.shape, Y_train.shape, Y_test.shape"
      ],
      "metadata": {
        "colab": {
          "base_uri": "https://localhost:8080/"
        },
        "id": "VANAK-WzRTie",
        "outputId": "ac913ff3-bcb8-4844-c02c-d23d11ed570a"
      },
      "execution_count": 16,
      "outputs": [
        {
          "output_type": "execute_result",
          "data": {
            "text/plain": [
              "((8982, 100), (2246, 100), (8982, 46), (2246, 46))"
            ]
          },
          "metadata": {},
          "execution_count": 16
        }
      ]
    },
    {
      "cell_type": "markdown",
      "source": [
        "- 모델 정의/설정/학습"
      ],
      "metadata": {
        "id": "WsIGAa_ZSGB7"
      }
    },
    {
      "cell_type": "code",
      "source": [
        "model = Sequential([\n",
        "    Embedding(max_words, 64, input_length=max_len),\n",
        "    LSTM(100),\n",
        "    Dense(46, activation = 'softmax')\n",
        "])\n",
        "model.summary()"
      ],
      "metadata": {
        "colab": {
          "base_uri": "https://localhost:8080/"
        },
        "id": "kwxsi0bRR8pN",
        "outputId": "21b9756e-4ab5-4e4a-e60e-f334c4759ede"
      },
      "execution_count": 17,
      "outputs": [
        {
          "output_type": "stream",
          "name": "stdout",
          "text": [
            "Model: \"sequential\"\n",
            "_________________________________________________________________\n",
            " Layer (type)                Output Shape              Param #   \n",
            "=================================================================\n",
            " embedding (Embedding)       (None, 100, 64)           64000     \n",
            "                                                                 \n",
            " lstm (LSTM)                 (None, 100)               66000     \n",
            "                                                                 \n",
            " dense (Dense)               (None, 46)                4646      \n",
            "                                                                 \n",
            "=================================================================\n",
            "Total params: 134,646\n",
            "Trainable params: 134,646\n",
            "Non-trainable params: 0\n",
            "_________________________________________________________________\n"
          ]
        }
      ]
    },
    {
      "cell_type": "code",
      "source": [
        "model.compile('adam', 'categorical_crossentropy', ['accuracy'])"
      ],
      "metadata": {
        "id": "vUnL_NMjSwHL"
      },
      "execution_count": 18,
      "outputs": []
    },
    {
      "cell_type": "code",
      "source": [
        "model_path = 'best-reuters-lstm.h5'\n",
        "mc = ModelCheckpoint(model_path, verbose=1, save_best_only=True)\n",
        "es = EarlyStopping(patience=10)"
      ],
      "metadata": {
        "id": "YQpNIeo1S5NX"
      },
      "execution_count": 19,
      "outputs": []
    },
    {
      "cell_type": "code",
      "source": [
        "hist = model.fit(\n",
        "    X_train, Y_train, validation_split=0.2,\n",
        "    epochs=100, batch_size=128, callbacks=[mc,es]\n",
        ")"
      ],
      "metadata": {
        "colab": {
          "base_uri": "https://localhost:8080/"
        },
        "id": "82GPoO4KTCcV",
        "outputId": "2bc1cf2d-9607-4cc8-9bf0-a8554b1f2ebf"
      },
      "execution_count": 20,
      "outputs": [
        {
          "output_type": "stream",
          "name": "stdout",
          "text": [
            "Epoch 1/100\n",
            "57/57 [==============================] - ETA: 0s - loss: 2.7159 - accuracy: 0.3317\n",
            "Epoch 1: val_loss improved from inf to 2.40400, saving model to best-reuters-lstm.h5\n",
            "57/57 [==============================] - 8s 22ms/step - loss: 2.7159 - accuracy: 0.3317 - val_loss: 2.4040 - val_accuracy: 0.3450\n",
            "Epoch 2/100\n",
            "56/57 [============================>.] - ETA: 0s - loss: 2.4047 - accuracy: 0.3532\n",
            "Epoch 2: val_loss improved from 2.40400 to 2.38775, saving model to best-reuters-lstm.h5\n",
            "57/57 [==============================] - 1s 13ms/step - loss: 2.4047 - accuracy: 0.3534 - val_loss: 2.3877 - val_accuracy: 0.3450\n",
            "Epoch 3/100\n",
            "56/57 [============================>.] - ETA: 0s - loss: 2.2602 - accuracy: 0.4339\n",
            "Epoch 3: val_loss improved from 2.38775 to 2.06288, saving model to best-reuters-lstm.h5\n",
            "57/57 [==============================] - 1s 12ms/step - loss: 2.2596 - accuracy: 0.4341 - val_loss: 2.0629 - val_accuracy: 0.4780\n",
            "Epoch 4/100\n",
            "54/57 [===========================>..] - ETA: 0s - loss: 2.0033 - accuracy: 0.4867\n",
            "Epoch 4: val_loss improved from 2.06288 to 1.90449, saving model to best-reuters-lstm.h5\n",
            "57/57 [==============================] - 1s 12ms/step - loss: 1.9999 - accuracy: 0.4873 - val_loss: 1.9045 - val_accuracy: 0.4964\n",
            "Epoch 5/100\n",
            "54/57 [===========================>..] - ETA: 0s - loss: 1.8433 - accuracy: 0.5229\n",
            "Epoch 5: val_loss improved from 1.90449 to 1.78139, saving model to best-reuters-lstm.h5\n",
            "57/57 [==============================] - 1s 12ms/step - loss: 1.8398 - accuracy: 0.5222 - val_loss: 1.7814 - val_accuracy: 0.5220\n",
            "Epoch 6/100\n",
            "55/57 [===========================>..] - ETA: 0s - loss: 1.7375 - accuracy: 0.5405\n",
            "Epoch 6: val_loss improved from 1.78139 to 1.72972, saving model to best-reuters-lstm.h5\n",
            "57/57 [==============================] - 1s 13ms/step - loss: 1.7404 - accuracy: 0.5397 - val_loss: 1.7297 - val_accuracy: 0.5431\n",
            "Epoch 7/100\n",
            "54/57 [===========================>..] - ETA: 0s - loss: 1.7011 - accuracy: 0.5548\n",
            "Epoch 7: val_loss improved from 1.72972 to 1.67397, saving model to best-reuters-lstm.h5\n",
            "57/57 [==============================] - 1s 12ms/step - loss: 1.6924 - accuracy: 0.5576 - val_loss: 1.6740 - val_accuracy: 0.5659\n",
            "Epoch 8/100\n",
            "56/57 [============================>.] - ETA: 0s - loss: 1.6650 - accuracy: 0.5707\n",
            "Epoch 8: val_loss improved from 1.67397 to 1.67019, saving model to best-reuters-lstm.h5\n",
            "57/57 [==============================] - 1s 12ms/step - loss: 1.6644 - accuracy: 0.5712 - val_loss: 1.6702 - val_accuracy: 0.5760\n",
            "Epoch 9/100\n",
            "54/57 [===========================>..] - ETA: 0s - loss: 1.5460 - accuracy: 0.6120\n",
            "Epoch 9: val_loss improved from 1.67019 to 1.62491, saving model to best-reuters-lstm.h5\n",
            "57/57 [==============================] - 1s 12ms/step - loss: 1.5505 - accuracy: 0.6117 - val_loss: 1.6249 - val_accuracy: 0.5960\n",
            "Epoch 10/100\n",
            "56/57 [============================>.] - ETA: 0s - loss: 1.4687 - accuracy: 0.6311\n",
            "Epoch 10: val_loss improved from 1.62491 to 1.47887, saving model to best-reuters-lstm.h5\n",
            "57/57 [==============================] - 1s 12ms/step - loss: 1.4679 - accuracy: 0.6313 - val_loss: 1.4789 - val_accuracy: 0.6333\n",
            "Epoch 11/100\n",
            "53/57 [==========================>...] - ETA: 0s - loss: 1.3610 - accuracy: 0.6585\n",
            "Epoch 11: val_loss did not improve from 1.47887\n",
            "57/57 [==============================] - 1s 11ms/step - loss: 1.3604 - accuracy: 0.6592 - val_loss: 1.5049 - val_accuracy: 0.6266\n",
            "Epoch 12/100\n",
            "56/57 [============================>.] - ETA: 0s - loss: 1.3074 - accuracy: 0.6751\n",
            "Epoch 12: val_loss improved from 1.47887 to 1.40181, saving model to best-reuters-lstm.h5\n",
            "57/57 [==============================] - 1s 12ms/step - loss: 1.3069 - accuracy: 0.6750 - val_loss: 1.4018 - val_accuracy: 0.6572\n",
            "Epoch 13/100\n",
            "56/57 [============================>.] - ETA: 0s - loss: 1.2787 - accuracy: 0.6851\n",
            "Epoch 13: val_loss improved from 1.40181 to 1.37124, saving model to best-reuters-lstm.h5\n",
            "57/57 [==============================] - 1s 13ms/step - loss: 1.2776 - accuracy: 0.6852 - val_loss: 1.3712 - val_accuracy: 0.6739\n",
            "Epoch 14/100\n",
            "53/57 [==========================>...] - ETA: 0s - loss: 1.2103 - accuracy: 0.6972\n",
            "Epoch 14: val_loss improved from 1.37124 to 1.33711, saving model to best-reuters-lstm.h5\n",
            "57/57 [==============================] - 1s 12ms/step - loss: 1.2032 - accuracy: 0.6992 - val_loss: 1.3371 - val_accuracy: 0.6778\n",
            "Epoch 15/100\n",
            "53/57 [==========================>...] - ETA: 0s - loss: 1.1609 - accuracy: 0.7055\n",
            "Epoch 15: val_loss did not improve from 1.33711\n",
            "57/57 [==============================] - 1s 12ms/step - loss: 1.1656 - accuracy: 0.7034 - val_loss: 1.3663 - val_accuracy: 0.6739\n",
            "Epoch 16/100\n",
            "57/57 [==============================] - ETA: 0s - loss: 1.1219 - accuracy: 0.7129\n",
            "Epoch 16: val_loss improved from 1.33711 to 1.31163, saving model to best-reuters-lstm.h5\n",
            "57/57 [==============================] - 1s 12ms/step - loss: 1.1219 - accuracy: 0.7129 - val_loss: 1.3116 - val_accuracy: 0.6867\n",
            "Epoch 17/100\n",
            "57/57 [==============================] - ETA: 0s - loss: 1.0846 - accuracy: 0.7240\n",
            "Epoch 17: val_loss improved from 1.31163 to 1.29904, saving model to best-reuters-lstm.h5\n",
            "57/57 [==============================] - 1s 12ms/step - loss: 1.0846 - accuracy: 0.7240 - val_loss: 1.2990 - val_accuracy: 0.6856\n",
            "Epoch 18/100\n",
            "53/57 [==========================>...] - ETA: 0s - loss: 1.0380 - accuracy: 0.7328\n",
            "Epoch 18: val_loss improved from 1.29904 to 1.29515, saving model to best-reuters-lstm.h5\n",
            "57/57 [==============================] - 1s 12ms/step - loss: 1.0397 - accuracy: 0.7318 - val_loss: 1.2951 - val_accuracy: 0.6867\n",
            "Epoch 19/100\n",
            "56/57 [============================>.] - ETA: 0s - loss: 1.0169 - accuracy: 0.7379\n",
            "Epoch 19: val_loss improved from 1.29515 to 1.28295, saving model to best-reuters-lstm.h5\n",
            "57/57 [==============================] - 1s 12ms/step - loss: 1.0161 - accuracy: 0.7381 - val_loss: 1.2829 - val_accuracy: 0.6856\n",
            "Epoch 20/100\n",
            "54/57 [===========================>..] - ETA: 0s - loss: 0.9710 - accuracy: 0.7562\n",
            "Epoch 20: val_loss did not improve from 1.28295\n",
            "57/57 [==============================] - 1s 11ms/step - loss: 0.9673 - accuracy: 0.7564 - val_loss: 1.3261 - val_accuracy: 0.6884\n",
            "Epoch 21/100\n",
            "52/57 [==========================>...] - ETA: 0s - loss: 0.9721 - accuracy: 0.7467\n",
            "Epoch 21: val_loss did not improve from 1.28295\n",
            "57/57 [==============================] - 1s 11ms/step - loss: 0.9641 - accuracy: 0.7502 - val_loss: 1.2970 - val_accuracy: 0.6939\n",
            "Epoch 22/100\n",
            "52/57 [==========================>...] - ETA: 0s - loss: 0.9122 - accuracy: 0.7646\n",
            "Epoch 22: val_loss improved from 1.28295 to 1.26399, saving model to best-reuters-lstm.h5\n",
            "57/57 [==============================] - 1s 12ms/step - loss: 0.9173 - accuracy: 0.7635 - val_loss: 1.2640 - val_accuracy: 0.6989\n",
            "Epoch 23/100\n",
            "57/57 [==============================] - ETA: 0s - loss: 0.9212 - accuracy: 0.7669\n",
            "Epoch 23: val_loss did not improve from 1.26399\n",
            "57/57 [==============================] - 1s 11ms/step - loss: 0.9212 - accuracy: 0.7669 - val_loss: 1.2926 - val_accuracy: 0.7017\n",
            "Epoch 24/100\n",
            "57/57 [==============================] - ETA: 0s - loss: 0.8765 - accuracy: 0.7779\n",
            "Epoch 24: val_loss improved from 1.26399 to 1.24221, saving model to best-reuters-lstm.h5\n",
            "57/57 [==============================] - 1s 12ms/step - loss: 0.8765 - accuracy: 0.7779 - val_loss: 1.2422 - val_accuracy: 0.7078\n",
            "Epoch 25/100\n",
            "52/57 [==========================>...] - ETA: 0s - loss: 0.8445 - accuracy: 0.7862\n",
            "Epoch 25: val_loss did not improve from 1.24221\n",
            "57/57 [==============================] - 1s 13ms/step - loss: 0.8418 - accuracy: 0.7869 - val_loss: 1.2620 - val_accuracy: 0.7106\n",
            "Epoch 26/100\n",
            "52/57 [==========================>...] - ETA: 0s - loss: 0.8045 - accuracy: 0.7976\n",
            "Epoch 26: val_loss did not improve from 1.24221\n",
            "57/57 [==============================] - 1s 11ms/step - loss: 0.8110 - accuracy: 0.7974 - val_loss: 1.2719 - val_accuracy: 0.7123\n",
            "Epoch 27/100\n",
            "53/57 [==========================>...] - ETA: 0s - loss: 0.7808 - accuracy: 0.8037\n",
            "Epoch 27: val_loss did not improve from 1.24221\n",
            "57/57 [==============================] - 1s 11ms/step - loss: 0.7811 - accuracy: 0.8035 - val_loss: 1.2852 - val_accuracy: 0.7145\n",
            "Epoch 28/100\n",
            "55/57 [===========================>..] - ETA: 0s - loss: 0.7716 - accuracy: 0.8038\n",
            "Epoch 28: val_loss did not improve from 1.24221\n",
            "57/57 [==============================] - 1s 12ms/step - loss: 0.7696 - accuracy: 0.8045 - val_loss: 1.2844 - val_accuracy: 0.7117\n",
            "Epoch 29/100\n",
            "54/57 [===========================>..] - ETA: 0s - loss: 0.7558 - accuracy: 0.8121\n",
            "Epoch 29: val_loss did not improve from 1.24221\n",
            "57/57 [==============================] - 1s 11ms/step - loss: 0.7546 - accuracy: 0.8128 - val_loss: 1.3279 - val_accuracy: 0.7156\n",
            "Epoch 30/100\n",
            "57/57 [==============================] - ETA: 0s - loss: 0.7287 - accuracy: 0.8157\n",
            "Epoch 30: val_loss did not improve from 1.24221\n",
            "57/57 [==============================] - 1s 13ms/step - loss: 0.7287 - accuracy: 0.8157 - val_loss: 1.2950 - val_accuracy: 0.7173\n",
            "Epoch 31/100\n",
            "56/57 [============================>.] - ETA: 0s - loss: 0.7125 - accuracy: 0.8217\n",
            "Epoch 31: val_loss did not improve from 1.24221\n",
            "57/57 [==============================] - 1s 12ms/step - loss: 0.7119 - accuracy: 0.8220 - val_loss: 1.2919 - val_accuracy: 0.7095\n",
            "Epoch 32/100\n",
            "57/57 [==============================] - ETA: 0s - loss: 0.6738 - accuracy: 0.8317\n",
            "Epoch 32: val_loss did not improve from 1.24221\n",
            "57/57 [==============================] - 1s 11ms/step - loss: 0.6738 - accuracy: 0.8317 - val_loss: 1.3299 - val_accuracy: 0.7051\n",
            "Epoch 33/100\n",
            "55/57 [===========================>..] - ETA: 0s - loss: 0.6529 - accuracy: 0.8362\n",
            "Epoch 33: val_loss did not improve from 1.24221\n",
            "57/57 [==============================] - 1s 11ms/step - loss: 0.6504 - accuracy: 0.8369 - val_loss: 1.3387 - val_accuracy: 0.7112\n",
            "Epoch 34/100\n",
            "55/57 [===========================>..] - ETA: 0s - loss: 0.6405 - accuracy: 0.8389\n",
            "Epoch 34: val_loss did not improve from 1.24221\n",
            "57/57 [==============================] - 1s 12ms/step - loss: 0.6412 - accuracy: 0.8384 - val_loss: 1.3641 - val_accuracy: 0.7006\n"
          ]
        }
      ]
    },
    {
      "cell_type": "code",
      "source": [
        "best_model = load_model(model_path)\n",
        "best_model.evaluate(X_test, Y_test)"
      ],
      "metadata": {
        "colab": {
          "base_uri": "https://localhost:8080/"
        },
        "id": "XktW1VClTNSi",
        "outputId": "7329e7d6-66b9-4e62-f0d1-6442fb7a93f8"
      },
      "execution_count": 21,
      "outputs": [
        {
          "output_type": "stream",
          "name": "stdout",
          "text": [
            "71/71 [==============================] - 1s 8ms/step - loss: 1.2486 - accuracy: 0.6897\n"
          ]
        },
        {
          "output_type": "execute_result",
          "data": {
            "text/plain": [
              "[1.2486108541488647, 0.6896705031394958]"
            ]
          },
          "metadata": {},
          "execution_count": 21
        }
      ]
    },
    {
      "cell_type": "markdown",
      "source": [
        "- 학습과정 시각화"
      ],
      "metadata": {
        "id": "jqIvl1VCUz0w"
      }
    },
    {
      "cell_type": "code",
      "source": [
        "y_acc = hist.history['accuracy']\n",
        "y_vloss = hist.history['val_loss']\n",
        "xs = np.arange(1, len(y_acc) + 1)"
      ],
      "metadata": {
        "id": "015wiAoUUuMW"
      },
      "execution_count": 22,
      "outputs": []
    },
    {
      "cell_type": "code",
      "source": [
        "import matplotlib.pyplot as plt\n",
        "\n",
        "plt.figure(figsize = (12, 8))\n",
        "plt.plot(xs, y_acc, label = 'train accuracy')\n",
        "plt.plot(xs, y_vloss, label = 'validation loss')\n",
        "plt.legend(), plt.grid()\n",
        "plt.xlabel('Epoch')\n",
        "plt.show()"
      ],
      "metadata": {
        "colab": {
          "base_uri": "https://localhost:8080/",
          "height": 499
        },
        "id": "hgvTpVzoU2_7",
        "outputId": "b7c7ae07-cf95-4e60-d401-eb518a4bee11"
      },
      "execution_count": 23,
      "outputs": [
        {
          "output_type": "display_data",
          "data": {
            "text/plain": [
              "<Figure size 864x576 with 1 Axes>"
            ],
            "image/png": "[encoded data removed]"
          },
          "metadata": {
            "needs_background": "light"
          }
        }
      ]
    },
    {
      "cell_type": "code",
      "source": [
        ""
      ],
      "metadata": {
        "id": "9l0vwILyU48L"
      },
      "execution_count": null,
      "outputs": []
    }
  ]
}