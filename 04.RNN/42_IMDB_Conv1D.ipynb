{
  "nbformat": 4,
  "nbformat_minor": 0,
  "metadata": {
    "colab": {
      "name": "42_IMDB_Conv1D.ipynb",
      "provenance": [],
      "collapsed_sections": []
    },
    "kernelspec": {
      "name": "python3",
      "display_name": "Python 3"
    },
    "language_info": {
      "name": "python"
    },
    "accelerator": "GPU"
  },
  "cells": [
    {
      "cell_type": "markdown",
      "source": [
        "# IMDB 영화리뷰 감성분석 - Conv1D\n",
        "- Conv1D + Conv1D + Dense\n",
        "- Conv1D + LSTM + Dense\n",
        "- Conv1D + Dense + Dense"
      ],
      "metadata": {
        "id": "FWiyEgZJCOIy"
      }
    },
    {
      "cell_type": "code",
      "execution_count": 1,
      "metadata": {
        "id": "9W10sT16CKgS"
      },
      "outputs": [],
      "source": [
        "import numpy as np\n",
        "import tensorflow as tf\n",
        "seed = 2022\n",
        "np.random.seed(seed)\n",
        "tf.random.set_seed(seed)"
      ]
    },
    {
      "cell_type": "code",
      "source": [
        "from tensorflow.keras.datasets import imdb\n",
        "from tensorflow.keras.models import Sequential, load_model\n",
        "from tensorflow.keras.layers import Embedding, LSTM, Dense, Dropout\n",
        "from tensorflow.keras.layers import Conv1D, MaxPooling1D, GlobalMaxPooling1D\n",
        "from tensorflow.keras.callbacks import ModelCheckpoint, EarlyStopping\n",
        "from tensorflow.keras.preprocessing.sequence import pad_sequences\n",
        "from sklearn.model_selection import train_test_split"
      ],
      "metadata": {
        "id": "QgF2cdjvCs_r"
      },
      "execution_count": 2,
      "outputs": []
    },
    {
      "cell_type": "code",
      "source": [
        "num_words = 10000\n",
        "(X_train, y_train), (_,_) = imdb.load_data(num_words=num_words)"
      ],
      "metadata": {
        "colab": {
          "base_uri": "https://localhost:8080/"
        },
        "id": "DbJiV1cXCy2z",
        "outputId": "0b99450c-1725-4da5-a46b-c49105b7fa15"
      },
      "execution_count": 3,
      "outputs": [
        {
          "output_type": "stream",
          "name": "stdout",
          "text": [
            "Downloading data from https://storage.googleapis.com/tensorflow/tf-keras-datasets/imdb.npz\n",
            "17465344/17464789 [==============================] - 0s 0us/step\n",
            "17473536/17464789 [==============================] - 0s 0us/step\n"
          ]
        }
      ]
    },
    {
      "cell_type": "code",
      "source": [
        "X_train, X_test, y_train, y_test = train_test_split(\n",
        "    X_train, y_train, stratify=y_train, test_size=0.2, random_state=seed\n",
        ")\n",
        "X_train.shape, X_test.shape, y_train.shape, y_test.shape"
      ],
      "metadata": {
        "colab": {
          "base_uri": "https://localhost:8080/"
        },
        "id": "2ngVPGJCC0qh",
        "outputId": "4b534c1b-1597-427a-ce65-04390808b7a4"
      },
      "execution_count": 4,
      "outputs": [
        {
          "output_type": "execute_result",
          "data": {
            "text/plain": [
              "((20000,), (5000,), (20000,), (5000,))"
            ]
          },
          "metadata": {},
          "execution_count": 4
        }
      ]
    },
    {
      "cell_type": "code",
      "source": [
        "max_len = 500\n",
        "X_train = pad_sequences(X_train, maxlen=max_len)\n",
        "X_test = pad_sequences(X_test, maxlen=max_len)\n",
        "X_train.shape, X_test.shape"
      ],
      "metadata": {
        "colab": {
          "base_uri": "https://localhost:8080/"
        },
        "id": "2YonswLUC-th",
        "outputId": "e05cc98f-0fae-47ed-cdd0-7309e823f9a9"
      },
      "execution_count": 5,
      "outputs": [
        {
          "output_type": "execute_result",
          "data": {
            "text/plain": [
              "((20000, 500), (5000, 500))"
            ]
          },
          "metadata": {},
          "execution_count": 5
        }
      ]
    },
    {
      "cell_type": "markdown",
      "source": [
        "- Case 1) Conv1D x 2"
      ],
      "metadata": {
        "id": "x_j972RUDFQ8"
      }
    },
    {
      "cell_type": "code",
      "source": [
        "model1 = Sequential([\n",
        "    Embedding(num_words, 100, input_length=max_len),\n",
        "    Dropout(0.5),\n",
        "    Conv1D(64, 7, activation='relu'),\n",
        "    MaxPooling1D(7),\n",
        "    Conv1D(64, 5, activation='relu'),\n",
        "    MaxPooling1D(5),\n",
        "    GlobalMaxPooling1D(),\n",
        "    Dense(1, activation='sigmoid')\n",
        "])\n",
        "model1.summary()"
      ],
      "metadata": {
        "colab": {
          "base_uri": "https://localhost:8080/"
        },
        "id": "sc7kqGwUDBee",
        "outputId": "f234bd87-fe9f-4d03-8174-283e4fcbf748"
      },
      "execution_count": 6,
      "outputs": [
        {
          "output_type": "stream",
          "name": "stdout",
          "text": [
            "Model: \"sequential\"\n",
            "_________________________________________________________________\n",
            " Layer (type)                Output Shape              Param #   \n",
            "=================================================================\n",
            " embedding (Embedding)       (None, 500, 100)          1000000   \n",
            "                                                                 \n",
            " dropout (Dropout)           (None, 500, 100)          0         \n",
            "                                                                 \n",
            " conv1d (Conv1D)             (None, 494, 64)           44864     \n",
            "                                                                 \n",
            " max_pooling1d (MaxPooling1D  (None, 70, 64)           0         \n",
            " )                                                               \n",
            "                                                                 \n",
            " conv1d_1 (Conv1D)           (None, 66, 64)            20544     \n",
            "                                                                 \n",
            " max_pooling1d_1 (MaxPooling  (None, 13, 64)           0         \n",
            " 1D)                                                             \n",
            "                                                                 \n",
            " global_max_pooling1d (Globa  (None, 64)               0         \n",
            " lMaxPooling1D)                                                  \n",
            "                                                                 \n",
            " dense (Dense)               (None, 1)                 65        \n",
            "                                                                 \n",
            "=================================================================\n",
            "Total params: 1,065,473\n",
            "Trainable params: 1,065,473\n",
            "Non-trainable params: 0\n",
            "_________________________________________________________________\n"
          ]
        }
      ]
    },
    {
      "cell_type": "code",
      "source": [
        "model1.compile('adam', 'binary_crossentropy', ['accuracy'])\n",
        "model1_path = 'best-imdb-conv1d-conv1d.h5'\n",
        "mc1 = ModelCheckpoint(model1_path, verbose=1, save_best_only=True)\n",
        "es1 = EarlyStopping(patience=5)"
      ],
      "metadata": {
        "id": "l753_IApGib7"
      },
      "execution_count": 7,
      "outputs": []
    },
    {
      "cell_type": "code",
      "source": [
        "hist1 = model1.fit(\n",
        "    X_train, y_train, validation_split=0.2,\n",
        "    epochs=30, batch_size=64, callbacks=[mc1, es1]\n",
        ")"
      ],
      "metadata": {
        "colab": {
          "base_uri": "https://localhost:8080/"
        },
        "id": "PSEjdv5nIYU_",
        "outputId": "99487ba7-0e3c-4912-f335-e230bc211411"
      },
      "execution_count": 8,
      "outputs": [
        {
          "output_type": "stream",
          "name": "stdout",
          "text": [
            "Epoch 1/30\n",
            "249/250 [============================>.] - ETA: 0s - loss: 0.5573 - accuracy: 0.6782\n",
            "Epoch 1: val_loss improved from inf to 0.36043, saving model to best-imdb-conv1d-conv1d.h5\n",
            "250/250 [==============================] - 15s 10ms/step - loss: 0.5566 - accuracy: 0.6787 - val_loss: 0.3604 - val_accuracy: 0.8470\n",
            "Epoch 2/30\n",
            "248/250 [============================>.] - ETA: 0s - loss: 0.2876 - accuracy: 0.8838\n",
            "Epoch 2: val_loss improved from 0.36043 to 0.32232, saving model to best-imdb-conv1d-conv1d.h5\n",
            "250/250 [==============================] - 2s 9ms/step - loss: 0.2882 - accuracy: 0.8834 - val_loss: 0.3223 - val_accuracy: 0.8630\n",
            "Epoch 3/30\n",
            "250/250 [==============================] - ETA: 0s - loss: 0.1949 - accuracy: 0.9262\n",
            "Epoch 3: val_loss did not improve from 0.32232\n",
            "250/250 [==============================] - 2s 9ms/step - loss: 0.1949 - accuracy: 0.9262 - val_loss: 0.3523 - val_accuracy: 0.8555\n",
            "Epoch 4/30\n",
            "245/250 [============================>.] - ETA: 0s - loss: 0.1322 - accuracy: 0.9524\n",
            "Epoch 4: val_loss did not improve from 0.32232\n",
            "250/250 [==============================] - 2s 9ms/step - loss: 0.1322 - accuracy: 0.9524 - val_loss: 0.3675 - val_accuracy: 0.8602\n",
            "Epoch 5/30\n",
            "247/250 [============================>.] - ETA: 0s - loss: 0.0860 - accuracy: 0.9688\n",
            "Epoch 5: val_loss did not improve from 0.32232\n",
            "250/250 [==============================] - 2s 10ms/step - loss: 0.0869 - accuracy: 0.9686 - val_loss: 0.4496 - val_accuracy: 0.8560\n",
            "Epoch 6/30\n",
            "250/250 [==============================] - ETA: 0s - loss: 0.0592 - accuracy: 0.9786\n",
            "Epoch 6: val_loss did not improve from 0.32232\n",
            "250/250 [==============================] - 2s 10ms/step - loss: 0.0592 - accuracy: 0.9786 - val_loss: 0.5264 - val_accuracy: 0.8612\n",
            "Epoch 7/30\n",
            "249/250 [============================>.] - ETA: 0s - loss: 0.0392 - accuracy: 0.9860\n",
            "Epoch 7: val_loss did not improve from 0.32232\n",
            "250/250 [==============================] - 2s 9ms/step - loss: 0.0395 - accuracy: 0.9859 - val_loss: 0.5960 - val_accuracy: 0.8543\n"
          ]
        }
      ]
    },
    {
      "cell_type": "code",
      "source": [
        "best_model1 = load_model(model1_path)\n",
        "best_model1.evaluate(X_test, y_test)"
      ],
      "metadata": {
        "colab": {
          "base_uri": "https://localhost:8080/"
        },
        "id": "D4izWo2PIXdG",
        "outputId": "97f90113-c3ba-4599-f8c4-eb7fac76278a"
      },
      "execution_count": 9,
      "outputs": [
        {
          "output_type": "stream",
          "name": "stdout",
          "text": [
            "157/157 [==============================] - 1s 3ms/step - loss: 0.3078 - accuracy: 0.8664\n"
          ]
        },
        {
          "output_type": "execute_result",
          "data": {
            "text/plain": [
              "[0.30781808495521545, 0.8664000034332275]"
            ]
          },
          "metadata": {},
          "execution_count": 9
        }
      ]
    },
    {
      "cell_type": "markdown",
      "source": [
        "- Case 2) Conv1D + LSTM"
      ],
      "metadata": {
        "id": "vYNDXho9GfGC"
      }
    },
    {
      "cell_type": "code",
      "source": [
        "model2 = Sequential([\n",
        "    Embedding(num_words, 100, input_length=max_len),\n",
        "    Dropout(0.5),\n",
        "    Conv1D(64, 5, activation='relu'),\n",
        "    MaxPooling1D(5),\n",
        "    LSTM(100),\n",
        "    Dense(1, activation='sigmoid')\n",
        "])\n",
        "model2.summary()"
      ],
      "metadata": {
        "colab": {
          "base_uri": "https://localhost:8080/"
        },
        "id": "NcmDU0e_E2vh",
        "outputId": "5402f0d8-48ca-4bbe-c2c6-46deca3fa457"
      },
      "execution_count": 10,
      "outputs": [
        {
          "output_type": "stream",
          "name": "stdout",
          "text": [
            "Model: \"sequential_1\"\n",
            "_________________________________________________________________\n",
            " Layer (type)                Output Shape              Param #   \n",
            "=================================================================\n",
            " embedding_1 (Embedding)     (None, 500, 100)          1000000   \n",
            "                                                                 \n",
            " dropout_1 (Dropout)         (None, 500, 100)          0         \n",
            "                                                                 \n",
            " conv1d_2 (Conv1D)           (None, 496, 64)           32064     \n",
            "                                                                 \n",
            " max_pooling1d_2 (MaxPooling  (None, 99, 64)           0         \n",
            " 1D)                                                             \n",
            "                                                                 \n",
            " lstm (LSTM)                 (None, 100)               66000     \n",
            "                                                                 \n",
            " dense_1 (Dense)             (None, 1)                 101       \n",
            "                                                                 \n",
            "=================================================================\n",
            "Total params: 1,098,165\n",
            "Trainable params: 1,098,165\n",
            "Non-trainable params: 0\n",
            "_________________________________________________________________\n"
          ]
        }
      ]
    },
    {
      "cell_type": "code",
      "source": [
        "model2.compile('adam', 'binary_crossentropy', ['accuracy'])\n",
        "model2_path = 'best-imdb-conv1d-lstm.h5'\n",
        "mc2 = ModelCheckpoint(model2_path, verbose=1, save_best_only=True)\n",
        "es2 = EarlyStopping(patience=5)"
      ],
      "metadata": {
        "id": "X5PXgmh3G5gv"
      },
      "execution_count": 11,
      "outputs": []
    },
    {
      "cell_type": "code",
      "source": [
        "hist2 = model2.fit(\n",
        "    X_train, y_train, validation_split=0.2,\n",
        "    epochs=30, batch_size=64, callbacks=[mc2, es2]\n",
        ")"
      ],
      "metadata": {
        "colab": {
          "base_uri": "https://localhost:8080/"
        },
        "id": "utdxyIzHIZTI",
        "outputId": "5e3ab093-2859-4906-fa54-8bf4421d576b"
      },
      "execution_count": 12,
      "outputs": [
        {
          "output_type": "stream",
          "name": "stdout",
          "text": [
            "Epoch 1/30\n",
            "246/250 [============================>.] - ETA: 0s - loss: 0.4435 - accuracy: 0.7654\n",
            "Epoch 1: val_loss improved from inf to 0.29760, saving model to best-imdb-conv1d-lstm.h5\n",
            "250/250 [==============================] - 6s 15ms/step - loss: 0.4409 - accuracy: 0.7676 - val_loss: 0.2976 - val_accuracy: 0.8802\n",
            "Epoch 2/30\n",
            "250/250 [==============================] - ETA: 0s - loss: 0.2175 - accuracy: 0.9153\n",
            "Epoch 2: val_loss improved from 0.29760 to 0.26507, saving model to best-imdb-conv1d-lstm.h5\n",
            "250/250 [==============================] - 3s 13ms/step - loss: 0.2175 - accuracy: 0.9153 - val_loss: 0.2651 - val_accuracy: 0.8905\n",
            "Epoch 3/30\n",
            "247/250 [============================>.] - ETA: 0s - loss: 0.1418 - accuracy: 0.9488\n",
            "Epoch 3: val_loss did not improve from 0.26507\n",
            "250/250 [==============================] - 3s 13ms/step - loss: 0.1421 - accuracy: 0.9486 - val_loss: 0.2963 - val_accuracy: 0.8795\n",
            "Epoch 4/30\n",
            "246/250 [============================>.] - ETA: 0s - loss: 0.0968 - accuracy: 0.9672\n",
            "Epoch 4: val_loss did not improve from 0.26507\n",
            "250/250 [==============================] - 3s 13ms/step - loss: 0.0974 - accuracy: 0.9670 - val_loss: 0.3214 - val_accuracy: 0.8813\n",
            "Epoch 5/30\n",
            "250/250 [==============================] - ETA: 0s - loss: 0.0669 - accuracy: 0.9784\n",
            "Epoch 5: val_loss did not improve from 0.26507\n",
            "250/250 [==============================] - 3s 13ms/step - loss: 0.0669 - accuracy: 0.9784 - val_loss: 0.3766 - val_accuracy: 0.8795\n",
            "Epoch 6/30\n",
            "247/250 [============================>.] - ETA: 0s - loss: 0.0581 - accuracy: 0.9807\n",
            "Epoch 6: val_loss did not improve from 0.26507\n",
            "250/250 [==============================] - 3s 13ms/step - loss: 0.0585 - accuracy: 0.9804 - val_loss: 0.3655 - val_accuracy: 0.8802\n",
            "Epoch 7/30\n",
            "247/250 [============================>.] - ETA: 0s - loss: 0.0432 - accuracy: 0.9864\n",
            "Epoch 7: val_loss did not improve from 0.26507\n",
            "250/250 [==============================] - 3s 13ms/step - loss: 0.0435 - accuracy: 0.9862 - val_loss: 0.4333 - val_accuracy: 0.8805\n"
          ]
        }
      ]
    },
    {
      "cell_type": "code",
      "source": [
        "best_model2 = load_model(model2_path)\n",
        "best_model2.evaluate(X_test, y_test)"
      ],
      "metadata": {
        "colab": {
          "base_uri": "https://localhost:8080/"
        },
        "id": "8p1J-5ufIZPo",
        "outputId": "0d72dd09-7110-491c-e1ce-7303ff43f8f9"
      },
      "execution_count": 13,
      "outputs": [
        {
          "output_type": "stream",
          "name": "stdout",
          "text": [
            "157/157 [==============================] - 1s 6ms/step - loss: 0.2719 - accuracy: 0.8884\n"
          ]
        },
        {
          "output_type": "execute_result",
          "data": {
            "text/plain": [
              "[0.2718685567378998, 0.8884000182151794]"
            ]
          },
          "metadata": {},
          "execution_count": 13
        }
      ]
    },
    {
      "cell_type": "markdown",
      "source": [
        "- Case 3) Conv1D + Dense"
      ],
      "metadata": {
        "id": "3kUmOv8CHXeF"
      }
    },
    {
      "cell_type": "code",
      "source": [
        "model3 = Sequential([\n",
        "    Embedding(num_words, 100, input_length=max_len),\n",
        "    Dropout(0.5),\n",
        "    Conv1D(64, 5, activation='relu'),\n",
        "    MaxPooling1D(5),\n",
        "    GlobalMaxPooling1D(),\n",
        "    Dense(100, activation='relu'),\n",
        "    Dense(1, activation = 'sigmoid')\n",
        "])\n",
        "model3.summary()"
      ],
      "metadata": {
        "colab": {
          "base_uri": "https://localhost:8080/"
        },
        "id": "z9Wc5tJbHZ6p",
        "outputId": "f2c823c5-5361-41e9-c84b-9fb544db5b4c"
      },
      "execution_count": 14,
      "outputs": [
        {
          "output_type": "stream",
          "name": "stdout",
          "text": [
            "Model: \"sequential_2\"\n",
            "_________________________________________________________________\n",
            " Layer (type)                Output Shape              Param #   \n",
            "=================================================================\n",
            " embedding_2 (Embedding)     (None, 500, 100)          1000000   \n",
            "                                                                 \n",
            " dropout_2 (Dropout)         (None, 500, 100)          0         \n",
            "                                                                 \n",
            " conv1d_3 (Conv1D)           (None, 496, 64)           32064     \n",
            "                                                                 \n",
            " max_pooling1d_3 (MaxPooling  (None, 99, 64)           0         \n",
            " 1D)                                                             \n",
            "                                                                 \n",
            " global_max_pooling1d_1 (Glo  (None, 64)               0         \n",
            " balMaxPooling1D)                                                \n",
            "                                                                 \n",
            " dense_2 (Dense)             (None, 100)               6500      \n",
            "                                                                 \n",
            " dense_3 (Dense)             (None, 1)                 101       \n",
            "                                                                 \n",
            "=================================================================\n",
            "Total params: 1,038,665\n",
            "Trainable params: 1,038,665\n",
            "Non-trainable params: 0\n",
            "_________________________________________________________________\n"
          ]
        }
      ]
    },
    {
      "cell_type": "code",
      "source": [
        "model3.compile('adam', 'binary_crossentropy', ['accuracy'])\n",
        "model3_path = 'best-imdb-conv1d-dense.h5'\n",
        "mc3 = ModelCheckpoint(model3_path, verbose=1, save_best_only=True)\n",
        "es3 = EarlyStopping(patience=5)"
      ],
      "metadata": {
        "id": "sx0mywKXHwPv"
      },
      "execution_count": 15,
      "outputs": []
    },
    {
      "cell_type": "code",
      "source": [
        "hist3 = model3.fit(\n",
        "    X_train, y_train, validation_split=0.2,\n",
        "    epochs=30, batch_size=64, callbacks=[mc3, es3]\n",
        ")"
      ],
      "metadata": {
        "colab": {
          "base_uri": "https://localhost:8080/"
        },
        "id": "6d_ldvGwIaAq",
        "outputId": "65fce26f-9ff3-402d-c79e-512c2e708f2d"
      },
      "execution_count": 16,
      "outputs": [
        {
          "output_type": "stream",
          "name": "stdout",
          "text": [
            "Epoch 1/30\n",
            "246/250 [============================>.] - ETA: 0s - loss: 0.5822 - accuracy: 0.6627\n",
            "Epoch 1: val_loss improved from inf to 0.38916, saving model to best-imdb-conv1d-dense.h5\n",
            "250/250 [==============================] - 3s 9ms/step - loss: 0.5789 - accuracy: 0.6654 - val_loss: 0.3892 - val_accuracy: 0.8288\n",
            "Epoch 2/30\n",
            "250/250 [==============================] - ETA: 0s - loss: 0.3149 - accuracy: 0.8666\n",
            "Epoch 2: val_loss improved from 0.38916 to 0.29991, saving model to best-imdb-conv1d-dense.h5\n",
            "250/250 [==============================] - 2s 8ms/step - loss: 0.3149 - accuracy: 0.8666 - val_loss: 0.2999 - val_accuracy: 0.8773\n",
            "Epoch 3/30\n",
            "248/250 [============================>.] - ETA: 0s - loss: 0.2106 - accuracy: 0.9183\n",
            "Epoch 3: val_loss improved from 0.29991 to 0.29449, saving model to best-imdb-conv1d-dense.h5\n",
            "250/250 [==============================] - 2s 8ms/step - loss: 0.2101 - accuracy: 0.9186 - val_loss: 0.2945 - val_accuracy: 0.8790\n",
            "Epoch 4/30\n",
            "249/250 [============================>.] - ETA: 0s - loss: 0.1393 - accuracy: 0.9494\n",
            "Epoch 4: val_loss did not improve from 0.29449\n",
            "250/250 [==============================] - 2s 8ms/step - loss: 0.1396 - accuracy: 0.9492 - val_loss: 0.3054 - val_accuracy: 0.8810\n",
            "Epoch 5/30\n",
            "246/250 [============================>.] - ETA: 0s - loss: 0.0932 - accuracy: 0.9681\n",
            "Epoch 5: val_loss did not improve from 0.29449\n",
            "250/250 [==============================] - 2s 8ms/step - loss: 0.0939 - accuracy: 0.9677 - val_loss: 0.3394 - val_accuracy: 0.8798\n",
            "Epoch 6/30\n",
            "244/250 [============================>.] - ETA: 0s - loss: 0.0604 - accuracy: 0.9801\n",
            "Epoch 6: val_loss did not improve from 0.29449\n",
            "250/250 [==============================] - 2s 8ms/step - loss: 0.0600 - accuracy: 0.9803 - val_loss: 0.3777 - val_accuracy: 0.8827\n",
            "Epoch 7/30\n",
            "247/250 [============================>.] - ETA: 0s - loss: 0.0421 - accuracy: 0.9856\n",
            "Epoch 7: val_loss did not improve from 0.29449\n",
            "250/250 [==============================] - 2s 9ms/step - loss: 0.0427 - accuracy: 0.9854 - val_loss: 0.4439 - val_accuracy: 0.8692\n",
            "Epoch 8/30\n",
            "250/250 [==============================] - ETA: 0s - loss: 0.0306 - accuracy: 0.9904\n",
            "Epoch 8: val_loss did not improve from 0.29449\n",
            "250/250 [==============================] - 2s 8ms/step - loss: 0.0306 - accuracy: 0.9904 - val_loss: 0.4351 - val_accuracy: 0.8832\n"
          ]
        }
      ]
    },
    {
      "cell_type": "code",
      "source": [
        "best_model3 = load_model(model3_path)\n",
        "best_model3.evaluate(X_test, y_test)"
      ],
      "metadata": {
        "colab": {
          "base_uri": "https://localhost:8080/"
        },
        "id": "rea2x7WEIZ6i",
        "outputId": "0e2d924f-2f72-4e3b-99e4-8875c8fdb96f"
      },
      "execution_count": 17,
      "outputs": [
        {
          "output_type": "stream",
          "name": "stdout",
          "text": [
            "157/157 [==============================] - 1s 3ms/step - loss: 0.2939 - accuracy: 0.8802\n"
          ]
        },
        {
          "output_type": "execute_result",
          "data": {
            "text/plain": [
              "[0.29385656118392944, 0.8802000284194946]"
            ]
          },
          "metadata": {},
          "execution_count": 17
        }
      ]
    }
  ]
}