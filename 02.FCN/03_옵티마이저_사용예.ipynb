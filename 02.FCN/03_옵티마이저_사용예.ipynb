{
  "nbformat": 4,
  "nbformat_minor": 0,
  "metadata": {
    "colab": {
      "name": "03_옵티마이저_사용예.ipynb",
      "provenance": [],
      "collapsed_sections": []
    },
    "kernelspec": {
      "name": "python3",
      "display_name": "Python 3"
    },
    "language_info": {
      "name": "python"
    }
  },
  "cells": [
    {
      "cell_type": "markdown",
      "source": [
        "# 신경망 모델에서 옵티마이저 사용법\n",
        "### - 이진분류: 유방암 예측 사례"
      ],
      "metadata": {
        "id": "j8gEJCifW285"
      }
    },
    {
      "cell_type": "code",
      "execution_count": 2,
      "metadata": {
        "id": "vQSbwG1VWwcm"
      },
      "outputs": [],
      "source": [
        "import numpy as np\n",
        "import matplotlib.pyplot as plt\n",
        "from sklearn.datasets import load_breast_cancer\n",
        "from sklearn.preprocessing import StandardScaler\n",
        "from sklearn.model_selection import train_test_split"
      ]
    },
    {
      "cell_type": "code",
      "source": [
        "cancer = load_breast_cancer()\n",
        "cancer_std = StandardScaler().fit_transform(cancer.data)\n",
        "X_train, X_test, y_train, y_test = train_test_split(\n",
        "    cancer_std, cancer.target, stratify = cancer.target,\n",
        "    test_size = 0.2, random_state = 2022\n",
        ")"
      ],
      "metadata": {
        "id": "D7-SrXJTXVIV"
      },
      "execution_count": 3,
      "outputs": []
    },
    {
      "cell_type": "markdown",
      "source": [
        "### 1. Adam optimizer"
      ],
      "metadata": {
        "id": "gFw8Mz3UX1Lr"
      }
    },
    {
      "cell_type": "code",
      "source": [
        "from tensorflow.keras.models import Sequential\n",
        "from tensorflow.keras.layers import Dense"
      ],
      "metadata": {
        "id": "IS5OBBs3XweN"
      },
      "execution_count": 4,
      "outputs": []
    },
    {
      "cell_type": "code",
      "source": [
        "model = Sequential([\n",
        "    Dense(100, input_dim = 30, activation = 'relu'),\n",
        "    Dense(24, activation = 'relu'),\n",
        "    Dense(1, activation = 'sigmoid')\n",
        "])"
      ],
      "metadata": {
        "id": "lCTcpeF_YGCA"
      },
      "execution_count": 5,
      "outputs": []
    },
    {
      "cell_type": "markdown",
      "source": [
        "#### Adam 하이퍼 파라메터\n",
        "- learning_rate: 0보다 크거나 같은 float 값. 학습률.\n",
        "- beta_1: 0보다 크고 1보다 작은 float 값. 일반적으로 1에 가깝게 설정됩니다.\n",
        "- beta_2: 0보다 크고 1보다 작은 float 값. 일반적으로 1에 가깝게 설정됩니다.\n",
        "- epsilon: 0보다 크거나 같은 float형 fuzz factor. None인 경우 K.epsilon()이 사용됩니다.\n",
        "- decay: 0보다 크거나 같은 float 값. 업데이트마다 적용되는 학습률의 감소율입니다.\n",
        "- amsgrad: 불리언. Adam의 변형인 AMSGrad의 적용 여부를 설정합니다"
      ],
      "metadata": {
        "id": "qMn3sWOKYh1a"
      }
    },
    {
      "cell_type": "code",
      "source": [
        "from tensorflow.keras.optimizers import Adam\n",
        "adam = Adam(learning_rate = 0.001, beta_1 = 0.9, beta_2 = 0.999,\n",
        "            epsilon = None, decay = 0.0, amsgrad = False)"
      ],
      "metadata": {
        "id": "dabYCxZaYbDI"
      },
      "execution_count": 6,
      "outputs": []
    },
    {
      "cell_type": "code",
      "source": [
        "model.compile(optimizer=adam, loss='binary_crossentropy', metrics=['accuracy'])"
      ],
      "metadata": {
        "id": "NUfln-mUZjbl"
      },
      "execution_count": 7,
      "outputs": []
    },
    {
      "cell_type": "code",
      "source": [
        "hist = model.fit(X_train, y_train, validation_split = 0.2,\n",
        "                 epochs=100, batch_size = 100, verbose=0)"
      ],
      "metadata": {
        "id": "xn-lLT7Vaktc"
      },
      "execution_count": 12,
      "outputs": []
    },
    {
      "cell_type": "code",
      "source": [
        "model.evaluate(X_test, y_test)"
      ],
      "metadata": {
        "colab": {
          "base_uri": "https://localhost:8080/"
        },
        "id": "0UnE6BXdavI7",
        "outputId": "cfa9d6ff-11f3-4281-cc15-b1422d6aeb3e"
      },
      "execution_count": 13,
      "outputs": [
        {
          "output_type": "stream",
          "name": "stdout",
          "text": [
            "4/4 [==============================] - 0s 4ms/step - loss: 0.1460 - accuracy: 0.9649\n"
          ]
        },
        {
          "output_type": "execute_result",
          "data": {
            "text/plain": [
              "[0.14603246748447418, 0.9649122953414917]"
            ]
          },
          "metadata": {},
          "execution_count": 13
        }
      ]
    },
    {
      "cell_type": "code",
      "source": [
        "y_acc = hist.history['accuracy']\n",
        "y_vloss = hist.history['val_loss']\n",
        "xs = np.arange(1, len(y_acc)+1)"
      ],
      "metadata": {
        "id": "ty5C4Plaa7bl"
      },
      "execution_count": 16,
      "outputs": []
    },
    {
      "cell_type": "code",
      "source": [
        "plt.figure(figsize = (12, 8))\n",
        "plt.plot(xs, y_acc, label = 'train accruacy')\n",
        "plt.plot(xs, y_vloss, label = 'validation loss')\n",
        "plt.legend(), plt.grid()\n",
        "plt.ylim([0, 1.1])\n",
        "plt.xlabel('Epoch')\n",
        "plt.title('No feature transform')\n",
        "plt.show()"
      ],
      "metadata": {
        "colab": {
          "base_uri": "https://localhost:8080/",
          "height": 513
        },
        "id": "FvyvifqGbYjm",
        "outputId": "37db53e6-9429-4091-9c5c-b2ce283d9c21"
      },
      "execution_count": 26,
      "outputs": [
        {
          "output_type": "display_data",
          "data": {
            "text/plain": [
              "<Figure size 864x576 with 1 Axes>"
            ],
            "image/png": "[encoded data removed]"
          },
          "metadata": {
            "needs_background": "light"
          }
        }
      ]
    },
    {
      "cell_type": "markdown",
      "source": [
        "#### 2. RMSprop Sequential"
      ],
      "metadata": {
        "id": "0t3JK7J1b6oS"
      }
    },
    {
      "cell_type": "code",
      "source": [
        "model2 = Sequential([\n",
        "    Dense(100, input_dim = 30, activation = 'relu'),\n",
        "    Dense(24, activation = 'relu'),\n",
        "    Dense(1, activation = 'sigmoid')\n",
        "])"
      ],
      "metadata": {
        "id": "0cMh2DjYbw-e"
      },
      "execution_count": 18,
      "outputs": []
    },
    {
      "cell_type": "markdown",
      "source": [
        "#### RMSprop 하이퍼 파라메터\n",
        "- lr: 0보다 크거나 같은 float 값. 학습률.\n",
        "- rho: 0보다 크거나 같은 float 값.\n",
        "- epsilon: 0보다 크거나 같은 float형 fuzz factor. None인 경우 K.epsilon()이 사용됩니다.\n",
        "- decay: 0보다 크거나 같은 float 값. 업데이트마다 적용되는 학습률의 감소율입니다.\n"
      ],
      "metadata": {
        "id": "o6SxzLVtcBdb"
      }
    },
    {
      "cell_type": "code",
      "source": [
        "from tensorflow.keras.optimizers import RMSprop\n",
        "rmsp = RMSprop(learning_rate = 0.001, rho = 0.9, epsilon=None, decay=0.0)"
      ],
      "metadata": {
        "id": "sWSHRTkLcA7L"
      },
      "execution_count": 19,
      "outputs": []
    },
    {
      "cell_type": "code",
      "source": [
        "model2.compile(rmsp, 'binary_crossentropy', ['accuracy'])"
      ],
      "metadata": {
        "id": "xnM1wEVXfSKY"
      },
      "execution_count": 20,
      "outputs": []
    },
    {
      "cell_type": "code",
      "source": [
        "hist2 = model2.fit(X_train, y_train, validation_split=0.2,\n",
        "                   epochs=100, batch_size=100, verbose=2)"
      ],
      "metadata": {
        "colab": {
          "base_uri": "https://localhost:8080/"
        },
        "id": "xaZz4EKCfnV7",
        "outputId": "ceae9b1b-a5ba-468a-82c0-2d989396574d"
      },
      "execution_count": 21,
      "outputs": [
        {
          "output_type": "stream",
          "name": "stdout",
          "text": [
            "Epoch 1/100\n",
            "4/4 - 1s - loss: 0.5781 - accuracy: 0.7500 - val_loss: 0.4212 - val_accuracy: 0.8901 - 1s/epoch - 315ms/step\n",
            "Epoch 2/100\n",
            "4/4 - 0s - loss: 0.3568 - accuracy: 0.9423 - val_loss: 0.3133 - val_accuracy: 0.9231 - 51ms/epoch - 13ms/step\n",
            "Epoch 3/100\n",
            "4/4 - 0s - loss: 0.2632 - accuracy: 0.9533 - val_loss: 0.2497 - val_accuracy: 0.9231 - 54ms/epoch - 14ms/step\n",
            "Epoch 4/100\n",
            "4/4 - 0s - loss: 0.2090 - accuracy: 0.9560 - val_loss: 0.2096 - val_accuracy: 0.9231 - 42ms/epoch - 10ms/step\n",
            "Epoch 5/100\n",
            "4/4 - 0s - loss: 0.1736 - accuracy: 0.9615 - val_loss: 0.1821 - val_accuracy: 0.9231 - 45ms/epoch - 11ms/step\n",
            "Epoch 6/100\n",
            "4/4 - 0s - loss: 0.1501 - accuracy: 0.9615 - val_loss: 0.1647 - val_accuracy: 0.9341 - 42ms/epoch - 11ms/step\n",
            "Epoch 7/100\n",
            "4/4 - 0s - loss: 0.1320 - accuracy: 0.9670 - val_loss: 0.1509 - val_accuracy: 0.9341 - 51ms/epoch - 13ms/step\n",
            "Epoch 8/100\n",
            "4/4 - 0s - loss: 0.1181 - accuracy: 0.9753 - val_loss: 0.1402 - val_accuracy: 0.9670 - 71ms/epoch - 18ms/step\n",
            "Epoch 9/100\n",
            "4/4 - 0s - loss: 0.1066 - accuracy: 0.9808 - val_loss: 0.1339 - val_accuracy: 0.9670 - 54ms/epoch - 14ms/step\n",
            "Epoch 10/100\n",
            "4/4 - 0s - loss: 0.0968 - accuracy: 0.9780 - val_loss: 0.1276 - val_accuracy: 0.9560 - 61ms/epoch - 15ms/step\n",
            "Epoch 11/100\n",
            "4/4 - 0s - loss: 0.0894 - accuracy: 0.9808 - val_loss: 0.1256 - val_accuracy: 0.9560 - 54ms/epoch - 14ms/step\n",
            "Epoch 12/100\n",
            "4/4 - 0s - loss: 0.0816 - accuracy: 0.9808 - val_loss: 0.1217 - val_accuracy: 0.9560 - 57ms/epoch - 14ms/step\n",
            "Epoch 13/100\n",
            "4/4 - 0s - loss: 0.0766 - accuracy: 0.9835 - val_loss: 0.1175 - val_accuracy: 0.9670 - 54ms/epoch - 13ms/step\n",
            "Epoch 14/100\n",
            "4/4 - 0s - loss: 0.0699 - accuracy: 0.9835 - val_loss: 0.1174 - val_accuracy: 0.9560 - 54ms/epoch - 14ms/step\n",
            "Epoch 15/100\n",
            "4/4 - 0s - loss: 0.0650 - accuracy: 0.9863 - val_loss: 0.1186 - val_accuracy: 0.9451 - 57ms/epoch - 14ms/step\n",
            "Epoch 16/100\n",
            "4/4 - 0s - loss: 0.0614 - accuracy: 0.9863 - val_loss: 0.1180 - val_accuracy: 0.9451 - 50ms/epoch - 13ms/step\n",
            "Epoch 17/100\n",
            "4/4 - 0s - loss: 0.0567 - accuracy: 0.9863 - val_loss: 0.1162 - val_accuracy: 0.9560 - 52ms/epoch - 13ms/step\n",
            "Epoch 18/100\n",
            "4/4 - 0s - loss: 0.0533 - accuracy: 0.9863 - val_loss: 0.1146 - val_accuracy: 0.9451 - 42ms/epoch - 11ms/step\n",
            "Epoch 19/100\n",
            "4/4 - 0s - loss: 0.0510 - accuracy: 0.9918 - val_loss: 0.1173 - val_accuracy: 0.9451 - 60ms/epoch - 15ms/step\n",
            "Epoch 20/100\n",
            "4/4 - 0s - loss: 0.0470 - accuracy: 0.9890 - val_loss: 0.1200 - val_accuracy: 0.9451 - 44ms/epoch - 11ms/step\n",
            "Epoch 21/100\n",
            "4/4 - 0s - loss: 0.0441 - accuracy: 0.9918 - val_loss: 0.1195 - val_accuracy: 0.9451 - 53ms/epoch - 13ms/step\n",
            "Epoch 22/100\n",
            "4/4 - 0s - loss: 0.0414 - accuracy: 0.9918 - val_loss: 0.1169 - val_accuracy: 0.9560 - 47ms/epoch - 12ms/step\n",
            "Epoch 23/100\n",
            "4/4 - 0s - loss: 0.0393 - accuracy: 0.9918 - val_loss: 0.1234 - val_accuracy: 0.9451 - 48ms/epoch - 12ms/step\n",
            "Epoch 24/100\n",
            "4/4 - 0s - loss: 0.0368 - accuracy: 0.9918 - val_loss: 0.1289 - val_accuracy: 0.9451 - 64ms/epoch - 16ms/step\n",
            "Epoch 25/100\n",
            "4/4 - 0s - loss: 0.0345 - accuracy: 0.9918 - val_loss: 0.1290 - val_accuracy: 0.9451 - 62ms/epoch - 15ms/step\n",
            "Epoch 26/100\n",
            "4/4 - 0s - loss: 0.0322 - accuracy: 0.9918 - val_loss: 0.1273 - val_accuracy: 0.9451 - 44ms/epoch - 11ms/step\n",
            "Epoch 27/100\n",
            "4/4 - 0s - loss: 0.0301 - accuracy: 0.9918 - val_loss: 0.1310 - val_accuracy: 0.9451 - 49ms/epoch - 12ms/step\n",
            "Epoch 28/100\n",
            "4/4 - 0s - loss: 0.0278 - accuracy: 0.9918 - val_loss: 0.1367 - val_accuracy: 0.9451 - 52ms/epoch - 13ms/step\n",
            "Epoch 29/100\n",
            "4/4 - 0s - loss: 0.0264 - accuracy: 0.9918 - val_loss: 0.1395 - val_accuracy: 0.9451 - 45ms/epoch - 11ms/step\n",
            "Epoch 30/100\n",
            "4/4 - 0s - loss: 0.0244 - accuracy: 0.9918 - val_loss: 0.1416 - val_accuracy: 0.9451 - 52ms/epoch - 13ms/step\n",
            "Epoch 31/100\n",
            "4/4 - 0s - loss: 0.0224 - accuracy: 0.9918 - val_loss: 0.1442 - val_accuracy: 0.9451 - 52ms/epoch - 13ms/step\n",
            "Epoch 32/100\n",
            "4/4 - 0s - loss: 0.0212 - accuracy: 0.9945 - val_loss: 0.1480 - val_accuracy: 0.9451 - 51ms/epoch - 13ms/step\n",
            "Epoch 33/100\n",
            "4/4 - 0s - loss: 0.0195 - accuracy: 0.9945 - val_loss: 0.1558 - val_accuracy: 0.9451 - 55ms/epoch - 14ms/step\n",
            "Epoch 34/100\n",
            "4/4 - 0s - loss: 0.0179 - accuracy: 0.9973 - val_loss: 0.1537 - val_accuracy: 0.9451 - 45ms/epoch - 11ms/step\n",
            "Epoch 35/100\n",
            "4/4 - 0s - loss: 0.0165 - accuracy: 0.9973 - val_loss: 0.1581 - val_accuracy: 0.9451 - 44ms/epoch - 11ms/step\n",
            "Epoch 36/100\n",
            "4/4 - 0s - loss: 0.0156 - accuracy: 0.9973 - val_loss: 0.1574 - val_accuracy: 0.9451 - 44ms/epoch - 11ms/step\n",
            "Epoch 37/100\n",
            "4/4 - 0s - loss: 0.0141 - accuracy: 0.9973 - val_loss: 0.1665 - val_accuracy: 0.9451 - 45ms/epoch - 11ms/step\n",
            "Epoch 38/100\n",
            "4/4 - 0s - loss: 0.0128 - accuracy: 0.9973 - val_loss: 0.1695 - val_accuracy: 0.9451 - 44ms/epoch - 11ms/step\n",
            "Epoch 39/100\n",
            "4/4 - 0s - loss: 0.0121 - accuracy: 0.9945 - val_loss: 0.1690 - val_accuracy: 0.9451 - 44ms/epoch - 11ms/step\n",
            "Epoch 40/100\n",
            "4/4 - 0s - loss: 0.0107 - accuracy: 1.0000 - val_loss: 0.1759 - val_accuracy: 0.9451 - 43ms/epoch - 11ms/step\n",
            "Epoch 41/100\n",
            "4/4 - 0s - loss: 0.0098 - accuracy: 1.0000 - val_loss: 0.1793 - val_accuracy: 0.9451 - 43ms/epoch - 11ms/step\n",
            "Epoch 42/100\n",
            "4/4 - 0s - loss: 0.0087 - accuracy: 1.0000 - val_loss: 0.1770 - val_accuracy: 0.9451 - 50ms/epoch - 12ms/step\n",
            "Epoch 43/100\n",
            "4/4 - 0s - loss: 0.0082 - accuracy: 1.0000 - val_loss: 0.1806 - val_accuracy: 0.9451 - 43ms/epoch - 11ms/step\n",
            "Epoch 44/100\n",
            "4/4 - 0s - loss: 0.0076 - accuracy: 1.0000 - val_loss: 0.1970 - val_accuracy: 0.9451 - 43ms/epoch - 11ms/step\n",
            "Epoch 45/100\n",
            "4/4 - 0s - loss: 0.0068 - accuracy: 1.0000 - val_loss: 0.1965 - val_accuracy: 0.9451 - 59ms/epoch - 15ms/step\n",
            "Epoch 46/100\n",
            "4/4 - 0s - loss: 0.0064 - accuracy: 1.0000 - val_loss: 0.1963 - val_accuracy: 0.9451 - 42ms/epoch - 11ms/step\n",
            "Epoch 47/100\n",
            "4/4 - 0s - loss: 0.0057 - accuracy: 1.0000 - val_loss: 0.2096 - val_accuracy: 0.9451 - 46ms/epoch - 11ms/step\n",
            "Epoch 48/100\n",
            "4/4 - 0s - loss: 0.0053 - accuracy: 1.0000 - val_loss: 0.2117 - val_accuracy: 0.9451 - 45ms/epoch - 11ms/step\n",
            "Epoch 49/100\n",
            "4/4 - 0s - loss: 0.0049 - accuracy: 1.0000 - val_loss: 0.2197 - val_accuracy: 0.9451 - 45ms/epoch - 11ms/step\n",
            "Epoch 50/100\n",
            "4/4 - 0s - loss: 0.0042 - accuracy: 1.0000 - val_loss: 0.2150 - val_accuracy: 0.9451 - 44ms/epoch - 11ms/step\n",
            "Epoch 51/100\n",
            "4/4 - 0s - loss: 0.0038 - accuracy: 1.0000 - val_loss: 0.2252 - val_accuracy: 0.9451 - 58ms/epoch - 14ms/step\n",
            "Epoch 52/100\n",
            "4/4 - 0s - loss: 0.0034 - accuracy: 1.0000 - val_loss: 0.2287 - val_accuracy: 0.9451 - 49ms/epoch - 12ms/step\n",
            "Epoch 53/100\n",
            "4/4 - 0s - loss: 0.0035 - accuracy: 1.0000 - val_loss: 0.2238 - val_accuracy: 0.9451 - 55ms/epoch - 14ms/step\n",
            "Epoch 54/100\n",
            "4/4 - 0s - loss: 0.0031 - accuracy: 1.0000 - val_loss: 0.2301 - val_accuracy: 0.9451 - 53ms/epoch - 13ms/step\n",
            "Epoch 55/100\n",
            "4/4 - 0s - loss: 0.0027 - accuracy: 1.0000 - val_loss: 0.2249 - val_accuracy: 0.9451 - 48ms/epoch - 12ms/step\n",
            "Epoch 56/100\n",
            "4/4 - 0s - loss: 0.0024 - accuracy: 1.0000 - val_loss: 0.2286 - val_accuracy: 0.9451 - 40ms/epoch - 10ms/step\n",
            "Epoch 57/100\n",
            "4/4 - 0s - loss: 0.0024 - accuracy: 1.0000 - val_loss: 0.2348 - val_accuracy: 0.9451 - 43ms/epoch - 11ms/step\n",
            "Epoch 58/100\n",
            "4/4 - 0s - loss: 0.0020 - accuracy: 1.0000 - val_loss: 0.2464 - val_accuracy: 0.9451 - 40ms/epoch - 10ms/step\n",
            "Epoch 59/100\n",
            "4/4 - 0s - loss: 0.0018 - accuracy: 1.0000 - val_loss: 0.2553 - val_accuracy: 0.9451 - 49ms/epoch - 12ms/step\n",
            "Epoch 60/100\n",
            "4/4 - 0s - loss: 0.0017 - accuracy: 1.0000 - val_loss: 0.2580 - val_accuracy: 0.9451 - 44ms/epoch - 11ms/step\n",
            "Epoch 61/100\n",
            "4/4 - 0s - loss: 0.0014 - accuracy: 1.0000 - val_loss: 0.2615 - val_accuracy: 0.9451 - 46ms/epoch - 12ms/step\n",
            "Epoch 62/100\n",
            "4/4 - 0s - loss: 0.0013 - accuracy: 1.0000 - val_loss: 0.2695 - val_accuracy: 0.9451 - 43ms/epoch - 11ms/step\n",
            "Epoch 63/100\n",
            "4/4 - 0s - loss: 0.0011 - accuracy: 1.0000 - val_loss: 0.2577 - val_accuracy: 0.9451 - 45ms/epoch - 11ms/step\n",
            "Epoch 64/100\n",
            "4/4 - 0s - loss: 0.0011 - accuracy: 1.0000 - val_loss: 0.2791 - val_accuracy: 0.9451 - 42ms/epoch - 11ms/step\n",
            "Epoch 65/100\n",
            "4/4 - 0s - loss: 0.0010 - accuracy: 1.0000 - val_loss: 0.2903 - val_accuracy: 0.9451 - 48ms/epoch - 12ms/step\n",
            "Epoch 66/100\n",
            "4/4 - 0s - loss: 8.6847e-04 - accuracy: 1.0000 - val_loss: 0.2907 - val_accuracy: 0.9451 - 41ms/epoch - 10ms/step\n",
            "Epoch 67/100\n",
            "4/4 - 0s - loss: 7.3070e-04 - accuracy: 1.0000 - val_loss: 0.2902 - val_accuracy: 0.9451 - 47ms/epoch - 12ms/step\n",
            "Epoch 68/100\n",
            "4/4 - 0s - loss: 6.4129e-04 - accuracy: 1.0000 - val_loss: 0.2853 - val_accuracy: 0.9451 - 46ms/epoch - 11ms/step\n",
            "Epoch 69/100\n",
            "4/4 - 0s - loss: 5.9124e-04 - accuracy: 1.0000 - val_loss: 0.2945 - val_accuracy: 0.9451 - 47ms/epoch - 12ms/step\n",
            "Epoch 70/100\n",
            "4/4 - 0s - loss: 4.9094e-04 - accuracy: 1.0000 - val_loss: 0.3036 - val_accuracy: 0.9451 - 51ms/epoch - 13ms/step\n",
            "Epoch 71/100\n",
            "4/4 - 0s - loss: 4.3005e-04 - accuracy: 1.0000 - val_loss: 0.2917 - val_accuracy: 0.9451 - 50ms/epoch - 12ms/step\n",
            "Epoch 72/100\n",
            "4/4 - 0s - loss: 4.3776e-04 - accuracy: 1.0000 - val_loss: 0.3084 - val_accuracy: 0.9451 - 51ms/epoch - 13ms/step\n",
            "Epoch 73/100\n",
            "4/4 - 0s - loss: 4.2442e-04 - accuracy: 1.0000 - val_loss: 0.3016 - val_accuracy: 0.9451 - 45ms/epoch - 11ms/step\n",
            "Epoch 74/100\n",
            "4/4 - 0s - loss: 3.2378e-04 - accuracy: 1.0000 - val_loss: 0.3059 - val_accuracy: 0.9451 - 51ms/epoch - 13ms/step\n",
            "Epoch 75/100\n",
            "4/4 - 0s - loss: 2.6536e-04 - accuracy: 1.0000 - val_loss: 0.3105 - val_accuracy: 0.9451 - 47ms/epoch - 12ms/step\n",
            "Epoch 76/100\n",
            "4/4 - 0s - loss: 2.5457e-04 - accuracy: 1.0000 - val_loss: 0.3172 - val_accuracy: 0.9451 - 47ms/epoch - 12ms/step\n",
            "Epoch 77/100\n",
            "4/4 - 0s - loss: 2.3881e-04 - accuracy: 1.0000 - val_loss: 0.3249 - val_accuracy: 0.9451 - 46ms/epoch - 12ms/step\n",
            "Epoch 78/100\n",
            "4/4 - 0s - loss: 1.8959e-04 - accuracy: 1.0000 - val_loss: 0.3132 - val_accuracy: 0.9451 - 43ms/epoch - 11ms/step\n",
            "Epoch 79/100\n",
            "4/4 - 0s - loss: 1.7026e-04 - accuracy: 1.0000 - val_loss: 0.3305 - val_accuracy: 0.9451 - 56ms/epoch - 14ms/step\n",
            "Epoch 80/100\n",
            "4/4 - 0s - loss: 1.6727e-04 - accuracy: 1.0000 - val_loss: 0.3311 - val_accuracy: 0.9451 - 46ms/epoch - 12ms/step\n",
            "Epoch 81/100\n",
            "4/4 - 0s - loss: 1.3659e-04 - accuracy: 1.0000 - val_loss: 0.3335 - val_accuracy: 0.9451 - 50ms/epoch - 13ms/step\n",
            "Epoch 82/100\n",
            "4/4 - 0s - loss: 1.1674e-04 - accuracy: 1.0000 - val_loss: 0.3250 - val_accuracy: 0.9451 - 46ms/epoch - 12ms/step\n",
            "Epoch 83/100\n",
            "4/4 - 0s - loss: 1.1791e-04 - accuracy: 1.0000 - val_loss: 0.3352 - val_accuracy: 0.9451 - 49ms/epoch - 12ms/step\n",
            "Epoch 84/100\n",
            "4/4 - 0s - loss: 1.0698e-04 - accuracy: 1.0000 - val_loss: 0.3577 - val_accuracy: 0.9451 - 58ms/epoch - 15ms/step\n",
            "Epoch 85/100\n",
            "4/4 - 0s - loss: 8.7140e-05 - accuracy: 1.0000 - val_loss: 0.3438 - val_accuracy: 0.9451 - 44ms/epoch - 11ms/step\n",
            "Epoch 86/100\n",
            "4/4 - 0s - loss: 8.8961e-05 - accuracy: 1.0000 - val_loss: 0.3479 - val_accuracy: 0.9451 - 45ms/epoch - 11ms/step\n",
            "Epoch 87/100\n",
            "4/4 - 0s - loss: 6.8089e-05 - accuracy: 1.0000 - val_loss: 0.3486 - val_accuracy: 0.9451 - 45ms/epoch - 11ms/step\n",
            "Epoch 88/100\n",
            "4/4 - 0s - loss: 6.2355e-05 - accuracy: 1.0000 - val_loss: 0.3682 - val_accuracy: 0.9451 - 49ms/epoch - 12ms/step\n",
            "Epoch 89/100\n",
            "4/4 - 0s - loss: 4.9668e-05 - accuracy: 1.0000 - val_loss: 0.3649 - val_accuracy: 0.9451 - 48ms/epoch - 12ms/step\n",
            "Epoch 90/100\n",
            "4/4 - 0s - loss: 5.0910e-05 - accuracy: 1.0000 - val_loss: 0.3610 - val_accuracy: 0.9451 - 51ms/epoch - 13ms/step\n",
            "Epoch 91/100\n",
            "4/4 - 0s - loss: 3.9806e-05 - accuracy: 1.0000 - val_loss: 0.3744 - val_accuracy: 0.9451 - 43ms/epoch - 11ms/step\n",
            "Epoch 92/100\n",
            "4/4 - 0s - loss: 3.3797e-05 - accuracy: 1.0000 - val_loss: 0.3670 - val_accuracy: 0.9451 - 52ms/epoch - 13ms/step\n",
            "Epoch 93/100\n",
            "4/4 - 0s - loss: 2.9412e-05 - accuracy: 1.0000 - val_loss: 0.3638 - val_accuracy: 0.9451 - 49ms/epoch - 12ms/step\n",
            "Epoch 94/100\n",
            "4/4 - 0s - loss: 2.6320e-05 - accuracy: 1.0000 - val_loss: 0.3741 - val_accuracy: 0.9451 - 48ms/epoch - 12ms/step\n",
            "Epoch 95/100\n",
            "4/4 - 0s - loss: 2.2008e-05 - accuracy: 1.0000 - val_loss: 0.3782 - val_accuracy: 0.9451 - 53ms/epoch - 13ms/step\n",
            "Epoch 96/100\n",
            "4/4 - 0s - loss: 1.8780e-05 - accuracy: 1.0000 - val_loss: 0.3665 - val_accuracy: 0.9451 - 52ms/epoch - 13ms/step\n",
            "Epoch 97/100\n",
            "4/4 - 0s - loss: 1.8484e-05 - accuracy: 1.0000 - val_loss: 0.3809 - val_accuracy: 0.9451 - 49ms/epoch - 12ms/step\n",
            "Epoch 98/100\n",
            "4/4 - 0s - loss: 1.5133e-05 - accuracy: 1.0000 - val_loss: 0.3998 - val_accuracy: 0.9451 - 46ms/epoch - 11ms/step\n",
            "Epoch 99/100\n",
            "4/4 - 0s - loss: 1.5764e-05 - accuracy: 1.0000 - val_loss: 0.3738 - val_accuracy: 0.9451 - 43ms/epoch - 11ms/step\n",
            "Epoch 100/100\n",
            "4/4 - 0s - loss: 1.2688e-05 - accuracy: 1.0000 - val_loss: 0.3921 - val_accuracy: 0.9451 - 44ms/epoch - 11ms/step\n"
          ]
        }
      ]
    },
    {
      "cell_type": "code",
      "source": [
        "model2.evaluate(X_test, y_test)"
      ],
      "metadata": {
        "colab": {
          "base_uri": "https://localhost:8080/"
        },
        "id": "UeZdLqj1f4jq",
        "outputId": "734c4e39-c3aa-4e19-b2cd-bc127caf0eeb"
      },
      "execution_count": 22,
      "outputs": [
        {
          "output_type": "stream",
          "name": "stdout",
          "text": [
            "4/4 [==============================] - 0s 4ms/step - loss: 0.1392 - accuracy: 0.9737\n"
          ]
        },
        {
          "output_type": "execute_result",
          "data": {
            "text/plain": [
              "[0.13919073343276978, 0.9736841917037964]"
            ]
          },
          "metadata": {},
          "execution_count": 22
        }
      ]
    },
    {
      "cell_type": "code",
      "source": [
        "y_acc2 = hist2.history['accuracy']\n",
        "y_vloss2 = hist2.history['val_loss']\n",
        "xs = np.arange(1, len(y_acc2)+1)"
      ],
      "metadata": {
        "id": "vsSyeJV_gPgw"
      },
      "execution_count": 24,
      "outputs": []
    },
    {
      "cell_type": "code",
      "source": [
        "plt.figure(figsize=(20,8))\n",
        "plt.subplot(121)\n",
        "plt.plot(xs, y_acc, label = 'train accruacy')\n",
        "plt.plot(xs, y_vloss, label = 'validation loss')\n",
        "plt.legend(), plt.grid()\n",
        "plt.ylim([0, 1.1])\n",
        "plt.xlabel('Epoch')\n",
        "plt.title('Adam Optimizer')\n",
        "plt.show()\n",
        "plt.subplot(122)\n",
        "plt.plot(xs, y_acc2, label = 'train accruacy')\n",
        "plt.plot(xs, y_vloss2, label = 'validation loss')\n",
        "plt.legend(), plt.grid()\n",
        "plt.ylim([0, 1.1])\n",
        "plt.xlabel('Epoch')\n",
        "plt.title('RMSprop Optimizer')\n",
        "plt.show()"
      ],
      "metadata": {
        "colab": {
          "base_uri": "https://localhost:8080/",
          "height": 791
        },
        "id": "lINGywoqgU3Q",
        "outputId": "912d45c7-02c3-48b6-ba23-b2483cebdee4"
      },
      "execution_count": 25,
      "outputs": [
        {
          "output_type": "display_data",
          "data": {
            "text/plain": [
              "<Figure size 1440x576 with 1 Axes>"
            ],
            "image/png": "[encoded data removed]"
          },
          "metadata": {
            "needs_background": "light"
          }
        },
        {
          "output_type": "display_data",
          "data": {
            "text/plain": [
              "<Figure size 432x288 with 1 Axes>"
            ],
            "image/png": "[encoded data removed]"
          },
          "metadata": {
            "needs_background": "light"
          }
        }
      ]
    },
    {
      "cell_type": "code",
      "source": [
        ""
      ],
      "metadata": {
        "id": "PLzwNMlSgy0E"
      },
      "execution_count": null,
      "outputs": []
    }
  ]
}