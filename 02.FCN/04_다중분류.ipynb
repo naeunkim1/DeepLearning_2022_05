{
  "nbformat": 4,
  "nbformat_minor": 0,
  "metadata": {
    "colab": {
      "name": "04_다중분류.ipynb",
      "provenance": [],
      "collapsed_sections": []
    },
    "kernelspec": {
      "name": "python3",
      "display_name": "Python 3"
    },
    "language_info": {
      "name": "python"
    }
  },
  "cells": [
    {
      "cell_type": "markdown",
      "source": [
        "# 다중 분류\n",
        "- Wine data"
      ],
      "metadata": {
        "id": "50k4BLZqPb2y"
      }
    },
    {
      "cell_type": "code",
      "execution_count": 1,
      "metadata": {
        "id": "8BmqQixnKb3T"
      },
      "outputs": [],
      "source": [
        "import numpy as np\n",
        "import pandas as pd\n",
        "import matplotlib.pyplot as plt\n",
        "import tensorflow as tf\n",
        "\n",
        "# 초기화\n",
        "seed = 2022\n",
        "np.random.seed(seed)\n",
        "tf.random.set_seed(seed)"
      ]
    },
    {
      "cell_type": "markdown",
      "source": [
        "- 데이터 전처리"
      ],
      "metadata": {
        "id": "Lw9wrR54QKIW"
      }
    },
    {
      "cell_type": "code",
      "source": [
        "from sklearn.datasets import load_wine\n",
        "wine = load_wine()"
      ],
      "metadata": {
        "id": "1rxUqBb6QEX1"
      },
      "execution_count": 2,
      "outputs": []
    },
    {
      "cell_type": "code",
      "source": [
        "wine.data.shape"
      ],
      "metadata": {
        "colab": {
          "base_uri": "https://localhost:8080/"
        },
        "id": "e9ZXPllGQPQL",
        "outputId": "35e693c1-6175-4379-abd1-0df78139a58c"
      },
      "execution_count": 3,
      "outputs": [
        {
          "output_type": "execute_result",
          "data": {
            "text/plain": [
              "(178, 13)"
            ]
          },
          "metadata": {},
          "execution_count": 3
        }
      ]
    },
    {
      "cell_type": "code",
      "source": [
        "# X 데이터는 표준화(학습 빨리 됨)\n",
        "from sklearn.preprocessing import StandardScaler\n",
        "wine_std = StandardScaler().fit_transform(wine.data)"
      ],
      "metadata": {
        "id": "oWrZchWnQXrU"
      },
      "execution_count": 5,
      "outputs": []
    },
    {
      "cell_type": "code",
      "source": [
        "# y 데이터는 원핫인코딩\n",
        "from tensorflow.keras.utils import to_categorical\n",
        "Y = to_categorical(wine.target)\n",
        "Y[:5]"
      ],
      "metadata": {
        "colab": {
          "base_uri": "https://localhost:8080/"
        },
        "id": "4aQTOVeJQt4m",
        "outputId": "948379eb-eebf-4cb6-bf57-da6279fb1b98"
      },
      "execution_count": 6,
      "outputs": [
        {
          "output_type": "execute_result",
          "data": {
            "text/plain": [
              "array([[1., 0., 0.],\n",
              "       [1., 0., 0.],\n",
              "       [1., 0., 0.],\n",
              "       [1., 0., 0.],\n",
              "       [1., 0., 0.]], dtype=float32)"
            ]
          },
          "metadata": {},
          "execution_count": 6
        }
      ]
    },
    {
      "cell_type": "code",
      "source": [
        "from sklearn.model_selection import train_test_split\n",
        "X_train, X_test, Y_train, Y_test = train_test_split(\n",
        "    wine_std, Y, stratify = Y, test_size = 0.2, random_state = seed\n",
        ")\n",
        "X_train.shape, X_test.shape, Y_train.shape, Y_test.shape"
      ],
      "metadata": {
        "colab": {
          "base_uri": "https://localhost:8080/"
        },
        "id": "R_IxxNiPRR0c",
        "outputId": "4fb8a022-ba5e-4a88-f31c-ec4c9e71aee9"
      },
      "execution_count": 7,
      "outputs": [
        {
          "output_type": "execute_result",
          "data": {
            "text/plain": [
              "((142, 13), (36, 13), (142, 3), (36, 3))"
            ]
          },
          "metadata": {},
          "execution_count": 7
        }
      ]
    },
    {
      "cell_type": "markdown",
      "source": [
        "- 모델 정의/설정/학습/평가"
      ],
      "metadata": {
        "id": "yX2GlWnLR2rG"
      }
    },
    {
      "cell_type": "code",
      "source": [
        "from tensorflow.keras.models import Sequential\n",
        "from tensorflow.keras.layers import Dense"
      ],
      "metadata": {
        "id": "LdwgFwLgR1QG"
      },
      "execution_count": 8,
      "outputs": []
    },
    {
      "cell_type": "code",
      "source": [
        "model = Sequential([\n",
        "    Dense(30, input_dim = 13, activation = 'relu'), # 첫번째 은닉층\n",
        "    Dense(12, activation = 'relu'), # 두번째 은닉층\n",
        "    Dense(3, activation = 'softmax') # 출력층, 노드수는 y의 종류(N)수, 활성화함수는 softmax\n",
        "])\n",
        "model.summary()"
      ],
      "metadata": {
        "colab": {
          "base_uri": "https://localhost:8080/"
        },
        "id": "JaHFf6sASImD",
        "outputId": "7433c759-4242-464b-8948-87b65df4efd7"
      },
      "execution_count": 9,
      "outputs": [
        {
          "output_type": "stream",
          "name": "stdout",
          "text": [
            "Model: \"sequential\"\n",
            "_________________________________________________________________\n",
            " Layer (type)                Output Shape              Param #   \n",
            "=================================================================\n",
            " dense (Dense)               (None, 30)                420       \n",
            "                                                                 \n",
            " dense_1 (Dense)             (None, 12)                372       \n",
            "                                                                 \n",
            " dense_2 (Dense)             (None, 3)                 39        \n",
            "                                                                 \n",
            "=================================================================\n",
            "Total params: 831\n",
            "Trainable params: 831\n",
            "Non-trainable params: 0\n",
            "_________________________________________________________________\n"
          ]
        }
      ]
    },
    {
      "cell_type": "code",
      "source": [
        "# 다중분류시 손실 함수는 categorical_crossentropy\n",
        "model.compile('adam', loss = 'categorical_crossentropy', metrics = ['accuracy'])"
      ],
      "metadata": {
        "id": "qD7l5fR_S-UX"
      },
      "execution_count": 10,
      "outputs": []
    },
    {
      "cell_type": "code",
      "source": [
        "hist = model.fit(X_train, Y_train, validation_split=0.2,\n",
        "                 epochs=100, batch_size=100)"
      ],
      "metadata": {
        "colab": {
          "base_uri": "https://localhost:8080/"
        },
        "id": "kYtj-1xFTn6w",
        "outputId": "6c026d03-0323-4198-f686-1fffc4ffc4c7"
      },
      "execution_count": 11,
      "outputs": [
        {
          "output_type": "stream",
          "name": "stdout",
          "text": [
            "Epoch 1/100\n",
            "2/2 [==============================] - 1s 337ms/step - loss: 1.9052 - accuracy: 0.3097 - val_loss: 1.6885 - val_accuracy: 0.2414\n",
            "Epoch 2/100\n",
            "2/2 [==============================] - 0s 46ms/step - loss: 1.7975 - accuracy: 0.3274 - val_loss: 1.5971 - val_accuracy: 0.2414\n",
            "Epoch 3/100\n",
            "2/2 [==============================] - 0s 43ms/step - loss: 1.6979 - accuracy: 0.3274 - val_loss: 1.5142 - val_accuracy: 0.2414\n",
            "Epoch 4/100\n",
            "2/2 [==============================] - 0s 43ms/step - loss: 1.6102 - accuracy: 0.3363 - val_loss: 1.4398 - val_accuracy: 0.2759\n",
            "Epoch 5/100\n",
            "2/2 [==============================] - 0s 62ms/step - loss: 1.5276 - accuracy: 0.3363 - val_loss: 1.3735 - val_accuracy: 0.3103\n",
            "Epoch 6/100\n",
            "2/2 [==============================] - 0s 37ms/step - loss: 1.4533 - accuracy: 0.3540 - val_loss: 1.3120 - val_accuracy: 0.3448\n",
            "Epoch 7/100\n",
            "2/2 [==============================] - 0s 39ms/step - loss: 1.3849 - accuracy: 0.3894 - val_loss: 1.2561 - val_accuracy: 0.3448\n",
            "Epoch 8/100\n",
            "2/2 [==============================] - 0s 43ms/step - loss: 1.3211 - accuracy: 0.3982 - val_loss: 1.2059 - val_accuracy: 0.3793\n",
            "Epoch 9/100\n",
            "2/2 [==============================] - 0s 39ms/step - loss: 1.2617 - accuracy: 0.4336 - val_loss: 1.1593 - val_accuracy: 0.4138\n",
            "Epoch 10/100\n",
            "2/2 [==============================] - 0s 41ms/step - loss: 1.2093 - accuracy: 0.4513 - val_loss: 1.1157 - val_accuracy: 0.4483\n",
            "Epoch 11/100\n",
            "2/2 [==============================] - 0s 47ms/step - loss: 1.1600 - accuracy: 0.4602 - val_loss: 1.0763 - val_accuracy: 0.5172\n",
            "Epoch 12/100\n",
            "2/2 [==============================] - 0s 41ms/step - loss: 1.1148 - accuracy: 0.4956 - val_loss: 1.0410 - val_accuracy: 0.5172\n",
            "Epoch 13/100\n",
            "2/2 [==============================] - 0s 38ms/step - loss: 1.0720 - accuracy: 0.4956 - val_loss: 1.0088 - val_accuracy: 0.5517\n",
            "Epoch 14/100\n",
            "2/2 [==============================] - 0s 43ms/step - loss: 1.0346 - accuracy: 0.5310 - val_loss: 0.9797 - val_accuracy: 0.5862\n",
            "Epoch 15/100\n",
            "2/2 [==============================] - 0s 44ms/step - loss: 1.0003 - accuracy: 0.5575 - val_loss: 0.9535 - val_accuracy: 0.5862\n",
            "Epoch 16/100\n",
            "2/2 [==============================] - 0s 43ms/step - loss: 0.9690 - accuracy: 0.5664 - val_loss: 0.9290 - val_accuracy: 0.6207\n",
            "Epoch 17/100\n",
            "2/2 [==============================] - 0s 42ms/step - loss: 0.9397 - accuracy: 0.5841 - val_loss: 0.9055 - val_accuracy: 0.6207\n",
            "Epoch 18/100\n",
            "2/2 [==============================] - 0s 41ms/step - loss: 0.9120 - accuracy: 0.5841 - val_loss: 0.8836 - val_accuracy: 0.6207\n",
            "Epoch 19/100\n",
            "2/2 [==============================] - 0s 41ms/step - loss: 0.8872 - accuracy: 0.5841 - val_loss: 0.8628 - val_accuracy: 0.6552\n",
            "Epoch 20/100\n",
            "2/2 [==============================] - 0s 39ms/step - loss: 0.8635 - accuracy: 0.6018 - val_loss: 0.8431 - val_accuracy: 0.6552\n",
            "Epoch 21/100\n",
            "2/2 [==============================] - 0s 39ms/step - loss: 0.8404 - accuracy: 0.6195 - val_loss: 0.8242 - val_accuracy: 0.6552\n",
            "Epoch 22/100\n",
            "2/2 [==============================] - 0s 41ms/step - loss: 0.8195 - accuracy: 0.6283 - val_loss: 0.8059 - val_accuracy: 0.6897\n",
            "Epoch 23/100\n",
            "2/2 [==============================] - 0s 37ms/step - loss: 0.7987 - accuracy: 0.6372 - val_loss: 0.7885 - val_accuracy: 0.6897\n",
            "Epoch 24/100\n",
            "2/2 [==============================] - 0s 42ms/step - loss: 0.7789 - accuracy: 0.6726 - val_loss: 0.7715 - val_accuracy: 0.6897\n",
            "Epoch 25/100\n",
            "2/2 [==============================] - 0s 46ms/step - loss: 0.7594 - accuracy: 0.7080 - val_loss: 0.7555 - val_accuracy: 0.6897\n",
            "Epoch 26/100\n",
            "2/2 [==============================] - 0s 45ms/step - loss: 0.7409 - accuracy: 0.7168 - val_loss: 0.7400 - val_accuracy: 0.7241\n",
            "Epoch 27/100\n",
            "2/2 [==============================] - 0s 50ms/step - loss: 0.7227 - accuracy: 0.7345 - val_loss: 0.7248 - val_accuracy: 0.7241\n",
            "Epoch 28/100\n",
            "2/2 [==============================] - 0s 46ms/step - loss: 0.7051 - accuracy: 0.7345 - val_loss: 0.7096 - val_accuracy: 0.7586\n",
            "Epoch 29/100\n",
            "2/2 [==============================] - 0s 45ms/step - loss: 0.6880 - accuracy: 0.7345 - val_loss: 0.6944 - val_accuracy: 0.7586\n",
            "Epoch 30/100\n",
            "2/2 [==============================] - 0s 38ms/step - loss: 0.6714 - accuracy: 0.7434 - val_loss: 0.6793 - val_accuracy: 0.7931\n",
            "Epoch 31/100\n",
            "2/2 [==============================] - 0s 46ms/step - loss: 0.6553 - accuracy: 0.7699 - val_loss: 0.6641 - val_accuracy: 0.7931\n",
            "Epoch 32/100\n",
            "2/2 [==============================] - 0s 43ms/step - loss: 0.6397 - accuracy: 0.7876 - val_loss: 0.6491 - val_accuracy: 0.8276\n",
            "Epoch 33/100\n",
            "2/2 [==============================] - 0s 40ms/step - loss: 0.6246 - accuracy: 0.8053 - val_loss: 0.6346 - val_accuracy: 0.8966\n",
            "Epoch 34/100\n",
            "2/2 [==============================] - 0s 37ms/step - loss: 0.6100 - accuracy: 0.8053 - val_loss: 0.6205 - val_accuracy: 0.8966\n",
            "Epoch 35/100\n",
            "2/2 [==============================] - 0s 39ms/step - loss: 0.5959 - accuracy: 0.8053 - val_loss: 0.6070 - val_accuracy: 0.8966\n",
            "Epoch 36/100\n",
            "2/2 [==============================] - 0s 42ms/step - loss: 0.5821 - accuracy: 0.8230 - val_loss: 0.5943 - val_accuracy: 0.8966\n",
            "Epoch 37/100\n",
            "2/2 [==============================] - 0s 37ms/step - loss: 0.5684 - accuracy: 0.8230 - val_loss: 0.5824 - val_accuracy: 0.8966\n",
            "Epoch 38/100\n",
            "2/2 [==============================] - 0s 35ms/step - loss: 0.5550 - accuracy: 0.8319 - val_loss: 0.5708 - val_accuracy: 0.8966\n",
            "Epoch 39/100\n",
            "2/2 [==============================] - 0s 38ms/step - loss: 0.5417 - accuracy: 0.8407 - val_loss: 0.5593 - val_accuracy: 0.8966\n",
            "Epoch 40/100\n",
            "2/2 [==============================] - 0s 42ms/step - loss: 0.5288 - accuracy: 0.8496 - val_loss: 0.5478 - val_accuracy: 0.8966\n",
            "Epoch 41/100\n",
            "2/2 [==============================] - 0s 47ms/step - loss: 0.5163 - accuracy: 0.8673 - val_loss: 0.5362 - val_accuracy: 0.8966\n",
            "Epoch 42/100\n",
            "2/2 [==============================] - 0s 45ms/step - loss: 0.5042 - accuracy: 0.8673 - val_loss: 0.5248 - val_accuracy: 0.8966\n",
            "Epoch 43/100\n",
            "2/2 [==============================] - 0s 45ms/step - loss: 0.4924 - accuracy: 0.8673 - val_loss: 0.5138 - val_accuracy: 0.8966\n",
            "Epoch 44/100\n",
            "2/2 [==============================] - 0s 44ms/step - loss: 0.4807 - accuracy: 0.8761 - val_loss: 0.5032 - val_accuracy: 0.8966\n",
            "Epoch 45/100\n",
            "2/2 [==============================] - 0s 37ms/step - loss: 0.4695 - accuracy: 0.8761 - val_loss: 0.4930 - val_accuracy: 0.8966\n",
            "Epoch 46/100\n",
            "2/2 [==============================] - 0s 41ms/step - loss: 0.4583 - accuracy: 0.8761 - val_loss: 0.4829 - val_accuracy: 0.8966\n",
            "Epoch 47/100\n",
            "2/2 [==============================] - 0s 43ms/step - loss: 0.4476 - accuracy: 0.8761 - val_loss: 0.4731 - val_accuracy: 0.8966\n",
            "Epoch 48/100\n",
            "2/2 [==============================] - 0s 36ms/step - loss: 0.4373 - accuracy: 0.9027 - val_loss: 0.4639 - val_accuracy: 0.8966\n",
            "Epoch 49/100\n",
            "2/2 [==============================] - 0s 45ms/step - loss: 0.4273 - accuracy: 0.9204 - val_loss: 0.4548 - val_accuracy: 0.8966\n",
            "Epoch 50/100\n",
            "2/2 [==============================] - 0s 42ms/step - loss: 0.4174 - accuracy: 0.9381 - val_loss: 0.4461 - val_accuracy: 0.8966\n",
            "Epoch 51/100\n",
            "2/2 [==============================] - 0s 44ms/step - loss: 0.4080 - accuracy: 0.9381 - val_loss: 0.4377 - val_accuracy: 0.8966\n",
            "Epoch 52/100\n",
            "2/2 [==============================] - 0s 40ms/step - loss: 0.3987 - accuracy: 0.9558 - val_loss: 0.4295 - val_accuracy: 0.9310\n",
            "Epoch 53/100\n",
            "2/2 [==============================] - 0s 46ms/step - loss: 0.3898 - accuracy: 0.9558 - val_loss: 0.4213 - val_accuracy: 0.9310\n",
            "Epoch 54/100\n",
            "2/2 [==============================] - 0s 38ms/step - loss: 0.3812 - accuracy: 0.9558 - val_loss: 0.4131 - val_accuracy: 0.9310\n",
            "Epoch 55/100\n",
            "2/2 [==============================] - 0s 40ms/step - loss: 0.3729 - accuracy: 0.9558 - val_loss: 0.4050 - val_accuracy: 0.9310\n",
            "Epoch 56/100\n",
            "2/2 [==============================] - 0s 38ms/step - loss: 0.3648 - accuracy: 0.9646 - val_loss: 0.3968 - val_accuracy: 0.9310\n",
            "Epoch 57/100\n",
            "2/2 [==============================] - 0s 41ms/step - loss: 0.3570 - accuracy: 0.9646 - val_loss: 0.3886 - val_accuracy: 0.9310\n",
            "Epoch 58/100\n",
            "2/2 [==============================] - 0s 49ms/step - loss: 0.3487 - accuracy: 0.9646 - val_loss: 0.3803 - val_accuracy: 0.9310\n",
            "Epoch 59/100\n",
            "2/2 [==============================] - 0s 46ms/step - loss: 0.3406 - accuracy: 0.9735 - val_loss: 0.3722 - val_accuracy: 0.9310\n",
            "Epoch 60/100\n",
            "2/2 [==============================] - 0s 41ms/step - loss: 0.3325 - accuracy: 0.9735 - val_loss: 0.3644 - val_accuracy: 0.9310\n",
            "Epoch 61/100\n",
            "2/2 [==============================] - 0s 41ms/step - loss: 0.3244 - accuracy: 0.9735 - val_loss: 0.3568 - val_accuracy: 0.9310\n",
            "Epoch 62/100\n",
            "2/2 [==============================] - 0s 40ms/step - loss: 0.3162 - accuracy: 0.9735 - val_loss: 0.3494 - val_accuracy: 0.9310\n",
            "Epoch 63/100\n",
            "2/2 [==============================] - 0s 40ms/step - loss: 0.3085 - accuracy: 0.9735 - val_loss: 0.3420 - val_accuracy: 0.9310\n",
            "Epoch 64/100\n",
            "2/2 [==============================] - 0s 42ms/step - loss: 0.3007 - accuracy: 0.9735 - val_loss: 0.3347 - val_accuracy: 0.9310\n",
            "Epoch 65/100\n",
            "2/2 [==============================] - 0s 43ms/step - loss: 0.2932 - accuracy: 0.9735 - val_loss: 0.3275 - val_accuracy: 0.9310\n",
            "Epoch 66/100\n",
            "2/2 [==============================] - 0s 42ms/step - loss: 0.2860 - accuracy: 0.9735 - val_loss: 0.3206 - val_accuracy: 0.9310\n",
            "Epoch 67/100\n",
            "2/2 [==============================] - 0s 41ms/step - loss: 0.2789 - accuracy: 0.9735 - val_loss: 0.3137 - val_accuracy: 0.9310\n",
            "Epoch 68/100\n",
            "2/2 [==============================] - 0s 38ms/step - loss: 0.2717 - accuracy: 0.9735 - val_loss: 0.3070 - val_accuracy: 0.9310\n",
            "Epoch 69/100\n",
            "2/2 [==============================] - 0s 42ms/step - loss: 0.2651 - accuracy: 0.9735 - val_loss: 0.3005 - val_accuracy: 0.9310\n",
            "Epoch 70/100\n",
            "2/2 [==============================] - 0s 42ms/step - loss: 0.2581 - accuracy: 0.9735 - val_loss: 0.2941 - val_accuracy: 0.9655\n",
            "Epoch 71/100\n",
            "2/2 [==============================] - 0s 43ms/step - loss: 0.2514 - accuracy: 0.9735 - val_loss: 0.2877 - val_accuracy: 0.9655\n",
            "Epoch 72/100\n",
            "2/2 [==============================] - 0s 44ms/step - loss: 0.2451 - accuracy: 0.9735 - val_loss: 0.2813 - val_accuracy: 0.9655\n",
            "Epoch 73/100\n",
            "2/2 [==============================] - 0s 40ms/step - loss: 0.2387 - accuracy: 0.9735 - val_loss: 0.2748 - val_accuracy: 0.9655\n",
            "Epoch 74/100\n",
            "2/2 [==============================] - 0s 44ms/step - loss: 0.2327 - accuracy: 0.9735 - val_loss: 0.2682 - val_accuracy: 0.9655\n",
            "Epoch 75/100\n",
            "2/2 [==============================] - 0s 42ms/step - loss: 0.2268 - accuracy: 0.9735 - val_loss: 0.2614 - val_accuracy: 0.9655\n",
            "Epoch 76/100\n",
            "2/2 [==============================] - 0s 42ms/step - loss: 0.2209 - accuracy: 0.9735 - val_loss: 0.2546 - val_accuracy: 0.9655\n",
            "Epoch 77/100\n",
            "2/2 [==============================] - 0s 46ms/step - loss: 0.2153 - accuracy: 0.9735 - val_loss: 0.2481 - val_accuracy: 0.9655\n",
            "Epoch 78/100\n",
            "2/2 [==============================] - 0s 44ms/step - loss: 0.2098 - accuracy: 0.9735 - val_loss: 0.2416 - val_accuracy: 0.9655\n",
            "Epoch 79/100\n",
            "2/2 [==============================] - 0s 42ms/step - loss: 0.2045 - accuracy: 0.9735 - val_loss: 0.2352 - val_accuracy: 0.9655\n",
            "Epoch 80/100\n",
            "2/2 [==============================] - 0s 41ms/step - loss: 0.1996 - accuracy: 0.9735 - val_loss: 0.2289 - val_accuracy: 0.9655\n",
            "Epoch 81/100\n",
            "2/2 [==============================] - 0s 44ms/step - loss: 0.1945 - accuracy: 0.9735 - val_loss: 0.2229 - val_accuracy: 0.9655\n",
            "Epoch 82/100\n",
            "2/2 [==============================] - 0s 44ms/step - loss: 0.1898 - accuracy: 0.9735 - val_loss: 0.2171 - val_accuracy: 0.9655\n",
            "Epoch 83/100\n",
            "2/2 [==============================] - 0s 41ms/step - loss: 0.1850 - accuracy: 0.9735 - val_loss: 0.2115 - val_accuracy: 0.9655\n",
            "Epoch 84/100\n",
            "2/2 [==============================] - 0s 38ms/step - loss: 0.1805 - accuracy: 0.9735 - val_loss: 0.2060 - val_accuracy: 0.9655\n",
            "Epoch 85/100\n",
            "2/2 [==============================] - 0s 39ms/step - loss: 0.1759 - accuracy: 0.9735 - val_loss: 0.2005 - val_accuracy: 0.9655\n",
            "Epoch 86/100\n",
            "2/2 [==============================] - 0s 39ms/step - loss: 0.1716 - accuracy: 0.9735 - val_loss: 0.1950 - val_accuracy: 0.9655\n",
            "Epoch 87/100\n",
            "2/2 [==============================] - 0s 45ms/step - loss: 0.1675 - accuracy: 0.9735 - val_loss: 0.1898 - val_accuracy: 0.9655\n",
            "Epoch 88/100\n",
            "2/2 [==============================] - 0s 40ms/step - loss: 0.1634 - accuracy: 0.9735 - val_loss: 0.1848 - val_accuracy: 0.9655\n",
            "Epoch 89/100\n",
            "2/2 [==============================] - 0s 58ms/step - loss: 0.1595 - accuracy: 0.9735 - val_loss: 0.1798 - val_accuracy: 0.9655\n",
            "Epoch 90/100\n",
            "2/2 [==============================] - 0s 38ms/step - loss: 0.1556 - accuracy: 0.9735 - val_loss: 0.1750 - val_accuracy: 0.9655\n",
            "Epoch 91/100\n",
            "2/2 [==============================] - 0s 42ms/step - loss: 0.1517 - accuracy: 0.9735 - val_loss: 0.1703 - val_accuracy: 0.9655\n",
            "Epoch 92/100\n",
            "2/2 [==============================] - 0s 39ms/step - loss: 0.1483 - accuracy: 0.9823 - val_loss: 0.1659 - val_accuracy: 1.0000\n",
            "Epoch 93/100\n",
            "2/2 [==============================] - 0s 44ms/step - loss: 0.1448 - accuracy: 0.9823 - val_loss: 0.1617 - val_accuracy: 1.0000\n",
            "Epoch 94/100\n",
            "2/2 [==============================] - 0s 51ms/step - loss: 0.1415 - accuracy: 0.9823 - val_loss: 0.1578 - val_accuracy: 1.0000\n",
            "Epoch 95/100\n",
            "2/2 [==============================] - 0s 38ms/step - loss: 0.1382 - accuracy: 0.9823 - val_loss: 0.1541 - val_accuracy: 1.0000\n",
            "Epoch 96/100\n",
            "2/2 [==============================] - 0s 45ms/step - loss: 0.1351 - accuracy: 0.9823 - val_loss: 0.1507 - val_accuracy: 1.0000\n",
            "Epoch 97/100\n",
            "2/2 [==============================] - 0s 44ms/step - loss: 0.1320 - accuracy: 0.9823 - val_loss: 0.1475 - val_accuracy: 1.0000\n",
            "Epoch 98/100\n",
            "2/2 [==============================] - 0s 48ms/step - loss: 0.1291 - accuracy: 0.9823 - val_loss: 0.1444 - val_accuracy: 1.0000\n",
            "Epoch 99/100\n",
            "2/2 [==============================] - 0s 42ms/step - loss: 0.1264 - accuracy: 0.9823 - val_loss: 0.1414 - val_accuracy: 1.0000\n",
            "Epoch 100/100\n",
            "2/2 [==============================] - 0s 44ms/step - loss: 0.1237 - accuracy: 0.9823 - val_loss: 0.1385 - val_accuracy: 1.0000\n"
          ]
        }
      ]
    },
    {
      "cell_type": "code",
      "source": [
        "model.evaluate(X_test, Y_test)"
      ],
      "metadata": {
        "colab": {
          "base_uri": "https://localhost:8080/"
        },
        "id": "o9MO5wY3T94G",
        "outputId": "78b49ded-baaf-4f40-ce12-d1fbbeed6d07"
      },
      "execution_count": 13,
      "outputs": [
        {
          "output_type": "stream",
          "name": "stdout",
          "text": [
            "2/2 [==============================] - 0s 7ms/step - loss: 0.1301 - accuracy: 0.9722\n"
          ]
        },
        {
          "output_type": "execute_result",
          "data": {
            "text/plain": [
              "[0.13005691766738892, 0.9722222089767456]"
            ]
          },
          "metadata": {},
          "execution_count": 12
        },
        {
          "output_type": "stream",
          "name": "stdout",
          "text": [
            "2/2 [==============================] - 0s 12ms/step - loss: 0.1301 - accuracy: 0.9722\n"
          ]
        },
        {
          "output_type": "execute_result",
          "data": {
            "text/plain": [
              "[0.13005691766738892, 0.9722222089767456]"
            ]
          },
          "metadata": {},
          "execution_count": 13
        }
      ]
    },
    {
      "cell_type": "markdown",
      "source": [
        "- 학습과정 시각화"
      ],
      "metadata": {
        "id": "5AL5AwzJUXCW"
      }
    },
    {
      "cell_type": "code",
      "source": [
        "y_acc = hist.history['accuracy']\n",
        "y_vloss = hist.history['val_loss']\n",
        "xs = np.arange(1, len(y_acc) + 1)"
      ],
      "metadata": {
        "id": "tjk0_yyZUMGw"
      },
      "execution_count": 14,
      "outputs": []
    },
    {
      "cell_type": "code",
      "source": [
        "plt.figure(figsize = (12, 8))\n",
        "plt.plot(xs, y_acc, label = 'train accuracy')\n",
        "plt.plot(xs, y_vloss, label = 'validation loss')\n",
        "plt.legend(), plt.grid()\n",
        "plt.xlabel('Epoch')\n",
        "plt.show()"
      ],
      "metadata": {
        "colab": {
          "base_uri": "https://localhost:8080/",
          "height": 497
        },
        "id": "jsFLVpyjU3iM",
        "outputId": "658a3e5f-fa9f-4bc1-fc0d-281f8b59fa30"
      },
      "execution_count": 15,
      "outputs": [
        {
          "output_type": "display_data",
          "data": {
            "text/plain": [
              "<Figure size 864x576 with 1 Axes>"
            ],
            "image/png": "[encoded data removed]"
          },
          "metadata": {
            "needs_background": "light"
          }
        }
      ]
    },
    {
      "cell_type": "markdown",
      "source": [
        "- 내려가는 추세일 경우 Epoch 횟수를 더 늘려서 학습"
      ],
      "metadata": {
        "id": "oAnhxhrMVgAs"
      }
    },
    {
      "cell_type": "code",
      "source": [
        "model2 = Sequential([\n",
        "    Dense(30, input_dim = 13, activation = 'relu'), # 첫번째 은닉층\n",
        "    Dense(12, activation = 'relu'), # 두번째 은닉층\n",
        "    Dense(3, activation = 'softmax') # 출력층, 노드수는 y의 종류(N)수, 활성화함수는 softmax\n",
        "])\n",
        "model2.summary()"
      ],
      "metadata": {
        "colab": {
          "base_uri": "https://localhost:8080/"
        },
        "id": "jRkVqfWMVM2L",
        "outputId": "41528ead-d6c2-4f2a-a74d-3c950853346c"
      },
      "execution_count": 31,
      "outputs": [
        {
          "output_type": "stream",
          "name": "stdout",
          "text": [
            "Model: \"sequential_3\"\n",
            "_________________________________________________________________\n",
            " Layer (type)                Output Shape              Param #   \n",
            "=================================================================\n",
            " dense_9 (Dense)             (None, 30)                420       \n",
            "                                                                 \n",
            " dense_10 (Dense)            (None, 12)                372       \n",
            "                                                                 \n",
            " dense_11 (Dense)            (None, 3)                 39        \n",
            "                                                                 \n",
            "=================================================================\n",
            "Total params: 831\n",
            "Trainable params: 831\n",
            "Non-trainable params: 0\n",
            "_________________________________________________________________\n"
          ]
        }
      ]
    },
    {
      "cell_type": "code",
      "source": [
        "# 다중분류시 손실 함수는 categorical_crossentropy\n",
        "model2.compile('adam', loss = 'categorical_crossentropy', metrics = ['accuracy'])"
      ],
      "metadata": {
        "id": "rIz016OkV-zV"
      },
      "execution_count": 32,
      "outputs": []
    },
    {
      "cell_type": "code",
      "source": [
        "hist2 = model.fit(X_train, Y_train, validation_split=0.2,\n",
        "                 epochs=1000, batch_size=100, verbose=0)"
      ],
      "metadata": {
        "id": "XiAL9WibWEBV"
      },
      "execution_count": 33,
      "outputs": []
    },
    {
      "cell_type": "code",
      "source": [
        "model2.evaluate(X_test, Y_test)"
      ],
      "metadata": {
        "colab": {
          "base_uri": "https://localhost:8080/"
        },
        "id": "v-km-SI4WlCi",
        "outputId": "8cd8d50a-5320-4317-b586-100e4f5940e9"
      },
      "execution_count": 34,
      "outputs": [
        {
          "output_type": "stream",
          "name": "stdout",
          "text": [
            "2/2 [==============================] - 0s 5ms/step - loss: 1.2349 - accuracy: 0.3333\n"
          ]
        },
        {
          "output_type": "execute_result",
          "data": {
            "text/plain": [
              "[1.2348508834838867, 0.3333333432674408]"
            ]
          },
          "metadata": {},
          "execution_count": 34
        }
      ]
    },
    {
      "cell_type": "code",
      "source": [
        "y_acc2 = hist2.history['accuracy']\n",
        "y_vloss2 = hist2.history['val_loss']\n",
        "xs2 = np.arange(1, len(y_acc2) + 1)"
      ],
      "metadata": {
        "id": "CQXT3T-YWIts"
      },
      "execution_count": 35,
      "outputs": []
    },
    {
      "cell_type": "code",
      "source": [
        "plt.figure(figsize = (12, 8))\n",
        "plt.plot(xs2, y_acc2, label = 'train accuracy')\n",
        "plt.plot(xs2, y_vloss2, label = 'validation loss')\n",
        "plt.legend(), plt.grid()\n",
        "plt.xlabel('Epoch')\n",
        "plt.show()"
      ],
      "metadata": {
        "colab": {
          "base_uri": "https://localhost:8080/",
          "height": 497
        },
        "id": "05qg2zgEWYHG",
        "outputId": "ff9c218e-5c5f-4bf4-869d-efd948702147"
      },
      "execution_count": 36,
      "outputs": [
        {
          "output_type": "display_data",
          "data": {
            "text/plain": [
              "<Figure size 864x576 with 1 Axes>"
            ],
            "image/png": "[encoded data removed]"
          },
          "metadata": {
            "needs_background": "light"
          }
        }
      ]
    },
    {
      "cell_type": "code",
      "source": [
        "del model2"
      ],
      "metadata": {
        "id": "IQjhZxwNWyIp"
      },
      "execution_count": 30,
      "outputs": []
    },
    {
      "cell_type": "markdown",
      "source": [
        "- 모델 저장 및 로드"
      ],
      "metadata": {
        "id": "xHGhjJq1XSCO"
      }
    },
    {
      "cell_type": "code",
      "source": [
        "model2.save('wine.h5')"
      ],
      "metadata": {
        "id": "pYRvwzTkWzvy"
      },
      "execution_count": 37,
      "outputs": []
    },
    {
      "cell_type": "code",
      "source": [
        "!ls -l"
      ],
      "metadata": {
        "colab": {
          "base_uri": "https://localhost:8080/"
        },
        "id": "UJHUT2eiXav1",
        "outputId": "78509a3c-e0af-4bdb-fe77-39ae1dcd8517"
      },
      "execution_count": 38,
      "outputs": [
        {
          "output_type": "stream",
          "name": "stdout",
          "text": [
            "total 24\n",
            "drwxr-xr-x 1 root root  4096 May 17 13:39 sample_data\n",
            "-rw-r--r-- 1 root root 20208 May 23 00:42 wine.h5\n"
          ]
        }
      ]
    },
    {
      "cell_type": "code",
      "source": [
        "from tensorflow.keras.models import load_model\n",
        "my_model = load_model('wine.h5')"
      ],
      "metadata": {
        "id": "-LsT6GAIXhDt"
      },
      "execution_count": 39,
      "outputs": []
    },
    {
      "cell_type": "code",
      "source": [
        "my_model.evaluate(X_test, Y_test)"
      ],
      "metadata": {
        "colab": {
          "base_uri": "https://localhost:8080/"
        },
        "id": "dGk6KbTFX4ga",
        "outputId": "61e7e793-94ce-4c0c-857e-e0de4398e632"
      },
      "execution_count": 40,
      "outputs": [
        {
          "output_type": "stream",
          "name": "stdout",
          "text": [
            "2/2 [==============================] - 0s 6ms/step - loss: 1.2349 - accuracy: 0.3333\n"
          ]
        },
        {
          "output_type": "execute_result",
          "data": {
            "text/plain": [
              "[1.2348508834838867, 0.3333333432674408]"
            ]
          },
          "metadata": {},
          "execution_count": 40
        }
      ]
    },
    {
      "cell_type": "markdown",
      "source": [
        "- 실제 데이터로 테스트"
      ],
      "metadata": {
        "id": "89uE409HYFnU"
      }
    },
    {
      "cell_type": "code",
      "source": [
        "wine_std[100], Y[100]"
      ],
      "metadata": {
        "colab": {
          "base_uri": "https://localhost:8080/"
        },
        "id": "iygEN0cdX7kX",
        "outputId": "20c3cc03-8170-4000-8f08-df83b477614d"
      },
      "execution_count": 42,
      "outputs": [
        {
          "output_type": "execute_result",
          "data": {
            "text/plain": [
              "(array([-1.13720713, -0.23011443, -2.43634632, -0.59905169, -0.192495  ,\n",
              "        -0.10433159,  0.14128858, -0.82071924, -0.33447089, -0.76049691,\n",
              "         1.37126518,  0.49197446, -0.11748635]),\n",
              " array([0., 1., 0.], dtype=float32))"
            ]
          },
          "metadata": {},
          "execution_count": 42
        }
      ]
    },
    {
      "cell_type": "code",
      "source": [
        "wine.target_names"
      ],
      "metadata": {
        "colab": {
          "base_uri": "https://localhost:8080/"
        },
        "id": "bXAn97kMYQgJ",
        "outputId": "2804d7d0-6f6d-4d67-8bd2-d158d33b7559"
      },
      "execution_count": 43,
      "outputs": [
        {
          "output_type": "execute_result",
          "data": {
            "text/plain": [
              "array(['class_0', 'class_1', 'class_2'], dtype='<U7')"
            ]
          },
          "metadata": {},
          "execution_count": 43
        }
      ]
    },
    {
      "cell_type": "code",
      "source": [
        "my_model.evaluate(wine_std[100].reshape(1, -1), Y[100].reshape(1, -1))"
      ],
      "metadata": {
        "colab": {
          "base_uri": "https://localhost:8080/"
        },
        "id": "tDhBXxZdYnHR",
        "outputId": "b8ce9b03-b50b-4510-a420-28abc34b0a87"
      },
      "execution_count": 46,
      "outputs": [
        {
          "output_type": "stream",
          "name": "stdout",
          "text": [
            "1/1 [==============================] - 0s 40ms/step - loss: 1.2767 - accuracy: 0.0000e+00\n"
          ]
        },
        {
          "output_type": "execute_result",
          "data": {
            "text/plain": [
              "[1.2767096757888794, 0.0]"
            ]
          },
          "metadata": {},
          "execution_count": 46
        }
      ]
    },
    {
      "cell_type": "code",
      "source": [
        ""
      ],
      "metadata": {
        "id": "BRjx-X5nYrx6"
      },
      "execution_count": null,
      "outputs": []
    }
  ]
}