{
  "nbformat": 4,
  "nbformat_minor": 0,
  "metadata": {
    "colab": {
      "name": "01_신경망모델.ipynb",
      "provenance": [],
      "collapsed_sections": []
    },
    "kernelspec": {
      "name": "python3",
      "display_name": "Python 3"
    },
    "language_info": {
      "name": "python"
    }
  },
  "cells": [
    {
      "cell_type": "markdown",
      "source": [
        "# 신경망 모델\n",
        "### - 이진 분류: 유방암 예측 사례"
      ],
      "metadata": {
        "id": "_MyiH7W-A2BW"
      }
    },
    {
      "cell_type": "code",
      "execution_count": null,
      "metadata": {
        "id": "6Mpvtzd4-VqQ"
      },
      "outputs": [],
      "source": [
        "import numpy as np\n",
        "import pandas as pd\n",
        "import matplotlib.pyplot as plt"
      ]
    },
    {
      "cell_type": "markdown",
      "source": [
        "- 데이터 준비"
      ],
      "metadata": {
        "id": "R5xvUe-zDcQA"
      }
    },
    {
      "cell_type": "code",
      "source": [
        "from sklearn.datasets import load_breast_cancer\n",
        "cancer = load_breast_cancer()\n",
        "df = pd.DataFrame(cancer.data, columns = cancer.feature_names)\n",
        "df['target'] = cancer.target\n",
        "df.head()"
      ],
      "metadata": {
        "colab": {
          "base_uri": "https://localhost:8080/",
          "height": 334
        },
        "id": "2OVs8MPbDZ_A",
        "outputId": "431c60af-a1ca-4e41-df66-8002a8808a1e"
      },
      "execution_count": null,
      "outputs": [
        {
          "output_type": "execute_result",
          "data": {
            "text/plain": [
              "   mean radius  mean texture  mean perimeter  mean area  mean smoothness  \\\n",
              "0        17.99         10.38          122.80     1001.0          0.11840   \n",
              "1        20.57         17.77          132.90     1326.0          0.08474   \n",
              "2        19.69         21.25          130.00     1203.0          0.10960   \n",
              "3        11.42         20.38           77.58      386.1          0.14250   \n",
              "4        20.29         14.34          135.10     1297.0          0.10030   \n",
              "\n",
              "   mean compactness  mean concavity  mean concave points  mean symmetry  \\\n",
              "0           0.27760          0.3001              0.14710         0.2419   \n",
              "1           0.07864          0.0869              0.07017         0.1812   \n",
              "2           0.15990          0.1974              0.12790         0.2069   \n",
              "3           0.28390          0.2414              0.10520         0.2597   \n",
              "4           0.13280          0.1980              0.10430         0.1809   \n",
              "\n",
              "   mean fractal dimension  ...  worst texture  worst perimeter  worst area  \\\n",
              "0                 0.07871  ...          17.33           184.60      2019.0   \n",
              "1                 0.05667  ...          23.41           158.80      1956.0   \n",
              "2                 0.05999  ...          25.53           152.50      1709.0   \n",
              "3                 0.09744  ...          26.50            98.87       567.7   \n",
              "4                 0.05883  ...          16.67           152.20      1575.0   \n",
              "\n",
              "   worst smoothness  worst compactness  worst concavity  worst concave points  \\\n",
              "0            0.1622             0.6656           0.7119                0.2654   \n",
              "1            0.1238             0.1866           0.2416                0.1860   \n",
              "2            0.1444             0.4245           0.4504                0.2430   \n",
              "3            0.2098             0.8663           0.6869                0.2575   \n",
              "4            0.1374             0.2050           0.4000                0.1625   \n",
              "\n",
              "   worst symmetry  worst fractal dimension  target  \n",
              "0          0.4601                  0.11890       0  \n",
              "1          0.2750                  0.08902       0  \n",
              "2          0.3613                  0.08758       0  \n",
              "3          0.6638                  0.17300       0  \n",
              "4          0.2364                  0.07678       0  \n",
              "\n",
              "[5 rows x 31 columns]"
            ],
            "text/html": [
              "\n",
              "  <div id=\"df-de11c9a5-c3f6-4a05-916b-a2d93f2b7b5d\">\n",
              "    <div class=\"colab-df-container\">\n",
              "      <div>\n",
              "<style scoped>\n",
              "    .dataframe tbody tr th:only-of-type {\n",
              "        vertical-align: middle;\n",
              "    }\n",
              "\n",
              "    .dataframe tbody tr th {\n",
              "        vertical-align: top;\n",
              "    }\n",
              "\n",
              "    .dataframe thead th {\n",
              "        text-align: right;\n",
              "    }\n",
              "</style>\n",
              "<table border=\"1\" class=\"dataframe\">\n",
              "  <thead>\n",
              "    <tr style=\"text-align: right;\">\n",
              "      <th></th>\n",
              "      <th>mean radius</th>\n",
              "      <th>mean texture</th>\n",
              "      <th>mean perimeter</th>\n",
              "      <th>mean area</th>\n",
              "      <th>mean smoothness</th>\n",
              "      <th>mean compactness</th>\n",
              "      <th>mean concavity</th>\n",
              "      <th>mean concave points</th>\n",
              "      <th>mean symmetry</th>\n",
              "      <th>mean fractal dimension</th>\n",
              "      <th>...</th>\n",
              "      <th>worst texture</th>\n",
              "      <th>worst perimeter</th>\n",
              "      <th>worst area</th>\n",
              "      <th>worst smoothness</th>\n",
              "      <th>worst compactness</th>\n",
              "      <th>worst concavity</th>\n",
              "      <th>worst concave points</th>\n",
              "      <th>worst symmetry</th>\n",
              "      <th>worst fractal dimension</th>\n",
              "      <th>target</th>\n",
              "    </tr>\n",
              "  </thead>\n",
              "  <tbody>\n",
              "    <tr>\n",
              "      <th>0</th>\n",
              "      <td>17.99</td>\n",
              "      <td>10.38</td>\n",
              "      <td>122.80</td>\n",
              "      <td>1001.0</td>\n",
              "      <td>0.11840</td>\n",
              "      <td>0.27760</td>\n",
              "      <td>0.3001</td>\n",
              "      <td>0.14710</td>\n",
              "      <td>0.2419</td>\n",
              "      <td>0.07871</td>\n",
              "      <td>...</td>\n",
              "      <td>17.33</td>\n",
              "      <td>184.60</td>\n",
              "      <td>2019.0</td>\n",
              "      <td>0.1622</td>\n",
              "      <td>0.6656</td>\n",
              "      <td>0.7119</td>\n",
              "      <td>0.2654</td>\n",
              "      <td>0.4601</td>\n",
              "      <td>0.11890</td>\n",
              "      <td>0</td>\n",
              "    </tr>\n",
              "    <tr>\n",
              "      <th>1</th>\n",
              "      <td>20.57</td>\n",
              "      <td>17.77</td>\n",
              "      <td>132.90</td>\n",
              "      <td>1326.0</td>\n",
              "      <td>0.08474</td>\n",
              "      <td>0.07864</td>\n",
              "      <td>0.0869</td>\n",
              "      <td>0.07017</td>\n",
              "      <td>0.1812</td>\n",
              "      <td>0.05667</td>\n",
              "      <td>...</td>\n",
              "      <td>23.41</td>\n",
              "      <td>158.80</td>\n",
              "      <td>1956.0</td>\n",
              "      <td>0.1238</td>\n",
              "      <td>0.1866</td>\n",
              "      <td>0.2416</td>\n",
              "      <td>0.1860</td>\n",
              "      <td>0.2750</td>\n",
              "      <td>0.08902</td>\n",
              "      <td>0</td>\n",
              "    </tr>\n",
              "    <tr>\n",
              "      <th>2</th>\n",
              "      <td>19.69</td>\n",
              "      <td>21.25</td>\n",
              "      <td>130.00</td>\n",
              "      <td>1203.0</td>\n",
              "      <td>0.10960</td>\n",
              "      <td>0.15990</td>\n",
              "      <td>0.1974</td>\n",
              "      <td>0.12790</td>\n",
              "      <td>0.2069</td>\n",
              "      <td>0.05999</td>\n",
              "      <td>...</td>\n",
              "      <td>25.53</td>\n",
              "      <td>152.50</td>\n",
              "      <td>1709.0</td>\n",
              "      <td>0.1444</td>\n",
              "      <td>0.4245</td>\n",
              "      <td>0.4504</td>\n",
              "      <td>0.2430</td>\n",
              "      <td>0.3613</td>\n",
              "      <td>0.08758</td>\n",
              "      <td>0</td>\n",
              "    </tr>\n",
              "    <tr>\n",
              "      <th>3</th>\n",
              "      <td>11.42</td>\n",
              "      <td>20.38</td>\n",
              "      <td>77.58</td>\n",
              "      <td>386.1</td>\n",
              "      <td>0.14250</td>\n",
              "      <td>0.28390</td>\n",
              "      <td>0.2414</td>\n",
              "      <td>0.10520</td>\n",
              "      <td>0.2597</td>\n",
              "      <td>0.09744</td>\n",
              "      <td>...</td>\n",
              "      <td>26.50</td>\n",
              "      <td>98.87</td>\n",
              "      <td>567.7</td>\n",
              "      <td>0.2098</td>\n",
              "      <td>0.8663</td>\n",
              "      <td>0.6869</td>\n",
              "      <td>0.2575</td>\n",
              "      <td>0.6638</td>\n",
              "      <td>0.17300</td>\n",
              "      <td>0</td>\n",
              "    </tr>\n",
              "    <tr>\n",
              "      <th>4</th>\n",
              "      <td>20.29</td>\n",
              "      <td>14.34</td>\n",
              "      <td>135.10</td>\n",
              "      <td>1297.0</td>\n",
              "      <td>0.10030</td>\n",
              "      <td>0.13280</td>\n",
              "      <td>0.1980</td>\n",
              "      <td>0.10430</td>\n",
              "      <td>0.1809</td>\n",
              "      <td>0.05883</td>\n",
              "      <td>...</td>\n",
              "      <td>16.67</td>\n",
              "      <td>152.20</td>\n",
              "      <td>1575.0</td>\n",
              "      <td>0.1374</td>\n",
              "      <td>0.2050</td>\n",
              "      <td>0.4000</td>\n",
              "      <td>0.1625</td>\n",
              "      <td>0.2364</td>\n",
              "      <td>0.07678</td>\n",
              "      <td>0</td>\n",
              "    </tr>\n",
              "  </tbody>\n",
              "</table>\n",
              "<p>5 rows × 31 columns</p>\n",
              "</div>\n",
              "      <button class=\"colab-df-convert\" onclick=\"convertToInteractive('df-de11c9a5-c3f6-4a05-916b-a2d93f2b7b5d')\"\n",
              "              title=\"Convert this dataframe to an interactive table.\"\n",
              "              style=\"display:none;\">\n",
              "        \n",
              "  <svg xmlns=\"http://www.w3.org/2000/svg\" height=\"24px\"viewBox=\"0 0 24 24\"\n",
              "       width=\"24px\">\n",
              "    <path d=\"M0 0h24v24H0V0z\" fill=\"none\"/>\n",
              "    <path d=\"M18.56 5.44l.94 2.06.94-2.06 2.06-.94-2.06-.94-.94-2.06-.94 2.06-2.06.94zm-11 1L8.5 8.5l.94-2.06 2.06-.94-2.06-.94L8.5 2.5l-.94 2.06-2.06.94zm10 10l.94 2.06.94-2.06 2.06-.94-2.06-.94-.94-2.06-.94 2.06-2.06.94z\"/><path d=\"M17.41 7.96l-1.37-1.37c-.4-.4-.92-.59-1.43-.59-.52 0-1.04.2-1.43.59L10.3 9.45l-7.72 7.72c-.78.78-.78 2.05 0 2.83L4 21.41c.39.39.9.59 1.41.59.51 0 1.02-.2 1.41-.59l7.78-7.78 2.81-2.81c.8-.78.8-2.07 0-2.86zM5.41 20L4 18.59l7.72-7.72 1.47 1.35L5.41 20z\"/>\n",
              "  </svg>\n",
              "      </button>\n",
              "      \n",
              "  <style>\n",
              "    .colab-df-container {\n",
              "      display:flex;\n",
              "      flex-wrap:wrap;\n",
              "      gap: 12px;\n",
              "    }\n",
              "\n",
              "    .colab-df-convert {\n",
              "      background-color: #E8F0FE;\n",
              "      border: none;\n",
              "      border-radius: 50%;\n",
              "      cursor: pointer;\n",
              "      display: none;\n",
              "      fill: #1967D2;\n",
              "      height: 32px;\n",
              "      padding: 0 0 0 0;\n",
              "      width: 32px;\n",
              "    }\n",
              "\n",
              "    .colab-df-convert:hover {\n",
              "      background-color: #E2EBFA;\n",
              "      box-shadow: 0px 1px 2px rgba(60, 64, 67, 0.3), 0px 1px 3px 1px rgba(60, 64, 67, 0.15);\n",
              "      fill: #174EA6;\n",
              "    }\n",
              "\n",
              "    [theme=dark] .colab-df-convert {\n",
              "      background-color: #3B4455;\n",
              "      fill: #D2E3FC;\n",
              "    }\n",
              "\n",
              "    [theme=dark] .colab-df-convert:hover {\n",
              "      background-color: #434B5C;\n",
              "      box-shadow: 0px 1px 3px 1px rgba(0, 0, 0, 0.15);\n",
              "      filter: drop-shadow(0px 1px 2px rgba(0, 0, 0, 0.3));\n",
              "      fill: #FFFFFF;\n",
              "    }\n",
              "  </style>\n",
              "\n",
              "      <script>\n",
              "        const buttonEl =\n",
              "          document.querySelector('#df-de11c9a5-c3f6-4a05-916b-a2d93f2b7b5d button.colab-df-convert');\n",
              "        buttonEl.style.display =\n",
              "          google.colab.kernel.accessAllowed ? 'block' : 'none';\n",
              "\n",
              "        async function convertToInteractive(key) {\n",
              "          const element = document.querySelector('#df-de11c9a5-c3f6-4a05-916b-a2d93f2b7b5d');\n",
              "          const dataTable =\n",
              "            await google.colab.kernel.invokeFunction('convertToInteractive',\n",
              "                                                     [key], {});\n",
              "          if (!dataTable) return;\n",
              "\n",
              "          const docLinkHtml = 'Like what you see? Visit the ' +\n",
              "            '<a target=\"_blank\" href=https://colab.research.google.com/notebooks/data_table.ipynb>data table notebook</a>'\n",
              "            + ' to learn more about interactive tables.';\n",
              "          element.innerHTML = '';\n",
              "          dataTable['output_type'] = 'display_data';\n",
              "          await google.colab.output.renderOutput(dataTable, element);\n",
              "          const docLink = document.createElement('div');\n",
              "          docLink.innerHTML = docLinkHtml;\n",
              "          element.appendChild(docLink);\n",
              "        }\n",
              "      </script>\n",
              "    </div>\n",
              "  </div>\n",
              "  "
            ]
          },
          "metadata": {},
          "execution_count": 2
        }
      ]
    },
    {
      "cell_type": "code",
      "source": [
        "df.shape"
      ],
      "metadata": {
        "colab": {
          "base_uri": "https://localhost:8080/"
        },
        "id": "mH6z0PsvEJwo",
        "outputId": "8e3f8b03-1ccb-4e07-c42e-c1b8beb1d5ca"
      },
      "execution_count": null,
      "outputs": [
        {
          "output_type": "execute_result",
          "data": {
            "text/plain": [
              "(569, 31)"
            ]
          },
          "metadata": {},
          "execution_count": 4
        }
      ]
    },
    {
      "cell_type": "markdown",
      "source": [
        "### 1. 데이터를 정규/표준화 하지 않은 경우"
      ],
      "metadata": {
        "id": "LSPYwwsLEH_-"
      }
    },
    {
      "cell_type": "code",
      "source": [
        "from sklearn.model_selection import train_test_split\n",
        "X_train, X_test, y_train, y_test = train_test_split(\n",
        "    cancer.data, cancer.target, stratify = cancer.target,\n",
        "    test_size = 0.2, random_state = 2022\n",
        ")"
      ],
      "metadata": {
        "id": "0lrrH_gmD2pr"
      },
      "execution_count": null,
      "outputs": []
    },
    {
      "cell_type": "markdown",
      "source": [
        "- 모델 정의"
      ],
      "metadata": {
        "id": "38MizhV0FBPJ"
      }
    },
    {
      "cell_type": "code",
      "source": [
        "from tensorflow.keras.models import Sequential\n",
        "from tensorflow.keras.layers import Dense       # Fully Connected Network"
      ],
      "metadata": {
        "id": "7n_kQByGFAsu"
      },
      "execution_count": null,
      "outputs": []
    },
    {
      "cell_type": "code",
      "source": [
        "model = Sequential([\n",
        "    Dense(100, input_shape = (30, ), activation = 'relu'),\n",
        "    Dense(24, activation = 'relu'),\n",
        "    Dense(1, activation = 'sigmoid')\n",
        "])\n",
        "model.summary()"
      ],
      "metadata": {
        "colab": {
          "base_uri": "https://localhost:8080/"
        },
        "id": "nocXXRBzFZlp",
        "outputId": "96793246-c2d8-44a7-cda6-1a107dabc725"
      },
      "execution_count": null,
      "outputs": [
        {
          "output_type": "stream",
          "name": "stdout",
          "text": [
            "Model: \"sequential\"\n",
            "_________________________________________________________________\n",
            " Layer (type)                Output Shape              Param #   \n",
            "=================================================================\n",
            " dense (Dense)               (None, 100)               3100      \n",
            "                                                                 \n",
            " dense_1 (Dense)             (None, 24)                2424      \n",
            "                                                                 \n",
            " dense_2 (Dense)             (None, 1)                 25        \n",
            "                                                                 \n",
            "=================================================================\n",
            "Total params: 5,549\n",
            "Trainable params: 5,549\n",
            "Non-trainable params: 0\n",
            "_________________________________________________________________\n"
          ]
        }
      ]
    },
    {
      "cell_type": "markdown",
      "source": [
        "- 모델 설정(컴파일)"
      ],
      "metadata": {
        "id": "lXZVphvJGyBT"
      }
    },
    {
      "cell_type": "code",
      "source": [
        "model.compile(optimizer='adam',  loss='binary_crossentropy', metrics = ['accuracy'])"
      ],
      "metadata": {
        "id": "ZAjWybzRGSLL"
      },
      "execution_count": null,
      "outputs": []
    },
    {
      "cell_type": "markdown",
      "source": [
        "- 모델 학습"
      ],
      "metadata": {
        "id": "mI9wF61SHYff"
      }
    },
    {
      "cell_type": "code",
      "source": [
        "history = model.fit(X_train, y_train, validation_split=0.2, \n",
        "                    epochs = 100, batch_size = 100)"
      ],
      "metadata": {
        "colab": {
          "base_uri": "https://localhost:8080/"
        },
        "id": "zMy2llfFHMlR",
        "outputId": "23c17ce3-8958-4e8d-a18f-d229ecdc805d"
      },
      "execution_count": null,
      "outputs": [
        {
          "output_type": "stream",
          "name": "stdout",
          "text": [
            "Epoch 1/100\n",
            "4/4 [==============================] - 2s 156ms/step - loss: 3.5882 - accuracy: 0.6538 - val_loss: 0.9563 - val_accuracy: 0.7692\n",
            "Epoch 2/100\n",
            "4/4 [==============================] - 0s 19ms/step - loss: 1.2364 - accuracy: 0.7198 - val_loss: 0.7209 - val_accuracy: 0.8462\n",
            "Epoch 3/100\n",
            "4/4 [==============================] - 0s 15ms/step - loss: 1.0501 - accuracy: 0.8709 - val_loss: 0.5952 - val_accuracy: 0.8571\n",
            "Epoch 4/100\n",
            "4/4 [==============================] - 0s 19ms/step - loss: 0.9870 - accuracy: 0.7582 - val_loss: 0.6652 - val_accuracy: 0.8242\n",
            "Epoch 5/100\n",
            "4/4 [==============================] - 0s 15ms/step - loss: 0.7424 - accuracy: 0.8709 - val_loss: 0.5962 - val_accuracy: 0.8791\n",
            "Epoch 6/100\n",
            "4/4 [==============================] - 0s 14ms/step - loss: 0.5820 - accuracy: 0.9038 - val_loss: 0.7461 - val_accuracy: 0.8022\n",
            "Epoch 7/100\n",
            "4/4 [==============================] - 0s 26ms/step - loss: 0.6225 - accuracy: 0.8214 - val_loss: 0.3194 - val_accuracy: 0.9231\n",
            "Epoch 8/100\n",
            "4/4 [==============================] - 0s 11ms/step - loss: 0.4180 - accuracy: 0.9038 - val_loss: 0.3163 - val_accuracy: 0.8791\n",
            "Epoch 9/100\n",
            "4/4 [==============================] - 0s 9ms/step - loss: 0.2942 - accuracy: 0.8791 - val_loss: 0.3298 - val_accuracy: 0.9231\n",
            "Epoch 10/100\n",
            "4/4 [==============================] - 0s 9ms/step - loss: 0.3331 - accuracy: 0.8984 - val_loss: 0.3646 - val_accuracy: 0.8571\n",
            "Epoch 11/100\n",
            "4/4 [==============================] - 0s 12ms/step - loss: 0.2927 - accuracy: 0.8984 - val_loss: 0.3215 - val_accuracy: 0.9231\n",
            "Epoch 12/100\n",
            "4/4 [==============================] - 0s 12ms/step - loss: 0.2684 - accuracy: 0.9203 - val_loss: 0.3197 - val_accuracy: 0.8901\n",
            "Epoch 13/100\n",
            "4/4 [==============================] - 0s 10ms/step - loss: 0.2090 - accuracy: 0.9066 - val_loss: 0.2540 - val_accuracy: 0.9121\n",
            "Epoch 14/100\n",
            "4/4 [==============================] - 0s 9ms/step - loss: 0.1968 - accuracy: 0.9423 - val_loss: 0.2879 - val_accuracy: 0.9121\n",
            "Epoch 15/100\n",
            "4/4 [==============================] - 0s 9ms/step - loss: 0.1831 - accuracy: 0.9368 - val_loss: 0.2584 - val_accuracy: 0.9121\n",
            "Epoch 16/100\n",
            "4/4 [==============================] - 0s 10ms/step - loss: 0.2214 - accuracy: 0.9341 - val_loss: 0.2866 - val_accuracy: 0.9121\n",
            "Epoch 17/100\n",
            "4/4 [==============================] - 0s 9ms/step - loss: 0.2023 - accuracy: 0.9231 - val_loss: 0.2409 - val_accuracy: 0.9121\n",
            "Epoch 18/100\n",
            "4/4 [==============================] - 0s 9ms/step - loss: 0.1844 - accuracy: 0.9451 - val_loss: 0.2576 - val_accuracy: 0.9231\n",
            "Epoch 19/100\n",
            "4/4 [==============================] - 0s 9ms/step - loss: 0.1941 - accuracy: 0.9313 - val_loss: 0.2205 - val_accuracy: 0.9121\n",
            "Epoch 20/100\n",
            "4/4 [==============================] - 0s 9ms/step - loss: 0.1777 - accuracy: 0.9203 - val_loss: 0.2180 - val_accuracy: 0.9121\n",
            "Epoch 21/100\n",
            "4/4 [==============================] - 0s 10ms/step - loss: 0.1671 - accuracy: 0.9396 - val_loss: 0.2238 - val_accuracy: 0.9231\n",
            "Epoch 22/100\n",
            "4/4 [==============================] - 0s 10ms/step - loss: 0.1598 - accuracy: 0.9341 - val_loss: 0.2263 - val_accuracy: 0.9121\n",
            "Epoch 23/100\n",
            "4/4 [==============================] - 0s 9ms/step - loss: 0.1738 - accuracy: 0.9396 - val_loss: 0.2826 - val_accuracy: 0.9011\n",
            "Epoch 24/100\n",
            "4/4 [==============================] - 0s 9ms/step - loss: 0.1719 - accuracy: 0.9286 - val_loss: 0.2234 - val_accuracy: 0.9121\n",
            "Epoch 25/100\n",
            "4/4 [==============================] - 0s 10ms/step - loss: 0.1609 - accuracy: 0.9368 - val_loss: 0.2547 - val_accuracy: 0.9121\n",
            "Epoch 26/100\n",
            "4/4 [==============================] - 0s 10ms/step - loss: 0.1563 - accuracy: 0.9313 - val_loss: 0.2441 - val_accuracy: 0.9121\n",
            "Epoch 27/100\n",
            "4/4 [==============================] - 0s 11ms/step - loss: 0.2003 - accuracy: 0.9286 - val_loss: 0.2299 - val_accuracy: 0.9231\n",
            "Epoch 28/100\n",
            "4/4 [==============================] - 0s 9ms/step - loss: 0.1635 - accuracy: 0.9505 - val_loss: 0.2256 - val_accuracy: 0.9121\n",
            "Epoch 29/100\n",
            "4/4 [==============================] - 0s 9ms/step - loss: 0.1540 - accuracy: 0.9423 - val_loss: 0.2382 - val_accuracy: 0.9231\n",
            "Epoch 30/100\n",
            "4/4 [==============================] - 0s 9ms/step - loss: 0.1649 - accuracy: 0.9341 - val_loss: 0.2245 - val_accuracy: 0.9121\n",
            "Epoch 31/100\n",
            "4/4 [==============================] - 0s 10ms/step - loss: 0.1732 - accuracy: 0.9478 - val_loss: 0.2992 - val_accuracy: 0.8901\n",
            "Epoch 32/100\n",
            "4/4 [==============================] - 0s 10ms/step - loss: 0.1774 - accuracy: 0.9231 - val_loss: 0.2072 - val_accuracy: 0.9121\n",
            "Epoch 33/100\n",
            "4/4 [==============================] - 0s 9ms/step - loss: 0.1630 - accuracy: 0.9451 - val_loss: 0.2311 - val_accuracy: 0.9231\n",
            "Epoch 34/100\n",
            "4/4 [==============================] - 0s 9ms/step - loss: 0.1554 - accuracy: 0.9423 - val_loss: 0.2200 - val_accuracy: 0.9121\n",
            "Epoch 35/100\n",
            "4/4 [==============================] - 0s 9ms/step - loss: 0.1490 - accuracy: 0.9451 - val_loss: 0.2142 - val_accuracy: 0.9121\n",
            "Epoch 36/100\n",
            "4/4 [==============================] - 0s 11ms/step - loss: 0.1552 - accuracy: 0.9478 - val_loss: 0.3078 - val_accuracy: 0.8901\n",
            "Epoch 37/100\n",
            "4/4 [==============================] - 0s 10ms/step - loss: 0.1699 - accuracy: 0.9368 - val_loss: 0.2092 - val_accuracy: 0.9121\n",
            "Epoch 38/100\n",
            "4/4 [==============================] - 0s 9ms/step - loss: 0.1703 - accuracy: 0.9341 - val_loss: 0.2060 - val_accuracy: 0.9231\n",
            "Epoch 39/100\n",
            "4/4 [==============================] - 0s 9ms/step - loss: 0.1570 - accuracy: 0.9478 - val_loss: 0.2324 - val_accuracy: 0.9231\n",
            "Epoch 40/100\n",
            "4/4 [==============================] - 0s 9ms/step - loss: 0.1630 - accuracy: 0.9341 - val_loss: 0.2097 - val_accuracy: 0.9121\n",
            "Epoch 41/100\n",
            "4/4 [==============================] - 0s 9ms/step - loss: 0.1494 - accuracy: 0.9451 - val_loss: 0.2130 - val_accuracy: 0.9121\n",
            "Epoch 42/100\n",
            "4/4 [==============================] - 0s 9ms/step - loss: 0.1404 - accuracy: 0.9478 - val_loss: 0.2288 - val_accuracy: 0.9231\n",
            "Epoch 43/100\n",
            "4/4 [==============================] - 0s 9ms/step - loss: 0.1504 - accuracy: 0.9505 - val_loss: 0.2189 - val_accuracy: 0.9231\n",
            "Epoch 44/100\n",
            "4/4 [==============================] - 0s 9ms/step - loss: 0.1495 - accuracy: 0.9423 - val_loss: 0.2058 - val_accuracy: 0.9231\n",
            "Epoch 45/100\n",
            "4/4 [==============================] - 0s 16ms/step - loss: 0.1513 - accuracy: 0.9396 - val_loss: 0.2969 - val_accuracy: 0.9011\n",
            "Epoch 46/100\n",
            "4/4 [==============================] - 0s 11ms/step - loss: 0.1914 - accuracy: 0.9423 - val_loss: 0.1890 - val_accuracy: 0.9231\n",
            "Epoch 47/100\n",
            "4/4 [==============================] - 0s 9ms/step - loss: 0.1513 - accuracy: 0.9368 - val_loss: 0.1969 - val_accuracy: 0.9121\n",
            "Epoch 48/100\n",
            "4/4 [==============================] - 0s 9ms/step - loss: 0.1666 - accuracy: 0.9478 - val_loss: 0.3589 - val_accuracy: 0.8791\n",
            "Epoch 49/100\n",
            "4/4 [==============================] - 0s 9ms/step - loss: 0.1832 - accuracy: 0.9368 - val_loss: 0.2219 - val_accuracy: 0.9231\n",
            "Epoch 50/100\n",
            "4/4 [==============================] - 0s 9ms/step - loss: 0.1640 - accuracy: 0.9396 - val_loss: 0.2286 - val_accuracy: 0.9121\n",
            "Epoch 51/100\n",
            "4/4 [==============================] - 0s 9ms/step - loss: 0.1281 - accuracy: 0.9478 - val_loss: 0.1996 - val_accuracy: 0.9231\n",
            "Epoch 52/100\n",
            "4/4 [==============================] - 0s 15ms/step - loss: 0.1337 - accuracy: 0.9451 - val_loss: 0.2847 - val_accuracy: 0.8901\n",
            "Epoch 53/100\n",
            "4/4 [==============================] - 0s 10ms/step - loss: 0.1737 - accuracy: 0.9368 - val_loss: 0.2162 - val_accuracy: 0.9231\n",
            "Epoch 54/100\n",
            "4/4 [==============================] - 0s 9ms/step - loss: 0.1571 - accuracy: 0.9423 - val_loss: 0.1934 - val_accuracy: 0.9121\n",
            "Epoch 55/100\n",
            "4/4 [==============================] - 0s 9ms/step - loss: 0.1448 - accuracy: 0.9451 - val_loss: 0.1966 - val_accuracy: 0.9121\n",
            "Epoch 56/100\n",
            "4/4 [==============================] - 0s 10ms/step - loss: 0.1329 - accuracy: 0.9478 - val_loss: 0.2134 - val_accuracy: 0.9231\n",
            "Epoch 57/100\n",
            "4/4 [==============================] - 0s 9ms/step - loss: 0.1374 - accuracy: 0.9533 - val_loss: 0.2132 - val_accuracy: 0.9231\n",
            "Epoch 58/100\n",
            "4/4 [==============================] - 0s 11ms/step - loss: 0.1307 - accuracy: 0.9505 - val_loss: 0.1965 - val_accuracy: 0.9121\n",
            "Epoch 59/100\n",
            "4/4 [==============================] - 0s 9ms/step - loss: 0.1809 - accuracy: 0.9258 - val_loss: 0.2008 - val_accuracy: 0.9121\n",
            "Epoch 60/100\n",
            "4/4 [==============================] - 0s 10ms/step - loss: 0.1599 - accuracy: 0.9478 - val_loss: 0.2219 - val_accuracy: 0.9231\n",
            "Epoch 61/100\n",
            "4/4 [==============================] - 0s 9ms/step - loss: 0.1311 - accuracy: 0.9505 - val_loss: 0.2040 - val_accuracy: 0.9231\n",
            "Epoch 62/100\n",
            "4/4 [==============================] - 0s 11ms/step - loss: 0.1259 - accuracy: 0.9505 - val_loss: 0.1940 - val_accuracy: 0.9121\n",
            "Epoch 63/100\n",
            "4/4 [==============================] - 0s 9ms/step - loss: 0.1273 - accuracy: 0.9505 - val_loss: 0.2096 - val_accuracy: 0.9231\n",
            "Epoch 64/100\n",
            "4/4 [==============================] - 0s 9ms/step - loss: 0.1287 - accuracy: 0.9451 - val_loss: 0.1866 - val_accuracy: 0.9121\n",
            "Epoch 65/100\n",
            "4/4 [==============================] - 0s 9ms/step - loss: 0.1436 - accuracy: 0.9505 - val_loss: 0.4768 - val_accuracy: 0.8022\n",
            "Epoch 66/100\n",
            "4/4 [==============================] - 0s 10ms/step - loss: 0.2155 - accuracy: 0.9258 - val_loss: 0.1870 - val_accuracy: 0.9231\n",
            "Epoch 67/100\n",
            "4/4 [==============================] - 0s 9ms/step - loss: 0.2073 - accuracy: 0.9313 - val_loss: 0.1795 - val_accuracy: 0.9231\n",
            "Epoch 68/100\n",
            "4/4 [==============================] - 0s 9ms/step - loss: 0.1594 - accuracy: 0.9533 - val_loss: 0.2473 - val_accuracy: 0.9231\n",
            "Epoch 69/100\n",
            "4/4 [==============================] - 0s 9ms/step - loss: 0.1467 - accuracy: 0.9396 - val_loss: 0.1988 - val_accuracy: 0.9231\n",
            "Epoch 70/100\n",
            "4/4 [==============================] - 0s 10ms/step - loss: 0.1323 - accuracy: 0.9533 - val_loss: 0.1954 - val_accuracy: 0.9121\n",
            "Epoch 71/100\n",
            "4/4 [==============================] - 0s 9ms/step - loss: 0.1420 - accuracy: 0.9396 - val_loss: 0.1915 - val_accuracy: 0.9341\n",
            "Epoch 72/100\n",
            "4/4 [==============================] - 0s 9ms/step - loss: 0.1522 - accuracy: 0.9478 - val_loss: 0.1808 - val_accuracy: 0.9121\n",
            "Epoch 73/100\n",
            "4/4 [==============================] - 0s 15ms/step - loss: 0.1288 - accuracy: 0.9505 - val_loss: 0.2021 - val_accuracy: 0.9231\n",
            "Epoch 74/100\n",
            "4/4 [==============================] - 0s 9ms/step - loss: 0.1209 - accuracy: 0.9560 - val_loss: 0.1789 - val_accuracy: 0.9121\n",
            "Epoch 75/100\n",
            "4/4 [==============================] - 0s 10ms/step - loss: 0.1277 - accuracy: 0.9478 - val_loss: 0.1981 - val_accuracy: 0.9231\n",
            "Epoch 76/100\n",
            "4/4 [==============================] - 0s 11ms/step - loss: 0.1207 - accuracy: 0.9533 - val_loss: 0.2033 - val_accuracy: 0.9231\n",
            "Epoch 77/100\n",
            "4/4 [==============================] - 0s 11ms/step - loss: 0.1216 - accuracy: 0.9533 - val_loss: 0.1937 - val_accuracy: 0.9121\n",
            "Epoch 78/100\n",
            "4/4 [==============================] - 0s 9ms/step - loss: 0.1271 - accuracy: 0.9505 - val_loss: 0.1911 - val_accuracy: 0.9231\n",
            "Epoch 79/100\n",
            "4/4 [==============================] - 0s 9ms/step - loss: 0.1540 - accuracy: 0.9451 - val_loss: 0.2243 - val_accuracy: 0.9231\n",
            "Epoch 80/100\n",
            "4/4 [==============================] - 0s 10ms/step - loss: 0.1407 - accuracy: 0.9533 - val_loss: 0.1716 - val_accuracy: 0.9121\n",
            "Epoch 81/100\n",
            "4/4 [==============================] - 0s 9ms/step - loss: 0.1403 - accuracy: 0.9478 - val_loss: 0.1878 - val_accuracy: 0.9231\n",
            "Epoch 82/100\n",
            "4/4 [==============================] - 0s 9ms/step - loss: 0.1252 - accuracy: 0.9505 - val_loss: 0.1983 - val_accuracy: 0.9231\n",
            "Epoch 83/100\n",
            "4/4 [==============================] - 0s 11ms/step - loss: 0.1600 - accuracy: 0.9423 - val_loss: 0.2842 - val_accuracy: 0.9011\n",
            "Epoch 84/100\n",
            "4/4 [==============================] - 0s 11ms/step - loss: 0.2182 - accuracy: 0.9286 - val_loss: 0.3985 - val_accuracy: 0.8681\n",
            "Epoch 85/100\n",
            "4/4 [==============================] - 0s 9ms/step - loss: 0.3265 - accuracy: 0.8681 - val_loss: 0.3159 - val_accuracy: 0.9341\n",
            "Epoch 86/100\n",
            "4/4 [==============================] - 0s 9ms/step - loss: 0.2424 - accuracy: 0.9396 - val_loss: 0.2439 - val_accuracy: 0.9121\n",
            "Epoch 87/100\n",
            "4/4 [==============================] - 0s 9ms/step - loss: 0.2831 - accuracy: 0.9231 - val_loss: 0.3262 - val_accuracy: 0.9011\n",
            "Epoch 88/100\n",
            "4/4 [==============================] - 0s 10ms/step - loss: 0.2867 - accuracy: 0.8929 - val_loss: 0.1983 - val_accuracy: 0.9231\n",
            "Epoch 89/100\n",
            "4/4 [==============================] - 0s 10ms/step - loss: 0.2443 - accuracy: 0.9148 - val_loss: 0.2433 - val_accuracy: 0.9341\n",
            "Epoch 90/100\n",
            "4/4 [==============================] - 0s 11ms/step - loss: 0.2443 - accuracy: 0.9286 - val_loss: 0.3731 - val_accuracy: 0.8791\n",
            "Epoch 91/100\n",
            "4/4 [==============================] - 0s 9ms/step - loss: 0.2020 - accuracy: 0.9341 - val_loss: 0.1799 - val_accuracy: 0.9231\n",
            "Epoch 92/100\n",
            "4/4 [==============================] - 0s 10ms/step - loss: 0.1653 - accuracy: 0.9368 - val_loss: 0.2008 - val_accuracy: 0.9231\n",
            "Epoch 93/100\n",
            "4/4 [==============================] - 0s 10ms/step - loss: 0.1829 - accuracy: 0.9231 - val_loss: 0.2775 - val_accuracy: 0.9011\n",
            "Epoch 94/100\n",
            "4/4 [==============================] - 0s 9ms/step - loss: 0.1364 - accuracy: 0.9560 - val_loss: 0.1944 - val_accuracy: 0.9231\n",
            "Epoch 95/100\n",
            "4/4 [==============================] - 0s 10ms/step - loss: 0.1720 - accuracy: 0.9258 - val_loss: 0.1920 - val_accuracy: 0.9121\n",
            "Epoch 96/100\n",
            "4/4 [==============================] - 0s 9ms/step - loss: 0.1391 - accuracy: 0.9533 - val_loss: 0.2180 - val_accuracy: 0.9121\n",
            "Epoch 97/100\n",
            "4/4 [==============================] - 0s 11ms/step - loss: 0.1477 - accuracy: 0.9423 - val_loss: 0.2351 - val_accuracy: 0.9341\n",
            "Epoch 98/100\n",
            "4/4 [==============================] - 0s 10ms/step - loss: 0.1803 - accuracy: 0.9505 - val_loss: 0.3556 - val_accuracy: 0.9121\n",
            "Epoch 99/100\n",
            "4/4 [==============================] - 0s 9ms/step - loss: 0.1862 - accuracy: 0.9203 - val_loss: 0.1947 - val_accuracy: 0.9231\n",
            "Epoch 100/100\n",
            "4/4 [==============================] - 0s 10ms/step - loss: 0.1625 - accuracy: 0.9313 - val_loss: 0.1842 - val_accuracy: 0.9231\n"
          ]
        }
      ]
    },
    {
      "cell_type": "markdown",
      "source": [
        "- 모델 평가"
      ],
      "metadata": {
        "id": "6c018B3HH_cw"
      }
    },
    {
      "cell_type": "code",
      "source": [
        "model.evaluate(X_test, y_test)"
      ],
      "metadata": {
        "colab": {
          "base_uri": "https://localhost:8080/"
        },
        "id": "-Bf7svZoHyAd",
        "outputId": "aa85266a-76f8-4e58-d203-ffba7ebc4791"
      },
      "execution_count": null,
      "outputs": [
        {
          "output_type": "stream",
          "name": "stdout",
          "text": [
            "4/4 [==============================] - 0s 3ms/step - loss: 0.2378 - accuracy: 0.9123\n"
          ]
        },
        {
          "output_type": "execute_result",
          "data": {
            "text/plain": [
              "[0.23780737817287445, 0.9122806787490845]"
            ]
          },
          "metadata": {},
          "execution_count": 18
        }
      ]
    },
    {
      "cell_type": "markdown",
      "source": [
        "- 훈련과정 시각화: epoch에 따른 accuracy, val_loss의 변화"
      ],
      "metadata": {
        "id": "XzGTBRYoIctK"
      }
    },
    {
      "cell_type": "code",
      "source": [
        "y_acc = history.history['accuracy']\n",
        "y_vloss = history.history['val_loss']\n",
        "xs = np.arange(1, len(y_acc) + 1)"
      ],
      "metadata": {
        "id": "g5kW6z64IEu1"
      },
      "execution_count": null,
      "outputs": []
    },
    {
      "cell_type": "code",
      "source": [
        "plt.figure(figsize = (12, 8))\n",
        "plt.plot(xs, y_acc, label = 'train accruacy')\n",
        "plt.plot(xs, y_vloss, label = 'validation loss')\n",
        "plt.legend(), plt.grid()\n",
        "plt.ylim([0, 1])\n",
        "plt.xlabel('Epoch')\n",
        "plt.title('No feature transform')\n",
        "plt.show()"
      ],
      "metadata": {
        "colab": {
          "base_uri": "https://localhost:8080/",
          "height": 513
        },
        "id": "IXEEXLZiJECE",
        "outputId": "267550a8-bf79-4de2-8af6-84c8625bc19d"
      },
      "execution_count": null,
      "outputs": [
        {
          "output_type": "display_data",
          "data": {
            "text/plain": [
              "<Figure size 864x576 with 1 Axes>"
            ],
            "image/png": "[encoded data removed]"
          },
          "metadata": {
            "needs_background": "light"
          }
        }
      ]
    },
    {
      "cell_type": "markdown",
      "source": [
        "### 2. 데이터를 정규/표준화한 경우"
      ],
      "metadata": {
        "id": "ftDMJ5eUKU4v"
      }
    },
    {
      "cell_type": "code",
      "source": [
        "from sklearn.preprocessing import StandardScaler\n",
        "cancer_std = StandardScaler().fit_transform(cancer.data)"
      ],
      "metadata": {
        "id": "V6JyymiNJeV7"
      },
      "execution_count": null,
      "outputs": []
    },
    {
      "cell_type": "code",
      "source": [
        "from sklearn.model_selection import train_test_split\n",
        "X_train2, X_test2, y_train2, y_test2 = train_test_split(\n",
        "    cancer_std, cancer.target, stratify = cancer.target,\n",
        "    test_size = 0.2, random_state = 2022\n",
        ")"
      ],
      "metadata": {
        "id": "JeL4k7X3Kn8L"
      },
      "execution_count": null,
      "outputs": []
    },
    {
      "cell_type": "markdown",
      "source": [
        "- 모델 정의"
      ],
      "metadata": {
        "id": "PMXD0dQuK4L3"
      }
    },
    {
      "cell_type": "code",
      "source": [
        "model2 = Sequential()\n",
        "model2.add(Dense(100, input_dim = 30, activation = 'relu'))\n",
        "model2.add(Dense(24, activation = 'relu'))\n",
        "model2.add(Dense(1, activation = 'sigmoid'))\n",
        "model2.summary()"
      ],
      "metadata": {
        "colab": {
          "base_uri": "https://localhost:8080/"
        },
        "id": "OX-X7BraK3Td",
        "outputId": "e7330723-03f0-4d8e-f46c-27bd442d6b38"
      },
      "execution_count": null,
      "outputs": [
        {
          "output_type": "stream",
          "name": "stdout",
          "text": [
            "Model: \"sequential_3\"\n",
            "_________________________________________________________________\n",
            " Layer (type)                Output Shape              Param #   \n",
            "=================================================================\n",
            " dense_9 (Dense)             (None, 100)               3100      \n",
            "                                                                 \n",
            " dense_10 (Dense)            (None, 24)                2424      \n",
            "                                                                 \n",
            " dense_11 (Dense)            (None, 1)                 25        \n",
            "                                                                 \n",
            "=================================================================\n",
            "Total params: 5,549\n",
            "Trainable params: 5,549\n",
            "Non-trainable params: 0\n",
            "_________________________________________________________________\n"
          ]
        }
      ]
    },
    {
      "cell_type": "markdown",
      "source": [
        "- 모델 설정"
      ],
      "metadata": {
        "id": "sAxKda4jLoF9"
      }
    },
    {
      "cell_type": "code",
      "source": [
        "model2.compile(optimizer = 'adam', loss = 'binary_crossentropy', metrics = ['accuracy'])"
      ],
      "metadata": {
        "id": "WO1Kj8EvLTBT"
      },
      "execution_count": null,
      "outputs": []
    },
    {
      "cell_type": "markdown",
      "source": [
        "- 모델 학습"
      ],
      "metadata": {
        "id": "XBwWtDjFL5cB"
      }
    },
    {
      "cell_type": "code",
      "source": [
        "hist2 = model2.fit(X_train2, y_train2, validation_split=0.2,\n",
        "                   epochs = 100, batch_size = 100)"
      ],
      "metadata": {
        "colab": {
          "base_uri": "https://localhost:8080/"
        },
        "id": "_QdCpEM4LxTc",
        "outputId": "c50773e7-3d5b-44c5-b078-d51cd8552e57"
      },
      "execution_count": null,
      "outputs": [
        {
          "output_type": "stream",
          "name": "stdout",
          "text": [
            "Epoch 1/100\n",
            "4/4 [==============================] - 1s 88ms/step - loss: 0.5893 - accuracy: 0.7390 - val_loss: 0.5207 - val_accuracy: 0.8242\n",
            "Epoch 2/100\n",
            "4/4 [==============================] - 0s 16ms/step - loss: 0.4515 - accuracy: 0.8929 - val_loss: 0.4169 - val_accuracy: 0.9011\n",
            "Epoch 3/100\n",
            "4/4 [==============================] - 0s 15ms/step - loss: 0.3556 - accuracy: 0.9148 - val_loss: 0.3392 - val_accuracy: 0.9231\n",
            "Epoch 4/100\n",
            "4/4 [==============================] - 0s 15ms/step - loss: 0.2843 - accuracy: 0.9313 - val_loss: 0.2829 - val_accuracy: 0.9121\n",
            "Epoch 5/100\n",
            "4/4 [==============================] - 0s 19ms/step - loss: 0.2331 - accuracy: 0.9368 - val_loss: 0.2421 - val_accuracy: 0.9011\n",
            "Epoch 6/100\n",
            "4/4 [==============================] - 0s 13ms/step - loss: 0.1965 - accuracy: 0.9396 - val_loss: 0.2126 - val_accuracy: 0.9121\n",
            "Epoch 7/100\n",
            "4/4 [==============================] - 0s 20ms/step - loss: 0.1694 - accuracy: 0.9423 - val_loss: 0.1922 - val_accuracy: 0.9121\n",
            "Epoch 8/100\n",
            "4/4 [==============================] - 0s 14ms/step - loss: 0.1487 - accuracy: 0.9451 - val_loss: 0.1777 - val_accuracy: 0.9231\n",
            "Epoch 9/100\n",
            "4/4 [==============================] - 0s 13ms/step - loss: 0.1339 - accuracy: 0.9505 - val_loss: 0.1666 - val_accuracy: 0.9231\n",
            "Epoch 10/100\n",
            "4/4 [==============================] - 0s 13ms/step - loss: 0.1210 - accuracy: 0.9533 - val_loss: 0.1595 - val_accuracy: 0.9121\n",
            "Epoch 11/100\n",
            "4/4 [==============================] - 0s 13ms/step - loss: 0.1110 - accuracy: 0.9615 - val_loss: 0.1549 - val_accuracy: 0.9231\n",
            "Epoch 12/100\n",
            "4/4 [==============================] - 0s 13ms/step - loss: 0.1023 - accuracy: 0.9588 - val_loss: 0.1521 - val_accuracy: 0.9341\n",
            "Epoch 13/100\n",
            "4/4 [==============================] - 0s 14ms/step - loss: 0.0952 - accuracy: 0.9670 - val_loss: 0.1502 - val_accuracy: 0.9451\n",
            "Epoch 14/100\n",
            "4/4 [==============================] - 0s 15ms/step - loss: 0.0887 - accuracy: 0.9780 - val_loss: 0.1498 - val_accuracy: 0.9451\n",
            "Epoch 15/100\n",
            "4/4 [==============================] - 0s 16ms/step - loss: 0.0835 - accuracy: 0.9808 - val_loss: 0.1493 - val_accuracy: 0.9451\n",
            "Epoch 16/100\n",
            "4/4 [==============================] - 0s 16ms/step - loss: 0.0786 - accuracy: 0.9835 - val_loss: 0.1485 - val_accuracy: 0.9451\n",
            "Epoch 17/100\n",
            "4/4 [==============================] - 0s 19ms/step - loss: 0.0744 - accuracy: 0.9808 - val_loss: 0.1478 - val_accuracy: 0.9451\n",
            "Epoch 18/100\n",
            "4/4 [==============================] - 0s 14ms/step - loss: 0.0707 - accuracy: 0.9808 - val_loss: 0.1467 - val_accuracy: 0.9451\n",
            "Epoch 19/100\n",
            "4/4 [==============================] - 0s 14ms/step - loss: 0.0674 - accuracy: 0.9808 - val_loss: 0.1458 - val_accuracy: 0.9451\n",
            "Epoch 20/100\n",
            "4/4 [==============================] - 0s 14ms/step - loss: 0.0646 - accuracy: 0.9835 - val_loss: 0.1458 - val_accuracy: 0.9451\n",
            "Epoch 21/100\n",
            "4/4 [==============================] - 0s 17ms/step - loss: 0.0617 - accuracy: 0.9835 - val_loss: 0.1464 - val_accuracy: 0.9451\n",
            "Epoch 22/100\n",
            "4/4 [==============================] - 0s 13ms/step - loss: 0.0593 - accuracy: 0.9835 - val_loss: 0.1462 - val_accuracy: 0.9451\n",
            "Epoch 23/100\n",
            "4/4 [==============================] - 0s 16ms/step - loss: 0.0569 - accuracy: 0.9835 - val_loss: 0.1450 - val_accuracy: 0.9451\n",
            "Epoch 24/100\n",
            "4/4 [==============================] - 0s 15ms/step - loss: 0.0548 - accuracy: 0.9835 - val_loss: 0.1449 - val_accuracy: 0.9451\n",
            "Epoch 25/100\n",
            "4/4 [==============================] - 0s 13ms/step - loss: 0.0528 - accuracy: 0.9835 - val_loss: 0.1446 - val_accuracy: 0.9451\n",
            "Epoch 26/100\n",
            "4/4 [==============================] - 0s 16ms/step - loss: 0.0511 - accuracy: 0.9863 - val_loss: 0.1447 - val_accuracy: 0.9451\n",
            "Epoch 27/100\n",
            "4/4 [==============================] - 0s 18ms/step - loss: 0.0492 - accuracy: 0.9863 - val_loss: 0.1439 - val_accuracy: 0.9451\n",
            "Epoch 28/100\n",
            "4/4 [==============================] - 0s 14ms/step - loss: 0.0475 - accuracy: 0.9863 - val_loss: 0.1432 - val_accuracy: 0.9451\n",
            "Epoch 29/100\n",
            "4/4 [==============================] - 0s 15ms/step - loss: 0.0460 - accuracy: 0.9890 - val_loss: 0.1429 - val_accuracy: 0.9560\n",
            "Epoch 30/100\n",
            "4/4 [==============================] - 0s 13ms/step - loss: 0.0446 - accuracy: 0.9890 - val_loss: 0.1423 - val_accuracy: 0.9560\n",
            "Epoch 31/100\n",
            "4/4 [==============================] - 0s 16ms/step - loss: 0.0430 - accuracy: 0.9890 - val_loss: 0.1432 - val_accuracy: 0.9560\n",
            "Epoch 32/100\n",
            "4/4 [==============================] - 0s 16ms/step - loss: 0.0415 - accuracy: 0.9890 - val_loss: 0.1448 - val_accuracy: 0.9560\n",
            "Epoch 33/100\n",
            "4/4 [==============================] - 0s 16ms/step - loss: 0.0402 - accuracy: 0.9890 - val_loss: 0.1465 - val_accuracy: 0.9560\n",
            "Epoch 34/100\n",
            "4/4 [==============================] - 0s 16ms/step - loss: 0.0388 - accuracy: 0.9890 - val_loss: 0.1476 - val_accuracy: 0.9560\n",
            "Epoch 35/100\n",
            "4/4 [==============================] - 0s 18ms/step - loss: 0.0376 - accuracy: 0.9890 - val_loss: 0.1490 - val_accuracy: 0.9560\n",
            "Epoch 36/100\n",
            "4/4 [==============================] - 0s 17ms/step - loss: 0.0363 - accuracy: 0.9890 - val_loss: 0.1505 - val_accuracy: 0.9560\n",
            "Epoch 37/100\n",
            "4/4 [==============================] - 0s 16ms/step - loss: 0.0351 - accuracy: 0.9890 - val_loss: 0.1515 - val_accuracy: 0.9560\n",
            "Epoch 38/100\n",
            "4/4 [==============================] - 0s 15ms/step - loss: 0.0342 - accuracy: 0.9890 - val_loss: 0.1521 - val_accuracy: 0.9451\n",
            "Epoch 39/100\n",
            "4/4 [==============================] - 0s 20ms/step - loss: 0.0328 - accuracy: 0.9890 - val_loss: 0.1520 - val_accuracy: 0.9560\n",
            "Epoch 40/100\n",
            "4/4 [==============================] - 0s 14ms/step - loss: 0.0317 - accuracy: 0.9890 - val_loss: 0.1514 - val_accuracy: 0.9560\n",
            "Epoch 41/100\n",
            "4/4 [==============================] - 0s 14ms/step - loss: 0.0306 - accuracy: 0.9890 - val_loss: 0.1518 - val_accuracy: 0.9560\n",
            "Epoch 42/100\n",
            "4/4 [==============================] - 0s 13ms/step - loss: 0.0295 - accuracy: 0.9945 - val_loss: 0.1528 - val_accuracy: 0.9451\n",
            "Epoch 43/100\n",
            "4/4 [==============================] - 0s 18ms/step - loss: 0.0287 - accuracy: 0.9945 - val_loss: 0.1531 - val_accuracy: 0.9451\n",
            "Epoch 44/100\n",
            "4/4 [==============================] - 0s 20ms/step - loss: 0.0276 - accuracy: 0.9945 - val_loss: 0.1531 - val_accuracy: 0.9451\n",
            "Epoch 45/100\n",
            "4/4 [==============================] - 0s 14ms/step - loss: 0.0267 - accuracy: 0.9945 - val_loss: 0.1540 - val_accuracy: 0.9451\n",
            "Epoch 46/100\n",
            "4/4 [==============================] - 0s 18ms/step - loss: 0.0260 - accuracy: 0.9945 - val_loss: 0.1557 - val_accuracy: 0.9451\n",
            "Epoch 47/100\n",
            "4/4 [==============================] - 0s 16ms/step - loss: 0.0251 - accuracy: 0.9945 - val_loss: 0.1563 - val_accuracy: 0.9451\n",
            "Epoch 48/100\n",
            "4/4 [==============================] - 0s 17ms/step - loss: 0.0241 - accuracy: 0.9945 - val_loss: 0.1570 - val_accuracy: 0.9451\n",
            "Epoch 49/100\n",
            "4/4 [==============================] - 0s 15ms/step - loss: 0.0232 - accuracy: 0.9945 - val_loss: 0.1582 - val_accuracy: 0.9451\n",
            "Epoch 50/100\n",
            "4/4 [==============================] - 0s 14ms/step - loss: 0.0225 - accuracy: 0.9945 - val_loss: 0.1594 - val_accuracy: 0.9451\n",
            "Epoch 51/100\n",
            "4/4 [==============================] - 0s 15ms/step - loss: 0.0215 - accuracy: 0.9945 - val_loss: 0.1603 - val_accuracy: 0.9451\n",
            "Epoch 52/100\n",
            "4/4 [==============================] - 0s 15ms/step - loss: 0.0206 - accuracy: 0.9945 - val_loss: 0.1614 - val_accuracy: 0.9451\n",
            "Epoch 53/100\n",
            "4/4 [==============================] - 0s 10ms/step - loss: 0.0201 - accuracy: 0.9945 - val_loss: 0.1650 - val_accuracy: 0.9451\n",
            "Epoch 54/100\n",
            "4/4 [==============================] - 0s 9ms/step - loss: 0.0194 - accuracy: 0.9945 - val_loss: 0.1663 - val_accuracy: 0.9451\n",
            "Epoch 55/100\n",
            "4/4 [==============================] - 0s 11ms/step - loss: 0.0185 - accuracy: 0.9945 - val_loss: 0.1663 - val_accuracy: 0.9451\n",
            "Epoch 56/100\n",
            "4/4 [==============================] - 0s 10ms/step - loss: 0.0178 - accuracy: 0.9945 - val_loss: 0.1674 - val_accuracy: 0.9451\n",
            "Epoch 57/100\n",
            "4/4 [==============================] - 0s 10ms/step - loss: 0.0172 - accuracy: 0.9945 - val_loss: 0.1678 - val_accuracy: 0.9451\n",
            "Epoch 58/100\n",
            "4/4 [==============================] - 0s 10ms/step - loss: 0.0165 - accuracy: 0.9945 - val_loss: 0.1694 - val_accuracy: 0.9451\n",
            "Epoch 59/100\n",
            "4/4 [==============================] - 0s 10ms/step - loss: 0.0158 - accuracy: 0.9945 - val_loss: 0.1702 - val_accuracy: 0.9451\n",
            "Epoch 60/100\n",
            "4/4 [==============================] - 0s 10ms/step - loss: 0.0154 - accuracy: 0.9973 - val_loss: 0.1725 - val_accuracy: 0.9451\n",
            "Epoch 61/100\n",
            "4/4 [==============================] - 0s 9ms/step - loss: 0.0147 - accuracy: 0.9973 - val_loss: 0.1736 - val_accuracy: 0.9451\n",
            "Epoch 62/100\n",
            "4/4 [==============================] - 0s 9ms/step - loss: 0.0142 - accuracy: 0.9973 - val_loss: 0.1733 - val_accuracy: 0.9451\n",
            "Epoch 63/100\n",
            "4/4 [==============================] - 0s 10ms/step - loss: 0.0137 - accuracy: 0.9973 - val_loss: 0.1750 - val_accuracy: 0.9451\n",
            "Epoch 64/100\n",
            "4/4 [==============================] - 0s 10ms/step - loss: 0.0132 - accuracy: 0.9973 - val_loss: 0.1765 - val_accuracy: 0.9451\n",
            "Epoch 65/100\n",
            "4/4 [==============================] - 0s 10ms/step - loss: 0.0127 - accuracy: 1.0000 - val_loss: 0.1781 - val_accuracy: 0.9451\n",
            "Epoch 66/100\n",
            "4/4 [==============================] - 0s 13ms/step - loss: 0.0123 - accuracy: 1.0000 - val_loss: 0.1797 - val_accuracy: 0.9451\n",
            "Epoch 67/100\n",
            "4/4 [==============================] - 0s 10ms/step - loss: 0.0119 - accuracy: 1.0000 - val_loss: 0.1803 - val_accuracy: 0.9451\n",
            "Epoch 68/100\n",
            "4/4 [==============================] - 0s 9ms/step - loss: 0.0115 - accuracy: 1.0000 - val_loss: 0.1817 - val_accuracy: 0.9451\n",
            "Epoch 69/100\n",
            "4/4 [==============================] - 0s 9ms/step - loss: 0.0111 - accuracy: 1.0000 - val_loss: 0.1837 - val_accuracy: 0.9451\n",
            "Epoch 70/100\n",
            "4/4 [==============================] - 0s 9ms/step - loss: 0.0107 - accuracy: 1.0000 - val_loss: 0.1854 - val_accuracy: 0.9451\n",
            "Epoch 71/100\n",
            "4/4 [==============================] - 0s 9ms/step - loss: 0.0103 - accuracy: 1.0000 - val_loss: 0.1861 - val_accuracy: 0.9451\n",
            "Epoch 72/100\n",
            "4/4 [==============================] - 0s 10ms/step - loss: 0.0100 - accuracy: 1.0000 - val_loss: 0.1870 - val_accuracy: 0.9451\n",
            "Epoch 73/100\n",
            "4/4 [==============================] - 0s 10ms/step - loss: 0.0097 - accuracy: 1.0000 - val_loss: 0.1881 - val_accuracy: 0.9451\n",
            "Epoch 74/100\n",
            "4/4 [==============================] - 0s 10ms/step - loss: 0.0094 - accuracy: 1.0000 - val_loss: 0.1896 - val_accuracy: 0.9451\n",
            "Epoch 75/100\n",
            "4/4 [==============================] - 0s 10ms/step - loss: 0.0090 - accuracy: 1.0000 - val_loss: 0.1922 - val_accuracy: 0.9451\n",
            "Epoch 76/100\n",
            "4/4 [==============================] - 0s 11ms/step - loss: 0.0088 - accuracy: 1.0000 - val_loss: 0.1950 - val_accuracy: 0.9451\n",
            "Epoch 77/100\n",
            "4/4 [==============================] - 0s 9ms/step - loss: 0.0085 - accuracy: 1.0000 - val_loss: 0.1960 - val_accuracy: 0.9451\n",
            "Epoch 78/100\n",
            "4/4 [==============================] - 0s 10ms/step - loss: 0.0082 - accuracy: 1.0000 - val_loss: 0.1975 - val_accuracy: 0.9451\n",
            "Epoch 79/100\n",
            "4/4 [==============================] - 0s 9ms/step - loss: 0.0079 - accuracy: 1.0000 - val_loss: 0.1977 - val_accuracy: 0.9451\n",
            "Epoch 80/100\n",
            "4/4 [==============================] - 0s 9ms/step - loss: 0.0077 - accuracy: 1.0000 - val_loss: 0.1992 - val_accuracy: 0.9451\n",
            "Epoch 81/100\n",
            "4/4 [==============================] - 0s 10ms/step - loss: 0.0074 - accuracy: 1.0000 - val_loss: 0.2012 - val_accuracy: 0.9451\n",
            "Epoch 82/100\n",
            "4/4 [==============================] - 0s 9ms/step - loss: 0.0072 - accuracy: 1.0000 - val_loss: 0.2011 - val_accuracy: 0.9451\n",
            "Epoch 83/100\n",
            "4/4 [==============================] - 0s 10ms/step - loss: 0.0069 - accuracy: 1.0000 - val_loss: 0.2028 - val_accuracy: 0.9451\n",
            "Epoch 84/100\n",
            "4/4 [==============================] - 0s 10ms/step - loss: 0.0067 - accuracy: 1.0000 - val_loss: 0.2039 - val_accuracy: 0.9451\n",
            "Epoch 85/100\n",
            "4/4 [==============================] - 0s 10ms/step - loss: 0.0065 - accuracy: 1.0000 - val_loss: 0.2066 - val_accuracy: 0.9451\n",
            "Epoch 86/100\n",
            "4/4 [==============================] - 0s 10ms/step - loss: 0.0063 - accuracy: 1.0000 - val_loss: 0.2079 - val_accuracy: 0.9451\n",
            "Epoch 87/100\n",
            "4/4 [==============================] - 0s 10ms/step - loss: 0.0061 - accuracy: 1.0000 - val_loss: 0.2078 - val_accuracy: 0.9451\n",
            "Epoch 88/100\n",
            "4/4 [==============================] - 0s 10ms/step - loss: 0.0060 - accuracy: 1.0000 - val_loss: 0.2069 - val_accuracy: 0.9451\n",
            "Epoch 89/100\n",
            "4/4 [==============================] - 0s 9ms/step - loss: 0.0058 - accuracy: 1.0000 - val_loss: 0.2082 - val_accuracy: 0.9451\n",
            "Epoch 90/100\n",
            "4/4 [==============================] - 0s 10ms/step - loss: 0.0056 - accuracy: 1.0000 - val_loss: 0.2103 - val_accuracy: 0.9451\n",
            "Epoch 91/100\n",
            "4/4 [==============================] - 0s 12ms/step - loss: 0.0054 - accuracy: 1.0000 - val_loss: 0.2111 - val_accuracy: 0.9451\n",
            "Epoch 92/100\n",
            "4/4 [==============================] - 0s 9ms/step - loss: 0.0053 - accuracy: 1.0000 - val_loss: 0.2114 - val_accuracy: 0.9451\n",
            "Epoch 93/100\n",
            "4/4 [==============================] - 0s 9ms/step - loss: 0.0051 - accuracy: 1.0000 - val_loss: 0.2123 - val_accuracy: 0.9451\n",
            "Epoch 94/100\n",
            "4/4 [==============================] - 0s 10ms/step - loss: 0.0050 - accuracy: 1.0000 - val_loss: 0.2139 - val_accuracy: 0.9451\n",
            "Epoch 95/100\n",
            "4/4 [==============================] - 0s 10ms/step - loss: 0.0048 - accuracy: 1.0000 - val_loss: 0.2154 - val_accuracy: 0.9451\n",
            "Epoch 96/100\n",
            "4/4 [==============================] - 0s 9ms/step - loss: 0.0047 - accuracy: 1.0000 - val_loss: 0.2167 - val_accuracy: 0.9451\n",
            "Epoch 97/100\n",
            "4/4 [==============================] - 0s 10ms/step - loss: 0.0046 - accuracy: 1.0000 - val_loss: 0.2188 - val_accuracy: 0.9451\n",
            "Epoch 98/100\n",
            "4/4 [==============================] - 0s 10ms/step - loss: 0.0044 - accuracy: 1.0000 - val_loss: 0.2210 - val_accuracy: 0.9451\n",
            "Epoch 99/100\n",
            "4/4 [==============================] - 0s 9ms/step - loss: 0.0044 - accuracy: 1.0000 - val_loss: 0.2230 - val_accuracy: 0.9451\n",
            "Epoch 100/100\n",
            "4/4 [==============================] - 0s 10ms/step - loss: 0.0042 - accuracy: 1.0000 - val_loss: 0.2222 - val_accuracy: 0.9451\n"
          ]
        }
      ]
    },
    {
      "cell_type": "markdown",
      "source": [
        "- 모델 평가"
      ],
      "metadata": {
        "id": "m3yU9SBzMYp7"
      }
    },
    {
      "cell_type": "code",
      "source": [
        "model2.evaluate(X_test2, y_test2)"
      ],
      "metadata": {
        "colab": {
          "base_uri": "https://localhost:8080/"
        },
        "id": "pMs8c1EzMFaI",
        "outputId": "45a8e1a8-eeba-4e51-fa1f-70b780eb14cf"
      },
      "execution_count": null,
      "outputs": [
        {
          "output_type": "stream",
          "name": "stdout",
          "text": [
            "4/4 [==============================] - 0s 3ms/step - loss: 0.1248 - accuracy: 0.9825\n"
          ]
        },
        {
          "output_type": "execute_result",
          "data": {
            "text/plain": [
              "[0.12480401247739792, 0.9824561476707458]"
            ]
          },
          "metadata": {},
          "execution_count": 33
        }
      ]
    },
    {
      "cell_type": "markdown",
      "source": [
        "- 학습과정 시각화"
      ],
      "metadata": {
        "id": "7fbNhD-4Mi7A"
      }
    },
    {
      "cell_type": "code",
      "source": [
        "y_acc2 = hist2.history['accuracy']\n",
        "y_vloss2 = hist2.history['val_loss']\n",
        "xs = np.arange(1, len(y_acc2) + 1)"
      ],
      "metadata": {
        "id": "3lQOU22FMiaV"
      },
      "execution_count": null,
      "outputs": []
    },
    {
      "cell_type": "code",
      "source": [
        "plt.figure(figsize = (12, 8))\n",
        "plt.plot(xs, y_acc2, label = 'train accruacy')\n",
        "plt.plot(xs, y_vloss2, label = 'validation loss')\n",
        "plt.legend(), plt.grid()\n",
        "plt.ylim([0, 1])\n",
        "plt.xlabel('Epoch')\n",
        "plt.title('After feature transform')\n",
        "plt.show()"
      ],
      "metadata": {
        "colab": {
          "base_uri": "https://localhost:8080/",
          "height": 513
        },
        "id": "cQglRPSiMnMJ",
        "outputId": "9cf92c2a-1d32-4147-b3c5-c089eac97054"
      },
      "execution_count": null,
      "outputs": [
        {
          "output_type": "display_data",
          "data": {
            "text/plain": [
              "<Figure size 864x576 with 1 Axes>"
            ],
            "image/png": "[encoded data removed]"
          },
          "metadata": {
            "needs_background": "light"
          }
        }
      ]
    },
    {
      "cell_type": "code",
      "source": [
        ""
      ],
      "metadata": {
        "id": "YPNaAmsGMuB2"
      },
      "execution_count": null,
      "outputs": []
    }
  ]
}