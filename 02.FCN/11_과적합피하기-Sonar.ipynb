{
  "nbformat": 4,
  "nbformat_minor": 0,
  "metadata": {
    "colab": {
      "name": "11_과적합피하기.ipynb",
      "provenance": [],
      "collapsed_sections": []
    },
    "kernelspec": {
      "name": "python3",
      "display_name": "Python 3"
    },
    "language_info": {
      "name": "python"
    }
  },
  "cells": [
    {
      "cell_type": "markdown",
      "source": [
        "- 과적합 피하기 - 초음파 광물 데이터"
      ],
      "metadata": {
        "id": "aE8IOij_pndU"
      }
    },
    {
      "cell_type": "code",
      "execution_count": 1,
      "metadata": {
        "id": "BMDqW6_EiOFN"
      },
      "outputs": [],
      "source": [
        "import numpy as np\n",
        "import pandas as pd\n",
        "import matplotlib.pyplot as plt\n",
        "import tensorflow as tf\n",
        "\n",
        "# 초기화\n",
        "seed = 2022\n",
        "np.random.seed(seed)\n",
        "tf.random.set_seed(seed)"
      ]
    },
    {
      "cell_type": "markdown",
      "source": [
        "- 데이터 전처리"
      ],
      "metadata": {
        "id": "7rXNhU1zp9rG"
      }
    },
    {
      "cell_type": "code",
      "source": [
        "from google.colab import files\n",
        "up = files.upload()"
      ],
      "metadata": {
        "colab": {
          "resources": {
            "http://localhost:8080/nbextensions/google.colab/files.js": {
              "data": "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",
              "ok": true,
              "headers": [
                [
                  "content-type",
                  "application/javascript"
                ]
              ],
              "status": 200,
              "status_text": ""
            }
          },
          "base_uri": "https://localhost:8080/",
          "height": 77
        },
        "id": "kuFKteXap_Eb",
        "outputId": "145cb967-25e8-444c-b036-cbac4c04a9ae"
      },
      "execution_count": 2,
      "outputs": [
        {
          "output_type": "display_data",
          "data": {
            "text/plain": [
              "<IPython.core.display.HTML object>"
            ],
            "text/html": [
              "\n",
              "     <input type=\"file\" id=\"files-b63012fd-8de7-41b4-b068-97e1896b47c9\" name=\"files[]\" multiple disabled\n",
              "        style=\"border:none\" />\n",
              "     <output id=\"result-b63012fd-8de7-41b4-b068-97e1896b47c9\">\n",
              "      Upload widget is only available when the cell has been executed in the\n",
              "      current browser session. Please rerun this cell to enable.\n",
              "      </output>\n",
              "      <script src=\"/nbextensions/google.colab/files.js\"></script> "
            ]
          },
          "metadata": {}
        },
        {
          "output_type": "stream",
          "name": "stdout",
          "text": [
            "Saving sonar.csv to sonar.csv\n"
          ]
        }
      ]
    },
    {
      "cell_type": "code",
      "source": [
        "df = pd.read_csv(\"sonar.csv\", header=None)\n",
        "df.head(3)"
      ],
      "metadata": {
        "colab": {
          "base_uri": "https://localhost:8080/",
          "height": 237
        },
        "id": "IiTMwFWqqHVl",
        "outputId": "0c22ea4e-0a94-40a9-e72a-3d35dbbc3d78"
      },
      "execution_count": 4,
      "outputs": [
        {
          "output_type": "execute_result",
          "data": {
            "text/plain": [
              "       0       1       2       3       4       5       6       7       8   \\\n",
              "0  0.0200  0.0371  0.0428  0.0207  0.0954  0.0986  0.1539  0.1601  0.3109   \n",
              "1  0.0453  0.0523  0.0843  0.0689  0.1183  0.2583  0.2156  0.3481  0.3337   \n",
              "2  0.0262  0.0582  0.1099  0.1083  0.0974  0.2280  0.2431  0.3771  0.5598   \n",
              "\n",
              "       9   ...      51      52      53      54      55      56      57  \\\n",
              "0  0.2111  ...  0.0027  0.0065  0.0159  0.0072  0.0167  0.0180  0.0084   \n",
              "1  0.2872  ...  0.0084  0.0089  0.0048  0.0094  0.0191  0.0140  0.0049   \n",
              "2  0.6194  ...  0.0232  0.0166  0.0095  0.0180  0.0244  0.0316  0.0164   \n",
              "\n",
              "       58      59  60  \n",
              "0  0.0090  0.0032   R  \n",
              "1  0.0052  0.0044   R  \n",
              "2  0.0095  0.0078   R  \n",
              "\n",
              "[3 rows x 61 columns]"
            ],
            "text/html": [
              "\n",
              "  <div id=\"df-b8fbcb9d-b405-418d-a01b-37d05458c077\">\n",
              "    <div class=\"colab-df-container\">\n",
              "      <div>\n",
              "<style scoped>\n",
              "    .dataframe tbody tr th:only-of-type {\n",
              "        vertical-align: middle;\n",
              "    }\n",
              "\n",
              "    .dataframe tbody tr th {\n",
              "        vertical-align: top;\n",
              "    }\n",
              "\n",
              "    .dataframe thead th {\n",
              "        text-align: right;\n",
              "    }\n",
              "</style>\n",
              "<table border=\"1\" class=\"dataframe\">\n",
              "  <thead>\n",
              "    <tr style=\"text-align: right;\">\n",
              "      <th></th>\n",
              "      <th>0</th>\n",
              "      <th>1</th>\n",
              "      <th>2</th>\n",
              "      <th>3</th>\n",
              "      <th>4</th>\n",
              "      <th>5</th>\n",
              "      <th>6</th>\n",
              "      <th>7</th>\n",
              "      <th>8</th>\n",
              "      <th>9</th>\n",
              "      <th>...</th>\n",
              "      <th>51</th>\n",
              "      <th>52</th>\n",
              "      <th>53</th>\n",
              "      <th>54</th>\n",
              "      <th>55</th>\n",
              "      <th>56</th>\n",
              "      <th>57</th>\n",
              "      <th>58</th>\n",
              "      <th>59</th>\n",
              "      <th>60</th>\n",
              "    </tr>\n",
              "  </thead>\n",
              "  <tbody>\n",
              "    <tr>\n",
              "      <th>0</th>\n",
              "      <td>0.0200</td>\n",
              "      <td>0.0371</td>\n",
              "      <td>0.0428</td>\n",
              "      <td>0.0207</td>\n",
              "      <td>0.0954</td>\n",
              "      <td>0.0986</td>\n",
              "      <td>0.1539</td>\n",
              "      <td>0.1601</td>\n",
              "      <td>0.3109</td>\n",
              "      <td>0.2111</td>\n",
              "      <td>...</td>\n",
              "      <td>0.0027</td>\n",
              "      <td>0.0065</td>\n",
              "      <td>0.0159</td>\n",
              "      <td>0.0072</td>\n",
              "      <td>0.0167</td>\n",
              "      <td>0.0180</td>\n",
              "      <td>0.0084</td>\n",
              "      <td>0.0090</td>\n",
              "      <td>0.0032</td>\n",
              "      <td>R</td>\n",
              "    </tr>\n",
              "    <tr>\n",
              "      <th>1</th>\n",
              "      <td>0.0453</td>\n",
              "      <td>0.0523</td>\n",
              "      <td>0.0843</td>\n",
              "      <td>0.0689</td>\n",
              "      <td>0.1183</td>\n",
              "      <td>0.2583</td>\n",
              "      <td>0.2156</td>\n",
              "      <td>0.3481</td>\n",
              "      <td>0.3337</td>\n",
              "      <td>0.2872</td>\n",
              "      <td>...</td>\n",
              "      <td>0.0084</td>\n",
              "      <td>0.0089</td>\n",
              "      <td>0.0048</td>\n",
              "      <td>0.0094</td>\n",
              "      <td>0.0191</td>\n",
              "      <td>0.0140</td>\n",
              "      <td>0.0049</td>\n",
              "      <td>0.0052</td>\n",
              "      <td>0.0044</td>\n",
              "      <td>R</td>\n",
              "    </tr>\n",
              "    <tr>\n",
              "      <th>2</th>\n",
              "      <td>0.0262</td>\n",
              "      <td>0.0582</td>\n",
              "      <td>0.1099</td>\n",
              "      <td>0.1083</td>\n",
              "      <td>0.0974</td>\n",
              "      <td>0.2280</td>\n",
              "      <td>0.2431</td>\n",
              "      <td>0.3771</td>\n",
              "      <td>0.5598</td>\n",
              "      <td>0.6194</td>\n",
              "      <td>...</td>\n",
              "      <td>0.0232</td>\n",
              "      <td>0.0166</td>\n",
              "      <td>0.0095</td>\n",
              "      <td>0.0180</td>\n",
              "      <td>0.0244</td>\n",
              "      <td>0.0316</td>\n",
              "      <td>0.0164</td>\n",
              "      <td>0.0095</td>\n",
              "      <td>0.0078</td>\n",
              "      <td>R</td>\n",
              "    </tr>\n",
              "  </tbody>\n",
              "</table>\n",
              "<p>3 rows × 61 columns</p>\n",
              "</div>\n",
              "      <button class=\"colab-df-convert\" onclick=\"convertToInteractive('df-b8fbcb9d-b405-418d-a01b-37d05458c077')\"\n",
              "              title=\"Convert this dataframe to an interactive table.\"\n",
              "              style=\"display:none;\">\n",
              "        \n",
              "  <svg xmlns=\"http://www.w3.org/2000/svg\" height=\"24px\"viewBox=\"0 0 24 24\"\n",
              "       width=\"24px\">\n",
              "    <path d=\"M0 0h24v24H0V0z\" fill=\"none\"/>\n",
              "    <path d=\"M18.56 5.44l.94 2.06.94-2.06 2.06-.94-2.06-.94-.94-2.06-.94 2.06-2.06.94zm-11 1L8.5 8.5l.94-2.06 2.06-.94-2.06-.94L8.5 2.5l-.94 2.06-2.06.94zm10 10l.94 2.06.94-2.06 2.06-.94-2.06-.94-.94-2.06-.94 2.06-2.06.94z\"/><path d=\"M17.41 7.96l-1.37-1.37c-.4-.4-.92-.59-1.43-.59-.52 0-1.04.2-1.43.59L10.3 9.45l-7.72 7.72c-.78.78-.78 2.05 0 2.83L4 21.41c.39.39.9.59 1.41.59.51 0 1.02-.2 1.41-.59l7.78-7.78 2.81-2.81c.8-.78.8-2.07 0-2.86zM5.41 20L4 18.59l7.72-7.72 1.47 1.35L5.41 20z\"/>\n",
              "  </svg>\n",
              "      </button>\n",
              "      \n",
              "  <style>\n",
              "    .colab-df-container {\n",
              "      display:flex;\n",
              "      flex-wrap:wrap;\n",
              "      gap: 12px;\n",
              "    }\n",
              "\n",
              "    .colab-df-convert {\n",
              "      background-color: #E8F0FE;\n",
              "      border: none;\n",
              "      border-radius: 50%;\n",
              "      cursor: pointer;\n",
              "      display: none;\n",
              "      fill: #1967D2;\n",
              "      height: 32px;\n",
              "      padding: 0 0 0 0;\n",
              "      width: 32px;\n",
              "    }\n",
              "\n",
              "    .colab-df-convert:hover {\n",
              "      background-color: #E2EBFA;\n",
              "      box-shadow: 0px 1px 2px rgba(60, 64, 67, 0.3), 0px 1px 3px 1px rgba(60, 64, 67, 0.15);\n",
              "      fill: #174EA6;\n",
              "    }\n",
              "\n",
              "    [theme=dark] .colab-df-convert {\n",
              "      background-color: #3B4455;\n",
              "      fill: #D2E3FC;\n",
              "    }\n",
              "\n",
              "    [theme=dark] .colab-df-convert:hover {\n",
              "      background-color: #434B5C;\n",
              "      box-shadow: 0px 1px 3px 1px rgba(0, 0, 0, 0.15);\n",
              "      filter: drop-shadow(0px 1px 2px rgba(0, 0, 0, 0.3));\n",
              "      fill: #FFFFFF;\n",
              "    }\n",
              "  </style>\n",
              "\n",
              "      <script>\n",
              "        const buttonEl =\n",
              "          document.querySelector('#df-b8fbcb9d-b405-418d-a01b-37d05458c077 button.colab-df-convert');\n",
              "        buttonEl.style.display =\n",
              "          google.colab.kernel.accessAllowed ? 'block' : 'none';\n",
              "\n",
              "        async function convertToInteractive(key) {\n",
              "          const element = document.querySelector('#df-b8fbcb9d-b405-418d-a01b-37d05458c077');\n",
              "          const dataTable =\n",
              "            await google.colab.kernel.invokeFunction('convertToInteractive',\n",
              "                                                     [key], {});\n",
              "          if (!dataTable) return;\n",
              "\n",
              "          const docLinkHtml = 'Like what you see? Visit the ' +\n",
              "            '<a target=\"_blank\" href=https://colab.research.google.com/notebooks/data_table.ipynb>data table notebook</a>'\n",
              "            + ' to learn more about interactive tables.';\n",
              "          element.innerHTML = '';\n",
              "          dataTable['output_type'] = 'display_data';\n",
              "          await google.colab.output.renderOutput(dataTable, element);\n",
              "          const docLink = document.createElement('div');\n",
              "          docLink.innerHTML = docLinkHtml;\n",
              "          element.appendChild(docLink);\n",
              "        }\n",
              "      </script>\n",
              "    </div>\n",
              "  </div>\n",
              "  "
            ]
          },
          "metadata": {},
          "execution_count": 4
        }
      ]
    },
    {
      "cell_type": "code",
      "source": [
        "df[60].value_counts()"
      ],
      "metadata": {
        "colab": {
          "base_uri": "https://localhost:8080/"
        },
        "id": "ViOaxK_oqRrz",
        "outputId": "f6ee8c2a-2752-4a36-f805-67256d766b64"
      },
      "execution_count": 5,
      "outputs": [
        {
          "output_type": "execute_result",
          "data": {
            "text/plain": [
              "M    111\n",
              "R     97\n",
              "Name: 60, dtype: int64"
            ]
          },
          "metadata": {},
          "execution_count": 5
        }
      ]
    },
    {
      "cell_type": "code",
      "source": [
        "# X data: scaling\n",
        "from sklearn.preprocessing import StandardScaler\n",
        "X_scaled = StandardScaler().fit_transform(df.iloc[:, :-1].values)"
      ],
      "metadata": {
        "id": "YLVvrzDoqqJZ"
      },
      "execution_count": 6,
      "outputs": []
    },
    {
      "cell_type": "code",
      "source": [
        "# Y dat: label encoding\n",
        "from sklearn.preprocessing import LabelEncoder\n",
        "y_labeled = LabelEncoder().fit_transform(df[60].values)"
      ],
      "metadata": {
        "id": "jF3EOLOGrhRQ"
      },
      "execution_count": 7,
      "outputs": []
    },
    {
      "cell_type": "code",
      "source": [
        "from sklearn.model_selection import train_test_split\n",
        "X_train, X_test, y_train, y_test = train_test_split(\n",
        "    X_scaled, y_labeled, stratify = y_labeled,\n",
        "    test_size =  0.2, random_state=seed\n",
        ")"
      ],
      "metadata": {
        "id": "_RNxWSiBr6pA"
      },
      "execution_count": 8,
      "outputs": []
    },
    {
      "cell_type": "markdown",
      "source": [
        "- 모델 정의/설정/학습/평가"
      ],
      "metadata": {
        "id": "MTlFy-7LsdXq"
      }
    },
    {
      "cell_type": "code",
      "source": [
        "from tensorflow.keras.models import Sequential\n",
        "from tensorflow.keras.layers import Dense"
      ],
      "metadata": {
        "id": "e0gTCUt2sTM9"
      },
      "execution_count": 9,
      "outputs": []
    },
    {
      "cell_type": "markdown",
      "source": [
        "- Case 1) 은닉층 2개"
      ],
      "metadata": {
        "id": "za1e0j1HsyTd"
      }
    },
    {
      "cell_type": "code",
      "source": [
        "model1 = Sequential([\n",
        "    Dense(80, input_dim=60, activation = 'relu'),\n",
        "    Dense(12, activation='relu'),\n",
        "    Dense(1, activation = 'sigmoid')\n",
        "])\n",
        "model1.summary()"
      ],
      "metadata": {
        "colab": {
          "base_uri": "https://localhost:8080/"
        },
        "id": "ODA4rObSsp9g",
        "outputId": "752dbc4b-2868-4584-97e1-0949044e3b85"
      },
      "execution_count": 10,
      "outputs": [
        {
          "output_type": "stream",
          "name": "stdout",
          "text": [
            "Model: \"sequential\"\n",
            "_________________________________________________________________\n",
            " Layer (type)                Output Shape              Param #   \n",
            "=================================================================\n",
            " dense (Dense)               (None, 80)                4880      \n",
            "                                                                 \n",
            " dense_1 (Dense)             (None, 12)                972       \n",
            "                                                                 \n",
            " dense_2 (Dense)             (None, 1)                 13        \n",
            "                                                                 \n",
            "=================================================================\n",
            "Total params: 5,865\n",
            "Trainable params: 5,865\n",
            "Non-trainable params: 0\n",
            "_________________________________________________________________\n"
          ]
        }
      ]
    },
    {
      "cell_type": "code",
      "source": [
        "model1.compile('adam', 'binary_crossentropy', metrics=['accuracy'])\n",
        "hist1 = model1.fit(X_train, y_train, validation_split=0.2,\n",
        "                   epochs=200, batch_size=100, verbose=0)"
      ],
      "metadata": {
        "id": "klMUQAJ9tac_"
      },
      "execution_count": 25,
      "outputs": []
    },
    {
      "cell_type": "code",
      "source": [
        "model1.evaluate(X_test, y_test)"
      ],
      "metadata": {
        "colab": {
          "base_uri": "https://localhost:8080/"
        },
        "id": "LBpWZ9GCt8iG",
        "outputId": "83940f2a-a40e-41dc-ea4d-420cac0f9a4a"
      },
      "execution_count": 26,
      "outputs": [
        {
          "output_type": "stream",
          "name": "stdout",
          "text": [
            "2/2 [==============================] - 0s 5ms/step - loss: 0.4500 - accuracy: 0.9048\n"
          ]
        },
        {
          "output_type": "execute_result",
          "data": {
            "text/plain": [
              "[0.4499545395374298, 0.9047619104385376]"
            ]
          },
          "metadata": {},
          "execution_count": 26
        }
      ]
    },
    {
      "cell_type": "code",
      "source": [
        "params1, acc1 = 5865, 0.9047"
      ],
      "metadata": {
        "id": "o9Ex7jCZtQ1E"
      },
      "execution_count": 14,
      "outputs": []
    },
    {
      "cell_type": "markdown",
      "source": [
        "- Case2) 은닉층 4개"
      ],
      "metadata": {
        "id": "tl7Y5xtWuj0m"
      }
    },
    {
      "cell_type": "code",
      "source": [
        "model2 = Sequential([\n",
        "    Dense(80, input_dim=60, activation = 'relu'),\n",
        "    Dense(48, activation='relu'),\n",
        "    Dense(20, activation='relu'),\n",
        "    Dense(8, activation='relu'),\n",
        "    Dense(1, activation = 'sigmoid')\n",
        "])\n",
        "model2.summary()"
      ],
      "metadata": {
        "colab": {
          "base_uri": "https://localhost:8080/"
        },
        "id": "kjYxILA5uMrH",
        "outputId": "75123b85-4db5-4e6b-9482-1fc533bb00ab"
      },
      "execution_count": 16,
      "outputs": [
        {
          "output_type": "stream",
          "name": "stdout",
          "text": [
            "Model: \"sequential_2\"\n",
            "_________________________________________________________________\n",
            " Layer (type)                Output Shape              Param #   \n",
            "=================================================================\n",
            " dense_8 (Dense)             (None, 80)                4880      \n",
            "                                                                 \n",
            " dense_9 (Dense)             (None, 48)                3888      \n",
            "                                                                 \n",
            " dense_10 (Dense)            (None, 20)                980       \n",
            "                                                                 \n",
            " dense_11 (Dense)            (None, 8)                 168       \n",
            "                                                                 \n",
            " dense_12 (Dense)            (None, 1)                 9         \n",
            "                                                                 \n",
            "=================================================================\n",
            "Total params: 9,925\n",
            "Trainable params: 9,925\n",
            "Non-trainable params: 0\n",
            "_________________________________________________________________\n"
          ]
        }
      ]
    },
    {
      "cell_type": "code",
      "source": [
        "model2.compile('adam', 'binary_crossentropy', metrics=['accuracy'])\n",
        "hist2 = model2.fit(X_train, y_train, validation_split=0.2,\n",
        "                   epochs=200, batch_size=100, verbose=0)\n",
        "model2.evaluate(X_test, y_test)"
      ],
      "metadata": {
        "colab": {
          "base_uri": "https://localhost:8080/"
        },
        "id": "goQP5wWZvEWH",
        "outputId": "3115cb3f-3137-458b-f721-c708c000487f"
      },
      "execution_count": 22,
      "outputs": [
        {
          "output_type": "stream",
          "name": "stdout",
          "text": [
            "2/2 [==============================] - 0s 8ms/step - loss: 1.1201 - accuracy: 0.8333\n"
          ]
        },
        {
          "output_type": "execute_result",
          "data": {
            "text/plain": [
              "[1.1201035976409912, 0.8333333134651184]"
            ]
          },
          "metadata": {},
          "execution_count": 22
        }
      ]
    },
    {
      "cell_type": "code",
      "source": [
        "params2, acc2 = 9925, 0.8333"
      ],
      "metadata": {
        "id": "gCkyPoLJvMWY"
      },
      "execution_count": 23,
      "outputs": []
    },
    {
      "cell_type": "markdown",
      "source": [
        "- Case 3) 은닉층 6개"
      ],
      "metadata": {
        "id": "gYjtyaEhveGB"
      }
    },
    {
      "cell_type": "code",
      "source": [
        "model3 = Sequential([\n",
        "    Dense(80, input_dim=60, activation = 'relu'),\n",
        "    Dense(64, activation='relu'),\n",
        "    Dense(40, activation='relu'),\n",
        "    Dense(24, activation='relu'),\n",
        "    Dense(10, activation='relu'),\n",
        "    Dense(4, activation='relu'),\n",
        "    Dense(1, activation = 'sigmoid')\n",
        "])\n",
        "model3.summary()"
      ],
      "metadata": {
        "colab": {
          "base_uri": "https://localhost:8080/"
        },
        "id": "oM0qjII1vZ_v",
        "outputId": "c2ea2277-664f-4312-99a9-e086efad533d"
      },
      "execution_count": 19,
      "outputs": [
        {
          "output_type": "stream",
          "name": "stdout",
          "text": [
            "Model: \"sequential_3\"\n",
            "_________________________________________________________________\n",
            " Layer (type)                Output Shape              Param #   \n",
            "=================================================================\n",
            " dense_13 (Dense)            (None, 80)                4880      \n",
            "                                                                 \n",
            " dense_14 (Dense)            (None, 64)                5184      \n",
            "                                                                 \n",
            " dense_15 (Dense)            (None, 40)                2600      \n",
            "                                                                 \n",
            " dense_16 (Dense)            (None, 24)                984       \n",
            "                                                                 \n",
            " dense_17 (Dense)            (None, 10)                250       \n",
            "                                                                 \n",
            " dense_18 (Dense)            (None, 4)                 44        \n",
            "                                                                 \n",
            " dense_19 (Dense)            (None, 1)                 5         \n",
            "                                                                 \n",
            "=================================================================\n",
            "Total params: 13,947\n",
            "Trainable params: 13,947\n",
            "Non-trainable params: 0\n",
            "_________________________________________________________________\n"
          ]
        }
      ]
    },
    {
      "cell_type": "code",
      "source": [
        "model3.compile('adam', 'binary_crossentropy', metrics=['accuracy'])\n",
        "hist3 = model3.fit(X_train, y_train, validation_split=0.2,\n",
        "                   epochs=200, batch_size=100, verbose=0)\n",
        "model3.evaluate(X_test, y_test)"
      ],
      "metadata": {
        "colab": {
          "base_uri": "https://localhost:8080/"
        },
        "id": "WcpntOnNvzwU",
        "outputId": "8525d1c5-bd69-4009-8fab-f8a4aa5de718"
      },
      "execution_count": 21,
      "outputs": [
        {
          "output_type": "stream",
          "name": "stdout",
          "text": [
            "2/2 [==============================] - 0s 6ms/step - loss: 1.1411 - accuracy: 0.8333\n"
          ]
        },
        {
          "output_type": "execute_result",
          "data": {
            "text/plain": [
              "[1.14113450050354, 0.8333333134651184]"
            ]
          },
          "metadata": {},
          "execution_count": 21
        }
      ]
    },
    {
      "cell_type": "code",
      "source": [
        "params3, acc3 = 13947,  0.8333"
      ],
      "metadata": {
        "id": "vs5MB6dav4B4"
      },
      "execution_count": 31,
      "outputs": []
    },
    {
      "cell_type": "markdown",
      "source": [
        "- Case 4) 은닉층 8개"
      ],
      "metadata": {
        "id": "ggw1nvJZwJ-B"
      }
    },
    {
      "cell_type": "code",
      "source": [
        "model4 = Sequential([\n",
        "    Dense(80, input_dim=60, activation = 'relu'),\n",
        "    Dense(64, activation='relu'),\n",
        "    Dense(48, activation='relu'),\n",
        "    Dense(36, activation='relu'),\n",
        "    Dense(28, activation='relu'),\n",
        "    Dense(16, activation='relu'),\n",
        "    Dense(10, activation='relu'),\n",
        "    Dense(4, activation='relu'),\n",
        "    Dense(1, activation = 'sigmoid')\n",
        "])\n",
        "model4.summary()"
      ],
      "metadata": {
        "colab": {
          "base_uri": "https://localhost:8080/"
        },
        "id": "XgMMJNvSwJFJ",
        "outputId": "6b76b469-f3aa-4c51-a90a-0f93a077d1dd"
      },
      "execution_count": 27,
      "outputs": [
        {
          "output_type": "stream",
          "name": "stdout",
          "text": [
            "Model: \"sequential_4\"\n",
            "_________________________________________________________________\n",
            " Layer (type)                Output Shape              Param #   \n",
            "=================================================================\n",
            " dense_20 (Dense)            (None, 80)                4880      \n",
            "                                                                 \n",
            " dense_21 (Dense)            (None, 64)                5184      \n",
            "                                                                 \n",
            " dense_22 (Dense)            (None, 48)                3120      \n",
            "                                                                 \n",
            " dense_23 (Dense)            (None, 36)                1764      \n",
            "                                                                 \n",
            " dense_24 (Dense)            (None, 28)                1036      \n",
            "                                                                 \n",
            " dense_25 (Dense)            (None, 16)                464       \n",
            "                                                                 \n",
            " dense_26 (Dense)            (None, 10)                170       \n",
            "                                                                 \n",
            " dense_27 (Dense)            (None, 4)                 44        \n",
            "                                                                 \n",
            " dense_28 (Dense)            (None, 1)                 5         \n",
            "                                                                 \n",
            "=================================================================\n",
            "Total params: 16,667\n",
            "Trainable params: 16,667\n",
            "Non-trainable params: 0\n",
            "_________________________________________________________________\n"
          ]
        }
      ]
    },
    {
      "cell_type": "code",
      "source": [
        "model4.compile('adam', 'binary_crossentropy', metrics=['accuracy'])\n",
        "hist4 = model4.fit(X_train, y_train, validation_split=0.2,\n",
        "                   epochs=200, batch_size=100, verbose=0)\n",
        "model4.evaluate(X_test, y_test)"
      ],
      "metadata": {
        "colab": {
          "base_uri": "https://localhost:8080/"
        },
        "id": "uTAIyCgpwbe1",
        "outputId": "51f0e746-d301-4b1b-fa3d-1ad2b1f68b6c"
      },
      "execution_count": 28,
      "outputs": [
        {
          "output_type": "stream",
          "name": "stdout",
          "text": [
            "2/2 [==============================] - 0s 10ms/step - loss: 1.4516 - accuracy: 0.7143\n"
          ]
        },
        {
          "output_type": "execute_result",
          "data": {
            "text/plain": [
              "[1.4515798091888428, 0.7142857313156128]"
            ]
          },
          "metadata": {},
          "execution_count": 28
        }
      ]
    },
    {
      "cell_type": "code",
      "source": [
        "params4, acc4 = 16667, 0.7142"
      ],
      "metadata": {
        "id": "ex61pyCVwZQ5"
      },
      "execution_count": 30,
      "outputs": []
    },
    {
      "cell_type": "markdown",
      "source": [
        "- 학습과정 시각화"
      ],
      "metadata": {
        "id": "HKHLWN21xIKq"
      }
    },
    {
      "cell_type": "code",
      "source": [
        "y_acc1 = hist1.history['accuracy']\n",
        "y_acc2 = hist2.history['accuracy']\n",
        "y_acc3 = hist3.history['accuracy']\n",
        "y_acc4 = hist4.history['accuracy']\n",
        "y_vloss1 = hist1.history['val_loss']\n",
        "y_vloss2 = hist2.history['val_loss']\n",
        "y_vloss3 = hist3.history['val_loss']\n",
        "y_vloss4 = hist4.history['val_loss']\n",
        "xs = np.arange(1, len(y_acc1) + 1)"
      ],
      "metadata": {
        "id": "PQMRcWRKwn4d"
      },
      "execution_count": 32,
      "outputs": []
    },
    {
      "cell_type": "code",
      "source": [
        "plt.figure(figsize = (12, 8))\n",
        "plt.plot(xs, y_acc1, label = 'case 1')\n",
        "plt.plot(xs, y_acc2, label = 'case 2')\n",
        "plt.plot(xs, y_acc3, label = 'case 3')\n",
        "plt.plot(xs, y_acc4, label = 'case 4')\n",
        "plt.legend(), plt.grid()\n",
        "plt.xlabel('Epoch'), plt.title('Trainset Accuracy')\n",
        "plt.show()"
      ],
      "metadata": {
        "colab": {
          "base_uri": "https://localhost:8080/",
          "height": 513
        },
        "id": "spTOFFwtyBRK",
        "outputId": "5ba8ba34-359f-47ae-c80c-e99c9669ed93"
      },
      "execution_count": 33,
      "outputs": [
        {
          "output_type": "display_data",
          "data": {
            "text/plain": [
              "<Figure size 864x576 with 1 Axes>"
            ],
            "image/png": "[encoded data removed]"
          },
          "metadata": {
            "needs_background": "light"
          }
        }
      ]
    },
    {
      "cell_type": "code",
      "source": [
        "plt.figure(figsize = (12, 8))\n",
        "plt.plot(xs, y_vloss1, label = 'case 1')\n",
        "plt.plot(xs, y_vloss2, label = 'case 2')\n",
        "plt.plot(xs, y_vloss3, label = 'case 3')\n",
        "plt.plot(xs, y_vloss4, label = 'case 4')\n",
        "plt.legend(), plt.grid()\n",
        "plt.xlabel('Epoch'), plt.title('Validation set loss')\n",
        "plt.show()"
      ],
      "metadata": {
        "colab": {
          "base_uri": "https://localhost:8080/",
          "height": 513
        },
        "id": "5jHzoEmEybxM",
        "outputId": "721fb8b4-4c47-48c3-d54d-a49b6381375c"
      },
      "execution_count": 34,
      "outputs": [
        {
          "output_type": "display_data",
          "data": {
            "text/plain": [
              "<Figure size 864x576 with 1 Axes>"
            ],
            "image/png": "[encoded data removed]"
          },
          "metadata": {
            "needs_background": "light"
          }
        }
      ]
    },
    {
      "cell_type": "markdown",
      "source": [
        "### Case 2에 대해서 베스트 모델"
      ],
      "metadata": {
        "id": "TMxSI9weGA27"
      }
    },
    {
      "cell_type": "code",
      "source": [
        "model = Sequential([\n",
        "    Dense(80, input_dim=60, activation = 'relu'),\n",
        "    Dense(48, activation='relu'),\n",
        "    Dense(20, activation='relu'),\n",
        "    Dense(8, activation='relu'),\n",
        "    Dense(1, activation = 'sigmoid')\n",
        "])\n",
        "model.summary()"
      ],
      "metadata": {
        "colab": {
          "base_uri": "https://localhost:8080/"
        },
        "id": "MyxPuN08ywhY",
        "outputId": "abaea068-61ff-45fa-d9bd-ba5cd7242252"
      },
      "execution_count": 40,
      "outputs": [
        {
          "output_type": "stream",
          "name": "stdout",
          "text": [
            "Model: \"sequential_6\"\n",
            "_________________________________________________________________\n",
            " Layer (type)                Output Shape              Param #   \n",
            "=================================================================\n",
            " dense_34 (Dense)            (None, 80)                4880      \n",
            "                                                                 \n",
            " dense_35 (Dense)            (None, 48)                3888      \n",
            "                                                                 \n",
            " dense_36 (Dense)            (None, 20)                980       \n",
            "                                                                 \n",
            " dense_37 (Dense)            (None, 8)                 168       \n",
            "                                                                 \n",
            " dense_38 (Dense)            (None, 1)                 9         \n",
            "                                                                 \n",
            "=================================================================\n",
            "Total params: 9,925\n",
            "Trainable params: 9,925\n",
            "Non-trainable params: 0\n",
            "_________________________________________________________________\n"
          ]
        }
      ]
    },
    {
      "cell_type": "code",
      "source": [
        "model.compile('adam', 'binary_crossentropy', metrics=['accuracy'])"
      ],
      "metadata": {
        "id": "P3wllglIGQDx"
      },
      "execution_count": 41,
      "outputs": []
    },
    {
      "cell_type": "markdown",
      "source": [
        "- 베스트 모델만 저장하는 콜백 함수"
      ],
      "metadata": {
        "id": "_Auigav2Gb_9"
      }
    },
    {
      "cell_type": "code",
      "source": [
        "from tensorflow.keras.callbacks import ModelCheckpoint\n",
        "mc = ModelCheckpoint('sonar_best.h5', monitor = 'val_loss', \n",
        "                     verbose=1, save_best_only=True)"
      ],
      "metadata": {
        "id": "ZC7HAXi5GhbB"
      },
      "execution_count": 42,
      "outputs": []
    },
    {
      "cell_type": "code",
      "source": [
        "# epoch가 종료될 때마다 callback 함수를 실행하도록 설정\n",
        "hist = model.fit(X_train, y_train, validation_split=0.2,\n",
        "                epochs=200, batch_size=100, verbose=0, \n",
        "                callbacks=[mc])"
      ],
      "metadata": {
        "colab": {
          "base_uri": "https://localhost:8080/"
        },
        "id": "HEw_RdfdHEuU",
        "outputId": "2bb6c8cb-e89c-4c10-dcdf-282ec352c0e3"
      },
      "execution_count": 43,
      "outputs": [
        {
          "output_type": "stream",
          "name": "stdout",
          "text": [
            "\n",
            "Epoch 1: val_loss improved from inf to 0.60430, saving model to sonar_best.h5\n",
            "\n",
            "Epoch 2: val_loss improved from 0.60430 to 0.57559, saving model to sonar_best.h5\n",
            "\n",
            "Epoch 3: val_loss improved from 0.57559 to 0.55072, saving model to sonar_best.h5\n",
            "\n",
            "Epoch 4: val_loss improved from 0.55072 to 0.52669, saving model to sonar_best.h5\n",
            "\n",
            "Epoch 5: val_loss improved from 0.52669 to 0.50632, saving model to sonar_best.h5\n",
            "\n",
            "Epoch 6: val_loss improved from 0.50632 to 0.48817, saving model to sonar_best.h5\n",
            "\n",
            "Epoch 7: val_loss improved from 0.48817 to 0.46769, saving model to sonar_best.h5\n",
            "\n",
            "Epoch 8: val_loss improved from 0.46769 to 0.44963, saving model to sonar_best.h5\n",
            "\n",
            "Epoch 9: val_loss improved from 0.44963 to 0.43403, saving model to sonar_best.h5\n",
            "\n",
            "Epoch 10: val_loss improved from 0.43403 to 0.42365, saving model to sonar_best.h5\n",
            "\n",
            "Epoch 11: val_loss improved from 0.42365 to 0.41435, saving model to sonar_best.h5\n",
            "\n",
            "Epoch 12: val_loss improved from 0.41435 to 0.40748, saving model to sonar_best.h5\n",
            "\n",
            "Epoch 13: val_loss improved from 0.40748 to 0.40109, saving model to sonar_best.h5\n",
            "\n",
            "Epoch 14: val_loss improved from 0.40109 to 0.39454, saving model to sonar_best.h5\n",
            "\n",
            "Epoch 15: val_loss improved from 0.39454 to 0.38930, saving model to sonar_best.h5\n",
            "\n",
            "Epoch 16: val_loss improved from 0.38930 to 0.38523, saving model to sonar_best.h5\n",
            "\n",
            "Epoch 17: val_loss improved from 0.38523 to 0.38211, saving model to sonar_best.h5\n",
            "\n",
            "Epoch 18: val_loss improved from 0.38211 to 0.38138, saving model to sonar_best.h5\n",
            "\n",
            "Epoch 19: val_loss improved from 0.38138 to 0.38070, saving model to sonar_best.h5\n",
            "\n",
            "Epoch 20: val_loss improved from 0.38070 to 0.37888, saving model to sonar_best.h5\n",
            "\n",
            "Epoch 21: val_loss did not improve from 0.37888\n",
            "\n",
            "Epoch 22: val_loss did not improve from 0.37888\n",
            "\n",
            "Epoch 23: val_loss did not improve from 0.37888\n",
            "\n",
            "Epoch 24: val_loss improved from 0.37888 to 0.37835, saving model to sonar_best.h5\n",
            "\n",
            "Epoch 25: val_loss improved from 0.37835 to 0.37333, saving model to sonar_best.h5\n",
            "\n",
            "Epoch 26: val_loss improved from 0.37333 to 0.36996, saving model to sonar_best.h5\n",
            "\n",
            "Epoch 27: val_loss improved from 0.36996 to 0.36972, saving model to sonar_best.h5\n",
            "\n",
            "Epoch 28: val_loss improved from 0.36972 to 0.36946, saving model to sonar_best.h5\n",
            "\n",
            "Epoch 29: val_loss improved from 0.36946 to 0.36879, saving model to sonar_best.h5\n",
            "\n",
            "Epoch 30: val_loss improved from 0.36879 to 0.36788, saving model to sonar_best.h5\n",
            "\n",
            "Epoch 31: val_loss did not improve from 0.36788\n",
            "\n",
            "Epoch 32: val_loss did not improve from 0.36788\n",
            "\n",
            "Epoch 33: val_loss did not improve from 0.36788\n",
            "\n",
            "Epoch 34: val_loss did not improve from 0.36788\n",
            "\n",
            "Epoch 35: val_loss did not improve from 0.36788\n",
            "\n",
            "Epoch 36: val_loss did not improve from 0.36788\n",
            "\n",
            "Epoch 37: val_loss did not improve from 0.36788\n",
            "\n",
            "Epoch 38: val_loss did not improve from 0.36788\n",
            "\n",
            "Epoch 39: val_loss did not improve from 0.36788\n",
            "\n",
            "Epoch 40: val_loss did not improve from 0.36788\n",
            "\n",
            "Epoch 41: val_loss did not improve from 0.36788\n",
            "\n",
            "Epoch 42: val_loss did not improve from 0.36788\n",
            "\n",
            "Epoch 43: val_loss did not improve from 0.36788\n",
            "\n",
            "Epoch 44: val_loss did not improve from 0.36788\n",
            "\n",
            "Epoch 45: val_loss did not improve from 0.36788\n",
            "\n",
            "Epoch 46: val_loss did not improve from 0.36788\n",
            "\n",
            "Epoch 47: val_loss did not improve from 0.36788\n",
            "\n",
            "Epoch 48: val_loss did not improve from 0.36788\n",
            "\n",
            "Epoch 49: val_loss did not improve from 0.36788\n",
            "\n",
            "Epoch 50: val_loss did not improve from 0.36788\n",
            "\n",
            "Epoch 51: val_loss did not improve from 0.36788\n",
            "\n",
            "Epoch 52: val_loss did not improve from 0.36788\n",
            "\n",
            "Epoch 53: val_loss did not improve from 0.36788\n",
            "\n",
            "Epoch 54: val_loss did not improve from 0.36788\n",
            "\n",
            "Epoch 55: val_loss did not improve from 0.36788\n",
            "\n",
            "Epoch 56: val_loss did not improve from 0.36788\n",
            "\n",
            "Epoch 57: val_loss did not improve from 0.36788\n",
            "\n",
            "Epoch 58: val_loss did not improve from 0.36788\n",
            "\n",
            "Epoch 59: val_loss did not improve from 0.36788\n",
            "\n",
            "Epoch 60: val_loss did not improve from 0.36788\n",
            "\n",
            "Epoch 61: val_loss did not improve from 0.36788\n",
            "\n",
            "Epoch 62: val_loss did not improve from 0.36788\n",
            "\n",
            "Epoch 63: val_loss did not improve from 0.36788\n",
            "\n",
            "Epoch 64: val_loss did not improve from 0.36788\n",
            "\n",
            "Epoch 65: val_loss did not improve from 0.36788\n",
            "\n",
            "Epoch 66: val_loss did not improve from 0.36788\n",
            "\n",
            "Epoch 67: val_loss did not improve from 0.36788\n",
            "\n",
            "Epoch 68: val_loss did not improve from 0.36788\n",
            "\n",
            "Epoch 69: val_loss did not improve from 0.36788\n",
            "\n",
            "Epoch 70: val_loss did not improve from 0.36788\n",
            "\n",
            "Epoch 71: val_loss did not improve from 0.36788\n",
            "\n",
            "Epoch 72: val_loss did not improve from 0.36788\n",
            "\n",
            "Epoch 73: val_loss did not improve from 0.36788\n",
            "\n",
            "Epoch 74: val_loss did not improve from 0.36788\n",
            "\n",
            "Epoch 75: val_loss did not improve from 0.36788\n",
            "\n",
            "Epoch 76: val_loss did not improve from 0.36788\n",
            "\n",
            "Epoch 77: val_loss did not improve from 0.36788\n",
            "\n",
            "Epoch 78: val_loss did not improve from 0.36788\n",
            "\n",
            "Epoch 79: val_loss did not improve from 0.36788\n",
            "\n",
            "Epoch 80: val_loss did not improve from 0.36788\n",
            "\n",
            "Epoch 81: val_loss did not improve from 0.36788\n",
            "\n",
            "Epoch 82: val_loss did not improve from 0.36788\n",
            "\n",
            "Epoch 83: val_loss did not improve from 0.36788\n",
            "\n",
            "Epoch 84: val_loss did not improve from 0.36788\n",
            "\n",
            "Epoch 85: val_loss did not improve from 0.36788\n",
            "\n",
            "Epoch 86: val_loss did not improve from 0.36788\n",
            "\n",
            "Epoch 87: val_loss did not improve from 0.36788\n",
            "\n",
            "Epoch 88: val_loss did not improve from 0.36788\n",
            "\n",
            "Epoch 89: val_loss did not improve from 0.36788\n",
            "\n",
            "Epoch 90: val_loss did not improve from 0.36788\n",
            "\n",
            "Epoch 91: val_loss did not improve from 0.36788\n",
            "\n",
            "Epoch 92: val_loss did not improve from 0.36788\n",
            "\n",
            "Epoch 93: val_loss did not improve from 0.36788\n",
            "\n",
            "Epoch 94: val_loss did not improve from 0.36788\n",
            "\n",
            "Epoch 95: val_loss did not improve from 0.36788\n",
            "\n",
            "Epoch 96: val_loss did not improve from 0.36788\n",
            "\n",
            "Epoch 97: val_loss did not improve from 0.36788\n",
            "\n",
            "Epoch 98: val_loss did not improve from 0.36788\n",
            "\n",
            "Epoch 99: val_loss did not improve from 0.36788\n",
            "\n",
            "Epoch 100: val_loss did not improve from 0.36788\n",
            "\n",
            "Epoch 101: val_loss did not improve from 0.36788\n",
            "\n",
            "Epoch 102: val_loss did not improve from 0.36788\n",
            "\n",
            "Epoch 103: val_loss did not improve from 0.36788\n",
            "\n",
            "Epoch 104: val_loss did not improve from 0.36788\n",
            "\n",
            "Epoch 105: val_loss did not improve from 0.36788\n",
            "\n",
            "Epoch 106: val_loss did not improve from 0.36788\n",
            "\n",
            "Epoch 107: val_loss did not improve from 0.36788\n",
            "\n",
            "Epoch 108: val_loss did not improve from 0.36788\n",
            "\n",
            "Epoch 109: val_loss did not improve from 0.36788\n",
            "\n",
            "Epoch 110: val_loss did not improve from 0.36788\n",
            "\n",
            "Epoch 111: val_loss did not improve from 0.36788\n",
            "\n",
            "Epoch 112: val_loss did not improve from 0.36788\n",
            "\n",
            "Epoch 113: val_loss did not improve from 0.36788\n",
            "\n",
            "Epoch 114: val_loss did not improve from 0.36788\n",
            "\n",
            "Epoch 115: val_loss did not improve from 0.36788\n",
            "\n",
            "Epoch 116: val_loss did not improve from 0.36788\n",
            "\n",
            "Epoch 117: val_loss did not improve from 0.36788\n",
            "\n",
            "Epoch 118: val_loss did not improve from 0.36788\n",
            "\n",
            "Epoch 119: val_loss did not improve from 0.36788\n",
            "\n",
            "Epoch 120: val_loss did not improve from 0.36788\n",
            "\n",
            "Epoch 121: val_loss did not improve from 0.36788\n",
            "\n",
            "Epoch 122: val_loss did not improve from 0.36788\n",
            "\n",
            "Epoch 123: val_loss did not improve from 0.36788\n",
            "\n",
            "Epoch 124: val_loss did not improve from 0.36788\n",
            "\n",
            "Epoch 125: val_loss did not improve from 0.36788\n",
            "\n",
            "Epoch 126: val_loss did not improve from 0.36788\n",
            "\n",
            "Epoch 127: val_loss did not improve from 0.36788\n",
            "\n",
            "Epoch 128: val_loss did not improve from 0.36788\n",
            "\n",
            "Epoch 129: val_loss did not improve from 0.36788\n",
            "\n",
            "Epoch 130: val_loss did not improve from 0.36788\n",
            "\n",
            "Epoch 131: val_loss did not improve from 0.36788\n",
            "\n",
            "Epoch 132: val_loss did not improve from 0.36788\n",
            "\n",
            "Epoch 133: val_loss did not improve from 0.36788\n",
            "\n",
            "Epoch 134: val_loss did not improve from 0.36788\n",
            "\n",
            "Epoch 135: val_loss did not improve from 0.36788\n",
            "\n",
            "Epoch 136: val_loss did not improve from 0.36788\n",
            "\n",
            "Epoch 137: val_loss did not improve from 0.36788\n",
            "\n",
            "Epoch 138: val_loss did not improve from 0.36788\n",
            "\n",
            "Epoch 139: val_loss did not improve from 0.36788\n",
            "\n",
            "Epoch 140: val_loss did not improve from 0.36788\n",
            "\n",
            "Epoch 141: val_loss did not improve from 0.36788\n",
            "\n",
            "Epoch 142: val_loss did not improve from 0.36788\n",
            "\n",
            "Epoch 143: val_loss did not improve from 0.36788\n",
            "\n",
            "Epoch 144: val_loss did not improve from 0.36788\n",
            "\n",
            "Epoch 145: val_loss did not improve from 0.36788\n",
            "\n",
            "Epoch 146: val_loss did not improve from 0.36788\n",
            "\n",
            "Epoch 147: val_loss did not improve from 0.36788\n",
            "\n",
            "Epoch 148: val_loss did not improve from 0.36788\n",
            "\n",
            "Epoch 149: val_loss did not improve from 0.36788\n",
            "\n",
            "Epoch 150: val_loss did not improve from 0.36788\n",
            "\n",
            "Epoch 151: val_loss did not improve from 0.36788\n",
            "\n",
            "Epoch 152: val_loss did not improve from 0.36788\n",
            "\n",
            "Epoch 153: val_loss did not improve from 0.36788\n",
            "\n",
            "Epoch 154: val_loss did not improve from 0.36788\n",
            "\n",
            "Epoch 155: val_loss did not improve from 0.36788\n",
            "\n",
            "Epoch 156: val_loss did not improve from 0.36788\n",
            "\n",
            "Epoch 157: val_loss did not improve from 0.36788\n",
            "\n",
            "Epoch 158: val_loss did not improve from 0.36788\n",
            "\n",
            "Epoch 159: val_loss did not improve from 0.36788\n",
            "\n",
            "Epoch 160: val_loss did not improve from 0.36788\n",
            "\n",
            "Epoch 161: val_loss did not improve from 0.36788\n",
            "\n",
            "Epoch 162: val_loss did not improve from 0.36788\n",
            "\n",
            "Epoch 163: val_loss did not improve from 0.36788\n",
            "\n",
            "Epoch 164: val_loss did not improve from 0.36788\n",
            "\n",
            "Epoch 165: val_loss did not improve from 0.36788\n",
            "\n",
            "Epoch 166: val_loss did not improve from 0.36788\n",
            "\n",
            "Epoch 167: val_loss did not improve from 0.36788\n",
            "\n",
            "Epoch 168: val_loss did not improve from 0.36788\n",
            "\n",
            "Epoch 169: val_loss did not improve from 0.36788\n",
            "\n",
            "Epoch 170: val_loss did not improve from 0.36788\n",
            "\n",
            "Epoch 171: val_loss did not improve from 0.36788\n",
            "\n",
            "Epoch 172: val_loss did not improve from 0.36788\n",
            "\n",
            "Epoch 173: val_loss did not improve from 0.36788\n",
            "\n",
            "Epoch 174: val_loss did not improve from 0.36788\n",
            "\n",
            "Epoch 175: val_loss did not improve from 0.36788\n",
            "\n",
            "Epoch 176: val_loss did not improve from 0.36788\n",
            "\n",
            "Epoch 177: val_loss did not improve from 0.36788\n",
            "\n",
            "Epoch 178: val_loss did not improve from 0.36788\n",
            "\n",
            "Epoch 179: val_loss did not improve from 0.36788\n",
            "\n",
            "Epoch 180: val_loss did not improve from 0.36788\n",
            "\n",
            "Epoch 181: val_loss did not improve from 0.36788\n",
            "\n",
            "Epoch 182: val_loss did not improve from 0.36788\n",
            "\n",
            "Epoch 183: val_loss did not improve from 0.36788\n",
            "\n",
            "Epoch 184: val_loss did not improve from 0.36788\n",
            "\n",
            "Epoch 185: val_loss did not improve from 0.36788\n",
            "\n",
            "Epoch 186: val_loss did not improve from 0.36788\n",
            "\n",
            "Epoch 187: val_loss did not improve from 0.36788\n",
            "\n",
            "Epoch 188: val_loss did not improve from 0.36788\n",
            "\n",
            "Epoch 189: val_loss did not improve from 0.36788\n",
            "\n",
            "Epoch 190: val_loss did not improve from 0.36788\n",
            "\n",
            "Epoch 191: val_loss did not improve from 0.36788\n",
            "\n",
            "Epoch 192: val_loss did not improve from 0.36788\n",
            "\n",
            "Epoch 193: val_loss did not improve from 0.36788\n",
            "\n",
            "Epoch 194: val_loss did not improve from 0.36788\n",
            "\n",
            "Epoch 195: val_loss did not improve from 0.36788\n",
            "\n",
            "Epoch 196: val_loss did not improve from 0.36788\n",
            "\n",
            "Epoch 197: val_loss did not improve from 0.36788\n",
            "\n",
            "Epoch 198: val_loss did not improve from 0.36788\n",
            "\n",
            "Epoch 199: val_loss did not improve from 0.36788\n",
            "\n",
            "Epoch 200: val_loss did not improve from 0.36788\n"
          ]
        }
      ]
    },
    {
      "cell_type": "code",
      "source": [
        "from tensorflow.keras.models import load_model\n",
        "\n",
        "best_model = load_model('sonar_best.h5')\n",
        "best_model.evaluate(X_test, y_test)"
      ],
      "metadata": {
        "colab": {
          "base_uri": "https://localhost:8080/"
        },
        "id": "AxAGc0HCGZXm",
        "outputId": "1ec38310-2f6b-48cf-dfc7-8026ff94a041"
      },
      "execution_count": 44,
      "outputs": [
        {
          "output_type": "stream",
          "name": "stdout",
          "text": [
            "2/2 [==============================] - 0s 10ms/step - loss: 0.5825 - accuracy: 0.7143\n"
          ]
        },
        {
          "output_type": "execute_result",
          "data": {
            "text/plain": [
              "[0.5824726819992065, 0.7142857313156128]"
            ]
          },
          "metadata": {},
          "execution_count": 44
        }
      ]
    },
    {
      "cell_type": "code",
      "source": [
        "y_acc = hist.history['accuracy']\n",
        "y_vloss = hist.history['val_loss']\n",
        "xs = np.arange(1, len(y_acc) + 1)"
      ],
      "metadata": {
        "id": "WYkBg9vMIjAS"
      },
      "execution_count": 45,
      "outputs": []
    },
    {
      "cell_type": "code",
      "source": [
        "plt.figure(figsize = (12, 8))\n",
        "plt.plot(xs, y_acc, label = 'train accuracy')\n",
        "plt.plot(xs, y_vloss, label = 'validation loss')\n",
        "plt.legend(), plt.grid()\n",
        "plt.ylim([0,1.2])\n",
        "plt.xlabel('Epoch')\n",
        "plt.show()"
      ],
      "metadata": {
        "colab": {
          "base_uri": "https://localhost:8080/",
          "height": 501
        },
        "id": "_Mua8YV8JCpo",
        "outputId": "f2e71498-890d-4a67-d0e8-7f99cda5fc22"
      },
      "execution_count": 47,
      "outputs": [
        {
          "output_type": "display_data",
          "data": {
            "text/plain": [
              "<Figure size 864x576 with 1 Axes>"
            ],
            "image/png": "[encoded data removed]"
          },
          "metadata": {
            "needs_background": "light"
          }
        }
      ]
    },
    {
      "cell_type": "markdown",
      "source": [
        "- 조기 종료 콜백 함수"
      ],
      "metadata": {
        "id": "v4tzdZS2Jnm1"
      }
    },
    {
      "cell_type": "code",
      "source": [
        "del model"
      ],
      "metadata": {
        "id": "em0Y7Kb6JtBA"
      },
      "execution_count": 48,
      "outputs": []
    },
    {
      "cell_type": "code",
      "source": [
        "model = Sequential([\n",
        "    Dense(80, input_dim=60, activation = 'relu'),\n",
        "    Dense(48, activation='relu'),\n",
        "    Dense(20, activation='relu'),\n",
        "    Dense(8, activation='relu'),\n",
        "    Dense(1, activation = 'sigmoid')\n",
        "])\n",
        "model.summary()"
      ],
      "metadata": {
        "colab": {
          "base_uri": "https://localhost:8080/"
        },
        "id": "1vt0JVbrJJWr",
        "outputId": "c3736441-9c4a-48e6-8ceb-f03bd86daea2"
      },
      "execution_count": 49,
      "outputs": [
        {
          "output_type": "stream",
          "name": "stdout",
          "text": [
            "Model: \"sequential_7\"\n",
            "_________________________________________________________________\n",
            " Layer (type)                Output Shape              Param #   \n",
            "=================================================================\n",
            " dense_39 (Dense)            (None, 80)                4880      \n",
            "                                                                 \n",
            " dense_40 (Dense)            (None, 48)                3888      \n",
            "                                                                 \n",
            " dense_41 (Dense)            (None, 20)                980       \n",
            "                                                                 \n",
            " dense_42 (Dense)            (None, 8)                 168       \n",
            "                                                                 \n",
            " dense_43 (Dense)            (None, 1)                 9         \n",
            "                                                                 \n",
            "=================================================================\n",
            "Total params: 9,925\n",
            "Trainable params: 9,925\n",
            "Non-trainable params: 0\n",
            "_________________________________________________________________\n"
          ]
        }
      ]
    },
    {
      "cell_type": "code",
      "source": [
        "model.compile('adam', 'binary_crossentropy', metrics=['accuracy'])"
      ],
      "metadata": {
        "id": "ITZB5cLqJwYR"
      },
      "execution_count": 50,
      "outputs": []
    },
    {
      "cell_type": "code",
      "source": [
        "from tensorflow.keras.callbacks import EarlyStopping\n",
        "mc = ModelCheckpoint('sonar_best.h5', monitor = 'val_loss', \n",
        "                     verbose=1, save_best_only=True)\n",
        "es = EarlyStopping(patience=20)"
      ],
      "metadata": {
        "id": "JUnh6vcGJ2Tj"
      },
      "execution_count": 51,
      "outputs": []
    },
    {
      "cell_type": "code",
      "source": [
        "# epoch가 종료될 때마다 callback 함수를 실행하도록 설정\n",
        "hist = model.fit(X_train, y_train, validation_split=0.2,\n",
        "                epochs=200, batch_size=100, verbose=1, \n",
        "                callbacks=[mc, es])"
      ],
      "metadata": {
        "colab": {
          "base_uri": "https://localhost:8080/"
        },
        "id": "PyccDZWBKabT",
        "outputId": "7541f2e7-0d68-45ab-a767-326b8dd39d7b"
      },
      "execution_count": 52,
      "outputs": [
        {
          "output_type": "stream",
          "name": "stdout",
          "text": [
            "Epoch 1/200\n",
            "1/2 [==============>...............] - ETA: 1s - loss: 0.7058 - accuracy: 0.5100\n",
            "Epoch 1: val_loss improved from inf to 0.67180, saving model to sonar_best.h5\n",
            "2/2 [==============================] - 1s 334ms/step - loss: 0.7048 - accuracy: 0.4924 - val_loss: 0.6718 - val_accuracy: 0.6471\n",
            "Epoch 2/200\n",
            "1/2 [==============>...............] - ETA: 0s - loss: 0.6767 - accuracy: 0.5400\n",
            "Epoch 2: val_loss improved from 0.67180 to 0.65699, saving model to sonar_best.h5\n",
            "2/2 [==============================] - 0s 85ms/step - loss: 0.6698 - accuracy: 0.5606 - val_loss: 0.6570 - val_accuracy: 0.7059\n",
            "Epoch 3/200\n",
            "1/2 [==============>...............] - ETA: 0s - loss: 0.6551 - accuracy: 0.6600\n",
            "Epoch 3: val_loss improved from 0.65699 to 0.64114, saving model to sonar_best.h5\n",
            "2/2 [==============================] - 0s 106ms/step - loss: 0.6433 - accuracy: 0.6894 - val_loss: 0.6411 - val_accuracy: 0.7059\n",
            "Epoch 4/200\n",
            "1/2 [==============>...............] - ETA: 0s - loss: 0.6288 - accuracy: 0.7600\n",
            "Epoch 4: val_loss improved from 0.64114 to 0.62331, saving model to sonar_best.h5\n",
            "2/2 [==============================] - 0s 87ms/step - loss: 0.6202 - accuracy: 0.7727 - val_loss: 0.6233 - val_accuracy: 0.7353\n",
            "Epoch 5/200\n",
            "1/2 [==============>...............] - ETA: 0s - loss: 0.6037 - accuracy: 0.7700\n",
            "Epoch 5: val_loss improved from 0.62331 to 0.60089, saving model to sonar_best.h5\n",
            "2/2 [==============================] - 1s 496ms/step - loss: 0.5973 - accuracy: 0.7803 - val_loss: 0.6009 - val_accuracy: 0.7647\n",
            "Epoch 6/200\n",
            "1/2 [==============>...............] - ETA: 0s - loss: 0.5735 - accuracy: 0.8100\n",
            "Epoch 6: val_loss improved from 0.60089 to 0.57714, saving model to sonar_best.h5\n",
            "2/2 [==============================] - 0s 126ms/step - loss: 0.5740 - accuracy: 0.8030 - val_loss: 0.5771 - val_accuracy: 0.7941\n",
            "Epoch 7/200\n",
            "1/2 [==============>...............] - ETA: 0s - loss: 0.5598 - accuracy: 0.8200\n",
            "Epoch 7: val_loss improved from 0.57714 to 0.55478, saving model to sonar_best.h5\n",
            "2/2 [==============================] - 0s 91ms/step - loss: 0.5509 - accuracy: 0.8182 - val_loss: 0.5548 - val_accuracy: 0.7941\n",
            "Epoch 8/200\n",
            "1/2 [==============>...............] - ETA: 0s - loss: 0.5256 - accuracy: 0.8400\n",
            "Epoch 8: val_loss improved from 0.55478 to 0.53454, saving model to sonar_best.h5\n",
            "2/2 [==============================] - 0s 94ms/step - loss: 0.5283 - accuracy: 0.8182 - val_loss: 0.5345 - val_accuracy: 0.7941\n",
            "Epoch 9/200\n",
            "1/2 [==============>...............] - ETA: 0s - loss: 0.5102 - accuracy: 0.8000\n",
            "Epoch 9: val_loss improved from 0.53454 to 0.51651, saving model to sonar_best.h5\n",
            "2/2 [==============================] - 0s 85ms/step - loss: 0.5035 - accuracy: 0.8182 - val_loss: 0.5165 - val_accuracy: 0.7647\n",
            "Epoch 10/200\n",
            "1/2 [==============>...............] - ETA: 0s - loss: 0.4719 - accuracy: 0.8600\n",
            "Epoch 10: val_loss improved from 0.51651 to 0.49836, saving model to sonar_best.h5\n",
            "2/2 [==============================] - 0s 87ms/step - loss: 0.4798 - accuracy: 0.8561 - val_loss: 0.4984 - val_accuracy: 0.7941\n",
            "Epoch 11/200\n",
            "1/2 [==============>...............] - ETA: 0s - loss: 0.4675 - accuracy: 0.8600\n",
            "Epoch 11: val_loss improved from 0.49836 to 0.48129, saving model to sonar_best.h5\n",
            "2/2 [==============================] - 0s 93ms/step - loss: 0.4548 - accuracy: 0.8636 - val_loss: 0.4813 - val_accuracy: 0.7647\n",
            "Epoch 12/200\n",
            "1/2 [==============>...............] - ETA: 0s - loss: 0.4413 - accuracy: 0.8700\n",
            "Epoch 12: val_loss improved from 0.48129 to 0.46463, saving model to sonar_best.h5\n",
            "2/2 [==============================] - 0s 79ms/step - loss: 0.4314 - accuracy: 0.8712 - val_loss: 0.4646 - val_accuracy: 0.7647\n",
            "Epoch 13/200\n",
            "1/2 [==============>...............] - ETA: 0s - loss: 0.4123 - accuracy: 0.8800\n",
            "Epoch 13: val_loss improved from 0.46463 to 0.44901, saving model to sonar_best.h5\n",
            "2/2 [==============================] - 0s 90ms/step - loss: 0.4082 - accuracy: 0.8864 - val_loss: 0.4490 - val_accuracy: 0.7647\n",
            "Epoch 14/200\n",
            "1/2 [==============>...............] - ETA: 0s - loss: 0.3868 - accuracy: 0.9000\n",
            "Epoch 14: val_loss improved from 0.44901 to 0.43545, saving model to sonar_best.h5\n",
            "2/2 [==============================] - 0s 80ms/step - loss: 0.3844 - accuracy: 0.9015 - val_loss: 0.4355 - val_accuracy: 0.7353\n",
            "Epoch 15/200\n",
            "1/2 [==============>...............] - ETA: 0s - loss: 0.3557 - accuracy: 0.9100\n",
            "Epoch 15: val_loss improved from 0.43545 to 0.42433, saving model to sonar_best.h5\n",
            "2/2 [==============================] - 0s 100ms/step - loss: 0.3617 - accuracy: 0.9015 - val_loss: 0.4243 - val_accuracy: 0.7353\n",
            "Epoch 16/200\n",
            "1/2 [==============>...............] - ETA: 0s - loss: 0.3555 - accuracy: 0.8900\n",
            "Epoch 16: val_loss improved from 0.42433 to 0.41384, saving model to sonar_best.h5\n",
            "2/2 [==============================] - 0s 144ms/step - loss: 0.3407 - accuracy: 0.9091 - val_loss: 0.4138 - val_accuracy: 0.7647\n",
            "Epoch 17/200\n",
            "1/2 [==============>...............] - ETA: 0s - loss: 0.3288 - accuracy: 0.9100\n",
            "Epoch 17: val_loss improved from 0.41384 to 0.40478, saving model to sonar_best.h5\n",
            "2/2 [==============================] - 0s 79ms/step - loss: 0.3204 - accuracy: 0.9091 - val_loss: 0.4048 - val_accuracy: 0.7647\n",
            "Epoch 18/200\n",
            "1/2 [==============>...............] - ETA: 0s - loss: 0.3094 - accuracy: 0.9200\n",
            "Epoch 18: val_loss improved from 0.40478 to 0.39769, saving model to sonar_best.h5\n",
            "2/2 [==============================] - 0s 50ms/step - loss: 0.3010 - accuracy: 0.9091 - val_loss: 0.3977 - val_accuracy: 0.7647\n",
            "Epoch 19/200\n",
            "1/2 [==============>...............] - ETA: 0s - loss: 0.2870 - accuracy: 0.9000\n",
            "Epoch 19: val_loss improved from 0.39769 to 0.39275, saving model to sonar_best.h5\n",
            "2/2 [==============================] - 0s 55ms/step - loss: 0.2836 - accuracy: 0.9015 - val_loss: 0.3928 - val_accuracy: 0.7647\n",
            "Epoch 20/200\n",
            "1/2 [==============>...............] - ETA: 0s - loss: 0.2604 - accuracy: 0.9300\n",
            "Epoch 20: val_loss improved from 0.39275 to 0.38991, saving model to sonar_best.h5\n",
            "2/2 [==============================] - 0s 74ms/step - loss: 0.2661 - accuracy: 0.9242 - val_loss: 0.3899 - val_accuracy: 0.7647\n",
            "Epoch 21/200\n",
            "1/2 [==============>...............] - ETA: 0s - loss: 0.2686 - accuracy: 0.9300\n",
            "Epoch 21: val_loss improved from 0.38991 to 0.38781, saving model to sonar_best.h5\n",
            "2/2 [==============================] - 0s 52ms/step - loss: 0.2491 - accuracy: 0.9394 - val_loss: 0.3878 - val_accuracy: 0.7941\n",
            "Epoch 22/200\n",
            "1/2 [==============>...............] - ETA: 0s - loss: 0.2139 - accuracy: 0.9500\n",
            "Epoch 22: val_loss improved from 0.38781 to 0.38647, saving model to sonar_best.h5\n",
            "2/2 [==============================] - 0s 62ms/step - loss: 0.2338 - accuracy: 0.9394 - val_loss: 0.3865 - val_accuracy: 0.7941\n",
            "Epoch 23/200\n",
            "1/2 [==============>...............] - ETA: 0s - loss: 0.2162 - accuracy: 0.9500\n",
            "Epoch 23: val_loss improved from 0.38647 to 0.38565, saving model to sonar_best.h5\n",
            "2/2 [==============================] - 0s 54ms/step - loss: 0.2194 - accuracy: 0.9470 - val_loss: 0.3856 - val_accuracy: 0.7941\n",
            "Epoch 24/200\n",
            "1/2 [==============>...............] - ETA: 0s - loss: 0.1999 - accuracy: 0.9500\n",
            "Epoch 24: val_loss improved from 0.38565 to 0.38531, saving model to sonar_best.h5\n",
            "2/2 [==============================] - 0s 56ms/step - loss: 0.2051 - accuracy: 0.9470 - val_loss: 0.3853 - val_accuracy: 0.7941\n",
            "Epoch 25/200\n",
            "1/2 [==============>...............] - ETA: 0s - loss: 0.2045 - accuracy: 0.9400\n",
            "Epoch 25: val_loss did not improve from 0.38531\n",
            "2/2 [==============================] - 0s 36ms/step - loss: 0.1923 - accuracy: 0.9470 - val_loss: 0.3857 - val_accuracy: 0.7941\n",
            "Epoch 26/200\n",
            "1/2 [==============>...............] - ETA: 0s - loss: 0.1861 - accuracy: 0.9500\n",
            "Epoch 26: val_loss did not improve from 0.38531\n",
            "2/2 [==============================] - 0s 32ms/step - loss: 0.1797 - accuracy: 0.9470 - val_loss: 0.3881 - val_accuracy: 0.7941\n",
            "Epoch 27/200\n",
            "1/2 [==============>...............] - ETA: 0s - loss: 0.1874 - accuracy: 0.9500\n",
            "Epoch 27: val_loss did not improve from 0.38531\n",
            "2/2 [==============================] - 0s 29ms/step - loss: 0.1677 - accuracy: 0.9545 - val_loss: 0.3928 - val_accuracy: 0.7941\n",
            "Epoch 28/200\n",
            "1/2 [==============>...............] - ETA: 0s - loss: 0.1646 - accuracy: 0.9500\n",
            "Epoch 28: val_loss did not improve from 0.38531\n",
            "2/2 [==============================] - 0s 29ms/step - loss: 0.1560 - accuracy: 0.9621 - val_loss: 0.3976 - val_accuracy: 0.7941\n",
            "Epoch 29/200\n",
            "1/2 [==============>...............] - ETA: 0s - loss: 0.1569 - accuracy: 0.9800\n",
            "Epoch 29: val_loss did not improve from 0.38531\n",
            "2/2 [==============================] - 0s 28ms/step - loss: 0.1445 - accuracy: 0.9848 - val_loss: 0.4011 - val_accuracy: 0.7941\n",
            "Epoch 30/200\n",
            "1/2 [==============>...............] - ETA: 0s - loss: 0.1367 - accuracy: 0.9900\n",
            "Epoch 30: val_loss did not improve from 0.38531\n",
            "2/2 [==============================] - 0s 28ms/step - loss: 0.1337 - accuracy: 0.9924 - val_loss: 0.4040 - val_accuracy: 0.7941\n",
            "Epoch 31/200\n",
            "1/2 [==============>...............] - ETA: 0s - loss: 0.1283 - accuracy: 0.9900\n",
            "Epoch 31: val_loss did not improve from 0.38531\n",
            "2/2 [==============================] - 0s 32ms/step - loss: 0.1246 - accuracy: 0.9924 - val_loss: 0.4067 - val_accuracy: 0.8235\n",
            "Epoch 32/200\n",
            "1/2 [==============>...............] - ETA: 0s - loss: 0.1282 - accuracy: 0.9900\n",
            "Epoch 32: val_loss did not improve from 0.38531\n",
            "2/2 [==============================] - 0s 28ms/step - loss: 0.1148 - accuracy: 0.9924 - val_loss: 0.4102 - val_accuracy: 0.8235\n",
            "Epoch 33/200\n",
            "1/2 [==============>...............] - ETA: 0s - loss: 0.0941 - accuracy: 1.0000\n",
            "Epoch 33: val_loss did not improve from 0.38531\n",
            "2/2 [==============================] - 0s 32ms/step - loss: 0.1050 - accuracy: 1.0000 - val_loss: 0.4132 - val_accuracy: 0.8235\n",
            "Epoch 34/200\n",
            "1/2 [==============>...............] - ETA: 0s - loss: 0.0850 - accuracy: 1.0000\n",
            "Epoch 34: val_loss did not improve from 0.38531\n",
            "2/2 [==============================] - 0s 28ms/step - loss: 0.0953 - accuracy: 1.0000 - val_loss: 0.4162 - val_accuracy: 0.8235\n",
            "Epoch 35/200\n",
            "1/2 [==============>...............] - ETA: 0s - loss: 0.0786 - accuracy: 1.0000\n",
            "Epoch 35: val_loss did not improve from 0.38531\n",
            "2/2 [==============================] - 0s 28ms/step - loss: 0.0863 - accuracy: 1.0000 - val_loss: 0.4189 - val_accuracy: 0.7941\n",
            "Epoch 36/200\n",
            "1/2 [==============>...............] - ETA: 0s - loss: 0.0817 - accuracy: 0.9900\n",
            "Epoch 36: val_loss did not improve from 0.38531\n",
            "2/2 [==============================] - 0s 32ms/step - loss: 0.0788 - accuracy: 0.9924 - val_loss: 0.4216 - val_accuracy: 0.7941\n",
            "Epoch 37/200\n",
            "1/2 [==============>...............] - ETA: 0s - loss: 0.0693 - accuracy: 1.0000\n",
            "Epoch 37: val_loss did not improve from 0.38531\n",
            "2/2 [==============================] - 0s 39ms/step - loss: 0.0712 - accuracy: 0.9924 - val_loss: 0.4234 - val_accuracy: 0.7941\n",
            "Epoch 38/200\n",
            "1/2 [==============>...............] - ETA: 0s - loss: 0.0752 - accuracy: 0.9900\n",
            "Epoch 38: val_loss did not improve from 0.38531\n",
            "2/2 [==============================] - 0s 28ms/step - loss: 0.0647 - accuracy: 0.9924 - val_loss: 0.4255 - val_accuracy: 0.8235\n",
            "Epoch 39/200\n",
            "1/2 [==============>...............] - ETA: 0s - loss: 0.0635 - accuracy: 1.0000\n",
            "Epoch 39: val_loss did not improve from 0.38531\n",
            "2/2 [==============================] - 0s 27ms/step - loss: 0.0583 - accuracy: 1.0000 - val_loss: 0.4270 - val_accuracy: 0.8235\n",
            "Epoch 40/200\n",
            "1/2 [==============>...............] - ETA: 0s - loss: 0.0583 - accuracy: 1.0000\n",
            "Epoch 40: val_loss did not improve from 0.38531\n",
            "2/2 [==============================] - 0s 29ms/step - loss: 0.0527 - accuracy: 1.0000 - val_loss: 0.4292 - val_accuracy: 0.8235\n",
            "Epoch 41/200\n",
            "1/2 [==============>...............] - ETA: 0s - loss: 0.0512 - accuracy: 1.0000\n",
            "Epoch 41: val_loss did not improve from 0.38531\n",
            "2/2 [==============================] - 0s 28ms/step - loss: 0.0478 - accuracy: 1.0000 - val_loss: 0.4315 - val_accuracy: 0.8235\n",
            "Epoch 42/200\n",
            "1/2 [==============>...............] - ETA: 0s - loss: 0.0507 - accuracy: 1.0000\n",
            "Epoch 42: val_loss did not improve from 0.38531\n",
            "2/2 [==============================] - 0s 29ms/step - loss: 0.0436 - accuracy: 1.0000 - val_loss: 0.4340 - val_accuracy: 0.8235\n",
            "Epoch 43/200\n",
            "1/2 [==============>...............] - ETA: 0s - loss: 0.0402 - accuracy: 1.0000\n",
            "Epoch 43: val_loss did not improve from 0.38531\n",
            "2/2 [==============================] - 0s 28ms/step - loss: 0.0398 - accuracy: 1.0000 - val_loss: 0.4367 - val_accuracy: 0.8235\n",
            "Epoch 44/200\n",
            "1/2 [==============>...............] - ETA: 0s - loss: 0.0369 - accuracy: 1.0000\n",
            "Epoch 44: val_loss did not improve from 0.38531\n",
            "2/2 [==============================] - 0s 34ms/step - loss: 0.0362 - accuracy: 1.0000 - val_loss: 0.4396 - val_accuracy: 0.8235\n"
          ]
        }
      ]
    },
    {
      "cell_type": "code",
      "source": [
        "best_model = load_model('sonar_best.h5')\n",
        "best_model.evaluate(X_test, y_test)"
      ],
      "metadata": {
        "colab": {
          "base_uri": "https://localhost:8080/"
        },
        "id": "VrMpIu3cKocS",
        "outputId": "1b3b5fe9-df16-42ac-fce8-e6ad2a901509"
      },
      "execution_count": 53,
      "outputs": [
        {
          "output_type": "stream",
          "name": "stdout",
          "text": [
            "2/2 [==============================] - 0s 8ms/step - loss: 0.4832 - accuracy: 0.6905\n"
          ]
        },
        {
          "output_type": "execute_result",
          "data": {
            "text/plain": [
              "[0.48319780826568604, 0.6904761791229248]"
            ]
          },
          "metadata": {},
          "execution_count": 53
        }
      ]
    },
    {
      "cell_type": "code",
      "source": [
        ""
      ],
      "metadata": {
        "id": "CpK8_zFMLBd2"
      },
      "execution_count": null,
      "outputs": []
    }
  ]
}