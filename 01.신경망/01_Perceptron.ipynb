{
  "nbformat": 4,
  "nbformat_minor": 0,
  "metadata": {
    "colab": {
      "name": "01_Perceptron.ipynb",
      "provenance": [],
      "collapsed_sections": []
    },
    "kernelspec": {
      "name": "python3",
      "display_name": "Python 3"
    },
    "language_info": {
      "name": "python"
    }
  },
  "cells": [
    {
      "cell_type": "markdown",
      "source": [
        "# Perceptron"
      ],
      "metadata": {
        "id": "7DluYJwX3bcy"
      }
    },
    {
      "cell_type": "code",
      "execution_count": 1,
      "metadata": {
        "id": "UzlqQeTf3Nvy"
      },
      "outputs": [],
      "source": [
        "import numpy as np"
      ]
    },
    {
      "cell_type": "markdown",
      "source": [
        "- AND Gate"
      ],
      "metadata": {
        "id": "FYsMFD8R3tCd"
      }
    },
    {
      "cell_type": "code",
      "source": [
        "weight = np.array([1, 1])\n",
        "bias = -1\n",
        "for x1, x2, in [(0,0), (0,1), (1,0), (1,1)]:\n",
        "    sum = weight[0] * x1 + weight[1] * x2 + bias\n",
        "    print(sum)"
      ],
      "metadata": {
        "colab": {
          "base_uri": "https://localhost:8080/"
        },
        "id": "yYCLe5IR3fGx",
        "outputId": "e430c43b-64e2-4d22-c90f-23751f5fa000"
      },
      "execution_count": 2,
      "outputs": [
        {
          "output_type": "stream",
          "name": "stdout",
          "text": [
            "-1\n",
            "0\n",
            "0\n",
            "1\n"
          ]
        }
      ]
    },
    {
      "cell_type": "code",
      "source": [
        "# Step 활성화함수\n",
        "for x1, x2, in [(0,0), (0,1), (1,0), (1,1)]:\n",
        "    sum = weight[0] * x1 + weight[1] * x2 + bias\n",
        "    print(0 if sum <= 0 else 1)"
      ],
      "metadata": {
        "colab": {
          "base_uri": "https://localhost:8080/"
        },
        "id": "1hCFlqmd4HYN",
        "outputId": "5a7ac2ca-bac6-4a23-e9e2-26ad38805a2d"
      },
      "execution_count": 3,
      "outputs": [
        {
          "output_type": "stream",
          "name": "stdout",
          "text": [
            "0\n",
            "0\n",
            "0\n",
            "1\n"
          ]
        }
      ]
    },
    {
      "cell_type": "code",
      "source": [
        "# 위와 동일한 코드\n",
        "for x1, x2, in [(0,0), (0,1), (1,0), (1,1)]:\n",
        "    x = np.array([x1, x2])\n",
        "    sum = np.dot(weight, x) + bias\n",
        "    print(0 if sum <= 0 else 1)"
      ],
      "metadata": {
        "colab": {
          "base_uri": "https://localhost:8080/"
        },
        "id": "P4RhBVIj4Sg6",
        "outputId": "5f30694e-ef94-4b1b-962b-d5ec679e0418"
      },
      "execution_count": 4,
      "outputs": [
        {
          "output_type": "stream",
          "name": "stdout",
          "text": [
            "0\n",
            "0\n",
            "0\n",
            "1\n"
          ]
        }
      ]
    },
    {
      "cell_type": "code",
      "source": [
        "def AND_gate(x1, x2):\n",
        "    weight = np.array([1, 1])\n",
        "    bias = -1\n",
        "    x = np.array([x1, x2])\n",
        "    sum = np.dot(weight, x) + bias\n",
        "    return 0 if sum <= 0 else 1"
      ],
      "metadata": {
        "id": "REHh_dAK4yk8"
      },
      "execution_count": 5,
      "outputs": []
    },
    {
      "cell_type": "code",
      "source": [
        "for x1, x2, in [(0,0), (0,1), (1,0), (1,1)]:\n",
        "    print(AND_gate(x1, x2))"
      ],
      "metadata": {
        "colab": {
          "base_uri": "https://localhost:8080/"
        },
        "id": "OYrSxw-H5G_w",
        "outputId": "3cd4b00a-2867-464c-8f1a-30b3f5c63c29"
      },
      "execution_count": 6,
      "outputs": [
        {
          "output_type": "stream",
          "name": "stdout",
          "text": [
            "0\n",
            "0\n",
            "0\n",
            "1\n"
          ]
        }
      ]
    },
    {
      "cell_type": "markdown",
      "source": [
        "- OR Gate"
      ],
      "metadata": {
        "id": "gb3WzR225SJ-"
      }
    },
    {
      "cell_type": "code",
      "source": [
        "def OR_gate(x1, x2):\n",
        "    weight = np.array([2, 2])\n",
        "    bias = -1\n",
        "    x = np.array([x1, x2])\n",
        "    sum = np.dot(weight, x) + bias\n",
        "    return 0 if sum <= 0 else 1"
      ],
      "metadata": {
        "id": "LTGHLAR75NNR"
      },
      "execution_count": 7,
      "outputs": []
    },
    {
      "cell_type": "code",
      "source": [
        "for x1, x2, in [(0,0), (0,1), (1,0), (1,1)]:\n",
        "    print(OR_gate(x1, x2))"
      ],
      "metadata": {
        "colab": {
          "base_uri": "https://localhost:8080/"
        },
        "id": "ceT1Zjig5bBw",
        "outputId": "65d08893-8c70-45a7-faf4-eb63543648d1"
      },
      "execution_count": 8,
      "outputs": [
        {
          "output_type": "stream",
          "name": "stdout",
          "text": [
            "0\n",
            "1\n",
            "1\n",
            "1\n"
          ]
        }
      ]
    },
    {
      "cell_type": "markdown",
      "source": [
        "- NAND Gate"
      ],
      "metadata": {
        "id": "xd7dMhNP5kWt"
      }
    },
    {
      "cell_type": "code",
      "source": [
        "def NAND_gate(x1, x2):\n",
        "    weight = np.array([-2, -2])\n",
        "    bias = 3\n",
        "    x = np.array([x1, x2])\n",
        "    sum = np.dot(weight, x) + bias\n",
        "    return 0 if sum <= 0 else 1"
      ],
      "metadata": {
        "id": "f_BMrU7f5eI3"
      },
      "execution_count": 9,
      "outputs": []
    },
    {
      "cell_type": "code",
      "source": [
        "for x1, x2, in [(0,0), (0,1), (1,0), (1,1)]:\n",
        "    print(NAND_gate(x1, x2))"
      ],
      "metadata": {
        "colab": {
          "base_uri": "https://localhost:8080/"
        },
        "id": "b-SQceoa59p4",
        "outputId": "5cd35066-225c-4306-8973-fb8756d18d96"
      },
      "execution_count": 10,
      "outputs": [
        {
          "output_type": "stream",
          "name": "stdout",
          "text": [
            "1\n",
            "1\n",
            "1\n",
            "0\n"
          ]
        }
      ]
    },
    {
      "cell_type": "code",
      "source": [
        ""
      ],
      "metadata": {
        "id": "ek96Ojke5_oT"
      },
      "execution_count": null,
      "outputs": []
    }
  ]
}