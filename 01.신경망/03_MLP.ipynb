{
  "nbformat": 4,
  "nbformat_minor": 0,
  "metadata": {
    "colab": {
      "name": "03_MLP.ipynb",
      "provenance": [],
      "collapsed_sections": []
    },
    "kernelspec": {
      "name": "python3",
      "display_name": "Python 3"
    },
    "language_info": {
      "name": "python"
    }
  },
  "cells": [
    {
      "cell_type": "markdown",
      "source": [
        "# Perceptron"
      ],
      "metadata": {
        "id": "7DluYJwX3bcy"
      }
    },
    {
      "cell_type": "code",
      "execution_count": 1,
      "metadata": {
        "id": "UzlqQeTf3Nvy"
      },
      "outputs": [],
      "source": [
        "import numpy as np"
      ]
    },
    {
      "cell_type": "markdown",
      "source": [
        "- AND Gate"
      ],
      "metadata": {
        "id": "FYsMFD8R3tCd"
      }
    },
    {
      "cell_type": "code",
      "source": [
        "weight = np.array([1, 1])\n",
        "bias = -1\n",
        "for x1, x2, in [(0,0), (0,1), (1,0), (1,1)]:\n",
        "    sum = weight[0] * x1 + weight[1] * x2 + bias\n",
        "    print(sum)"
      ],
      "metadata": {
        "colab": {
          "base_uri": "https://localhost:8080/"
        },
        "id": "yYCLe5IR3fGx",
        "outputId": "9d1a3fe7-8678-4425-9d22-3ea6bfc25380"
      },
      "execution_count": 2,
      "outputs": [
        {
          "output_type": "stream",
          "name": "stdout",
          "text": [
            "-1\n",
            "0\n",
            "0\n",
            "1\n"
          ]
        }
      ]
    },
    {
      "cell_type": "code",
      "source": [
        "def AND_gate(x1, x2):\n",
        "    weight = np.array([1, 1])\n",
        "    bias = -1\n",
        "    x = np.array([x1, x2])\n",
        "    sum = np.dot(weight, x) + bias\n",
        "    return 0 if sum <= 0 else 1"
      ],
      "metadata": {
        "id": "REHh_dAK4yk8"
      },
      "execution_count": 4,
      "outputs": []
    },
    {
      "cell_type": "code",
      "source": [
        "for x1, x2, in [(0,0), (0,1), (1,0), (1,1)]:\n",
        "    print(AND_gate(x1, x2))"
      ],
      "metadata": {
        "colab": {
          "base_uri": "https://localhost:8080/"
        },
        "id": "OYrSxw-H5G_w",
        "outputId": "af5867ec-bf66-4fc9-fa80-38fe513b58a8"
      },
      "execution_count": 5,
      "outputs": [
        {
          "output_type": "stream",
          "name": "stdout",
          "text": [
            "0\n",
            "0\n",
            "0\n",
            "1\n"
          ]
        }
      ]
    },
    {
      "cell_type": "markdown",
      "source": [
        "- OR Gate"
      ],
      "metadata": {
        "id": "gb3WzR225SJ-"
      }
    },
    {
      "cell_type": "code",
      "source": [
        "def OR_gate(x1, x2):\n",
        "    weight = np.array([2, 2])\n",
        "    bias = -1\n",
        "    x = np.array([x1, x2])\n",
        "    sum = np.dot(weight, x) + bias\n",
        "    return 0 if sum <= 0 else 1"
      ],
      "metadata": {
        "id": "LTGHLAR75NNR"
      },
      "execution_count": 6,
      "outputs": []
    },
    {
      "cell_type": "code",
      "source": [
        "for x1, x2, in [(0,0), (0,1), (1,0), (1,1)]:\n",
        "    print(OR_gate(x1, x2))"
      ],
      "metadata": {
        "colab": {
          "base_uri": "https://localhost:8080/"
        },
        "id": "ceT1Zjig5bBw",
        "outputId": "496fc598-0371-4db0-e681-d881cfb1318c"
      },
      "execution_count": 7,
      "outputs": [
        {
          "output_type": "stream",
          "name": "stdout",
          "text": [
            "0\n",
            "1\n",
            "1\n",
            "1\n"
          ]
        }
      ]
    },
    {
      "cell_type": "markdown",
      "source": [
        "- NAND Gate"
      ],
      "metadata": {
        "id": "xd7dMhNP5kWt"
      }
    },
    {
      "cell_type": "code",
      "source": [
        "def NAND_gate(x1, x2):\n",
        "    weight = np.array([-2, -2])\n",
        "    bias = 3\n",
        "    x = np.array([x1, x2])\n",
        "    sum = np.dot(weight, x) + bias\n",
        "    return 0 if sum <= 0 else 1"
      ],
      "metadata": {
        "id": "f_BMrU7f5eI3"
      },
      "execution_count": 8,
      "outputs": []
    },
    {
      "cell_type": "code",
      "source": [
        "for x1, x2, in [(0,0), (0,1), (1,0), (1,1)]:\n",
        "    print(NAND_gate(x1, x2))"
      ],
      "metadata": {
        "colab": {
          "base_uri": "https://localhost:8080/"
        },
        "id": "b-SQceoa59p4",
        "outputId": "e66d2d7a-a1b6-403e-9a7a-1d723c330b74"
      },
      "execution_count": 9,
      "outputs": [
        {
          "output_type": "stream",
          "name": "stdout",
          "text": [
            "1\n",
            "1\n",
            "1\n",
            "0\n"
          ]
        }
      ]
    },
    {
      "cell_type": "markdown",
      "source": [
        "- MLP"
      ],
      "metadata": {
        "id": "hbveBk3cNoqu"
      }
    },
    {
      "cell_type": "code",
      "source": [
        "n1, n2 = [], []\n",
        "for x1, x2, in [(0,0), (0,1), (1,0), (1,1)]:\n",
        "    n1.append(NAND_gate(x1, x2))\n",
        "    n2.append(OR_gate(x1, x2))"
      ],
      "metadata": {
        "id": "ek96Ojke5_oT"
      },
      "execution_count": 10,
      "outputs": []
    },
    {
      "cell_type": "code",
      "source": [
        "n1, n2"
      ],
      "metadata": {
        "colab": {
          "base_uri": "https://localhost:8080/"
        },
        "id": "z-INmJwEOAxO",
        "outputId": "d917c94c-85d1-4f8d-f3f5-41cf05401700"
      },
      "execution_count": 11,
      "outputs": [
        {
          "output_type": "execute_result",
          "data": {
            "text/plain": [
              "([1, 1, 1, 0], [0, 1, 1, 1])"
            ]
          },
          "metadata": {},
          "execution_count": 11
        }
      ]
    },
    {
      "cell_type": "code",
      "source": [
        "for x1, x2 in zip(n1, n2):\n",
        "    print(AND_gate(x1, x2))"
      ],
      "metadata": {
        "colab": {
          "base_uri": "https://localhost:8080/"
        },
        "id": "7htO5V8ZOCe_",
        "outputId": "6fd446ab-47d3-46d5-aa89-8e3b7f627747"
      },
      "execution_count": 13,
      "outputs": [
        {
          "output_type": "stream",
          "name": "stdout",
          "text": [
            "0\n",
            "1\n",
            "1\n",
            "0\n"
          ]
        }
      ]
    },
    {
      "cell_type": "markdown",
      "source": [
        "- XOR gate"
      ],
      "metadata": {
        "id": "jMFJ5ZJCOU6b"
      }
    },
    {
      "cell_type": "code",
      "source": [
        "def XOR_gate(x1,x2):\n",
        "    return AND_gate(NAND_gate(x1, x2), OR_gate(x1, x2))"
      ],
      "metadata": {
        "id": "TEwxAsWnOMYH"
      },
      "execution_count": 14,
      "outputs": []
    },
    {
      "cell_type": "code",
      "source": [
        "print('x1,x2\\tn1,n2\\tXOR')\n",
        "for x1, x2 in [(0,0), (0,1), (1,0), (1,1)]:\n",
        "    print(f'{x1:2d},{x2:2d}\\t{NAND_gate(x1,x2):2d},{OR_gate(x1,x2):2d}\\t{XOR_gate(x1,x2):3d}')"
      ],
      "metadata": {
        "colab": {
          "base_uri": "https://localhost:8080/"
        },
        "id": "J2hSiFk7OjLv",
        "outputId": "70acdae7-cbca-4d6a-ad4a-f26e6c88d8f8"
      },
      "execution_count": 15,
      "outputs": [
        {
          "output_type": "stream",
          "name": "stdout",
          "text": [
            "x1,x2\tn1,n2\tXOR\n",
            " 0, 0\t 1, 0\t  0\n",
            " 0, 1\t 1, 1\t  1\n",
            " 1, 0\t 1, 1\t  1\n",
            " 1, 1\t 0, 1\t  0\n"
          ]
        }
      ]
    },
    {
      "cell_type": "code",
      "source": [
        ""
      ],
      "metadata": {
        "id": "NXLyDOgnOxaH"
      },
      "execution_count": null,
      "outputs": []
    }
  ]
}